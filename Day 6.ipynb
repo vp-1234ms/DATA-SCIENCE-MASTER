{
 "cells": [
  {
   "cell_type": "code",
   "execution_count": 1,
   "id": "243b622a-b8f8-4f1e-b359-eb280c618f0f",
   "metadata": {},
   "outputs": [
    {
     "name": "stdout",
     "output_type": "stream",
     "text": [
      "This is my functions\n"
     ]
    }
   ],
   "source": [
    "print(\"This is my functions\")"
   ]
  },
  {
   "cell_type": "markdown",
   "id": "5a4df57f-caa7-4d49-99df-c55670630637",
   "metadata": {},
   "source": [
    "###FUNCTIONS"
   ]
  },
  {
   "cell_type": "code",
   "execution_count": 2,
   "id": "a7f3b6de-c6c0-4569-96ed-831084382116",
   "metadata": {},
   "outputs": [],
   "source": [
    "#def is use to create function"
   ]
  },
  {
   "cell_type": "code",
   "execution_count": 8,
   "id": "5bc0da72-7601-4c1b-8579-ba0b9dfa9706",
   "metadata": {},
   "outputs": [],
   "source": [
    "def test():#Except reserved keyword in python we can use any function name\n",
    "    pass"
   ]
  },
  {
   "cell_type": "code",
   "execution_count": 9,
   "id": "1e5b6218-7465-40c0-9696-79c167a1aa55",
   "metadata": {},
   "outputs": [],
   "source": [
    "def test1():\n",
    "    print(\"This is my function\")"
   ]
  },
  {
   "cell_type": "code",
   "execution_count": 10,
   "id": "3a4d34c7-12d7-4efe-96e6-82ea63258e0e",
   "metadata": {},
   "outputs": [
    {
     "name": "stdout",
     "output_type": "stream",
     "text": [
      "This is my function\n"
     ]
    }
   ],
   "source": [
    "test1()"
   ]
  },
  {
   "cell_type": "code",
   "execution_count": 11,
   "id": "05ce6d7f-a64d-47fc-9288-4d738f4bff41",
   "metadata": {},
   "outputs": [
    {
     "name": "stdout",
     "output_type": "stream",
     "text": [
      "This is my function\n"
     ]
    }
   ],
   "source": [
    "test1()"
   ]
  },
  {
   "cell_type": "code",
   "execution_count": 12,
   "id": "523fac45-cc85-41a9-b03f-47bce8b00fb4",
   "metadata": {},
   "outputs": [],
   "source": [
    "test()"
   ]
  },
  {
   "cell_type": "code",
   "execution_count": 13,
   "id": "da58ecfa-00b8-4968-ab50-a0805a4ef0ec",
   "metadata": {},
   "outputs": [],
   "source": [
    "test()"
   ]
  },
  {
   "cell_type": "code",
   "execution_count": 14,
   "id": "f67b8e02-894c-4fa5-acea-1f248a3f3340",
   "metadata": {},
   "outputs": [
    {
     "ename": "NameError",
     "evalue": "name 'test2' is not defined",
     "output_type": "error",
     "traceback": [
      "\u001b[0;31m---------------------------------------------------------------------------\u001b[0m",
      "\u001b[0;31mNameError\u001b[0m                                 Traceback (most recent call last)",
      "Cell \u001b[0;32mIn[14], line 1\u001b[0m\n\u001b[0;32m----> 1\u001b[0m \u001b[43mtest2\u001b[49m()\n",
      "\u001b[0;31mNameError\u001b[0m: name 'test2' is not defined"
     ]
    }
   ],
   "source": [
    "test2()"
   ]
  },
  {
   "cell_type": "code",
   "execution_count": 30,
   "id": "8b516948-fe0a-47cd-bf04-9a75e8e05122",
   "metadata": {},
   "outputs": [
    {
     "ename": "TypeError",
     "evalue": "'str' object is not callable",
     "output_type": "error",
     "traceback": [
      "\u001b[0;31m---------------------------------------------------------------------------\u001b[0m",
      "\u001b[0;31mTypeError\u001b[0m                                 Traceback (most recent call last)",
      "Cell \u001b[0;32mIn[30], line 1\u001b[0m\n\u001b[0;32m----> 1\u001b[0m \u001b[43mtest1\u001b[49m\u001b[43m(\u001b[49m\u001b[43m)\u001b[49m \u001b[38;5;241m+\u001b[39m \u001b[38;5;124m\"\u001b[39m\u001b[38;5;124mName\u001b[39m\u001b[38;5;124m\"\u001b[39m \u001b[38;5;66;03m#test1() is not returning anything it's just returning none type we cannot perform operation with return none type\u001b[39;00m\n",
      "\u001b[0;31mTypeError\u001b[0m: 'str' object is not callable"
     ]
    }
   ],
   "source": [
    "test1() + \"Name\" #test1() is not returning anything it's just returning none type we cannot perform operation with return none type"
   ]
  },
  {
   "cell_type": "code",
   "execution_count": 21,
   "id": "ef57cce4-3194-4d1b-ba01-b5d7073b30c8",
   "metadata": {},
   "outputs": [],
   "source": [
    "def test():\n",
    "    return (\"This is my fuction\")"
   ]
  },
  {
   "cell_type": "code",
   "execution_count": 23,
   "id": "ea91a660-9f96-4849-96de-c6ead5efa661",
   "metadata": {},
   "outputs": [
    {
     "data": {
      "text/plain": [
       "'This is my fuction Name'"
      ]
     },
     "execution_count": 23,
     "metadata": {},
     "output_type": "execute_result"
    }
   ],
   "source": [
    "test() + \" Name\""
   ]
  },
  {
   "cell_type": "code",
   "execution_count": 25,
   "id": "aa309785-ea06-43fc-aca3-ec9f0c95f822",
   "metadata": {},
   "outputs": [
    {
     "data": {
      "text/plain": [
       "'This is my fuction'"
      ]
     },
     "execution_count": 25,
     "metadata": {},
     "output_type": "execute_result"
    }
   ],
   "source": [
    "test()"
   ]
  },
  {
   "cell_type": "code",
   "execution_count": 28,
   "id": "b194da3c-8382-48f6-8f2f-2d2fa46bb48b",
   "metadata": {},
   "outputs": [],
   "source": [
    "test1=test() + \" Hi\""
   ]
  },
  {
   "cell_type": "code",
   "execution_count": 29,
   "id": "f7f1b4d9-dcad-4039-be93-6b9706748c78",
   "metadata": {},
   "outputs": [
    {
     "data": {
      "text/plain": [
       "'This is my fuction Hi'"
      ]
     },
     "execution_count": 29,
     "metadata": {},
     "output_type": "execute_result"
    }
   ],
   "source": [
    "test1"
   ]
  },
  {
   "cell_type": "code",
   "execution_count": 31,
   "id": "a156bc05-926d-47ea-b1e1-b7b92dca204e",
   "metadata": {},
   "outputs": [],
   "source": [
    "def test3():\n",
    "    return (1,4,\"Name\",True)"
   ]
  },
  {
   "cell_type": "code",
   "execution_count": 41,
   "id": "25bbcf5d-269d-43d4-8085-7238780d44c9",
   "metadata": {},
   "outputs": [
    {
     "data": {
      "text/plain": [
       "(1, 4, 'Name', True)"
      ]
     },
     "execution_count": 41,
     "metadata": {},
     "output_type": "execute_result"
    }
   ],
   "source": [
    "test3() #yes we can. get multiple datatype at a one type we can return"
   ]
  },
  {
   "cell_type": "code",
   "execution_count": 34,
   "id": "d3d4a695-f306-4abf-be68-26ecd92ba4b0",
   "metadata": {},
   "outputs": [],
   "source": [
    "t=test3()"
   ]
  },
  {
   "cell_type": "code",
   "execution_count": 35,
   "id": "890e2d34-9db8-47da-84f4-cc0307e4dace",
   "metadata": {},
   "outputs": [
    {
     "data": {
      "text/plain": [
       "(1, 4, 'Name', True)"
      ]
     },
     "execution_count": 35,
     "metadata": {},
     "output_type": "execute_result"
    }
   ],
   "source": [
    "t"
   ]
  },
  {
   "cell_type": "code",
   "execution_count": 36,
   "id": "8d6c447d-14e6-42ef-8246-00fe71e63280",
   "metadata": {},
   "outputs": [
    {
     "data": {
      "text/plain": [
       "1"
      ]
     },
     "execution_count": 36,
     "metadata": {},
     "output_type": "execute_result"
    }
   ],
   "source": [
    "t[0]"
   ]
  },
  {
   "cell_type": "code",
   "execution_count": 37,
   "id": "b147d59f-7c63-4100-8a55-27dd62cf6fa2",
   "metadata": {},
   "outputs": [
    {
     "data": {
      "text/plain": [
       "'Name'"
      ]
     },
     "execution_count": 37,
     "metadata": {},
     "output_type": "execute_result"
    }
   ],
   "source": [
    "t[2]"
   ]
  },
  {
   "cell_type": "code",
   "execution_count": 42,
   "id": "c641c4c4-2afd-4c64-bea9-ca78681baf32",
   "metadata": {},
   "outputs": [],
   "source": [
    "#Thus it is a (t) is tupple here"
   ]
  },
  {
   "cell_type": "code",
   "execution_count": 40,
   "id": "6a5bc8d7-6fa5-4a51-854c-cd77a15d2231",
   "metadata": {},
   "outputs": [
    {
     "data": {
      "text/plain": [
       "1"
      ]
     },
     "execution_count": 40,
     "metadata": {},
     "output_type": "execute_result"
    }
   ],
   "source": [
    "t.count(4) #Tuple operation"
   ]
  },
  {
   "cell_type": "code",
   "execution_count": 43,
   "id": "42b69476-7667-4a24-ad86-d2dc63c813ea",
   "metadata": {},
   "outputs": [
    {
     "data": {
      "text/plain": [
       "(1, 4, 'Name', True)"
      ]
     },
     "execution_count": 43,
     "metadata": {},
     "output_type": "execute_result"
    }
   ],
   "source": [
    "test3()"
   ]
  },
  {
   "cell_type": "code",
   "execution_count": 44,
   "id": "5f535448-9bef-4038-aea7-ec06f62a73d6",
   "metadata": {},
   "outputs": [
    {
     "data": {
      "text/plain": [
       "1"
      ]
     },
     "execution_count": 44,
     "metadata": {},
     "output_type": "execute_result"
    }
   ],
   "source": [
    "test3()[0]"
   ]
  },
  {
   "cell_type": "code",
   "execution_count": 45,
   "id": "46757824-32ce-4649-b183-23984af9a16d",
   "metadata": {},
   "outputs": [
    {
     "data": {
      "text/plain": [
       "4"
      ]
     },
     "execution_count": 45,
     "metadata": {},
     "output_type": "execute_result"
    }
   ],
   "source": [
    "test3()[1]"
   ]
  },
  {
   "cell_type": "code",
   "execution_count": 49,
   "id": "eeb9a0ad-b0ab-4e66-b6ee-e8bdf3e1ea7a",
   "metadata": {},
   "outputs": [
    {
     "data": {
      "text/plain": [
       "'Name'"
      ]
     },
     "execution_count": 49,
     "metadata": {},
     "output_type": "execute_result"
    }
   ],
   "source": [
    "test3()[2]"
   ]
  },
  {
   "cell_type": "code",
   "execution_count": 51,
   "id": "8ddce545-4a4d-4fe0-82b8-7d6372b17660",
   "metadata": {},
   "outputs": [
    {
     "data": {
      "text/plain": [
       "True"
      ]
     },
     "execution_count": 51,
     "metadata": {},
     "output_type": "execute_result"
    }
   ],
   "source": [
    "test3()[3]"
   ]
  },
  {
   "cell_type": "code",
   "execution_count": 52,
   "id": "7f6dfd9b-c043-4b63-a5a7-6341909c7ecd",
   "metadata": {},
   "outputs": [
    {
     "ename": "IndexError",
     "evalue": "tuple index out of range",
     "output_type": "error",
     "traceback": [
      "\u001b[0;31m---------------------------------------------------------------------------\u001b[0m",
      "\u001b[0;31mIndexError\u001b[0m                                Traceback (most recent call last)",
      "Cell \u001b[0;32mIn[52], line 1\u001b[0m\n\u001b[0;32m----> 1\u001b[0m \u001b[43mtest3\u001b[49m\u001b[43m(\u001b[49m\u001b[43m)\u001b[49m\u001b[43m[\u001b[49m\u001b[38;5;241;43m4\u001b[39;49m\u001b[43m]\u001b[49m\n",
      "\u001b[0;31mIndexError\u001b[0m: tuple index out of range"
     ]
    }
   ],
   "source": [
    "test3()[4]"
   ]
  },
  {
   "cell_type": "code",
   "execution_count": 59,
   "id": "65358c74-74cc-4cdf-a108-3c3e55633686",
   "metadata": {},
   "outputs": [],
   "source": [
    "a,b,c,d=test3()"
   ]
  },
  {
   "cell_type": "code",
   "execution_count": 54,
   "id": "a016a34a-782e-4048-b963-3b9c5b3ec9d3",
   "metadata": {},
   "outputs": [
    {
     "data": {
      "text/plain": [
       "1"
      ]
     },
     "execution_count": 54,
     "metadata": {},
     "output_type": "execute_result"
    }
   ],
   "source": [
    "a"
   ]
  },
  {
   "cell_type": "code",
   "execution_count": 55,
   "id": "6f5f7352-c8cb-4274-a8f2-2f89733857d4",
   "metadata": {},
   "outputs": [
    {
     "data": {
      "text/plain": [
       "4"
      ]
     },
     "execution_count": 55,
     "metadata": {},
     "output_type": "execute_result"
    }
   ],
   "source": [
    "b"
   ]
  },
  {
   "cell_type": "code",
   "execution_count": 56,
   "id": "4ed67d07-dc0e-439f-9de6-986ca8c44a9f",
   "metadata": {},
   "outputs": [
    {
     "data": {
      "text/plain": [
       "'Name'"
      ]
     },
     "execution_count": 56,
     "metadata": {},
     "output_type": "execute_result"
    }
   ],
   "source": [
    "c"
   ]
  },
  {
   "cell_type": "code",
   "execution_count": 57,
   "id": "b50ad273-229f-4fac-95b1-a0598f995c97",
   "metadata": {},
   "outputs": [
    {
     "data": {
      "text/plain": [
       "True"
      ]
     },
     "execution_count": 57,
     "metadata": {},
     "output_type": "execute_result"
    }
   ],
   "source": [
    "d"
   ]
  },
  {
   "cell_type": "code",
   "execution_count": 61,
   "id": "a5db2deb-40c9-436e-b46c-9c826ef82d4b",
   "metadata": {},
   "outputs": [],
   "source": [
    "def test4():\n",
    "    a=3*4 + 5 \n",
    "    return (a)"
   ]
  },
  {
   "cell_type": "code",
   "execution_count": 62,
   "id": "18e3c9a1-f014-4cef-b7e5-058c2608da4a",
   "metadata": {},
   "outputs": [
    {
     "data": {
      "text/plain": [
       "17"
      ]
     },
     "execution_count": 62,
     "metadata": {},
     "output_type": "execute_result"
    }
   ],
   "source": [
    "test4()"
   ]
  },
  {
   "cell_type": "code",
   "execution_count": 63,
   "id": "ce8b3d84-0cb7-4b37-ad43-d81b1f2e1f51",
   "metadata": {},
   "outputs": [
    {
     "data": {
      "text/plain": [
       "int"
      ]
     },
     "execution_count": 63,
     "metadata": {},
     "output_type": "execute_result"
    }
   ],
   "source": [
    "type(test4())"
   ]
  },
  {
   "cell_type": "code",
   "execution_count": 64,
   "id": "9043dfa4-e47a-441f-9130-810ed900e899",
   "metadata": {},
   "outputs": [
    {
     "data": {
      "text/plain": [
       "function"
      ]
     },
     "execution_count": 64,
     "metadata": {},
     "output_type": "execute_result"
    }
   ],
   "source": [
    "type(test4)"
   ]
  },
  {
   "cell_type": "code",
   "execution_count": 71,
   "id": "7e2769c0-b214-44f4-a1ff-e36a046eca09",
   "metadata": {},
   "outputs": [],
   "source": [
    "def test5(a,b):\n",
    "    c= a + b\n",
    "    return c"
   ]
  },
  {
   "cell_type": "code",
   "execution_count": 72,
   "id": "d60327ec-550c-434d-aa46-1877da843c26",
   "metadata": {},
   "outputs": [
    {
     "ename": "TypeError",
     "evalue": "test5() missing 2 required positional arguments: 'a' and 'b'",
     "output_type": "error",
     "traceback": [
      "\u001b[0;31m---------------------------------------------------------------------------\u001b[0m",
      "\u001b[0;31mTypeError\u001b[0m                                 Traceback (most recent call last)",
      "Cell \u001b[0;32mIn[72], line 1\u001b[0m\n\u001b[0;32m----> 1\u001b[0m \u001b[43mtest5\u001b[49m\u001b[43m(\u001b[49m\u001b[43m)\u001b[49m\n",
      "\u001b[0;31mTypeError\u001b[0m: test5() missing 2 required positional arguments: 'a' and 'b'"
     ]
    }
   ],
   "source": [
    "test5()"
   ]
  },
  {
   "cell_type": "code",
   "execution_count": 73,
   "id": "3e43fcc5-f874-41fa-bb74-b8805174931f",
   "metadata": {},
   "outputs": [
    {
     "data": {
      "text/plain": [
       "3"
      ]
     },
     "execution_count": 73,
     "metadata": {},
     "output_type": "execute_result"
    }
   ],
   "source": [
    "test5(1,2)"
   ]
  },
  {
   "cell_type": "code",
   "execution_count": 75,
   "id": "50cc35b3-e71f-49d5-9fe5-eb56939c6266",
   "metadata": {},
   "outputs": [
    {
     "data": {
      "text/plain": [
       "'ab'"
      ]
     },
     "execution_count": 75,
     "metadata": {},
     "output_type": "execute_result"
    }
   ],
   "source": [
    "test5('a','b') #Concatenates a and b"
   ]
  },
  {
   "cell_type": "code",
   "execution_count": 77,
   "id": "c5a8a2bc-337b-4489-945b-af47c9b1091e",
   "metadata": {},
   "outputs": [
    {
     "ename": "TypeError",
     "evalue": "unsupported operand type(s) for +: 'int' and 'str'",
     "output_type": "error",
     "traceback": [
      "\u001b[0;31m---------------------------------------------------------------------------\u001b[0m",
      "\u001b[0;31mTypeError\u001b[0m                                 Traceback (most recent call last)",
      "Cell \u001b[0;32mIn[77], line 1\u001b[0m\n\u001b[0;32m----> 1\u001b[0m \u001b[43mtest5\u001b[49m\u001b[43m(\u001b[49m\u001b[38;5;241;43m1\u001b[39;49m\u001b[43m,\u001b[49m\u001b[38;5;124;43m'\u001b[39;49m\u001b[38;5;124;43ma\u001b[39;49m\u001b[38;5;124;43m'\u001b[39;49m\u001b[43m)\u001b[49m \u001b[38;5;66;03m#Cannot perform + operation between integer and string datatype\u001b[39;00m\n",
      "Cell \u001b[0;32mIn[71], line 2\u001b[0m, in \u001b[0;36mtest5\u001b[0;34m(a, b)\u001b[0m\n\u001b[1;32m      1\u001b[0m \u001b[38;5;28;01mdef\u001b[39;00m \u001b[38;5;21mtest5\u001b[39m(a,b):\n\u001b[0;32m----> 2\u001b[0m     c\u001b[38;5;241m=\u001b[39m \u001b[43ma\u001b[49m\u001b[43m \u001b[49m\u001b[38;5;241;43m+\u001b[39;49m\u001b[43m \u001b[49m\u001b[43mb\u001b[49m\n\u001b[1;32m      3\u001b[0m     \u001b[38;5;28;01mreturn\u001b[39;00m c\n",
      "\u001b[0;31mTypeError\u001b[0m: unsupported operand type(s) for +: 'int' and 'str'"
     ]
    }
   ],
   "source": [
    "test5(1,'a') #Cannot perform + operation between integer and string datatype"
   ]
  },
  {
   "cell_type": "code",
   "execution_count": 79,
   "id": "a38102f4-58d4-45da-a522-babb28557ac1",
   "metadata": {},
   "outputs": [
    {
     "data": {
      "text/plain": [
       "[1, 2, 3, 4, 5, 'a', 7, 8, 9, 6, 'b']"
      ]
     },
     "execution_count": 79,
     "metadata": {},
     "output_type": "execute_result"
    }
   ],
   "source": [
    " test5([1,2,3,4,5],['a',7,8,9,6,'b']) #Concatenates two lists"
   ]
  },
  {
   "cell_type": "code",
   "execution_count": 80,
   "id": "2937073b-803e-4adc-b5e4-fb0a639ce455",
   "metadata": {},
   "outputs": [
    {
     "data": {
      "text/plain": [
       "-3"
      ]
     },
     "execution_count": 80,
     "metadata": {},
     "output_type": "execute_result"
    }
   ],
   "source": [
    "test5(1,-4)"
   ]
  },
  {
   "cell_type": "code",
   "execution_count": 81,
   "id": "9e1dd5bb-b89d-44bc-88c3-8d85da968c12",
   "metadata": {},
   "outputs": [
    {
     "data": {
      "text/plain": [
       "-3"
      ]
     },
     "execution_count": 81,
     "metadata": {},
     "output_type": "execute_result"
    }
   ],
   "source": [
    "test5(b=-4,a=1)"
   ]
  },
  {
   "cell_type": "code",
   "execution_count": 82,
   "id": "f8d6f2fa-6807-4b56-9f33-ada8c5da4037",
   "metadata": {},
   "outputs": [
    {
     "ename": "TypeError",
     "evalue": "test5() got an unexpected keyword argument 'p'",
     "output_type": "error",
     "traceback": [
      "\u001b[0;31m---------------------------------------------------------------------------\u001b[0m",
      "\u001b[0;31mTypeError\u001b[0m                                 Traceback (most recent call last)",
      "Cell \u001b[0;32mIn[82], line 1\u001b[0m\n\u001b[0;32m----> 1\u001b[0m \u001b[43mtest5\u001b[49m\u001b[43m(\u001b[49m\u001b[43mp\u001b[49m\u001b[38;5;241;43m=\u001b[39;49m\u001b[38;5;241;43m4\u001b[39;49m\u001b[43m,\u001b[49m\u001b[43mq\u001b[49m\u001b[38;5;241;43m=\u001b[39;49m\u001b[38;5;241;43m1\u001b[39;49m\u001b[43m)\u001b[49m\n",
      "\u001b[0;31mTypeError\u001b[0m: test5() got an unexpected keyword argument 'p'"
     ]
    }
   ],
   "source": [
    "test5(p=4,q=1)"
   ]
  },
  {
   "cell_type": "code",
   "execution_count": 103,
   "id": "79301e34-a2c7-4094-aca6-00c2d6d5539b",
   "metadata": {},
   "outputs": [],
   "source": [
    "lst=[1,2,3,4,'a',\"Name\",[1,5,89,45,76,'Hi','Name'],\"Pw Skills\"]"
   ]
  },
  {
   "cell_type": "code",
   "execution_count": 84,
   "id": "c45cfa8f-29b0-471c-9f5c-71698772ba5a",
   "metadata": {},
   "outputs": [],
   "source": [
    "#create a function which will take list as a input and give me a final list with all the numeric value\n"
   ]
  },
  {
   "cell_type": "code",
   "execution_count": 104,
   "id": "4d9663f6-d910-48e6-8c88-2c63d100d6a6",
   "metadata": {},
   "outputs": [],
   "source": [
    "def func(l):\n",
    "    return ([i for i in l if(type(i)==int)])"
   ]
  },
  {
   "cell_type": "code",
   "execution_count": 106,
   "id": "ebb15be4-21b0-45e2-a8a9-1b17cb291727",
   "metadata": {},
   "outputs": [
    {
     "data": {
      "text/plain": [
       "[1, 2, 3, 4]"
      ]
     },
     "execution_count": 106,
     "metadata": {},
     "output_type": "execute_result"
    }
   ],
   "source": [
    "func(lst)"
   ]
  },
  {
   "cell_type": "code",
   "execution_count": 122,
   "id": "e518d0bf-c435-4749-a2c9-d325aac0c086",
   "metadata": {},
   "outputs": [],
   "source": [
    "lst=[1,2,3,4,'a',\"Name\",[1,5,89,45,76,'Hi','Name'],\"Pw Skills\"]\n",
    "def func1(l):\n",
    "    lst=[i for i in l if(type(i)==int)]\n",
    "    for i in l:\n",
    "        if(type(i)==list):\n",
    "            for j in i:\n",
    "                if(type(j)==int):\n",
    "                    lst.append(j)\n",
    "    return (lst)"
   ]
  },
  {
   "cell_type": "code",
   "execution_count": 123,
   "id": "ab836c33-6113-438a-8dc4-65a55d06d7ba",
   "metadata": {},
   "outputs": [
    {
     "data": {
      "text/plain": [
       "[1, 2, 3, 4, 1, 5, 89, 45, 76]"
      ]
     },
     "execution_count": 123,
     "metadata": {},
     "output_type": "execute_result"
    }
   ],
   "source": [
    "func1(lst)"
   ]
  },
  {
   "cell_type": "code",
   "execution_count": 124,
   "id": "cf25067a-a441-40d7-9ede-d046d8d15834",
   "metadata": {},
   "outputs": [
    {
     "data": {
      "text/plain": [
       "[1, 2, 3, 4, 'a', 'Name', [1, 5, 89, 45, 76, 'Hi', 'Name'], 'Pw Skills']"
      ]
     },
     "execution_count": 124,
     "metadata": {},
     "output_type": "execute_result"
    }
   ],
   "source": [
    "lst"
   ]
  },
  {
   "cell_type": "code",
   "execution_count": 125,
   "id": "d51f100c-0758-4905-9f23-2b594721b5e3",
   "metadata": {},
   "outputs": [
    {
     "data": {
      "text/plain": [
       "[1, 2, 3, 4, 1, 5, 89, 45, 76]"
      ]
     },
     "execution_count": 125,
     "metadata": {},
     "output_type": "execute_result"
    }
   ],
   "source": [
    "func1(lst)"
   ]
  },
  {
   "cell_type": "code",
   "execution_count": 127,
   "id": "da18153c-6631-411c-8f4b-97e67df9173c",
   "metadata": {},
   "outputs": [],
   "source": [
    "def test(a,b,c,d,e): #What if we don't know how many parameters we are going to be passed in given function\n",
    "    pass"
   ]
  },
  {
   "cell_type": "code",
   "execution_count": 128,
   "id": "09305adb-88a2-43a5-8242-cbc662bdb4e9",
   "metadata": {},
   "outputs": [],
   "source": [
    "test(1,2,3,4,5)"
   ]
  },
  {
   "cell_type": "code",
   "execution_count": 129,
   "id": "43b79dcb-7643-4bce-be9b-7758077dcc3e",
   "metadata": {},
   "outputs": [
    {
     "ename": "TypeError",
     "evalue": "test() takes 5 positional arguments but 6 were given",
     "output_type": "error",
     "traceback": [
      "\u001b[0;31m---------------------------------------------------------------------------\u001b[0m",
      "\u001b[0;31mTypeError\u001b[0m                                 Traceback (most recent call last)",
      "Cell \u001b[0;32mIn[129], line 1\u001b[0m\n\u001b[0;32m----> 1\u001b[0m \u001b[43mtest\u001b[49m\u001b[43m(\u001b[49m\u001b[38;5;241;43m1\u001b[39;49m\u001b[43m,\u001b[49m\u001b[38;5;241;43m2\u001b[39;49m\u001b[43m,\u001b[49m\u001b[38;5;241;43m3\u001b[39;49m\u001b[43m,\u001b[49m\u001b[38;5;241;43m4\u001b[39;49m\u001b[43m,\u001b[49m\u001b[38;5;241;43m5\u001b[39;49m\u001b[43m,\u001b[49m\u001b[38;5;241;43m6\u001b[39;49m\u001b[43m)\u001b[49m\n",
      "\u001b[0;31mTypeError\u001b[0m: test() takes 5 positional arguments but 6 were given"
     ]
    }
   ],
   "source": [
    "test(1,2,3,4,5,6)"
   ]
  },
  {
   "cell_type": "code",
   "execution_count": 130,
   "id": "5ce8d022-cbcc-4665-a2db-e1bedc25935a",
   "metadata": {},
   "outputs": [
    {
     "ename": "TypeError",
     "evalue": "test() missing 1 required positional argument: 'e'",
     "output_type": "error",
     "traceback": [
      "\u001b[0;31m---------------------------------------------------------------------------\u001b[0m",
      "\u001b[0;31mTypeError\u001b[0m                                 Traceback (most recent call last)",
      "Cell \u001b[0;32mIn[130], line 1\u001b[0m\n\u001b[0;32m----> 1\u001b[0m \u001b[43mtest\u001b[49m\u001b[43m(\u001b[49m\u001b[38;5;241;43m1\u001b[39;49m\u001b[43m,\u001b[49m\u001b[38;5;241;43m2\u001b[39;49m\u001b[43m,\u001b[49m\u001b[38;5;241;43m3\u001b[39;49m\u001b[43m,\u001b[49m\u001b[38;5;241;43m4\u001b[39;49m\u001b[43m)\u001b[49m\n",
      "\u001b[0;31mTypeError\u001b[0m: test() missing 1 required positional argument: 'e'"
     ]
    }
   ],
   "source": [
    "test(1,2,3,4)"
   ]
  },
  {
   "cell_type": "code",
   "execution_count": 143,
   "id": "5b411f3b-4fc9-4e92-ba11-0140d0503e21",
   "metadata": {},
   "outputs": [],
   "source": [
    "def test(*items):\n",
    "    return items"
   ]
  },
  {
   "cell_type": "code",
   "execution_count": 132,
   "id": "e6bffb78-82f8-4dba-8033-43d8b17fd036",
   "metadata": {},
   "outputs": [
    {
     "data": {
      "text/plain": [
       "(1,)"
      ]
     },
     "execution_count": 132,
     "metadata": {},
     "output_type": "execute_result"
    }
   ],
   "source": [
    "test(1)"
   ]
  },
  {
   "cell_type": "code",
   "execution_count": 138,
   "id": "5af99894-8287-4f39-a48d-d32fd155dbc9",
   "metadata": {},
   "outputs": [
    {
     "data": {
      "text/plain": [
       "(1, 'Pw Skills')"
      ]
     },
     "execution_count": 138,
     "metadata": {},
     "output_type": "execute_result"
    }
   ],
   "source": [
    "test(1,\"Pw Skills\")"
   ]
  },
  {
   "cell_type": "code",
   "execution_count": 133,
   "id": "35af96a3-0da7-4308-b64f-19432d392e55",
   "metadata": {},
   "outputs": [
    {
     "data": {
      "text/plain": [
       "()"
      ]
     },
     "execution_count": 133,
     "metadata": {},
     "output_type": "execute_result"
    }
   ],
   "source": [
    "test()"
   ]
  },
  {
   "cell_type": "code",
   "execution_count": 142,
   "id": "0672fd92-409b-4a92-a880-b095f29b602d",
   "metadata": {},
   "outputs": [
    {
     "data": {
      "text/plain": [
       "'Name'"
      ]
     },
     "execution_count": 142,
     "metadata": {},
     "output_type": "execute_result"
    }
   ],
   "source": [
    "test(1,'2',\"Name\",[1,2,3,'a',\"Pw Skills\"],(1,4,5,7,8))"
   ]
  },
  {
   "cell_type": "code",
   "execution_count": 149,
   "id": "f03877ad-69df-444c-8bb4-206dddef639e",
   "metadata": {},
   "outputs": [],
   "source": [
    "#From given large infinite data take out only lists\n",
    "def test(*data):\n",
    "    return([i for i in data if type(i)==list])"
   ]
  },
  {
   "cell_type": "code",
   "execution_count": 152,
   "id": "cf162df2-715b-406f-bcea-718cf1d01693",
   "metadata": {},
   "outputs": [
    {
     "data": {
      "text/plain": [
       "[[1, 2, 3, 4], ['Car', 'Bike']]"
      ]
     },
     "execution_count": 152,
     "metadata": {},
     "output_type": "execute_result"
    }
   ],
   "source": [
    "test([1,2,3,4],'A',\"Name\",(2,4,6,8,0,\"Water\"),[\"Car\",\"Bike\"],{\"Name\":\"Unknown\"},{1,2,3,4,5})"
   ]
  },
  {
   "cell_type": "code",
   "execution_count": 157,
   "id": "2695a14e-f69d-4679-8be4-7d10977e3876",
   "metadata": {},
   "outputs": [],
   "source": [
    "def test(*items): #Also we can iterate through data as argument is store as tupple\n",
    "    return items[0]"
   ]
  },
  {
   "cell_type": "code",
   "execution_count": 158,
   "id": "42f761f7-7c74-48ac-b320-9239a2f61db3",
   "metadata": {},
   "outputs": [
    {
     "data": {
      "text/plain": [
       "1"
      ]
     },
     "execution_count": 158,
     "metadata": {},
     "output_type": "execute_result"
    }
   ],
   "source": [
    "test(1,2,3,4,5)"
   ]
  },
  {
   "cell_type": "code",
   "execution_count": 212,
   "id": "78e8d9e3-3902-499f-be25-24f6c26f7523",
   "metadata": {},
   "outputs": [],
   "source": [
    "def test5(**data): #** used to pass dictionary as a argument\n",
    "    return (data.values())"
   ]
  },
  {
   "cell_type": "code",
   "execution_count": 161,
   "id": "6ea36544-27f8-4274-96b9-669ee7bc6b69",
   "metadata": {},
   "outputs": [
    {
     "data": {
      "text/plain": [
       "{}"
      ]
     },
     "execution_count": 161,
     "metadata": {},
     "output_type": "execute_result"
    }
   ],
   "source": [
    "test5()"
   ]
  },
  {
   "cell_type": "code",
   "execution_count": 210,
   "id": "2c9a9a87-45a2-4597-8593-8fc530023849",
   "metadata": {},
   "outputs": [
    {
     "data": {
      "text/plain": [
       "dict_keys"
      ]
     },
     "execution_count": 210,
     "metadata": {},
     "output_type": "execute_result"
    }
   ],
   "source": [
    "type(test5())"
   ]
  },
  {
   "cell_type": "code",
   "execution_count": 211,
   "id": "8f30626f-de14-4850-97e7-999bf66df93f",
   "metadata": {},
   "outputs": [
    {
     "data": {
      "text/plain": [
       "dict_keys(['a', 'Name', 'location', 'country', 'car'])"
      ]
     },
     "execution_count": 211,
     "metadata": {},
     "output_type": "execute_result"
    }
   ],
   "source": [
    "test5(a=78,Name=\"Pw Skills\",location=\"Bangalore\",country=\"India\",car=\"Mercedes\") #It will return dictionary key value pair"
   ]
  },
  {
   "cell_type": "code",
   "execution_count": 198,
   "id": "711223f1-29e0-409d-becf-3095cdd80fb9",
   "metadata": {},
   "outputs": [],
   "source": [
    "def test6(**data):\n",
    "    return ([data.get(i) for i in data if(type(data[i])==list)])"
   ]
  },
  {
   "cell_type": "code",
   "execution_count": 199,
   "id": "de2e11f3-e847-4955-abf1-6a96974fc4a9",
   "metadata": {},
   "outputs": [
    {
     "data": {
      "text/plain": [
       "[['Bangalore', 'Pune', 'Kolkata', 'Mumbai', 'Delhi', 'Lucknow']]"
      ]
     },
     "execution_count": 199,
     "metadata": {},
     "output_type": "execute_result"
    }
   ],
   "source": [
    "test6(a=78,Name=\"Pw Skills\",location=[\"Bangalore\",\"Pune\",\"Kolkata\",\"Mumbai\",\"Delhi\",\"Lucknow\"],country=\"India\",car=\"Mercedes\")"
   ]
  },
  {
   "cell_type": "code",
   "execution_count": 176,
   "id": "bb5bfc2e-2cc5-4ccf-8f52-c20004821ec7",
   "metadata": {},
   "outputs": [],
   "source": [
    "d={\"a\":78,\"Name\":\"Pw Skills\",\"location\":[\"Bangalore\",\"Pune\",\"Kolkata\",\"Mumbai\",\"Delhi\",\"Lucknow\"],\"country\":[\"India\",\"UK\"]}"
   ]
  },
  {
   "cell_type": "code",
   "execution_count": 178,
   "id": "0ad8a621-4829-4521-b2e9-0fa1c74343dc",
   "metadata": {},
   "outputs": [
    {
     "data": {
      "text/plain": [
       "['Bangalore', 'Pune', 'Kolkata', 'Mumbai', 'Delhi', 'Lucknow']"
      ]
     },
     "execution_count": 178,
     "metadata": {},
     "output_type": "execute_result"
    }
   ],
   "source": [
    "d.get(\"location\")"
   ]
  },
  {
   "cell_type": "code",
   "execution_count": 213,
   "id": "21b33c74-38be-4d38-a342-1b3afbc6bdce",
   "metadata": {},
   "outputs": [],
   "source": [
    "def test6(**data):\n",
    "    return ([i for i in data.values() if(type(i)==list)])"
   ]
  },
  {
   "cell_type": "code",
   "execution_count": 214,
   "id": "c84d3a7a-41f3-4f6d-947d-fce40e15074a",
   "metadata": {},
   "outputs": [
    {
     "data": {
      "text/plain": [
       "[['Bangalore', 'Pune', 'Kolkata', 'Mumbai', 'Delhi', 'Lucknow']]"
      ]
     },
     "execution_count": 214,
     "metadata": {},
     "output_type": "execute_result"
    }
   ],
   "source": [
    "test6(a=78,Name=\"Pw Skills\",location=[\"Bangalore\",\"Pune\",\"Kolkata\",\"Mumbai\",\"Delhi\",\"Lucknow\"],country=\"India\",car=\"Mercedes\")"
   ]
  },
  {
   "cell_type": "code",
   "execution_count": 215,
   "id": "d8930ea9-188e-4163-bf33-952037f12f6d",
   "metadata": {},
   "outputs": [],
   "source": [
    "#Passing tuple and dict at same time\n",
    "def test(*items,**data):\n",
    "    return(items,data)"
   ]
  },
  {
   "cell_type": "code",
   "execution_count": 216,
   "id": "55e09261-9555-47c9-950f-d5f65f22c399",
   "metadata": {},
   "outputs": [
    {
     "data": {
      "text/plain": [
       "((1, 2, 3, 4, 5), {'a': 'Name', 'b': 5})"
      ]
     },
     "execution_count": 216,
     "metadata": {},
     "output_type": "execute_result"
    }
   ],
   "source": [
    "test(1,2,3,4,5,a=\"Name\",b=5)"
   ]
  },
  {
   "cell_type": "markdown",
   "id": "e8ec00fd-6b86-443b-bb66-3477a39b76fe",
   "metadata": {},
   "source": [
    "###FUNCTION GENERATOR (YIELD)"
   ]
  },
  {
   "cell_type": "code",
   "execution_count": 217,
   "id": "006fa881-6af5-484f-a56f-1dacc77b2c44",
   "metadata": {},
   "outputs": [
    {
     "data": {
      "text/plain": [
       "range(1, 11)"
      ]
     },
     "execution_count": 217,
     "metadata": {},
     "output_type": "execute_result"
    }
   ],
   "source": [
    "range(1,11)"
   ]
  },
  {
   "cell_type": "code",
   "execution_count": 220,
   "id": "14850530-6867-482e-bce5-49b3e490e6e6",
   "metadata": {},
   "outputs": [
    {
     "name": "stdout",
     "output_type": "stream",
     "text": [
      "1\n",
      "2\n",
      "3\n",
      "4\n",
      "5\n",
      "6\n",
      "7\n",
      "8\n",
      "9\n",
      "10\n"
     ]
    }
   ],
   "source": [
    "for i in range(1,11):\n",
    "    print(i)"
   ]
  },
  {
   "cell_type": "code",
   "execution_count": 223,
   "id": "4ae975f3-c288-4afa-bbee-1eb9eedb631a",
   "metadata": {},
   "outputs": [],
   "source": [
    "l=[1,2,3,4,5,6,7,8,9,\"Name\",\"Pw Skills\"]"
   ]
  },
  {
   "cell_type": "code",
   "execution_count": 225,
   "id": "7ce28f40-7f0b-4280-87f7-b15fdadd1d18",
   "metadata": {},
   "outputs": [],
   "source": [
    "def test(data):\n",
    "    return([i for i in data if(type(i)==int)])"
   ]
  },
  {
   "cell_type": "code",
   "execution_count": 226,
   "id": "24b464c9-813f-453c-8e4c-2d61ddfe6510",
   "metadata": {},
   "outputs": [
    {
     "data": {
      "text/plain": [
       "[1, 2, 3, 4, 5, 6, 7, 8, 9]"
      ]
     },
     "execution_count": 226,
     "metadata": {},
     "output_type": "execute_result"
    }
   ],
   "source": [
    "test(l)"
   ]
  },
  {
   "cell_type": "code",
   "execution_count": 227,
   "id": "69793a12-05cf-4ea5-8acc-d1b6e8d94c7e",
   "metadata": {},
   "outputs": [],
   "source": [
    "#Here what hapening is we are getting the data as a whole after list is prepared then only output is shown"
   ]
  },
  {
   "cell_type": "code",
   "execution_count": 230,
   "id": "06752301-7658-42e7-9247-527f92a8ddc7",
   "metadata": {},
   "outputs": [
    {
     "name": "stdout",
     "output_type": "stream",
     "text": [
      "1\n",
      "2\n",
      "3\n",
      "4\n",
      "5\n",
      "6\n",
      "7\n",
      "8\n",
      "9\n",
      "10\n"
     ]
    }
   ],
   "source": [
    "#But is case of this it is immediately printing when value is ready\n",
    "for i in range(1,11):\n",
    "    print(i)"
   ]
  },
  {
   "cell_type": "code",
   "execution_count": 249,
   "id": "a009bc99-8198-49fc-bfc8-d4b61167d543",
   "metadata": {},
   "outputs": [],
   "source": [
    "#Wrting code for Fibonacci series using function generator\n",
    "def test(n):\n",
    "    a,b=0,1\n",
    "    for i in range(n):\n",
    "        yield a\n",
    "        a,b=b,a+b"
   ]
  },
  {
   "cell_type": "code",
   "execution_count": 252,
   "id": "51306dda-e1ce-41c5-aa61-581fe8f75de7",
   "metadata": {},
   "outputs": [
    {
     "data": {
      "text/plain": [
       "<generator object test at 0x7f8d990820a0>"
      ]
     },
     "execution_count": 252,
     "metadata": {},
     "output_type": "execute_result"
    }
   ],
   "source": [
    "test(10)"
   ]
  },
  {
   "cell_type": "code",
   "execution_count": 253,
   "id": "4728175d-d153-4cc2-8db0-264e83bb70b6",
   "metadata": {},
   "outputs": [
    {
     "name": "stdout",
     "output_type": "stream",
     "text": [
      "0\n",
      "1\n",
      "1\n",
      "2\n",
      "3\n",
      "5\n",
      "8\n",
      "13\n",
      "21\n",
      "34\n"
     ]
    }
   ],
   "source": [
    "for i in test(10):\n",
    "    print(i)"
   ]
  },
  {
   "cell_type": "code",
   "execution_count": null,
   "id": "546abd32-a4c8-44c2-88ad-e78f514acdfd",
   "metadata": {},
   "outputs": [],
   "source": []
  }
 ],
 "metadata": {
  "kernelspec": {
   "display_name": "Python 3 (ipykernel)",
   "language": "python",
   "name": "python3"
  },
  "language_info": {
   "codemirror_mode": {
    "name": "ipython",
    "version": 3
   },
   "file_extension": ".py",
   "mimetype": "text/x-python",
   "name": "python",
   "nbconvert_exporter": "python",
   "pygments_lexer": "ipython3",
   "version": "3.10.8"
  }
 },
 "nbformat": 4,
 "nbformat_minor": 5
}
