{
 "cells": [
  {
   "cell_type": "markdown",
   "id": "3445b489-97f3-4bf7-8601-a950ad62a962",
   "metadata": {},
   "source": [
    "###EXCEPTION HANDELING"
   ]
  },
  {
   "cell_type": "code",
   "execution_count": 2,
   "id": "a86272a7-cb3f-49b3-8f01-cbeb1d2bfb38",
   "metadata": {},
   "outputs": [
    {
     "ename": "ZeroDivisionError",
     "evalue": "division by zero",
     "output_type": "error",
     "traceback": [
      "\u001b[0;31m---------------------------------------------------------------------------\u001b[0m",
      "\u001b[0;31mZeroDivisionError\u001b[0m                         Traceback (most recent call last)",
      "Cell \u001b[0;32mIn[2], line 2\u001b[0m\n\u001b[1;32m      1\u001b[0m a\u001b[38;5;241m=\u001b[39m\u001b[38;5;241m10\u001b[39m\n\u001b[0;32m----> 2\u001b[0m \u001b[43ma\u001b[49m\u001b[38;5;241;43m/\u001b[39;49m\u001b[38;5;241;43m0\u001b[39;49m  \u001b[38;5;66;03m##Error\u001b[39;00m\n",
      "\u001b[0;31mZeroDivisionError\u001b[0m: division by zero"
     ]
    }
   ],
   "source": [
    "a=10\n",
    "a/0  ##ZeroDivisionError"
   ]
  },
  {
   "cell_type": "code",
   "execution_count": 4,
   "id": "34271478-7210-4dba-ad7d-fca082c6a667",
   "metadata": {},
   "outputs": [
    {
     "ename": "FileNotFoundError",
     "evalue": "[Errno 2] No such file or directory: 'New.txt'",
     "output_type": "error",
     "traceback": [
      "\u001b[0;31m---------------------------------------------------------------------------\u001b[0m",
      "\u001b[0;31mFileNotFoundError\u001b[0m                         Traceback (most recent call last)",
      "Cell \u001b[0;32mIn[4], line 1\u001b[0m\n\u001b[0;32m----> 1\u001b[0m f\u001b[38;5;241m=\u001b[39m\u001b[38;5;28;43mopen\u001b[39;49m\u001b[43m(\u001b[49m\u001b[38;5;124;43m\"\u001b[39;49m\u001b[38;5;124;43mNew.txt\u001b[39;49m\u001b[38;5;124;43m\"\u001b[39;49m\u001b[43m,\u001b[49m\u001b[38;5;124;43m\"\u001b[39;49m\u001b[38;5;124;43mr\u001b[39;49m\u001b[38;5;124;43m\"\u001b[39;49m\u001b[43m)\u001b[49m \u001b[38;5;66;03m###Opening file to read which does not exisit FileNotFoundError\u001b[39;00m\n",
      "File \u001b[0;32m/opt/conda/lib/python3.10/site-packages/IPython/core/interactiveshell.py:282\u001b[0m, in \u001b[0;36m_modified_open\u001b[0;34m(file, *args, **kwargs)\u001b[0m\n\u001b[1;32m    275\u001b[0m \u001b[38;5;28;01mif\u001b[39;00m file \u001b[38;5;129;01min\u001b[39;00m {\u001b[38;5;241m0\u001b[39m, \u001b[38;5;241m1\u001b[39m, \u001b[38;5;241m2\u001b[39m}:\n\u001b[1;32m    276\u001b[0m     \u001b[38;5;28;01mraise\u001b[39;00m \u001b[38;5;167;01mValueError\u001b[39;00m(\n\u001b[1;32m    277\u001b[0m         \u001b[38;5;124mf\u001b[39m\u001b[38;5;124m\"\u001b[39m\u001b[38;5;124mIPython won\u001b[39m\u001b[38;5;124m'\u001b[39m\u001b[38;5;124mt let you open fd=\u001b[39m\u001b[38;5;132;01m{\u001b[39;00mfile\u001b[38;5;132;01m}\u001b[39;00m\u001b[38;5;124m by default \u001b[39m\u001b[38;5;124m\"\u001b[39m\n\u001b[1;32m    278\u001b[0m         \u001b[38;5;124m\"\u001b[39m\u001b[38;5;124mas it is likely to crash IPython. If you know what you are doing, \u001b[39m\u001b[38;5;124m\"\u001b[39m\n\u001b[1;32m    279\u001b[0m         \u001b[38;5;124m\"\u001b[39m\u001b[38;5;124myou can use builtins\u001b[39m\u001b[38;5;124m'\u001b[39m\u001b[38;5;124m open.\u001b[39m\u001b[38;5;124m\"\u001b[39m\n\u001b[1;32m    280\u001b[0m     )\n\u001b[0;32m--> 282\u001b[0m \u001b[38;5;28;01mreturn\u001b[39;00m \u001b[43mio_open\u001b[49m\u001b[43m(\u001b[49m\u001b[43mfile\u001b[49m\u001b[43m,\u001b[49m\u001b[43m \u001b[49m\u001b[38;5;241;43m*\u001b[39;49m\u001b[43margs\u001b[49m\u001b[43m,\u001b[49m\u001b[43m \u001b[49m\u001b[38;5;241;43m*\u001b[39;49m\u001b[38;5;241;43m*\u001b[39;49m\u001b[43mkwargs\u001b[49m\u001b[43m)\u001b[49m\n",
      "\u001b[0;31mFileNotFoundError\u001b[0m: [Errno 2] No such file or directory: 'New.txt'"
     ]
    }
   ],
   "source": [
    "f=open(\"New.txt\",\"r\") ###Opening file to read which does not exisit FileNotFoundError"
   ]
  },
  {
   "cell_type": "code",
   "execution_count": 6,
   "id": "97bb3b00-040f-4f51-81a1-23b8cc978ee9",
   "metadata": {},
   "outputs": [
    {
     "ename": "FileNotFoundError",
     "evalue": "[Errno 2] No such file or directory: 'New.txt'",
     "output_type": "error",
     "traceback": [
      "\u001b[0;31m---------------------------------------------------------------------------\u001b[0m",
      "\u001b[0;31mFileNotFoundError\u001b[0m                         Traceback (most recent call last)",
      "Cell \u001b[0;32mIn[6], line 1\u001b[0m\n\u001b[0;32m----> 1\u001b[0m f\u001b[38;5;241m=\u001b[39m\u001b[38;5;28;43mopen\u001b[39;49m\u001b[43m(\u001b[49m\u001b[38;5;124;43m\"\u001b[39;49m\u001b[38;5;124;43mNew.txt\u001b[39;49m\u001b[38;5;124;43m\"\u001b[39;49m\u001b[43m,\u001b[49m\u001b[38;5;124;43m\"\u001b[39;49m\u001b[38;5;124;43mr\u001b[39;49m\u001b[38;5;124;43m\"\u001b[39;49m\u001b[43m)\u001b[49m \u001b[38;5;66;03m###Opening file to read which does not exisit FileNotFoundError\u001b[39;00m\n\u001b[1;32m      2\u001b[0m \u001b[38;5;28mprint\u001b[39m(\u001b[38;5;124m\"\u001b[39m\u001b[38;5;124mThis is my result\u001b[39m\u001b[38;5;124m\"\u001b[39m) \u001b[38;5;66;03m#This will be no printed as before this itself error is detected\u001b[39;00m\n\u001b[1;32m      3\u001b[0m \u001b[38;5;66;03m#So to avoid code termination we use exception handeling\u001b[39;00m\n",
      "File \u001b[0;32m/opt/conda/lib/python3.10/site-packages/IPython/core/interactiveshell.py:282\u001b[0m, in \u001b[0;36m_modified_open\u001b[0;34m(file, *args, **kwargs)\u001b[0m\n\u001b[1;32m    275\u001b[0m \u001b[38;5;28;01mif\u001b[39;00m file \u001b[38;5;129;01min\u001b[39;00m {\u001b[38;5;241m0\u001b[39m, \u001b[38;5;241m1\u001b[39m, \u001b[38;5;241m2\u001b[39m}:\n\u001b[1;32m    276\u001b[0m     \u001b[38;5;28;01mraise\u001b[39;00m \u001b[38;5;167;01mValueError\u001b[39;00m(\n\u001b[1;32m    277\u001b[0m         \u001b[38;5;124mf\u001b[39m\u001b[38;5;124m\"\u001b[39m\u001b[38;5;124mIPython won\u001b[39m\u001b[38;5;124m'\u001b[39m\u001b[38;5;124mt let you open fd=\u001b[39m\u001b[38;5;132;01m{\u001b[39;00mfile\u001b[38;5;132;01m}\u001b[39;00m\u001b[38;5;124m by default \u001b[39m\u001b[38;5;124m\"\u001b[39m\n\u001b[1;32m    278\u001b[0m         \u001b[38;5;124m\"\u001b[39m\u001b[38;5;124mas it is likely to crash IPython. If you know what you are doing, \u001b[39m\u001b[38;5;124m\"\u001b[39m\n\u001b[1;32m    279\u001b[0m         \u001b[38;5;124m\"\u001b[39m\u001b[38;5;124myou can use builtins\u001b[39m\u001b[38;5;124m'\u001b[39m\u001b[38;5;124m open.\u001b[39m\u001b[38;5;124m\"\u001b[39m\n\u001b[1;32m    280\u001b[0m     )\n\u001b[0;32m--> 282\u001b[0m \u001b[38;5;28;01mreturn\u001b[39;00m \u001b[43mio_open\u001b[49m\u001b[43m(\u001b[49m\u001b[43mfile\u001b[49m\u001b[43m,\u001b[49m\u001b[43m \u001b[49m\u001b[38;5;241;43m*\u001b[39;49m\u001b[43margs\u001b[49m\u001b[43m,\u001b[49m\u001b[43m \u001b[49m\u001b[38;5;241;43m*\u001b[39;49m\u001b[38;5;241;43m*\u001b[39;49m\u001b[43mkwargs\u001b[49m\u001b[43m)\u001b[49m\n",
      "\u001b[0;31mFileNotFoundError\u001b[0m: [Errno 2] No such file or directory: 'New.txt'"
     ]
    }
   ],
   "source": [
    "f=open(\"New.txt\",\"r\") ###Opening file to read which does not exisit FileNotFoundError\n",
    "print(\"This is my result\") #This will be no printed as before this itself error is detected\n",
    "#So to avoid code termination we use exception handeling"
   ]
  },
  {
   "cell_type": "code",
   "execution_count": 8,
   "id": "8783a91e-3f57-49a2-9185-b6e9cbfb59ea",
   "metadata": {},
   "outputs": [
    {
     "name": "stdout",
     "output_type": "stream",
     "text": [
      "File does not exsist Error -  [Errno 2] No such file or directory: 'New.txt'\n",
      "This is my result\n"
     ]
    }
   ],
   "source": [
    "try:\n",
    "    f=open(\"New.txt\",\"r\")\n",
    "except Exception as e:\n",
    "    print(\"File does not exsist Error - \",e)\n",
    "\n",
    "print(\"This is my result\")"
   ]
  },
  {
   "cell_type": "code",
   "execution_count": 9,
   "id": "7aafb558-fb15-4ba8-a382-da57f7e6232b",
   "metadata": {},
   "outputs": [
    {
     "name": "stdout",
     "output_type": "stream",
     "text": [
      "Error occured Error -  division by zero\n",
      "This is my result\n"
     ]
    }
   ],
   "source": [
    "try: \n",
    "    b=10/0\n",
    "except Exception as e:\n",
    "    print(\"Error occured Error - \",e)\n",
    " \n",
    "print(\"This is my result\")"
   ]
  },
  {
   "cell_type": "code",
   "execution_count": 11,
   "id": "4edad846-b456-4246-9a4a-cddf15802cdb",
   "metadata": {},
   "outputs": [
    {
     "name": "stdout",
     "output_type": "stream",
     "text": [
      "This is my result\n"
     ]
    }
   ],
   "source": [
    "try:\n",
    "    f=open(\"New.txt\",\"w\")\n",
    "    f.write(\"This is my message\")\n",
    "    f.close()\n",
    "except Exception as e:\n",
    "    print(\"File does not exsist Error - \",e)\n",
    "\n",
    "print(\"This is my result\")"
   ]
  },
  {
   "cell_type": "code",
   "execution_count": 12,
   "id": "82315fa8-6b7e-424a-8320-1f463e072882",
   "metadata": {},
   "outputs": [
    {
     "name": "stdout",
     "output_type": "stream",
     "text": [
      "File created in try block\n",
      "File written in try block\n",
      "File closed by else block\n",
      "This is my result\n"
     ]
    }
   ],
   "source": [
    "try:\n",
    "    f=open(\"NewFile.txt\",\"w\")\n",
    "    print(\"File created in try block\")\n",
    "    f.write(\"This is my message\")\n",
    "    print(\"File written in try block\")\n",
    "except Exception as e:\n",
    "    print(\"File does not exsist Error - \",e)\n",
    "else:\n",
    "    f.close()\n",
    "    print(\"File closed by else block\")\n",
    "    ###This else block will be executed only when try block is executed without any exception\n",
    "    \n",
    "print(\"This is my result\")"
   ]
  },
  {
   "cell_type": "code",
   "execution_count": 14,
   "id": "2c2283cd-c4f5-4b84-aeaa-c9a8c088edb1",
   "metadata": {},
   "outputs": [
    {
     "name": "stdout",
     "output_type": "stream",
     "text": [
      "File created in try block\n",
      "File written in try block\n",
      "File closed by else block\n",
      "This is my result\n"
     ]
    }
   ],
   "source": [
    "try:\n",
    "    f=open(\"NewFile.txt\",\"w\")\n",
    "    print(\"File created in try block\")\n",
    "    f.write(\"This is my message\")\n",
    "    print(\"File written in try block\")\n",
    "except Exception as e:\n",
    "    print(\"File does not exsist Error - \",e)\n",
    "    print(\"Exception raised\")\n",
    "else:\n",
    "    f.close()\n",
    "    print(\"File closed by else block\")\n",
    "    ###This else block will be executed only when try block is executed without any exception\n",
    "    \n",
    "print(\"This is my result\")"
   ]
  },
  {
   "cell_type": "code",
   "execution_count": 15,
   "id": "170323fd-5d3f-41d7-a0f5-176a19f42b44",
   "metadata": {},
   "outputs": [
    {
     "name": "stdout",
     "output_type": "stream",
     "text": [
      "Error occured Error -  division by zero\n",
      "Exception raised\n",
      "This is my result\n"
     ]
    }
   ],
   "source": [
    "try: \n",
    "    b=10/0\n",
    "    print(\"Try block executed\")\n",
    "except Exception as e:\n",
    "    print(\"Error occured Error - \",e)\n",
    "    print(\"Exception raised\")\n",
    "else:\n",
    "    print(\"Else block executed\")\n",
    " \n",
    "print(\"This is my result\")"
   ]
  },
  {
   "cell_type": "code",
   "execution_count": 17,
   "id": "b1eb56b0-da50-4c30-a306-eaa82ceb58df",
   "metadata": {},
   "outputs": [
    {
     "ename": "IndexError",
     "evalue": "pop from empty list",
     "output_type": "error",
     "traceback": [
      "\u001b[0;31m---------------------------------------------------------------------------\u001b[0m",
      "\u001b[0;31mIndexError\u001b[0m                                Traceback (most recent call last)",
      "Cell \u001b[0;32mIn[17], line 2\u001b[0m\n\u001b[1;32m      1\u001b[0m \u001b[38;5;28mlist\u001b[39m\u001b[38;5;241m=\u001b[39m[]\n\u001b[0;32m----> 2\u001b[0m \u001b[38;5;28;43mlist\u001b[39;49m\u001b[38;5;241;43m.\u001b[39;49m\u001b[43mpop\u001b[49m\u001b[43m(\u001b[49m\u001b[43m)\u001b[49m\n",
      "\u001b[0;31mIndexError\u001b[0m: pop from empty list"
     ]
    }
   ],
   "source": [
    "list=[]\n",
    "list.pop()"
   ]
  },
  {
   "cell_type": "code",
   "execution_count": 25,
   "id": "9e510107-13b3-4783-9db1-846ef0553cfe",
   "metadata": {},
   "outputs": [
    {
     "name": "stdout",
     "output_type": "stream",
     "text": [
      "Error occured Error -  pop from empty list\n",
      "Exception raised\n",
      "This is my result\n"
     ]
    }
   ],
   "source": [
    "lst=[]\n",
    "try:\n",
    "    lst.pop()\n",
    "    print(\"Try block executed\")\n",
    "except Exception as e:\n",
    "    print(\"Error occured Error - \",e)\n",
    "    print(\"Exception raised\")\n",
    "else:\n",
    "    print(\"Else block executed\")\n",
    " \n",
    "print(\"This is my result\")"
   ]
  },
  {
   "cell_type": "code",
   "execution_count": 23,
   "id": "54678a19-6c0c-45f4-8ac1-a1f782188031",
   "metadata": {},
   "outputs": [
    {
     "name": "stdout",
     "output_type": "stream",
     "text": [
      "Finally block this will be always executed\n"
     ]
    },
    {
     "ename": "IndexError",
     "evalue": "pop from empty list",
     "output_type": "error",
     "traceback": [
      "\u001b[0;31m---------------------------------------------------------------------------\u001b[0m",
      "\u001b[0;31mIndexError\u001b[0m                                Traceback (most recent call last)",
      "Cell \u001b[0;32mIn[23], line 3\u001b[0m\n\u001b[1;32m      1\u001b[0m lst\u001b[38;5;241m=\u001b[39m[]\n\u001b[1;32m      2\u001b[0m \u001b[38;5;28;01mtry\u001b[39;00m:\n\u001b[0;32m----> 3\u001b[0m     \u001b[43mlst\u001b[49m\u001b[38;5;241;43m.\u001b[39;49m\u001b[43mpop\u001b[49m\u001b[43m(\u001b[49m\u001b[43m)\u001b[49m\n\u001b[1;32m      4\u001b[0m     \u001b[38;5;28mprint\u001b[39m(\u001b[38;5;124m\"\u001b[39m\u001b[38;5;124mTry block executed\u001b[39m\u001b[38;5;124m\"\u001b[39m)\n\u001b[1;32m      5\u001b[0m \u001b[38;5;28;01mfinally\u001b[39;00m:\n",
      "\u001b[0;31mIndexError\u001b[0m: pop from empty list"
     ]
    }
   ],
   "source": [
    "lst=[]\n",
    "try:\n",
    "    lst.pop()\n",
    "    print(\"Try block executed\")\n",
    "finally:\n",
    "    print(\"Finally block this will be always executed\")\n",
    " \n",
    "print(\"This is my result\")\n",
    "\n",
    "###Here we are getting error because we are not handeling exception "
   ]
  },
  {
   "cell_type": "code",
   "execution_count": 31,
   "id": "6005d5a6-ec04-4680-95fb-386589af2859",
   "metadata": {},
   "outputs": [
    {
     "name": "stdout",
     "output_type": "stream",
     "text": [
      "Error occured Error -  list assignment index out of range\n",
      "Exception raised\n",
      "Finally block this will be always executed\n",
      "This is my result\n"
     ]
    }
   ],
   "source": [
    "lst=[1,2,3,4,5]\n",
    "try:\n",
    "    lst[10]=20\n",
    "    print(\"Try block executed\")\n",
    "except Exception as e:\n",
    "    print(\"Error occured Error - \",e)\n",
    "    print(\"Exception raised\")\n",
    "else:\n",
    "    print(\"Else block executed\")\n",
    "finally:\n",
    "    print(\"Finally block this will be always executed\")\n",
    " \n",
    "print(\"This is my result\")\n",
    "###Here except and finally block are executed"
   ]
  },
  {
   "cell_type": "code",
   "execution_count": 32,
   "id": "8e404de1-50f2-4536-bd95-be630f58378e",
   "metadata": {},
   "outputs": [
    {
     "name": "stdout",
     "output_type": "stream",
     "text": [
      "Try block executed\n",
      "Else block executed\n",
      "Finally block this will be always executed\n",
      "This is my result\n"
     ]
    }
   ],
   "source": [
    "lst=[1,2,3,4,5]\n",
    "try:\n",
    "    lst[1]=20\n",
    "    print(\"Try block executed\")\n",
    "except Exception as e:\n",
    "    print(\"Error occured Error - \",e)\n",
    "    print(\"Exception raised\")\n",
    "else:\n",
    "    print(\"Else block executed\")\n",
    "finally:\n",
    "    print(\"Finally block this will be always executed\")\n",
    " \n",
    "print(\"This is my result\")\n",
    "###Here try else and finally blocks are executed"
   ]
  },
  {
   "cell_type": "markdown",
   "id": "a3989528-4449-4cda-bf15-382c0e3cf0db",
   "metadata": {},
   "source": [
    "###CUSTOM EXCEPTION HANDELING "
   ]
  },
  {
   "cell_type": "code",
   "execution_count": 35,
   "id": "9cec43f3-48dd-4ea0-89c0-00792dc48c4b",
   "metadata": {},
   "outputs": [],
   "source": [
    "#In some scenario if i want to create my own exception \n",
    "#Like i don't want user to enter age greater than 85\n",
    "#Here system won't give me error but i want to restrict user myself and show error\n",
    "#Here we use concept of custom exception handelinh"
   ]
  },
  {
   "cell_type": "code",
   "execution_count": 37,
   "id": "79b6d1ad-fa4b-4de6-b109-b529e7deefb9",
   "metadata": {},
   "outputs": [
    {
     "name": "stdin",
     "output_type": "stream",
     "text": [
      "Enter age:  78\n"
     ]
    }
   ],
   "source": [
    "age=int(input(\"Enter age: \"))"
   ]
  },
  {
   "cell_type": "code",
   "execution_count": 38,
   "id": "2fadadfd-e116-4274-a1d6-26cf3deeec75",
   "metadata": {},
   "outputs": [
    {
     "data": {
      "text/plain": [
       "78"
      ]
     },
     "execution_count": 38,
     "metadata": {},
     "output_type": "execute_result"
    }
   ],
   "source": [
    "age\n"
   ]
  },
  {
   "cell_type": "code",
   "execution_count": 39,
   "id": "b3e6921a-3150-4a3b-adbc-da100c35e95f",
   "metadata": {},
   "outputs": [
    {
     "name": "stdin",
     "output_type": "stream",
     "text": [
      "Enter age:  567\n"
     ]
    }
   ],
   "source": [
    "age=int(input(\"Enter age: \"))\n"
   ]
  },
  {
   "cell_type": "code",
   "execution_count": 40,
   "id": "7d31258e-4071-409f-a114-cdfbc2ca861f",
   "metadata": {},
   "outputs": [
    {
     "data": {
      "text/plain": [
       "567"
      ]
     },
     "execution_count": 40,
     "metadata": {},
     "output_type": "execute_result"
    }
   ],
   "source": [
    "age"
   ]
  },
  {
   "cell_type": "code",
   "execution_count": 41,
   "id": "18782dbc-220d-452b-8e01-4269dd6bb09a",
   "metadata": {},
   "outputs": [],
   "source": [
    "class validateage(Exception):\n",
    "    def __init__self(self,msg):\n",
    "        self.msg=msg"
   ]
  },
  {
   "cell_type": "code",
   "execution_count": 42,
   "id": "8d294165-fc5e-476a-bb20-637f9334ad7a",
   "metadata": {},
   "outputs": [],
   "source": [
    "def func(age):\n",
    "    if age>85:\n",
    "        raise validateage(\"Age should not be greater than 85\")\n",
    "        \n",
    "    elif age<0:\n",
    "        raise validateage(\"Age cannot be negative\")\n",
    "    else:\n",
    "        print(\"Age is valid\")"
   ]
  },
  {
   "cell_type": "code",
   "execution_count": 46,
   "id": "0dadcce7-c609-4586-bda5-baa9ec6221c8",
   "metadata": {},
   "outputs": [
    {
     "name": "stdin",
     "output_type": "stream",
     "text": [
      "Enter age :  75\n"
     ]
    },
    {
     "name": "stdout",
     "output_type": "stream",
     "text": [
      "Age is valid\n"
     ]
    }
   ],
   "source": [
    "try:\n",
    "    age=int(input(\"Enter age : \"))\n",
    "    func(age)\n",
    "except validateage as e:\n",
    "    print(e)\n",
    "            "
   ]
  },
  {
   "cell_type": "code",
   "execution_count": null,
   "id": "5602ea37-f067-4860-9310-a852bb5b5267",
   "metadata": {},
   "outputs": [],
   "source": []
  },
  {
   "cell_type": "code",
   "execution_count": null,
   "id": "e5564e52-b2fc-4045-9030-9468e0e9b8ef",
   "metadata": {},
   "outputs": [],
   "source": []
  }
 ],
 "metadata": {
  "kernelspec": {
   "display_name": "Python 3 (ipykernel)",
   "language": "python",
   "name": "python3"
  },
  "language_info": {
   "codemirror_mode": {
    "name": "ipython",
    "version": 3
   },
   "file_extension": ".py",
   "mimetype": "text/x-python",
   "name": "python",
   "nbconvert_exporter": "python",
   "pygments_lexer": "ipython3",
   "version": "3.10.8"
  }
 },
 "nbformat": 4,
 "nbformat_minor": 5
}
