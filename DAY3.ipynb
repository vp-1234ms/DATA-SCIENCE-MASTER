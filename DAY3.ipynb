{
 "cells": [
  {
   "cell_type": "code",
   "execution_count": 1,
   "id": "b5ecab28-1ce3-4ee5-8356-f75bb7ca008d",
   "metadata": {},
   "outputs": [],
   "source": [
    "a=10"
   ]
  },
  {
   "cell_type": "code",
   "execution_count": 2,
   "id": "aaedd57e-5ba2-42dc-b68d-0b5850a35d88",
   "metadata": {},
   "outputs": [
    {
     "name": "stdout",
     "output_type": "stream",
     "text": [
      "10\n"
     ]
    }
   ],
   "source": [
    "print(a)"
   ]
  },
  {
   "cell_type": "code",
   "execution_count": 3,
   "id": "4a01f586-4b70-477d-9366-7c61d0b5f722",
   "metadata": {},
   "outputs": [],
   "source": [
    "##LOGICAL OPERATORS\n",
    "#AND\n",
    "#OR\n",
    "#NOT"
   ]
  },
  {
   "cell_type": "code",
   "execution_count": 4,
   "id": "f932fea4-023d-4b00-9413-a3d705e89be7",
   "metadata": {},
   "outputs": [
    {
     "data": {
      "text/plain": [
       "True"
      ]
     },
     "execution_count": 4,
     "metadata": {},
     "output_type": "execute_result"
    }
   ],
   "source": [
    "True and True"
   ]
  },
  {
   "cell_type": "code",
   "execution_count": 5,
   "id": "959ec42d-3893-4193-a441-7edfade848f7",
   "metadata": {},
   "outputs": [
    {
     "data": {
      "text/plain": [
       "False"
      ]
     },
     "execution_count": 5,
     "metadata": {},
     "output_type": "execute_result"
    }
   ],
   "source": [
    "True and False"
   ]
  },
  {
   "cell_type": "code",
   "execution_count": 6,
   "id": "abc8fede-9687-4f4c-8df0-d4d22badbe66",
   "metadata": {},
   "outputs": [
    {
     "data": {
      "text/plain": [
       "True"
      ]
     },
     "execution_count": 6,
     "metadata": {},
     "output_type": "execute_result"
    }
   ],
   "source": [
    "True or True"
   ]
  },
  {
   "cell_type": "code",
   "execution_count": 7,
   "id": "81376667-f907-4698-9926-3bd55acaf1d4",
   "metadata": {},
   "outputs": [
    {
     "data": {
      "text/plain": [
       "True"
      ]
     },
     "execution_count": 7,
     "metadata": {},
     "output_type": "execute_result"
    }
   ],
   "source": [
    "True or False"
   ]
  },
  {
   "cell_type": "code",
   "execution_count": 8,
   "id": "fd840e5f-17ff-4a5c-90c2-a4c4a4f1d4f0",
   "metadata": {},
   "outputs": [
    {
     "data": {
      "text/plain": [
       "False"
      ]
     },
     "execution_count": 8,
     "metadata": {},
     "output_type": "execute_result"
    }
   ],
   "source": [
    "not True"
   ]
  },
  {
   "cell_type": "code",
   "execution_count": 9,
   "id": "5ec2b838-b9db-445f-85ae-365a15012bfc",
   "metadata": {},
   "outputs": [
    {
     "data": {
      "text/plain": [
       "True"
      ]
     },
     "execution_count": 9,
     "metadata": {},
     "output_type": "execute_result"
    }
   ],
   "source": [
    "not False"
   ]
  },
  {
   "cell_type": "code",
   "execution_count": 10,
   "id": "91e26e85-0e98-442e-b5ad-e332d9ffbd88",
   "metadata": {},
   "outputs": [
    {
     "data": {
      "text/plain": [
       "True"
      ]
     },
     "execution_count": 10,
     "metadata": {},
     "output_type": "execute_result"
    }
   ],
   "source": [
    "not bool(0)"
   ]
  },
  {
   "cell_type": "code",
   "execution_count": 11,
   "id": "f4921c24-b850-453d-865b-779c8e2269f2",
   "metadata": {},
   "outputs": [
    {
     "data": {
      "text/plain": [
       "False"
      ]
     },
     "execution_count": 11,
     "metadata": {},
     "output_type": "execute_result"
    }
   ],
   "source": [
    "not 1"
   ]
  },
  {
   "cell_type": "code",
   "execution_count": 12,
   "id": "18f0311e-43fc-48cf-afca-55638eff3c86",
   "metadata": {},
   "outputs": [
    {
     "data": {
      "text/plain": [
       "True"
      ]
     },
     "execution_count": 12,
     "metadata": {},
     "output_type": "execute_result"
    }
   ],
   "source": [
    "bool(1)"
   ]
  },
  {
   "cell_type": "code",
   "execution_count": 13,
   "id": "a059dd02-e700-4063-8b32-3f0e5dde4d19",
   "metadata": {},
   "outputs": [
    {
     "data": {
      "text/plain": [
       "False"
      ]
     },
     "execution_count": 13,
     "metadata": {},
     "output_type": "execute_result"
    }
   ],
   "source": [
    "not 1"
   ]
  },
  {
   "cell_type": "code",
   "execution_count": 14,
   "id": "3d5f5b33-9f7a-410b-bd00-f2e399478e27",
   "metadata": {},
   "outputs": [
    {
     "data": {
      "text/plain": [
       "True"
      ]
     },
     "execution_count": 14,
     "metadata": {},
     "output_type": "execute_result"
    }
   ],
   "source": [
    "not int(bool(0))"
   ]
  },
  {
   "cell_type": "code",
   "execution_count": 15,
   "id": "6368daec-aea2-45e0-8bee-7d5074f25831",
   "metadata": {},
   "outputs": [
    {
     "data": {
      "text/plain": [
       "1"
      ]
     },
     "execution_count": 15,
     "metadata": {},
     "output_type": "execute_result"
    }
   ],
   "source": [
    "int(not 0)"
   ]
  },
  {
   "cell_type": "code",
   "execution_count": 16,
   "id": "8bbaf5c3-628c-48da-a971-1e90234531a8",
   "metadata": {},
   "outputs": [
    {
     "data": {
      "text/plain": [
       "True"
      ]
     },
     "execution_count": 16,
     "metadata": {},
     "output_type": "execute_result"
    }
   ],
   "source": [
    "bool(int(not(0)))"
   ]
  },
  {
   "cell_type": "code",
   "execution_count": 17,
   "id": "bac11eda-8ce6-4847-9812-0fd2c52a33d9",
   "metadata": {},
   "outputs": [
    {
     "data": {
      "text/plain": [
       "False"
      ]
     },
     "execution_count": 17,
     "metadata": {},
     "output_type": "execute_result"
    }
   ],
   "source": [
    "not 2"
   ]
  },
  {
   "cell_type": "code",
   "execution_count": 18,
   "id": "8ef6572e-c4c0-4caf-9a12-20e1998fddd0",
   "metadata": {},
   "outputs": [
    {
     "data": {
      "text/plain": [
       "False"
      ]
     },
     "execution_count": 18,
     "metadata": {},
     "output_type": "execute_result"
    }
   ],
   "source": [
    "not -1"
   ]
  },
  {
   "cell_type": "code",
   "execution_count": 19,
   "id": "f280c0ec-ad31-469e-b3ba-ad1f307919e0",
   "metadata": {},
   "outputs": [
    {
     "data": {
      "text/plain": [
       "False"
      ]
     },
     "execution_count": 19,
     "metadata": {},
     "output_type": "execute_result"
    }
   ],
   "source": [
    "not 1"
   ]
  },
  {
   "cell_type": "code",
   "execution_count": 20,
   "id": "7d86a71d-87a8-4e22-9e92-f0314282ff62",
   "metadata": {},
   "outputs": [
    {
     "data": {
      "text/plain": [
       "False"
      ]
     },
     "execution_count": 20,
     "metadata": {},
     "output_type": "execute_result"
    }
   ],
   "source": [
    "not 1"
   ]
  },
  {
   "cell_type": "code",
   "execution_count": 21,
   "id": "8cd41f19-99c5-415a-bd1b-8904688e8ea3",
   "metadata": {},
   "outputs": [
    {
     "data": {
      "text/plain": [
       "True"
      ]
     },
     "execution_count": 21,
     "metadata": {},
     "output_type": "execute_result"
    }
   ],
   "source": [
    "not 0"
   ]
  },
  {
   "cell_type": "code",
   "execution_count": 22,
   "id": "19fd98e9-db4a-404d-8c96-06bfef530117",
   "metadata": {},
   "outputs": [
    {
     "data": {
      "text/plain": [
       "False"
      ]
     },
     "execution_count": 22,
     "metadata": {},
     "output_type": "execute_result"
    }
   ],
   "source": [
    "bool(0)"
   ]
  },
  {
   "cell_type": "code",
   "execution_count": 23,
   "id": "91c5e039-943a-4909-b00e-c7beb620be75",
   "metadata": {},
   "outputs": [
    {
     "data": {
      "text/plain": [
       "True"
      ]
     },
     "execution_count": 23,
     "metadata": {},
     "output_type": "execute_result"
    }
   ],
   "source": [
    "bool(1)"
   ]
  },
  {
   "cell_type": "code",
   "execution_count": 24,
   "id": "6db4270e-b741-4007-8723-6562a4f6417e",
   "metadata": {},
   "outputs": [
    {
     "data": {
      "text/plain": [
       "True"
      ]
     },
     "execution_count": 24,
     "metadata": {},
     "output_type": "execute_result"
    }
   ],
   "source": [
    "bool(-1)"
   ]
  },
  {
   "cell_type": "code",
   "execution_count": 25,
   "id": "82cb4b97-7258-42d3-b347-a16b34378d46",
   "metadata": {},
   "outputs": [
    {
     "data": {
      "text/plain": [
       "True"
      ]
     },
     "execution_count": 25,
     "metadata": {},
     "output_type": "execute_result"
    }
   ],
   "source": [
    "bool(2)"
   ]
  },
  {
   "cell_type": "code",
   "execution_count": 26,
   "id": "6c8d51f6-d545-4818-9884-ac45d019bfaf",
   "metadata": {},
   "outputs": [
    {
     "data": {
      "text/plain": [
       "True"
      ]
     },
     "execution_count": 26,
     "metadata": {},
     "output_type": "execute_result"
    }
   ],
   "source": [
    "bool(-3)"
   ]
  },
  {
   "cell_type": "code",
   "execution_count": 27,
   "id": "67379f59-bb42-4ab7-a71f-315dd2541502",
   "metadata": {},
   "outputs": [
    {
     "data": {
      "text/plain": [
       "False"
      ]
     },
     "execution_count": 27,
     "metadata": {},
     "output_type": "execute_result"
    }
   ],
   "source": [
    "bool(0)"
   ]
  },
  {
   "cell_type": "code",
   "execution_count": 28,
   "id": "ea933523-2e9b-4868-a7a1-2d2a0c0d73ef",
   "metadata": {},
   "outputs": [
    {
     "data": {
      "text/plain": [
       "True"
      ]
     },
     "execution_count": 28,
     "metadata": {},
     "output_type": "execute_result"
    }
   ],
   "source": [
    "not bool(0)"
   ]
  },
  {
   "cell_type": "code",
   "execution_count": 30,
   "id": "349a3c8e-c2e4-4f3a-9243-d9054d6fcb4a",
   "metadata": {},
   "outputs": [
    {
     "data": {
      "text/plain": [
       "1"
      ]
     },
     "execution_count": 30,
     "metadata": {},
     "output_type": "execute_result"
    }
   ],
   "source": [
    "int (not (bool(0)))"
   ]
  },
  {
   "cell_type": "code",
   "execution_count": 31,
   "id": "afcf7b13-2465-4360-a782-29ebf174b845",
   "metadata": {},
   "outputs": [
    {
     "data": {
      "text/plain": [
       "False"
      ]
     },
     "execution_count": 31,
     "metadata": {},
     "output_type": "execute_result"
    }
   ],
   "source": [
    "not 1"
   ]
  },
  {
   "cell_type": "markdown",
   "id": "0ce62285-e51e-471a-802e-c1671de7a42c",
   "metadata": {},
   "source": [
    "##LOGICAL AND"
   ]
  },
  {
   "cell_type": "code",
   "execution_count": 33,
   "id": "9c086024-e926-4cea-96ca-6b0278d9c79b",
   "metadata": {},
   "outputs": [],
   "source": [
    "VEGETABLES=True\n",
    "SALT= False\n",
    "DISH = VEGETABLES and SALT"
   ]
  },
  {
   "cell_type": "code",
   "execution_count": 34,
   "id": "c2b6ca54-ce35-42b3-8075-ab58e70c7537",
   "metadata": {},
   "outputs": [
    {
     "name": "stdout",
     "output_type": "stream",
     "text": [
      "False\n"
     ]
    }
   ],
   "source": [
    "print(DISH)"
   ]
  },
  {
   "cell_type": "code",
   "execution_count": 36,
   "id": "1c63b0b4-a095-4efc-9670-402e7c10209e",
   "metadata": {},
   "outputs": [
    {
     "name": "stdout",
     "output_type": "stream",
     "text": [
      "Defined value of START = True\n",
      "Defined value of STOP = False \n",
      "\n",
      "Defined value of START = True\n",
      "Value of STOP by negating START= False \n",
      "\n",
      "Value of START by negating STOP = True\n",
      "Defined value of STOP = False \n",
      "\n"
     ]
    }
   ],
   "source": [
    "START = True\n",
    "STOP = False\n",
    "\n",
    "# Print the values as it is\n",
    "print(f\"Defined value of START = {START}\")\n",
    "print(f\"Defined value of STOP = {STOP} \\n\")\n",
    "\n",
    "# if can also be written as - \n",
    "print(f\"Defined value of START = {START}\")\n",
    "print(f\"Value of STOP by negating START= {not START} \\n\")\n",
    "\n",
    "# alternatively -\n",
    "print(f\"Value of START by negating STOP = {not STOP}\")\n",
    "print(f\"Defined value of STOP = {STOP} \\n\")"
   ]
  },
  {
   "cell_type": "code",
   "execution_count": 37,
   "id": "dbea9b8a-8657-4923-98eb-faad4f400510",
   "metadata": {},
   "outputs": [
    {
     "name": "stdout",
     "output_type": "stream",
     "text": [
      "Defined value of START = 1\n",
      "Defined value of STOP = 0 \n",
      "\n",
      "Defined value of START = 1\n",
      "Value of STOP by negating START= 0 \n",
      "\n",
      "Value of START by negating STOP = 1\n",
      "Defined value of STOP = 0 \n",
      "\n"
     ]
    }
   ],
   "source": [
    "START = 1\n",
    "STOP = 0\n",
    "\n",
    "# Print the values as it is\n",
    "print(f\"Defined value of START = {START}\")\n",
    "print(f\"Defined value of STOP = {STOP} \\n\")\n",
    "\n",
    "# if can also be written as - \n",
    "print(f\"Defined value of START = {START}\")\n",
    "print(f\"Value of STOP by negating START= {int(not START)} \\n\")\n",
    "\n",
    "# alternatively -\n",
    "print(f\"Value of START by negating STOP = {int(not STOP)}\")\n",
    "print(f\"Defined value of STOP = {STOP} \\n\")"
   ]
  },
  {
   "cell_type": "code",
   "execution_count": 38,
   "id": "8f535348-20bf-46a3-9325-e331c1b94327",
   "metadata": {},
   "outputs": [
    {
     "name": "stdout",
     "output_type": "stream",
     "text": [
      "boolean value of no. 0 is False\n",
      "boolean value of no. 1 is True\n",
      "negation of 0 is True and negation of 1 is False\n",
      "\n",
      "#------------------------#\n",
      "\n",
      "boolean value of no. -5 is True\n",
      "boolean value of no. 5 is True\n",
      "negation of -5 is False and negation of 5 is False\n",
      "\n",
      "#------------------------#\n",
      "\n",
      "boolean value of no. -5.99 is True\n",
      "boolean value of no. 5.6 is True\n",
      "negation of -5.99 is False and negation of 5.6 is False\n"
     ]
    }
   ],
   "source": [
    "zero = 0\n",
    "one = 1\n",
    "\n",
    "print(f\"boolean value of no. {zero} is {bool(zero)}\")\n",
    "print(f\"boolean value of no. {one} is {bool(one)}\")\n",
    "print(f\"negation of {zero} is {not zero} and negation of {one} is {not one}\")\n",
    "print(\"\\n#------------------------#\\n\")\n",
    "\n",
    "Some_negative_integer = -5\n",
    "Some_positive_integer = 5\n",
    "\n",
    "print(f\"boolean value of no. {Some_negative_integer} is {bool(Some_negative_integer)}\")\n",
    "print(f\"boolean value of no. {Some_positive_integer} is {bool(Some_positive_integer)}\")\n",
    "print(f\"negation of {Some_negative_integer} is {not Some_negative_integer} \\\n",
    "and negation of {Some_positive_integer} is {not Some_positive_integer}\")\n",
    "\n",
    "print(\"\\n#------------------------#\\n\")\n",
    "\n",
    "Some_negative_float = -5.99\n",
    "Some_positive_float = 5.6\n",
    "\n",
    "print(f\"boolean value of no. {Some_negative_float} is {bool(Some_negative_float)}\")\n",
    "print(f\"boolean value of no. {Some_positive_float} is {bool(Some_positive_float)}\")\n",
    "print(f\"negation of {Some_negative_float} is {not Some_negative_float} \\\n",
    "and negation of {Some_positive_float} is {not Some_positive_float}\")"
   ]
  },
  {
   "cell_type": "code",
   "execution_count": 40,
   "id": "e81122b4-aa5f-42d2-9afe-513f26660b12",
   "metadata": {},
   "outputs": [
    {
     "name": "stdout",
     "output_type": "stream",
     "text": [
      "Dish contains VEGETABLES: True\n",
      "Dish contains SALT: False\n",
      "Hence dish prepared was good: False\n",
      "\n",
      "Dish contains VEGETABLES: True\n",
      "Dish contains SALT: True\n",
      "Hence dish prepared was good: True\n",
      "\n"
     ]
    }
   ],
   "source": [
    "VEGETABLES = True\n",
    "SALT = False\n",
    "DISH = VEGETABLES and SALT\n",
    "\n",
    "print(f\"Dish contains VEGETABLES: {VEGETABLES}\")##True\n",
    "print(f\"Dish contains SALT: {SALT}\")##Flase\n",
    "print(f\"Hence dish prepared was good: {DISH}\\n\")##False\n",
    "\n",
    "VEGETABLES = True\n",
    "SALT = True\n",
    "DISH = VEGETABLES and SALT\n",
    "\n",
    "print(f\"Dish contains VEGETABLES: {VEGETABLES}\")#True\n",
    "print(f\"Dish contains SALT: {SALT}\")#True\n",
    "print(f\"Hence dish prepared was good: {DISH}\\n\")#True"
   ]
  },
  {
   "cell_type": "code",
   "execution_count": 41,
   "id": "e3212776-b0d6-4328-88a9-c0d8c1dff0d4",
   "metadata": {},
   "outputs": [
    {
     "data": {
      "text/plain": [
       "True"
      ]
     },
     "execution_count": 41,
     "metadata": {},
     "output_type": "execute_result"
    }
   ],
   "source": [
    "True or False"
   ]
  },
  {
   "cell_type": "code",
   "execution_count": 42,
   "id": "994c0187-f56e-48c2-9c52-389a1281d083",
   "metadata": {},
   "outputs": [
    {
     "data": {
      "text/plain": [
       "False"
      ]
     },
     "execution_count": 42,
     "metadata": {},
     "output_type": "execute_result"
    }
   ],
   "source": [
    "True and False"
   ]
  },
  {
   "cell_type": "code",
   "execution_count": 43,
   "id": "20335ea5-b52a-4e21-9981-d9e0044b8096",
   "metadata": {},
   "outputs": [
    {
     "data": {
      "text/plain": [
       "1"
      ]
     },
     "execution_count": 43,
     "metadata": {},
     "output_type": "execute_result"
    }
   ],
   "source": [
    "True + False"
   ]
  },
  {
   "cell_type": "code",
   "execution_count": 44,
   "id": "40158d16-44e0-4f2c-96ac-26a3ebed2d65",
   "metadata": {},
   "outputs": [
    {
     "data": {
      "text/plain": [
       "0"
      ]
     },
     "execution_count": 44,
     "metadata": {},
     "output_type": "execute_result"
    }
   ],
   "source": [
    "True * False"
   ]
  },
  {
   "cell_type": "code",
   "execution_count": 45,
   "id": "3b663a2b-5d40-412e-9537-c39bd3d422b2",
   "metadata": {},
   "outputs": [
    {
     "data": {
      "text/plain": [
       "1"
      ]
     },
     "execution_count": 45,
     "metadata": {},
     "output_type": "execute_result"
    }
   ],
   "source": [
    "True - False"
   ]
  },
  {
   "cell_type": "code",
   "execution_count": 46,
   "id": "95241749-3f75-473f-8181-7a24df0bf7e0",
   "metadata": {},
   "outputs": [
    {
     "ename": "ZeroDivisionError",
     "evalue": "division by zero",
     "output_type": "error",
     "traceback": [
      "\u001b[0;31m---------------------------------------------------------------------------\u001b[0m",
      "\u001b[0;31mZeroDivisionError\u001b[0m                         Traceback (most recent call last)",
      "Cell \u001b[0;32mIn[46], line 1\u001b[0m\n\u001b[0;32m----> 1\u001b[0m \u001b[38;5;28;43;01mTrue\u001b[39;49;00m\u001b[38;5;241;43m/\u001b[39;49m\u001b[38;5;28;43;01mFalse\u001b[39;49;00m\n",
      "\u001b[0;31mZeroDivisionError\u001b[0m: division by zero"
     ]
    }
   ],
   "source": [
    "True/False"
   ]
  },
  {
   "cell_type": "code",
   "execution_count": 47,
   "id": "45495ec5-9282-4f60-83c8-6710e4271092",
   "metadata": {},
   "outputs": [
    {
     "data": {
      "text/plain": [
       "0.0"
      ]
     },
     "execution_count": 47,
     "metadata": {},
     "output_type": "execute_result"
    }
   ],
   "source": [
    "False/True"
   ]
  },
  {
   "cell_type": "code",
   "execution_count": 48,
   "id": "28cf366c-162e-40d4-a245-ed5392d7c4e8",
   "metadata": {},
   "outputs": [
    {
     "data": {
      "text/plain": [
       "-1"
      ]
     },
     "execution_count": 48,
     "metadata": {},
     "output_type": "execute_result"
    }
   ],
   "source": [
    "False-True"
   ]
  },
  {
   "cell_type": "code",
   "execution_count": 49,
   "id": "0fd03ec3-889b-414d-9a54-9617bfbee57f",
   "metadata": {},
   "outputs": [
    {
     "data": {
      "text/plain": [
       "0"
      ]
     },
     "execution_count": 49,
     "metadata": {},
     "output_type": "execute_result"
    }
   ],
   "source": [
    "False*True"
   ]
  },
  {
   "cell_type": "code",
   "execution_count": 50,
   "id": "03321a25-69bf-48c8-bcbf-06cb5fbf9faf",
   "metadata": {},
   "outputs": [
    {
     "data": {
      "text/plain": [
       "True"
      ]
     },
     "execution_count": 50,
     "metadata": {},
     "output_type": "execute_result"
    }
   ],
   "source": [
    "not(False)*True"
   ]
  },
  {
   "cell_type": "code",
   "execution_count": 52,
   "id": "42f1186e-5ff0-458a-8e7e-15e0a653daab",
   "metadata": {},
   "outputs": [
    {
     "data": {
      "text/plain": [
       "1"
      ]
     },
     "execution_count": 52,
     "metadata": {},
     "output_type": "execute_result"
    }
   ],
   "source": [
    "(not(False))*True #DUE TO BODMAS RULE THAT IS PRECEDENCE"
   ]
  },
  {
   "cell_type": "code",
   "execution_count": 53,
   "id": "ca073a05-007e-49c1-97bc-a1d46da7825b",
   "metadata": {},
   "outputs": [
    {
     "data": {
      "text/plain": [
       "True"
      ]
     },
     "execution_count": 53,
     "metadata": {},
     "output_type": "execute_result"
    }
   ],
   "source": [
    "not False * True"
   ]
  },
  {
   "cell_type": "code",
   "execution_count": 54,
   "id": "ce049536-de2e-4d58-be69-b725ff508665",
   "metadata": {},
   "outputs": [
    {
     "data": {
      "text/plain": [
       "False"
      ]
     },
     "execution_count": 54,
     "metadata": {},
     "output_type": "execute_result"
    }
   ],
   "source": [
    "(False) * False ==True"
   ]
  },
  {
   "cell_type": "code",
   "execution_count": 55,
   "id": "e7741e4d-e30f-414f-9ca4-e00c2fa6184d",
   "metadata": {},
   "outputs": [
    {
     "data": {
      "text/plain": [
       "True"
      ]
     },
     "execution_count": 55,
     "metadata": {},
     "output_type": "execute_result"
    }
   ],
   "source": [
    "not(False) * False ==True"
   ]
  },
  {
   "cell_type": "code",
   "execution_count": 56,
   "id": "374e682b-89c3-4f52-9eae-f7de87dda26f",
   "metadata": {},
   "outputs": [],
   "source": [
    "#not(False)*False is same as not False*False"
   ]
  },
  {
   "cell_type": "code",
   "execution_count": 57,
   "id": "ad62bdda-a10d-4313-b626-07170052896f",
   "metadata": {},
   "outputs": [
    {
     "data": {
      "text/plain": [
       "True"
      ]
     },
     "execution_count": 57,
     "metadata": {},
     "output_type": "execute_result"
    }
   ],
   "source": [
    "not(False)*True"
   ]
  },
  {
   "cell_type": "code",
   "execution_count": 58,
   "id": "8d5a3fc8-c64b-4a25-88ac-2ae71016069a",
   "metadata": {},
   "outputs": [
    {
     "data": {
      "text/plain": [
       "True"
      ]
     },
     "execution_count": 58,
     "metadata": {},
     "output_type": "execute_result"
    }
   ],
   "source": [
    "not False*True"
   ]
  },
  {
   "cell_type": "code",
   "execution_count": 59,
   "id": "3da45967-ec7d-4bbb-9d49-ce05d81a680d",
   "metadata": {},
   "outputs": [
    {
     "data": {
      "text/plain": [
       "False"
      ]
     },
     "execution_count": 59,
     "metadata": {},
     "output_type": "execute_result"
    }
   ],
   "source": [
    "not(True)*True"
   ]
  },
  {
   "cell_type": "code",
   "execution_count": 60,
   "id": "fcfb8709-931a-41a8-91ae-8d285ff7dadb",
   "metadata": {},
   "outputs": [
    {
     "data": {
      "text/plain": [
       "False"
      ]
     },
     "execution_count": 60,
     "metadata": {},
     "output_type": "execute_result"
    }
   ],
   "source": [
    "not True*True"
   ]
  },
  {
   "cell_type": "code",
   "execution_count": 61,
   "id": "b79cd081-d0c8-4cb0-b74d-d29a895309a2",
   "metadata": {},
   "outputs": [
    {
     "data": {
      "text/plain": [
       "True"
      ]
     },
     "execution_count": 61,
     "metadata": {},
     "output_type": "execute_result"
    }
   ],
   "source": [
    "not(False)*True"
   ]
  },
  {
   "cell_type": "code",
   "execution_count": 62,
   "id": "4da1040f-a74c-4ac3-980e-ce307917eac0",
   "metadata": {},
   "outputs": [
    {
     "data": {
      "text/plain": [
       "True"
      ]
     },
     "execution_count": 62,
     "metadata": {},
     "output_type": "execute_result"
    }
   ],
   "source": [
    "not False*True"
   ]
  },
  {
   "cell_type": "code",
   "execution_count": 63,
   "id": "f6ca9679-1e43-45a2-a8c9-9e94c6fe379c",
   "metadata": {},
   "outputs": [
    {
     "data": {
      "text/plain": [
       "True"
      ]
     },
     "execution_count": 63,
     "metadata": {},
     "output_type": "execute_result"
    }
   ],
   "source": [
    "1==True"
   ]
  },
  {
   "cell_type": "code",
   "execution_count": 64,
   "id": "e80d4423-eb6c-429f-8814-23fa7bd2d09b",
   "metadata": {},
   "outputs": [
    {
     "data": {
      "text/plain": [
       "True"
      ]
     },
     "execution_count": 64,
     "metadata": {},
     "output_type": "execute_result"
    }
   ],
   "source": [
    "0==False"
   ]
  },
  {
   "cell_type": "code",
   "execution_count": 65,
   "id": "81d8c3cd-85e7-42f1-9dd1-2e58c0021ba2",
   "metadata": {},
   "outputs": [
    {
     "data": {
      "text/plain": [
       "False"
      ]
     },
     "execution_count": 65,
     "metadata": {},
     "output_type": "execute_result"
    }
   ],
   "source": [
    "0==True"
   ]
  },
  {
   "cell_type": "code",
   "execution_count": 66,
   "id": "6907a02e-b79c-4e9f-9d0e-d4927c1434b7",
   "metadata": {},
   "outputs": [
    {
     "name": "stdout",
     "output_type": "stream",
     "text": [
      "True\n"
     ]
    }
   ],
   "source": [
    "print(not(False)*False)"
   ]
  },
  {
   "cell_type": "code",
   "execution_count": 67,
   "id": "c7ebd4a5-02f6-4d84-96e9-31ce30d6c0ea",
   "metadata": {},
   "outputs": [
    {
     "name": "stdout",
     "output_type": "stream",
     "text": [
      "0\n"
     ]
    }
   ],
   "source": [
    "print((not(False))*False)"
   ]
  },
  {
   "cell_type": "code",
   "execution_count": 68,
   "id": "aad84886-8a49-4c9b-a033-051496195ac4",
   "metadata": {},
   "outputs": [],
   "source": [
    "##2*3+40/5"
   ]
  },
  {
   "cell_type": "code",
   "execution_count": 69,
   "id": "0e7c47a1-cdc3-4423-851f-f4bb7f6a1b9d",
   "metadata": {},
   "outputs": [
    {
     "data": {
      "text/plain": [
       "0"
      ]
     },
     "execution_count": 69,
     "metadata": {},
     "output_type": "execute_result"
    }
   ],
   "source": [
    "False*True"
   ]
  },
  {
   "cell_type": "code",
   "execution_count": 70,
   "id": "36dd775f-f2f8-4ee5-96c3-a35a41ae7b57",
   "metadata": {},
   "outputs": [
    {
     "data": {
      "text/plain": [
       "0"
      ]
     },
     "execution_count": 70,
     "metadata": {},
     "output_type": "execute_result"
    }
   ],
   "source": [
    "0*1"
   ]
  },
  {
   "cell_type": "code",
   "execution_count": 71,
   "id": "803ef9ee-3ff3-4891-a98e-40d5c061d79e",
   "metadata": {},
   "outputs": [
    {
     "data": {
      "text/plain": [
       "0"
      ]
     },
     "execution_count": 71,
     "metadata": {},
     "output_type": "execute_result"
    }
   ],
   "source": [
    "False*True"
   ]
  },
  {
   "cell_type": "code",
   "execution_count": 72,
   "id": "15c9347b-011b-4ab7-86c9-43cd73b2efe9",
   "metadata": {},
   "outputs": [
    {
     "data": {
      "text/plain": [
       "True"
      ]
     },
     "execution_count": 72,
     "metadata": {},
     "output_type": "execute_result"
    }
   ],
   "source": [
    "not(False*True)"
   ]
  },
  {
   "cell_type": "code",
   "execution_count": 73,
   "id": "8f4d66c9-6065-4b8d-894c-0b7bc7c462ee",
   "metadata": {},
   "outputs": [
    {
     "data": {
      "text/plain": [
       "True"
      ]
     },
     "execution_count": 73,
     "metadata": {},
     "output_type": "execute_result"
    }
   ],
   "source": [
    "not False * True"
   ]
  },
  {
   "cell_type": "code",
   "execution_count": 74,
   "id": "8f7df8bb-79d7-49ce-8bc7-3d759f86f7ba",
   "metadata": {},
   "outputs": [
    {
     "data": {
      "text/plain": [
       "True"
      ]
     },
     "execution_count": 74,
     "metadata": {},
     "output_type": "execute_result"
    }
   ],
   "source": [
    "list1=[1,2,3,4]\n",
    "list2=[1,2,3,4]\n",
    "list1==list2"
   ]
  },
  {
   "cell_type": "code",
   "execution_count": 75,
   "id": "769f1341-aa12-4e92-855d-26f6e6de3180",
   "metadata": {},
   "outputs": [
    {
     "data": {
      "text/plain": [
       "False"
      ]
     },
     "execution_count": 75,
     "metadata": {},
     "output_type": "execute_result"
    }
   ],
   "source": [
    "list1=[1,2,3,5]\n",
    "list2=[1,2,3,4]\n",
    "list1==list2"
   ]
  },
  {
   "cell_type": "code",
   "execution_count": 77,
   "id": "b16ecbbb-cede-400e-b5e6-24ff8b923d94",
   "metadata": {},
   "outputs": [
    {
     "data": {
      "text/plain": [
       "140626089794816"
      ]
     },
     "execution_count": 77,
     "metadata": {},
     "output_type": "execute_result"
    }
   ],
   "source": [
    "id(list1)"
   ]
  },
  {
   "cell_type": "code",
   "execution_count": 78,
   "id": "83df2e20-21d4-432b-bbd6-ef1ab92ccc67",
   "metadata": {},
   "outputs": [
    {
     "data": {
      "text/plain": [
       "140626089794816"
      ]
     },
     "execution_count": 78,
     "metadata": {},
     "output_type": "execute_result"
    }
   ],
   "source": [
    "id(list1)"
   ]
  },
  {
   "cell_type": "code",
   "execution_count": 79,
   "id": "71b79e78-38d7-4f82-bd95-05814048f001",
   "metadata": {},
   "outputs": [
    {
     "data": {
      "text/plain": [
       "140626089654976"
      ]
     },
     "execution_count": 79,
     "metadata": {},
     "output_type": "execute_result"
    }
   ],
   "source": [
    "id(list2)"
   ]
  },
  {
   "cell_type": "code",
   "execution_count": 80,
   "id": "5e55d613-2bc6-457f-9540-9da41fb92d9e",
   "metadata": {},
   "outputs": [
    {
     "data": {
      "text/plain": [
       "140626089654976"
      ]
     },
     "execution_count": 80,
     "metadata": {},
     "output_type": "execute_result"
    }
   ],
   "source": [
    "id(list2)"
   ]
  },
  {
   "cell_type": "code",
   "execution_count": 81,
   "id": "14b318ea-e7b0-417a-9316-b791ae2ba994",
   "metadata": {},
   "outputs": [
    {
     "data": {
      "text/plain": [
       "False"
      ]
     },
     "execution_count": 81,
     "metadata": {},
     "output_type": "execute_result"
    }
   ],
   "source": [
    "list1==list2"
   ]
  },
  {
   "cell_type": "code",
   "execution_count": 82,
   "id": "0524c329-24ef-4298-88ee-74bc087936d9",
   "metadata": {},
   "outputs": [],
   "source": [
    "list1=[1,2,3,4]\n",
    "list2=[1,2,3,4]\n"
   ]
  },
  {
   "cell_type": "code",
   "execution_count": 83,
   "id": "e660b4ce-0c85-4f03-84d1-e6d2eeed0f97",
   "metadata": {},
   "outputs": [
    {
     "data": {
      "text/plain": [
       "True"
      ]
     },
     "execution_count": 83,
     "metadata": {},
     "output_type": "execute_result"
    }
   ],
   "source": [
    "list1==list2"
   ]
  },
  {
   "cell_type": "code",
   "execution_count": 84,
   "id": "6eab328a-4cd6-41b9-94a0-3de6433e5d05",
   "metadata": {},
   "outputs": [
    {
     "data": {
      "text/plain": [
       "False"
      ]
     },
     "execution_count": 84,
     "metadata": {},
     "output_type": "execute_result"
    }
   ],
   "source": [
    "id(list1)==id(list2)"
   ]
  },
  {
   "cell_type": "code",
   "execution_count": 85,
   "id": "2df937d4-bead-47c2-9c90-bc9bd24d8cf8",
   "metadata": {},
   "outputs": [
    {
     "data": {
      "text/plain": [
       "False"
      ]
     },
     "execution_count": 85,
     "metadata": {},
     "output_type": "execute_result"
    }
   ],
   "source": [
    "list1 is list2"
   ]
  },
  {
   "cell_type": "code",
   "execution_count": 86,
   "id": "d6f83e00-7f45-4196-8002-bff729463cd3",
   "metadata": {},
   "outputs": [],
   "source": [
    "##is condition depends on memory address\n"
   ]
  },
  {
   "cell_type": "code",
   "execution_count": 87,
   "id": "db2c66ce-9b04-4fc4-b45e-f8514fd64d24",
   "metadata": {},
   "outputs": [],
   "source": [
    "list2=list1"
   ]
  },
  {
   "cell_type": "code",
   "execution_count": 88,
   "id": "c5da26e8-3955-4747-89e9-a0d4e56205a3",
   "metadata": {},
   "outputs": [
    {
     "data": {
      "text/plain": [
       "True"
      ]
     },
     "execution_count": 88,
     "metadata": {},
     "output_type": "execute_result"
    }
   ],
   "source": [
    "list1 is list2"
   ]
  },
  {
   "cell_type": "code",
   "execution_count": 89,
   "id": "5a46e498-761a-4a54-9c84-13d1821140f8",
   "metadata": {},
   "outputs": [
    {
     "data": {
      "text/plain": [
       "140626089649984"
      ]
     },
     "execution_count": 89,
     "metadata": {},
     "output_type": "execute_result"
    }
   ],
   "source": [
    "id(list1)"
   ]
  },
  {
   "cell_type": "code",
   "execution_count": 90,
   "id": "20adede5-784d-4fc2-8ea5-bea6d4ec6f3a",
   "metadata": {},
   "outputs": [
    {
     "data": {
      "text/plain": [
       "140626089649984"
      ]
     },
     "execution_count": 90,
     "metadata": {},
     "output_type": "execute_result"
    }
   ],
   "source": [
    "id(list2)"
   ]
  },
  {
   "cell_type": "code",
   "execution_count": 91,
   "id": "84955f9a-3f0a-4d4a-8430-e955a35c921f",
   "metadata": {},
   "outputs": [
    {
     "data": {
      "text/plain": [
       "True"
      ]
     },
     "execution_count": 91,
     "metadata": {},
     "output_type": "execute_result"
    }
   ],
   "source": [
    "id(list1)==id(list2)"
   ]
  },
  {
   "cell_type": "code",
   "execution_count": 92,
   "id": "396978a2-dbe3-41b0-ac72-1d20c113c19e",
   "metadata": {},
   "outputs": [],
   "source": [
    "list1=[2,4,6,8]\n",
    "list2=[2,4,6,8]"
   ]
  },
  {
   "cell_type": "code",
   "execution_count": 93,
   "id": "d9719320-2c20-4914-92bf-de0761464930",
   "metadata": {},
   "outputs": [
    {
     "data": {
      "text/plain": [
       "False"
      ]
     },
     "execution_count": 93,
     "metadata": {},
     "output_type": "execute_result"
    }
   ],
   "source": [
    "list1 is list2"
   ]
  },
  {
   "cell_type": "code",
   "execution_count": 94,
   "id": "34901bd8-71bc-4b61-af54-fa2e6930664b",
   "metadata": {},
   "outputs": [
    {
     "data": {
      "text/plain": [
       "True"
      ]
     },
     "execution_count": 94,
     "metadata": {},
     "output_type": "execute_result"
    }
   ],
   "source": [
    "list1 is not list2"
   ]
  },
  {
   "cell_type": "code",
   "execution_count": 95,
   "id": "1290ee6c-641a-4f76-867d-b4d68d6460f1",
   "metadata": {},
   "outputs": [
    {
     "data": {
      "text/plain": [
       "True"
      ]
     },
     "execution_count": 95,
     "metadata": {},
     "output_type": "execute_result"
    }
   ],
   "source": [
    "list1==list2"
   ]
  },
  {
   "cell_type": "code",
   "execution_count": 96,
   "id": "2b7f2db6-b463-4e69-90d5-6379f2435f89",
   "metadata": {},
   "outputs": [
    {
     "data": {
      "text/plain": [
       "False"
      ]
     },
     "execution_count": 96,
     "metadata": {},
     "output_type": "execute_result"
    }
   ],
   "source": [
    "id(list1)==id(list2)"
   ]
  },
  {
   "cell_type": "code",
   "execution_count": 97,
   "id": "620c0351-a602-4657-a2d8-11a4426cd334",
   "metadata": {},
   "outputs": [],
   "source": [
    "a=2\n",
    "b=2\n",
    "\n"
   ]
  },
  {
   "cell_type": "code",
   "execution_count": 98,
   "id": "e875de2b-26f0-4ec2-a69b-0110976cbc62",
   "metadata": {},
   "outputs": [
    {
     "data": {
      "text/plain": [
       "True"
      ]
     },
     "execution_count": 98,
     "metadata": {},
     "output_type": "execute_result"
    }
   ],
   "source": [
    "a==b"
   ]
  },
  {
   "cell_type": "code",
   "execution_count": 99,
   "id": "8829d401-a65e-4fe6-a4d8-a786d2d7deb9",
   "metadata": {},
   "outputs": [
    {
     "data": {
      "text/plain": [
       "True"
      ]
     },
     "execution_count": 99,
     "metadata": {},
     "output_type": "execute_result"
    }
   ],
   "source": [
    "a is b"
   ]
  },
  {
   "cell_type": "code",
   "execution_count": 100,
   "id": "0a38b0e3-3c75-440a-af19-035f041ac7db",
   "metadata": {},
   "outputs": [],
   "source": [
    "str1=\"Vaibhav\"\n",
    "str2=\"Vaibhav\""
   ]
  },
  {
   "cell_type": "code",
   "execution_count": 101,
   "id": "f9019c53-adf1-44c7-bb6e-b0d005c007b3",
   "metadata": {},
   "outputs": [
    {
     "data": {
      "text/plain": [
       "True"
      ]
     },
     "execution_count": 101,
     "metadata": {},
     "output_type": "execute_result"
    }
   ],
   "source": [
    "str1 is str2"
   ]
  },
  {
   "cell_type": "code",
   "execution_count": 102,
   "id": "3f4384a7-c72b-4db9-ba8e-31370f78c2e3",
   "metadata": {},
   "outputs": [],
   "source": [
    "##That is for sequene datatype even if elements are same the id is different\n",
    "##But for int or str datatype if values are same then id will be same for that variables"
   ]
  },
  {
   "cell_type": "code",
   "execution_count": 103,
   "id": "8283e282-ac20-4290-a384-17e72d051abe",
   "metadata": {},
   "outputs": [],
   "source": [
    "list1=[1,2,3,4]"
   ]
  },
  {
   "cell_type": "code",
   "execution_count": 104,
   "id": "9f89e522-95c1-4e0b-b963-a6e9740fbfce",
   "metadata": {},
   "outputs": [
    {
     "data": {
      "text/plain": [
       "[1, 2, 3, 4]"
      ]
     },
     "execution_count": 104,
     "metadata": {},
     "output_type": "execute_result"
    }
   ],
   "source": [
    "list1"
   ]
  },
  {
   "cell_type": "code",
   "execution_count": 105,
   "id": "dafa5300-8e17-484a-84a8-fd60f95db42f",
   "metadata": {},
   "outputs": [
    {
     "data": {
      "text/plain": [
       "1"
      ]
     },
     "execution_count": 105,
     "metadata": {},
     "output_type": "execute_result"
    }
   ],
   "source": [
    "list1[0]"
   ]
  },
  {
   "cell_type": "code",
   "execution_count": 106,
   "id": "0ba65879-e0e3-4bf1-a6a6-a80f6690e7ae",
   "metadata": {},
   "outputs": [],
   "source": [
    "list1[0]=10"
   ]
  },
  {
   "cell_type": "code",
   "execution_count": 107,
   "id": "55268b85-4ad3-41cf-8a23-415bd79f488b",
   "metadata": {},
   "outputs": [
    {
     "data": {
      "text/plain": [
       "[10, 2, 3, 4]"
      ]
     },
     "execution_count": 107,
     "metadata": {},
     "output_type": "execute_result"
    }
   ],
   "source": [
    "list1"
   ]
  },
  {
   "cell_type": "code",
   "execution_count": 108,
   "id": "e6633a72-f575-4681-8973-204a918d9841",
   "metadata": {},
   "outputs": [],
   "source": [
    "str1=\"Vaibhav\""
   ]
  },
  {
   "cell_type": "code",
   "execution_count": 109,
   "id": "c7fc6a95-deac-46a8-b871-af7dbf3f0546",
   "metadata": {},
   "outputs": [
    {
     "data": {
      "text/plain": [
       "'V'"
      ]
     },
     "execution_count": 109,
     "metadata": {},
     "output_type": "execute_result"
    }
   ],
   "source": [
    "str1[0]"
   ]
  },
  {
   "cell_type": "code",
   "execution_count": 110,
   "id": "7d8421e8-34e4-4aaf-b67c-27c416e454d7",
   "metadata": {},
   "outputs": [
    {
     "ename": "TypeError",
     "evalue": "'str' object does not support item assignment",
     "output_type": "error",
     "traceback": [
      "\u001b[0;31m---------------------------------------------------------------------------\u001b[0m",
      "\u001b[0;31mTypeError\u001b[0m                                 Traceback (most recent call last)",
      "Cell \u001b[0;32mIn[110], line 1\u001b[0m\n\u001b[0;32m----> 1\u001b[0m \u001b[43mstr1\u001b[49m\u001b[43m[\u001b[49m\u001b[38;5;241;43m0\u001b[39;49m\u001b[43m]\u001b[49m\u001b[38;5;241m=\u001b[39m\u001b[38;5;124m'\u001b[39m\u001b[38;5;124mS\u001b[39m\u001b[38;5;124m'\u001b[39m\n",
      "\u001b[0;31mTypeError\u001b[0m: 'str' object does not support item assignment"
     ]
    }
   ],
   "source": [
    "str1[0]='S'"
   ]
  },
  {
   "cell_type": "code",
   "execution_count": 111,
   "id": "3570fa63-a6f4-4210-b598-2519a7851b08",
   "metadata": {},
   "outputs": [],
   "source": [
    "##That is string datatype is immutable that is once string is defined we can change whole string but not characters \n",
    "##that is we cannot manipulate string\n",
    "##While list are mutable we can change values by accessing index position that is manipulate string"
   ]
  },
  {
   "cell_type": "code",
   "execution_count": 112,
   "id": "c01ab550-8734-4621-8ec0-24cead74ebca",
   "metadata": {},
   "outputs": [],
   "source": [
    "a=1001"
   ]
  },
  {
   "cell_type": "code",
   "execution_count": 113,
   "id": "ef58832f-a856-418e-9b8e-262b4f9a93ab",
   "metadata": {},
   "outputs": [
    {
     "data": {
      "text/plain": [
       "1001"
      ]
     },
     "execution_count": 113,
     "metadata": {},
     "output_type": "execute_result"
    }
   ],
   "source": [
    "a"
   ]
  },
  {
   "cell_type": "code",
   "execution_count": 114,
   "id": "2d257310-aaa0-4181-b3d2-088e8f844337",
   "metadata": {},
   "outputs": [
    {
     "ename": "TypeError",
     "evalue": "'int' object is not subscriptable",
     "output_type": "error",
     "traceback": [
      "\u001b[0;31m---------------------------------------------------------------------------\u001b[0m",
      "\u001b[0;31mTypeError\u001b[0m                                 Traceback (most recent call last)",
      "Cell \u001b[0;32mIn[114], line 1\u001b[0m\n\u001b[0;32m----> 1\u001b[0m \u001b[43ma\u001b[49m\u001b[43m[\u001b[49m\u001b[38;5;241;43m0\u001b[39;49m\u001b[43m]\u001b[49m\n",
      "\u001b[0;31mTypeError\u001b[0m: 'int' object is not subscriptable"
     ]
    }
   ],
   "source": [
    "a[0]"
   ]
  },
  {
   "cell_type": "code",
   "execution_count": 116,
   "id": "7c290bc9-aa8c-43c2-9d9e-f3c743f89d2f",
   "metadata": {},
   "outputs": [],
   "source": [
    "#we cannot access int based on index or by parts like string and list"
   ]
  },
  {
   "cell_type": "code",
   "execution_count": 117,
   "id": "163c9bb9-3c85-4396-b215-96a31a0a66e3",
   "metadata": {},
   "outputs": [],
   "source": [
    "##Comparision Operations "
   ]
  },
  {
   "cell_type": "code",
   "execution_count": 118,
   "id": "af4ecade-9c5f-4d91-a339-9ee02d7cf33b",
   "metadata": {},
   "outputs": [
    {
     "name": "stdout",
     "output_type": "stream",
     "text": [
      "You have BIKE: True\n",
      "You have CAR: True\n",
      "You can travel 100 KMs: True\n"
     ]
    }
   ],
   "source": [
    "BIKE = True\n",
    "CAR = True\n",
    "TRAVEL_100_KM = BIKE or CAR\n",
    "\n",
    "print(f\"You have BIKE: {BIKE}\")\n",
    "print(f\"You have CAR: {CAR}\")\n",
    "print(f\"You can travel 100 KMs: {TRAVEL_100_KM}\")"
   ]
  },
  {
   "cell_type": "code",
   "execution_count": 119,
   "id": "95a7eedb-83ba-41a0-9cfd-8ff49006ae29",
   "metadata": {},
   "outputs": [
    {
     "name": "stdout",
     "output_type": "stream",
     "text": [
      "You have BIKE: True\n",
      "You have CAR: False\n",
      "You can travel 100 KMs: True\n"
     ]
    }
   ],
   "source": [
    "BIKE = True\n",
    "CAR = False\n",
    "TRAVEL_100_KM = BIKE or CAR\n",
    "\n",
    "print(f\"You have BIKE: {BIKE}\")\n",
    "print(f\"You have CAR: {CAR}\")\n",
    "print(f\"You can travel 100 KMs: {TRAVEL_100_KM}\")\n"
   ]
  },
  {
   "cell_type": "code",
   "execution_count": 120,
   "id": "60c20994-9736-4a59-aa76-38723e2bf9e6",
   "metadata": {},
   "outputs": [
    {
     "name": "stdout",
     "output_type": "stream",
     "text": [
      "You have BIKE: False\n",
      "You have CAR: True\n",
      "You can travel 100 KMs: True\n"
     ]
    }
   ],
   "source": [
    "BIKE = False\n",
    "CAR = True\n",
    "TRAVEL_100_KM = BIKE or CAR\n",
    "\n",
    "print(f\"You have BIKE: {BIKE}\")\n",
    "print(f\"You have CAR: {CAR}\")\n",
    "print(f\"You can travel 100 KMs: {TRAVEL_100_KM}\")"
   ]
  },
  {
   "cell_type": "code",
   "execution_count": 121,
   "id": "337c8b6f-3dd3-4604-a7ce-43457c405e42",
   "metadata": {},
   "outputs": [
    {
     "name": "stdout",
     "output_type": "stream",
     "text": [
      "You have BIKE: False\n",
      "You have CAR: False\n",
      "You can travel 100 KMs: False\n"
     ]
    }
   ],
   "source": [
    "BIKE = False\n",
    "CAR = False\n",
    "TRAVEL_100_KM = BIKE or CAR\n",
    "\n",
    "print(f\"You have BIKE: {BIKE}\")\n",
    "print(f\"You have CAR: {CAR}\")\n",
    "print(f\"You can travel 100 KMs: {TRAVEL_100_KM}\")"
   ]
  },
  {
   "cell_type": "code",
   "execution_count": 122,
   "id": "d2118346-2c5e-4afa-a9db-e5b57fca2c03",
   "metadata": {},
   "outputs": [
    {
     "name": "stdout",
     "output_type": "stream",
     "text": [
      "id of list_a = 140626090253696\n",
      "id of list_b = 140626170694016\n",
      "list_a is list_b = False\n",
      "list_a == list_b = True\n"
     ]
    }
   ],
   "source": [
    "list_a = [1,2,3]\n",
    "list_b = [1,2,3]\n",
    "\n",
    "print(f\"id of list_a = {id(list_a)}\")\n",
    "print(f\"id of list_b = {id(list_b)}\")\n",
    "print(f\"list_a is list_b = {list_a is list_b}\")\n",
    "print(f\"list_a == list_b = {list_a == list_b}\")"
   ]
  },
  {
   "cell_type": "code",
   "execution_count": 123,
   "id": "a1c2f468-f28e-454a-b56e-2185d2557ce0",
   "metadata": {},
   "outputs": [
    {
     "name": "stdout",
     "output_type": "stream",
     "text": [
      "id of list_a = 140626090253696\n",
      "id of list_c = 140626090253696\n",
      "list_a is list_c = True\n",
      "list_a == list_c = True\n"
     ]
    }
   ],
   "source": [
    "list_c = list_a\n",
    "\n",
    "print(f\"id of list_a = {id(list_a)}\")\n",
    "print(f\"id of list_c = {id(list_c)}\")\n",
    "print(f\"list_a is list_c = {list_a is list_c}\")\n",
    "print(f\"list_a == list_c = {list_a == list_c}\")"
   ]
  },
  {
   "cell_type": "code",
   "execution_count": 124,
   "id": "94cd1bf7-c46d-45a9-b228-88b67914df98",
   "metadata": {},
   "outputs": [
    {
     "name": "stdout",
     "output_type": "stream",
     "text": [
      "list_d is not list_e = True\n"
     ]
    }
   ],
   "source": [
    "list_d = [1,2,3]\n",
    "list_e = [3,4]\n",
    "\n",
    "print(f\"list_d is not list_e = {list_d is not list_e}\")"
   ]
  },
  {
   "cell_type": "code",
   "execution_count": 125,
   "id": "0e75b2b4-1381-42f3-8e34-4ede1b37781c",
   "metadata": {},
   "outputs": [
    {
     "name": "stdout",
     "output_type": "stream",
     "text": [
      "list_d == list_e = False\n"
     ]
    }
   ],
   "source": [
    "list_d = [1,2,3]\n",
    "list_e = [3,4]\n",
    "\n",
    "print(f\"list_d == list_e = {list_d == list_e}\")"
   ]
  },
  {
   "cell_type": "code",
   "execution_count": 126,
   "id": "9745f8f7-8ff8-486a-a8eb-49995b414306",
   "metadata": {},
   "outputs": [
    {
     "name": "stdout",
     "output_type": "stream",
     "text": [
      "list_d == list_e = True\n"
     ]
    }
   ],
   "source": [
    "list_d = [1,2,3]\n",
    "list_e = [3,4]\n",
    "\n",
    "print(f\"list_d == list_e = {list_d != list_e}\")"
   ]
  },
  {
   "cell_type": "code",
   "execution_count": 127,
   "id": "ab504b35-c072-41ef-885c-cbca2de40c2d",
   "metadata": {},
   "outputs": [
    {
     "name": "stdout",
     "output_type": "stream",
     "text": [
      "bike is faster than car: False\n"
     ]
    }
   ],
   "source": [
    "maxium_speed_of_bike = 150\n",
    "max_speed_of_car = 200\n",
    "\n",
    "print(f\"bike is faster than car: {maxium_speed_of_bike > max_speed_of_car}\")"
   ]
  },
  {
   "cell_type": "code",
   "execution_count": 128,
   "id": "f632df9c-eb30-497e-b369-bd5d509f0511",
   "metadata": {},
   "outputs": [
    {
     "name": "stdout",
     "output_type": "stream",
     "text": [
      "bike is slower than car: True\n"
     ]
    }
   ],
   "source": [
    "print(f\"bike is slower than car: {maxium_speed_of_bike < max_speed_of_car}\")"
   ]
  },
  {
   "cell_type": "code",
   "execution_count": 130,
   "id": "c3bbd201-32a9-4e39-8782-bbd3618c1682",
   "metadata": {},
   "outputs": [
    {
     "name": "stdout",
     "output_type": "stream",
     "text": [
      "bike is slower than car: True\n"
     ]
    }
   ],
   "source": [
    "print(f\"bike is slower than car: {maxium_speed_of_bike <= max_speed_of_car}\")"
   ]
  },
  {
   "cell_type": "code",
   "execution_count": 131,
   "id": "b8039359-c036-4894-b0df-b79191109a7e",
   "metadata": {},
   "outputs": [
    {
     "name": "stdout",
     "output_type": "stream",
     "text": [
      "bike is faster than car: False\n"
     ]
    }
   ],
   "source": [
    "maxium_speed_of_bike = 200\n",
    "max_speed_of_car = 200\n",
    "\n",
    "print(f\"bike is faster than car: {maxium_speed_of_bike > max_speed_of_car}\")"
   ]
  },
  {
   "cell_type": "code",
   "execution_count": 132,
   "id": "8bb005fc-6e86-41e1-810d-0420cb0e3fc5",
   "metadata": {},
   "outputs": [
    {
     "name": "stdout",
     "output_type": "stream",
     "text": [
      "bike is faster than car: True\n"
     ]
    }
   ],
   "source": [
    "maxium_speed_of_bike = 200\n",
    "max_speed_of_car = 200\n",
    "\n",
    "print(f\"bike is faster than car: {maxium_speed_of_bike >= max_speed_of_car}\")"
   ]
  },
  {
   "cell_type": "code",
   "execution_count": 134,
   "id": "38f7c32e-54e6-44c5-b924-306871578d08",
   "metadata": {},
   "outputs": [
    {
     "name": "stdout",
     "output_type": "stream",
     "text": [
      "today's temperature is less than or equal to yesterday's: True\n"
     ]
    }
   ],
   "source": [
    "temp_today = 25\n",
    "temp_yesterday = 27\n",
    "predicted_temp_nextDay = 27\n",
    "\n",
    "print(f\"today's temperature is less than or equal to yesterday's: {temp_today <= temp_yesterday}\")"
   ]
  },
  {
   "cell_type": "markdown",
   "id": "6b6fed44-b4a3-4ebc-b053-72a59b56045d",
   "metadata": {},
   "source": [
    "print(f\"tomorrow's temperature is expected to be same or more as of today: {predicted_temp_nextDay >= temp_today}\")\n"
   ]
  },
  {
   "cell_type": "markdown",
   "id": "d75e400e-e786-41c3-9f94-24839e348101",
   "metadata": {},
   "source": [
    "##ARITHMETIC OPERATIONS\n",
    "|Operation|Meaning|\n",
    "|:-:|:-:|\n",
    "| **+** |addition|\n",
    "| **-** |subtraction|\n",
    "| **\\*** |multiplication|\n",
    "| **/** |true division|\n",
    "| **//** |integer division|\n",
    "| **%** |the modulo operator|"
   ]
  },
  {
   "cell_type": "code",
   "execution_count": 1,
   "id": "bbbc7599-86e3-4653-9a42-4f31a9f22099",
   "metadata": {},
   "outputs": [
    {
     "data": {
      "text/plain": [
       "0.24752475247524752"
      ]
     },
     "execution_count": 1,
     "metadata": {},
     "output_type": "execute_result"
    }
   ],
   "source": [
    "a=25\n",
    "b=101\n",
    "a/b"
   ]
  },
  {
   "cell_type": "code",
   "execution_count": 2,
   "id": "057802b2-5f79-4bf2-9e5a-54f52b72dc59",
   "metadata": {},
   "outputs": [
    {
     "data": {
      "text/plain": [
       "4"
      ]
     },
     "execution_count": 2,
     "metadata": {},
     "output_type": "execute_result"
    }
   ],
   "source": [
    "b//a"
   ]
  },
  {
   "cell_type": "code",
   "execution_count": 4,
   "id": "7380732b-2876-41ee-bf77-9e5f3f7455b1",
   "metadata": {},
   "outputs": [
    {
     "data": {
      "text/plain": [
       "4.04"
      ]
     },
     "execution_count": 4,
     "metadata": {},
     "output_type": "execute_result"
    }
   ],
   "source": [
    "b/a"
   ]
  },
  {
   "cell_type": "code",
   "execution_count": 5,
   "id": "707305d0-0773-4ff8-a6bf-23250413d723",
   "metadata": {},
   "outputs": [
    {
     "data": {
      "text/plain": [
       "4"
      ]
     },
     "execution_count": 5,
     "metadata": {},
     "output_type": "execute_result"
    }
   ],
   "source": [
    "b//a"
   ]
  },
  {
   "cell_type": "code",
   "execution_count": 6,
   "id": "7da01fb2-8202-48cd-9291-a01154a0e0f8",
   "metadata": {},
   "outputs": [
    {
     "data": {
      "text/plain": [
       "0.24752475247524752"
      ]
     },
     "execution_count": 6,
     "metadata": {},
     "output_type": "execute_result"
    }
   ],
   "source": [
    "a/b"
   ]
  },
  {
   "cell_type": "code",
   "execution_count": 7,
   "id": "7713b465-b216-4a92-be2c-b1a490b78bc1",
   "metadata": {},
   "outputs": [
    {
     "data": {
      "text/plain": [
       "0"
      ]
     },
     "execution_count": 7,
     "metadata": {},
     "output_type": "execute_result"
    }
   ],
   "source": [
    "a//b"
   ]
  },
  {
   "cell_type": "code",
   "execution_count": 8,
   "id": "58341c57-4b60-444f-ae97-4e923e4fc534",
   "metadata": {},
   "outputs": [
    {
     "data": {
      "text/plain": [
       "2525"
      ]
     },
     "execution_count": 8,
     "metadata": {},
     "output_type": "execute_result"
    }
   ],
   "source": [
    "b*a"
   ]
  },
  {
   "cell_type": "code",
   "execution_count": 9,
   "id": "6990d0bc-e694-4d8a-b601-20265d2f064c",
   "metadata": {},
   "outputs": [
    {
     "data": {
      "text/plain": [
       "126"
      ]
     },
     "execution_count": 9,
     "metadata": {},
     "output_type": "execute_result"
    }
   ],
   "source": [
    "b+a"
   ]
  },
  {
   "cell_type": "code",
   "execution_count": 10,
   "id": "8e40bced-415c-414e-aee9-55481777263a",
   "metadata": {},
   "outputs": [
    {
     "data": {
      "text/plain": [
       "-76"
      ]
     },
     "execution_count": 10,
     "metadata": {},
     "output_type": "execute_result"
    }
   ],
   "source": [
    "a-b"
   ]
  },
  {
   "cell_type": "code",
   "execution_count": 11,
   "id": "74d3d2d6-8212-42af-8d54-08778deadb71",
   "metadata": {},
   "outputs": [
    {
     "data": {
      "text/plain": [
       "76"
      ]
     },
     "execution_count": 11,
     "metadata": {},
     "output_type": "execute_result"
    }
   ],
   "source": [
    "b-a"
   ]
  },
  {
   "cell_type": "code",
   "execution_count": 12,
   "id": "9bae0d51-7975-4cc8-ac36-c115ded7d6a0",
   "metadata": {},
   "outputs": [
    {
     "data": {
      "text/plain": [
       "4.04"
      ]
     },
     "execution_count": 12,
     "metadata": {},
     "output_type": "execute_result"
    }
   ],
   "source": [
    "b/a"
   ]
  },
  {
   "cell_type": "code",
   "execution_count": 13,
   "id": "851a2c0f-3bf1-4887-9a76-6fcae147beb1",
   "metadata": {},
   "outputs": [
    {
     "data": {
      "text/plain": [
       "0.24752475247524752"
      ]
     },
     "execution_count": 13,
     "metadata": {},
     "output_type": "execute_result"
    }
   ],
   "source": [
    "a/b"
   ]
  },
  {
   "cell_type": "code",
   "execution_count": 14,
   "id": "0663900a-e65c-4121-b537-2fa925aa484d",
   "metadata": {},
   "outputs": [
    {
     "data": {
      "text/plain": [
       "0"
      ]
     },
     "execution_count": 14,
     "metadata": {},
     "output_type": "execute_result"
    }
   ],
   "source": [
    "a//b"
   ]
  },
  {
   "cell_type": "code",
   "execution_count": 15,
   "id": "1166f568-ab2f-4273-88cb-e6e968e89333",
   "metadata": {},
   "outputs": [
    {
     "data": {
      "text/plain": [
       "4"
      ]
     },
     "execution_count": 15,
     "metadata": {},
     "output_type": "execute_result"
    }
   ],
   "source": [
    "b//a"
   ]
  },
  {
   "cell_type": "markdown",
   "id": "1148cbcd-4ad0-4a54-a584-d46a883e0365",
   "metadata": {},
   "source": [
    "11/3 "
   ]
  },
  {
   "cell_type": "code",
   "execution_count": 16,
   "id": "3a5aabc0-ac8a-4a7f-a03b-6d3b6ac7e6c5",
   "metadata": {},
   "outputs": [
    {
     "data": {
      "text/plain": [
       "3.6666666666666665"
      ]
     },
     "execution_count": 16,
     "metadata": {},
     "output_type": "execute_result"
    }
   ],
   "source": [
    "11/3"
   ]
  },
  {
   "cell_type": "code",
   "execution_count": 17,
   "id": "619c2903-6885-4cbe-84a9-94653fa1386f",
   "metadata": {},
   "outputs": [
    {
     "data": {
      "text/plain": [
       "3"
      ]
     },
     "execution_count": 17,
     "metadata": {},
     "output_type": "execute_result"
    }
   ],
   "source": [
    "11//3"
   ]
  },
  {
   "cell_type": "code",
   "execution_count": 18,
   "id": "2a4f17fd-c391-4ee0-b061-6927143df033",
   "metadata": {},
   "outputs": [
    {
     "data": {
      "text/plain": [
       "3"
      ]
     },
     "execution_count": 18,
     "metadata": {},
     "output_type": "execute_result"
    }
   ],
   "source": [
    "11%4"
   ]
  },
  {
   "cell_type": "code",
   "execution_count": 19,
   "id": "b8c548e5-8602-40d4-b8ef-f6b99dbfc208",
   "metadata": {},
   "outputs": [
    {
     "data": {
      "text/plain": [
       "1"
      ]
     },
     "execution_count": 19,
     "metadata": {},
     "output_type": "execute_result"
    }
   ],
   "source": [
    "26%5"
   ]
  },
  {
   "cell_type": "code",
   "execution_count": 20,
   "id": "ae7326bd-361b-462a-af75-173bf4c4ed50",
   "metadata": {},
   "outputs": [
    {
     "data": {
      "text/plain": [
       "4"
      ]
     },
     "execution_count": 20,
     "metadata": {},
     "output_type": "execute_result"
    }
   ],
   "source": [
    "31%9"
   ]
  },
  {
   "cell_type": "code",
   "execution_count": 1,
   "id": "12498c00-05fe-4949-8b45-5cb0565e63ab",
   "metadata": {},
   "outputs": [
    {
     "name": "stdout",
     "output_type": "stream",
     "text": [
      "integer division:\n",
      "25/5=5\n"
     ]
    }
   ],
   "source": [
    "var_a = 5\n",
    "var_b = 25\n",
    "integer_division = var_b // var_a\n",
    "print(f\"integer division:\\n{var_b}/{var_a}={integer_division}\")"
   ]
  },
  {
   "cell_type": "code",
   "execution_count": 2,
   "id": "907a70b1-689a-4cea-9c22-2778e85743b4",
   "metadata": {},
   "outputs": [
    {
     "name": "stdout",
     "output_type": "stream",
     "text": [
      "integer division:\n",
      "25/3=8\n"
     ]
    }
   ],
   "source": [
    "var_a = 3\n",
    "var_b = 25\n",
    "integer_division = var_b // var_a\n",
    "print(f\"integer division:\\n{var_b}/{var_a}={integer_division}\")"
   ]
  },
  {
   "cell_type": "code",
   "execution_count": 3,
   "id": "7d2b1ebb-adcc-4d1d-a5ac-516c9e0c7a09",
   "metadata": {},
   "outputs": [
    {
     "name": "stdout",
     "output_type": "stream",
     "text": [
      "remainder:\n",
      "25/5 is 0\n"
     ]
    }
   ],
   "source": [
    "var_a = 5\n",
    "var_b = 25\n",
    "remainder = var_b % var_a\n",
    "print(f\"remainder:\\n{var_b}/{var_a} is {remainder}\")"
   ]
  },
  {
   "cell_type": "code",
   "execution_count": 4,
   "id": "cf8aa523-a639-4e86-abe1-4785c219d4b7",
   "metadata": {},
   "outputs": [
    {
     "name": "stdout",
     "output_type": "stream",
     "text": [
      "remainder:\n",
      "25/3 is 1\n"
     ]
    }
   ],
   "source": [
    "var_a = 3\n",
    "var_b = 25\n",
    "remainder = var_b % var_a\n",
    "print(f\"remainder:\\n{var_b}/{var_a} is {remainder}\")"
   ]
  },
  {
   "cell_type": "markdown",
   "id": "9daf4d8d-bc22-46c9-84d2-afa1ab8706cc",
   "metadata": {},
   "source": [
    "###BITWISE OPERATOR\n",
    "|Operation|Meaning|\n",
    "|:-:|:-:|\n",
    "| **∼** |bitwise complement (prefix unary operator)|\n",
    "| **&** |bitwise and|\n",
    "| **\\|** |bitwise or|\n",
    "| **^** |bitwise exclusive-or|\n",
    "| **<<** |shift bits left, filling in with zeros|\n",
    "| **>>** |shift bits right, filling in with sign bit|\n"
   ]
  },
  {
   "cell_type": "code",
   "execution_count": 9,
   "id": "901336d9-0fd8-4c4b-9a89-d82b43c0cd6a",
   "metadata": {},
   "outputs": [
    {
     "data": {
      "text/plain": [
       "'0b10'"
      ]
     },
     "execution_count": 9,
     "metadata": {},
     "output_type": "execute_result"
    }
   ],
   "source": [
    "bin(2)"
   ]
  },
  {
   "cell_type": "code",
   "execution_count": 10,
   "id": "f647113e-16e5-4255-86dc-275a2000d6d6",
   "metadata": {},
   "outputs": [
    {
     "data": {
      "text/plain": [
       "'0b101'"
      ]
     },
     "execution_count": 10,
     "metadata": {},
     "output_type": "execute_result"
    }
   ],
   "source": [
    "bin(5)"
   ]
  },
  {
   "cell_type": "code",
   "execution_count": 11,
   "id": "98b78ae2-90c7-4595-8bd5-384e1f714d3e",
   "metadata": {},
   "outputs": [
    {
     "data": {
      "text/plain": [
       "'0b1000'"
      ]
     },
     "execution_count": 11,
     "metadata": {},
     "output_type": "execute_result"
    }
   ],
   "source": [
    "bin(8)"
   ]
  },
  {
   "cell_type": "code",
   "execution_count": 12,
   "id": "cab97c64-4f45-4934-a5ee-7e9c0e3c6095",
   "metadata": {},
   "outputs": [
    {
     "data": {
      "text/plain": [
       "'0b1111'"
      ]
     },
     "execution_count": 12,
     "metadata": {},
     "output_type": "execute_result"
    }
   ],
   "source": [
    "bin(15)"
   ]
  },
  {
   "cell_type": "code",
   "execution_count": 13,
   "id": "abde1812-9e57-4814-9de3-6c508c97d190",
   "metadata": {},
   "outputs": [
    {
     "data": {
      "text/plain": [
       "'0b11111'"
      ]
     },
     "execution_count": 13,
     "metadata": {},
     "output_type": "execute_result"
    }
   ],
   "source": [
    "bin(31)"
   ]
  },
  {
   "cell_type": "code",
   "execution_count": 14,
   "id": "ddd53591-c9f9-485e-a3f4-6651584fbffc",
   "metadata": {},
   "outputs": [
    {
     "data": {
      "text/plain": [
       "-3"
      ]
     },
     "execution_count": 14,
     "metadata": {},
     "output_type": "execute_result"
    }
   ],
   "source": [
    "~2"
   ]
  },
  {
   "cell_type": "code",
   "execution_count": 15,
   "id": "c08f75bc-5b6d-4e89-9010-081e5a63a0fb",
   "metadata": {},
   "outputs": [
    {
     "data": {
      "text/plain": [
       "-11"
      ]
     },
     "execution_count": 15,
     "metadata": {},
     "output_type": "execute_result"
    }
   ],
   "source": [
    "~10\n"
   ]
  },
  {
   "cell_type": "code",
   "execution_count": 17,
   "id": "142f74db-9f85-40fa-8839-84b4e5516e31",
   "metadata": {},
   "outputs": [
    {
     "data": {
      "text/plain": [
       "'0b101'"
      ]
     },
     "execution_count": 17,
     "metadata": {},
     "output_type": "execute_result"
    }
   ],
   "source": [
    "bin(5)"
   ]
  },
  {
   "cell_type": "code",
   "execution_count": 19,
   "id": "941b14d2-f729-4778-8d8d-e76afda597cc",
   "metadata": {},
   "outputs": [
    {
     "data": {
      "text/plain": [
       "-6"
      ]
     },
     "execution_count": 19,
     "metadata": {},
     "output_type": "execute_result"
    }
   ],
   "source": [
    "~5"
   ]
  },
  {
   "cell_type": "code",
   "execution_count": 20,
   "id": "a9880b35-f090-4f83-a676-a7c591680171",
   "metadata": {},
   "outputs": [],
   "source": [
    "#101-> 0101 -> 1010 + 1 -> 1011"
   ]
  },
  {
   "cell_type": "code",
   "execution_count": 21,
   "id": "72d9f26a-624b-4b25-9a64-20199fc687ae",
   "metadata": {},
   "outputs": [
    {
     "data": {
      "text/plain": [
       "'0b1000'"
      ]
     },
     "execution_count": 21,
     "metadata": {},
     "output_type": "execute_result"
    }
   ],
   "source": [
    "bin(8)"
   ]
  },
  {
   "cell_type": "code",
   "execution_count": 22,
   "id": "99b237d8-1865-4a47-bd29-159c8b03f673",
   "metadata": {},
   "outputs": [],
   "source": [
    "#1000-> 0111 + 1 -> 0 -> 9 ->-9"
   ]
  },
  {
   "cell_type": "code",
   "execution_count": 23,
   "id": "2d89ee61-d363-456e-bb91-c79137eb6968",
   "metadata": {},
   "outputs": [
    {
     "data": {
      "text/plain": [
       "-9"
      ]
     },
     "execution_count": 23,
     "metadata": {},
     "output_type": "execute_result"
    }
   ],
   "source": [
    "~8"
   ]
  },
  {
   "cell_type": "code",
   "execution_count": 24,
   "id": "9369a8e2-619c-408e-aa7a-c1b83562f72a",
   "metadata": {},
   "outputs": [
    {
     "data": {
      "text/plain": [
       "'0b1010'"
      ]
     },
     "execution_count": 24,
     "metadata": {},
     "output_type": "execute_result"
    }
   ],
   "source": [
    "bin(10)"
   ]
  },
  {
   "cell_type": "code",
   "execution_count": 25,
   "id": "268a48e5-1cce-436a-a5ca-533f24ea86db",
   "metadata": {},
   "outputs": [],
   "source": [
    "#bin(10)->0101+1->0110->0110"
   ]
  },
  {
   "cell_type": "code",
   "execution_count": 26,
   "id": "b68996c3-6cb2-40f8-b46a-52b0fcfef3f8",
   "metadata": {},
   "outputs": [
    {
     "data": {
      "text/plain": [
       "False"
      ]
     },
     "execution_count": 26,
     "metadata": {},
     "output_type": "execute_result"
    }
   ],
   "source": [
    "True and False"
   ]
  },
  {
   "cell_type": "code",
   "execution_count": 27,
   "id": "9f21569f-e461-466f-9a30-8b0fc5429654",
   "metadata": {},
   "outputs": [
    {
     "data": {
      "text/plain": [
       "True"
      ]
     },
     "execution_count": 27,
     "metadata": {},
     "output_type": "execute_result"
    }
   ],
   "source": [
    "True & True"
   ]
  },
  {
   "cell_type": "code",
   "execution_count": 28,
   "id": "0f8149ec-58e7-43e2-9a93-52ad72976ff9",
   "metadata": {},
   "outputs": [
    {
     "data": {
      "text/plain": [
       "False"
      ]
     },
     "execution_count": 28,
     "metadata": {},
     "output_type": "execute_result"
    }
   ],
   "source": [
    "True & False"
   ]
  },
  {
   "cell_type": "code",
   "execution_count": 29,
   "id": "c5e51c22-d94b-45ed-b4bf-fc115326ca4c",
   "metadata": {},
   "outputs": [
    {
     "data": {
      "text/plain": [
       "True"
      ]
     },
     "execution_count": 29,
     "metadata": {},
     "output_type": "execute_result"
    }
   ],
   "source": [
    "True | False"
   ]
  },
  {
   "cell_type": "code",
   "execution_count": 30,
   "id": "6e8390af-6d8e-421b-b27b-913b47074b0c",
   "metadata": {},
   "outputs": [
    {
     "data": {
      "text/plain": [
       "False"
      ]
     },
     "execution_count": 30,
     "metadata": {},
     "output_type": "execute_result"
    }
   ],
   "source": [
    "False & False"
   ]
  },
  {
   "cell_type": "code",
   "execution_count": 33,
   "id": "cc3d2266-4dde-45f6-addb-a86dfb344ce4",
   "metadata": {},
   "outputs": [
    {
     "data": {
      "text/plain": [
       "5"
      ]
     },
     "execution_count": 33,
     "metadata": {},
     "output_type": "execute_result"
    }
   ],
   "source": [
    "10>>1"
   ]
  },
  {
   "cell_type": "code",
   "execution_count": 34,
   "id": "9da45f6b-5a63-459b-96d7-4063f7d76dff",
   "metadata": {},
   "outputs": [
    {
     "data": {
      "text/plain": [
       "'0b1010'"
      ]
     },
     "execution_count": 34,
     "metadata": {},
     "output_type": "execute_result"
    }
   ],
   "source": [
    "bin(10)"
   ]
  },
  {
   "cell_type": "code",
   "execution_count": 35,
   "id": "57282fa3-7c8b-4650-8fdf-401ce281770d",
   "metadata": {},
   "outputs": [],
   "source": [
    "#0000 1010->right shift ->0101 -> 5"
   ]
  },
  {
   "cell_type": "code",
   "execution_count": 36,
   "id": "de0c697c-61aa-4717-bb32-45d5b36a2fc1",
   "metadata": {},
   "outputs": [
    {
     "data": {
      "text/plain": [
       "20"
      ]
     },
     "execution_count": 36,
     "metadata": {},
     "output_type": "execute_result"
    }
   ],
   "source": [
    "10<<1"
   ]
  },
  {
   "cell_type": "code",
   "execution_count": 37,
   "id": "1f2c8b42-54f1-4227-b70a-9ecd19259200",
   "metadata": {},
   "outputs": [],
   "source": [
    "#0000 1010->left shift -> 0001 0100 -> 20"
   ]
  },
  {
   "cell_type": "code",
   "execution_count": 38,
   "id": "23cf237f-a22a-4d70-8af1-edda2c0c1dd7",
   "metadata": {},
   "outputs": [
    {
     "data": {
      "text/plain": [
       "1"
      ]
     },
     "execution_count": 38,
     "metadata": {},
     "output_type": "execute_result"
    }
   ],
   "source": [
    "5 ^ 4"
   ]
  },
  {
   "cell_type": "code",
   "execution_count": 39,
   "id": "11e86525-788d-4847-b862-5e8b97116f5c",
   "metadata": {},
   "outputs": [
    {
     "data": {
      "text/plain": [
       "'0b101'"
      ]
     },
     "execution_count": 39,
     "metadata": {},
     "output_type": "execute_result"
    }
   ],
   "source": [
    "bin(5)"
   ]
  },
  {
   "cell_type": "code",
   "execution_count": 40,
   "id": "36340aca-9316-47e5-b770-de8cad1a6bb3",
   "metadata": {},
   "outputs": [
    {
     "data": {
      "text/plain": [
       "'0b100'"
      ]
     },
     "execution_count": 40,
     "metadata": {},
     "output_type": "execute_result"
    }
   ],
   "source": [
    "bin(4)"
   ]
  },
  {
   "cell_type": "markdown",
   "id": "4e812910-bf14-4480-9442-c1be90cae52d",
   "metadata": {},
   "source": [
    "###BITWISE COMPLEMENT"
   ]
  },
  {
   "cell_type": "code",
   "execution_count": 42,
   "id": "dceabd70-1080-43d6-8ac1-df906277a6b2",
   "metadata": {},
   "outputs": [
    {
     "name": "stdout",
     "output_type": "stream",
     "text": [
      "var_a: 10 binary of var_a: 0b1010\n",
      "complement of var_a: -11 binary of complement of var_a: -0b1011\n"
     ]
    }
   ],
   "source": [
    "var_a = 10\n",
    "binary_a = bin(var_a)\n",
    "\n",
    "complement_a = ~var_a\n",
    "binary_complement_a = bin(complement_a)\n",
    "\n",
    "print(f\"var_a: {var_a} binary of var_a: {binary_a}\")\n",
    "print(f\"complement of var_a: {complement_a} \\\n",
    "binary of complement of var_a: {binary_complement_a}\") # returns one's compliment"
   ]
  },
  {
   "cell_type": "code",
   "execution_count": 43,
   "id": "7e2f9276-c7a3-4787-a898-23a978dd21da",
   "metadata": {},
   "outputs": [],
   "source": [
    "#bin(10)->1010->1010+1->1011"
   ]
  },
  {
   "cell_type": "markdown",
   "id": "f58ec806-6c43-4704-a1e9-0897f08e72c9",
   "metadata": {},
   "source": [
    "###BITWISE AND"
   ]
  },
  {
   "cell_type": "code",
   "execution_count": 44,
   "id": "0fa92f58-bfef-469b-8a4e-5ebb37b6cc1c",
   "metadata": {},
   "outputs": [
    {
     "name": "stdout",
     "output_type": "stream",
     "text": [
      "var_a: 10, var_b: 4\n",
      "binary of var_a: 0b1010, binary of var_b: 0b100\n",
      "bitwise_and: 0, binary_of_bitwise_and: 0b0\n"
     ]
    }
   ],
   "source": [
    "var_a = 10\n",
    "var_b = 4\n",
    "\n",
    "binary_a = bin(var_a)\n",
    "binary_b = bin(var_b)\n",
    "\n",
    "bitwise_and = var_a & var_b\n",
    "binary_bitwise_and = bin(bitwise_and)\n",
    "\n",
    "print(f\"var_a: {var_a}, var_b: {var_b}\")\n",
    "print(f\"binary of var_a: {binary_a}, binary of var_b: {binary_b}\")\n",
    "\n",
    "print(f\"bitwise_and: {bitwise_and}, binary_of_bitwise_and: {binary_bitwise_and}\")\n"
   ]
  },
  {
   "cell_type": "code",
   "execution_count": 45,
   "id": "5fced5d2-721e-4d8a-bec9-56459caa17f5",
   "metadata": {},
   "outputs": [],
   "source": [
    "#1010 & 0100 -> 0000 -> 0"
   ]
  },
  {
   "cell_type": "markdown",
   "id": "7f51f18b-f2e7-4ad8-99da-68426001e656",
   "metadata": {},
   "source": [
    "###BITWISE OR"
   ]
  },
  {
   "cell_type": "code",
   "execution_count": 46,
   "id": "b1ea88b2-3085-43b3-9069-ccb097d1e45f",
   "metadata": {},
   "outputs": [
    {
     "name": "stdout",
     "output_type": "stream",
     "text": [
      "var_a: 10, var_b: 4\n",
      "binary of var_a: 0b1010, binary of var_b: 0b100\n",
      "bitwise_or: 14, binary_bitwise_or: 0b0\n"
     ]
    }
   ],
   "source": [
    "var_a = 10\n",
    "var_b = 4\n",
    "\n",
    "binary_a = bin(var_a)\n",
    "binary_b = bin(var_b)\n",
    "\n",
    "bitwise_or = var_a | var_b\n",
    "binary_bitwise_or = bin(bitwise_and)\n",
    "\n",
    "print(f\"var_a: {var_a}, var_b: {var_b}\")\n",
    "print(f\"binary of var_a: {binary_a}, binary of var_b: {binary_b}\")\n",
    "\n",
    "print(f\"bitwise_or: {bitwise_or}, binary_bitwise_or: {binary_bitwise_or}\")"
   ]
  },
  {
   "cell_type": "code",
   "execution_count": 47,
   "id": "bd937fda-5943-4825-a2ca-31908ef75805",
   "metadata": {},
   "outputs": [],
   "source": [
    "#1010 | 0100 -> 1110 -> 14"
   ]
  },
  {
   "cell_type": "markdown",
   "id": "398c043a-c23b-492f-aaea-91af7c95193d",
   "metadata": {},
   "source": [
    "###BITWISE XOR"
   ]
  },
  {
   "cell_type": "code",
   "execution_count": 48,
   "id": "30e863d7-26fe-4042-bc59-bdb41db2ef4f",
   "metadata": {},
   "outputs": [
    {
     "name": "stdout",
     "output_type": "stream",
     "text": [
      "var_a: 10, var_b: 4\n",
      "binary of var_a: 0b1010, binary of var_b: 0b100\n",
      "bitwise_xor: 14, binary_bitwise_xor: 0b0\n"
     ]
    }
   ],
   "source": [
    "var_a = 10\n",
    "var_b = 4\n",
    "\n",
    "binary_a = bin(var_a)\n",
    "binary_b = bin(var_b)\n",
    "\n",
    "bitwise_xor = var_a ^ var_b\n",
    "binary_bitwise_xor = bin(bitwise_and)\n",
    "\n",
    "print(f\"var_a: {var_a}, var_b: {var_b}\")\n",
    "print(f\"binary of var_a: {binary_a}, binary of var_b: {binary_b}\")\n",
    "\n",
    "print(f\"bitwise_xor: {bitwise_xor}, binary_bitwise_xor: {binary_bitwise_xor}\")"
   ]
  },
  {
   "cell_type": "code",
   "execution_count": 49,
   "id": "bf464e4b-415b-4c62-b6fc-b4081343437e",
   "metadata": {},
   "outputs": [],
   "source": [
    "#1010 ^ 0100 ->  -> 1110 -> 14"
   ]
  },
  {
   "cell_type": "markdown",
   "id": "47435b42-7df0-40d9-99d6-51165bb3ea46",
   "metadata": {},
   "source": [
    "###RIGHTSHIFT\n"
   ]
  },
  {
   "cell_type": "code",
   "execution_count": 51,
   "id": "f9f42406-b4f5-448b-a2cf-d1d333c776e3",
   "metadata": {},
   "outputs": [
    {
     "name": "stdout",
     "output_type": "stream",
     "text": [
      "var_a: 50\n",
      "binary of var_a: 0b110010\n",
      "right_shift: 25\n",
      "binary_right_shift: 0b11001\n"
     ]
    }
   ],
   "source": [
    "var_a = 50\n",
    "\n",
    "binary_a = bin(var_a)\n",
    "\n",
    "right_shift = var_a >> 1\n",
    "binary_right_shift = bin(right_shift)\n",
    "\n",
    "print(f\"var_a: {var_a}\")\n",
    "print(f\"binary of var_a: {binary_a}\")\n",
    "\n",
    "print(f\"right_shift: {right_shift}\")\n",
    "print(f\"binary_right_shift: {binary_right_shift}\")"
   ]
  },
  {
   "cell_type": "code",
   "execution_count": 50,
   "id": "bc86d181-b5a3-4a61-bad2-9898c581c559",
   "metadata": {},
   "outputs": [
    {
     "data": {
      "text/plain": [
       "'0b110010'"
      ]
     },
     "execution_count": 50,
     "metadata": {},
     "output_type": "execute_result"
    }
   ],
   "source": [
    "bin(50)"
   ]
  },
  {
   "cell_type": "code",
   "execution_count": 52,
   "id": "45a848df-82d5-4581-a042-ed5be17f8268",
   "metadata": {},
   "outputs": [],
   "source": [
    "#110010-> 0011 0010 -> 0001 1001 -> 25"
   ]
  },
  {
   "cell_type": "code",
   "execution_count": 53,
   "id": "8acc742a-7278-4084-8917-1a178215a461",
   "metadata": {},
   "outputs": [
    {
     "data": {
      "text/plain": [
       "True"
      ]
     },
     "execution_count": 53,
     "metadata": {},
     "output_type": "execute_result"
    }
   ],
   "source": [
    "N = 1\n",
    "var_a // 2**N == var_a >> N "
   ]
  },
  {
   "cell_type": "code",
   "execution_count": 56,
   "id": "44776ff9-5a18-42d6-bdd6-5107badd54c3",
   "metadata": {},
   "outputs": [
    {
     "data": {
      "text/plain": [
       "True"
      ]
     },
     "execution_count": 56,
     "metadata": {},
     "output_type": "execute_result"
    }
   ],
   "source": [
    "N = 2\n",
    "var_a // 2**N == var_a >> N "
   ]
  },
  {
   "cell_type": "code",
   "execution_count": 57,
   "id": "48eed8d5-9715-471e-8b95-85af88deb350",
   "metadata": {},
   "outputs": [],
   "source": [
    "##110010-> 0011 0010 -> 0000 1100 -> 12"
   ]
  },
  {
   "cell_type": "code",
   "execution_count": 58,
   "id": "ee20bd93-3bcb-4b8f-a452-54221bb1ac52",
   "metadata": {},
   "outputs": [
    {
     "data": {
      "text/plain": [
       "12"
      ]
     },
     "execution_count": 58,
     "metadata": {},
     "output_type": "execute_result"
    }
   ],
   "source": [
    "50>>2"
   ]
  },
  {
   "cell_type": "code",
   "execution_count": 60,
   "id": "c9feff98-62bc-4bf5-955c-15b9300e633a",
   "metadata": {},
   "outputs": [
    {
     "data": {
      "text/plain": [
       "True"
      ]
     },
     "execution_count": 60,
     "metadata": {},
     "output_type": "execute_result"
    }
   ],
   "source": [
    "var_a = 5\n",
    "N = 2\n",
    "var_a // 2**N == var_a >> N "
   ]
  },
  {
   "cell_type": "code",
   "execution_count": 59,
   "id": "66cf86f8-0044-4d2b-b059-75b7e8edb697",
   "metadata": {},
   "outputs": [],
   "source": [
    "# 0101 -> 0001 -> 1"
   ]
  },
  {
   "cell_type": "code",
   "execution_count": 65,
   "id": "2568a171-8e4d-4dad-89f2-e8e2ac857fd5",
   "metadata": {},
   "outputs": [
    {
     "name": "stdout",
     "output_type": "stream",
     "text": [
      "var_a: 48\n",
      "binary of var_a: 0b110000\n",
      "left_shift: 96\n",
      "binary_left_shift: 0b1100000\n"
     ]
    }
   ],
   "source": [
    "var_a = 48\n",
    "\n",
    "binary_a = bin(var_a)\n",
    "\n",
    "left_shift = var_a << 1\n",
    "binary_left_shift = bin(left_shift)\n",
    "\n",
    "print(f\"var_a: {var_a}\")\n",
    "print(f\"binary of var_a: {binary_a}\")\n",
    "\n",
    "print(f\"left_shift: {left_shift}\")\n",
    "print(f\"binary_left_shift: {binary_left_shift}\")"
   ]
  },
  {
   "cell_type": "code",
   "execution_count": 61,
   "id": "79250456-3d82-481c-82a2-ee3e4dcd2fc1",
   "metadata": {},
   "outputs": [
    {
     "data": {
      "text/plain": [
       "'0b110000'"
      ]
     },
     "execution_count": 61,
     "metadata": {},
     "output_type": "execute_result"
    }
   ],
   "source": [
    "bin(48)"
   ]
  },
  {
   "cell_type": "code",
   "execution_count": 62,
   "id": "c1a82cda-4fc8-4e74-8fe6-bb2bd317cbce",
   "metadata": {},
   "outputs": [],
   "source": [
    "# 0011 0000 -> 0110 0000 -> 96"
   ]
  },
  {
   "cell_type": "code",
   "execution_count": 67,
   "id": "dd724972-f59f-499c-8a97-6b523e1c4c01",
   "metadata": {},
   "outputs": [
    {
     "data": {
      "text/plain": [
       "True"
      ]
     },
     "execution_count": 67,
     "metadata": {},
     "output_type": "execute_result"
    }
   ],
   "source": [
    "# compare the above results with multiplication by powers of 2\n",
    "var_a = 5\n",
    "N = 2\n",
    "var_a * 2**N == var_a << N "
   ]
  },
  {
   "cell_type": "code",
   "execution_count": 68,
   "id": "bfba0677-84c4-42ee-afc9-aff597342c79",
   "metadata": {},
   "outputs": [],
   "source": [
    "#5-> 0000 0101 -> 0001 0100 -> 20"
   ]
  },
  {
   "cell_type": "code",
   "execution_count": 70,
   "id": "5423f11f-b73d-43b1-9051-f37b39ecda8d",
   "metadata": {},
   "outputs": [
    {
     "data": {
      "text/plain": [
       "True"
      ]
     },
     "execution_count": 70,
     "metadata": {},
     "output_type": "execute_result"
    }
   ],
   "source": [
    "# compare the above results with multiplication by powers of 2\n",
    "var_a = 25\n",
    "N = 2\n",
    "var_a * 2**N == var_a << N "
   ]
  },
  {
   "cell_type": "code",
   "execution_count": 69,
   "id": "783c9a81-af5f-44eb-bdfe-5ba646a45a0f",
   "metadata": {},
   "outputs": [
    {
     "data": {
      "text/plain": [
       "'0b11001'"
      ]
     },
     "execution_count": 69,
     "metadata": {},
     "output_type": "execute_result"
    }
   ],
   "source": [
    "bin(25)"
   ]
  },
  {
   "cell_type": "code",
   "execution_count": 71,
   "id": "73ee2bd3-c4fc-4a05-bd0f-1f950adcb689",
   "metadata": {},
   "outputs": [],
   "source": [
    "#25-> 0001 1001 -> 0110 0100 -> 100"
   ]
  },
  {
   "cell_type": "markdown",
   "id": "a537ad13-8563-4b04-88e7-a62b390aa873",
   "metadata": {},
   "source": [
    "###STRINGS"
   ]
  },
  {
   "cell_type": "code",
   "execution_count": 72,
   "id": "4202de3b-e860-4505-ae15-ab9cf688f31f",
   "metadata": {},
   "outputs": [],
   "source": [
    "str1=\"Welcome to Data Science Master\""
   ]
  },
  {
   "cell_type": "code",
   "execution_count": 77,
   "id": "672951cc-f4be-4bbb-a6c6-5ef1aa08d763",
   "metadata": {},
   "outputs": [
    {
     "data": {
      "text/plain": [
       "str"
      ]
     },
     "execution_count": 77,
     "metadata": {},
     "output_type": "execute_result"
    }
   ],
   "source": [
    "type(str1)"
   ]
  },
  {
   "cell_type": "code",
   "execution_count": 76,
   "id": "76ef4463-e1f4-4229-b2e5-cabcfa4cd81b",
   "metadata": {},
   "outputs": [
    {
     "data": {
      "text/plain": [
       "'W'"
      ]
     },
     "execution_count": 76,
     "metadata": {},
     "output_type": "execute_result"
    }
   ],
   "source": [
    "str1[0]"
   ]
  },
  {
   "cell_type": "code",
   "execution_count": 78,
   "id": "c73747cb-7c8c-40ad-b410-e170d64a076f",
   "metadata": {},
   "outputs": [],
   "source": [
    "#Note We can't do str1[0]='Q' bcoz string is immutable"
   ]
  },
  {
   "cell_type": "code",
   "execution_count": 79,
   "id": "eb8c5bf0-7444-4202-b495-48399e62bc31",
   "metadata": {},
   "outputs": [],
   "source": [
    "#But we can change entire string "
   ]
  },
  {
   "cell_type": "code",
   "execution_count": 80,
   "id": "11b30baa-90b2-49ce-9152-a6aad9ac65d8",
   "metadata": {},
   "outputs": [],
   "source": [
    "str1=\"Hi My Name Is Unknown\""
   ]
  },
  {
   "cell_type": "code",
   "execution_count": 82,
   "id": "6fe448b0-b325-41f9-a712-620498149653",
   "metadata": {},
   "outputs": [
    {
     "name": "stdout",
     "output_type": "stream",
     "text": [
      "Hi My Name Is Unknown\n"
     ]
    }
   ],
   "source": [
    "print(f\"{str1}\")"
   ]
  },
  {
   "cell_type": "code",
   "execution_count": 83,
   "id": "a558467c-a0f2-4e0d-b51c-2a228c3f1d5a",
   "metadata": {},
   "outputs": [],
   "source": [
    "#str1. -> gives inbuit function of string"
   ]
  },
  {
   "cell_type": "code",
   "execution_count": 89,
   "id": "831fec88-92e1-43c7-bb2f-86e48b96fea8",
   "metadata": {},
   "outputs": [
    {
     "data": {
      "text/plain": [
       "'m'"
      ]
     },
     "execution_count": 89,
     "metadata": {},
     "output_type": "execute_result"
    }
   ],
   "source": [
    "str1[8]"
   ]
  },
  {
   "cell_type": "code",
   "execution_count": 91,
   "id": "c46ccbc9-637f-4ea4-b941-95ab5ca6c713",
   "metadata": {},
   "outputs": [
    {
     "data": {
      "text/plain": [
       "'me Is Unknown'"
      ]
     },
     "execution_count": 91,
     "metadata": {},
     "output_type": "execute_result"
    }
   ],
   "source": [
    "str1[8:]"
   ]
  },
  {
   "cell_type": "code",
   "execution_count": 92,
   "id": "ce7697ac-4072-4bbc-b734-b9d0728cf8ac",
   "metadata": {},
   "outputs": [
    {
     "data": {
      "text/plain": [
       "'Hi My Nam'"
      ]
     },
     "execution_count": 92,
     "metadata": {},
     "output_type": "execute_result"
    }
   ],
   "source": [
    "str1[:9]"
   ]
  },
  {
   "cell_type": "code",
   "execution_count": 93,
   "id": "f71456b5-71aa-4bae-9109-409d0d830b3e",
   "metadata": {},
   "outputs": [
    {
     "data": {
      "text/plain": [
       "' Name '"
      ]
     },
     "execution_count": 93,
     "metadata": {},
     "output_type": "execute_result"
    }
   ],
   "source": [
    "str1[5:11]"
   ]
  },
  {
   "cell_type": "code",
   "execution_count": 94,
   "id": "d9eb5e4f-6a20-4071-9023-a06928a63594",
   "metadata": {},
   "outputs": [
    {
     "data": {
      "text/plain": [
       "'Name I'"
      ]
     },
     "execution_count": 94,
     "metadata": {},
     "output_type": "execute_result"
    }
   ],
   "source": [
    "str1[6:12]"
   ]
  },
  {
   "cell_type": "code",
   "execution_count": 96,
   "id": "02e16c03-6511-486e-bd90-2cd43afc7f4a",
   "metadata": {},
   "outputs": [
    {
     "data": {
      "text/plain": [
       "'n'"
      ]
     },
     "execution_count": 96,
     "metadata": {},
     "output_type": "execute_result"
    }
   ],
   "source": [
    "str1[-1]"
   ]
  },
  {
   "cell_type": "code",
   "execution_count": 97,
   "id": "9cafb2ff-60f7-4cd7-9c87-c19b7e521e9a",
   "metadata": {},
   "outputs": [
    {
     "data": {
      "text/plain": [
       "21"
      ]
     },
     "execution_count": 97,
     "metadata": {},
     "output_type": "execute_result"
    }
   ],
   "source": [
    "len(str1)"
   ]
  },
  {
   "cell_type": "code",
   "execution_count": 99,
   "id": "c61622f2-2b2c-4c2e-9fa1-eb3bae0dd6e3",
   "metadata": {},
   "outputs": [
    {
     "data": {
      "text/plain": [
       "'k'"
      ]
     },
     "execution_count": 99,
     "metadata": {},
     "output_type": "execute_result"
    }
   ],
   "source": [
    "str1[-5]"
   ]
  },
  {
   "cell_type": "code",
   "execution_count": 100,
   "id": "f6e14b88-5ceb-4dff-83f3-bbd0f9def30d",
   "metadata": {},
   "outputs": [
    {
     "data": {
      "text/plain": [
       "'Hi My Nam'"
      ]
     },
     "execution_count": 100,
     "metadata": {},
     "output_type": "execute_result"
    }
   ],
   "source": [
    "str1[:-12]"
   ]
  },
  {
   "cell_type": "code",
   "execution_count": 101,
   "id": "a983a7c3-399b-4784-9b8c-a65493290817",
   "metadata": {},
   "outputs": [
    {
     "data": {
      "text/plain": [
       "'e Is Unknown'"
      ]
     },
     "execution_count": 101,
     "metadata": {},
     "output_type": "execute_result"
    }
   ],
   "source": [
    "str1[-12:]"
   ]
  },
  {
   "cell_type": "code",
   "execution_count": 102,
   "id": "a903741a-8768-4ed4-b18f-28961d350c5d",
   "metadata": {},
   "outputs": [
    {
     "data": {
      "text/plain": [
       "'Hi My Name Is Unknown'"
      ]
     },
     "execution_count": 102,
     "metadata": {},
     "output_type": "execute_result"
    }
   ],
   "source": [
    "str1"
   ]
  },
  {
   "cell_type": "code",
   "execution_count": null,
   "id": "ff20d5a3-eec6-428d-9eb3-7de886143f4b",
   "metadata": {},
   "outputs": [],
   "source": [
    "str1["
   ]
  }
 ],
 "metadata": {
  "kernelspec": {
   "display_name": "Python 3 (ipykernel)",
   "language": "python",
   "name": "python3"
  },
  "language_info": {
   "codemirror_mode": {
    "name": "ipython",
    "version": 3
   },
   "file_extension": ".py",
   "mimetype": "text/x-python",
   "name": "python",
   "nbconvert_exporter": "python",
   "pygments_lexer": "ipython3",
   "version": "3.10.8"
  }
 },
 "nbformat": 4,
 "nbformat_minor": 5
}
