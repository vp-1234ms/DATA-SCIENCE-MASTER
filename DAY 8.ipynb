{
 "cells": [
  {
   "cell_type": "code",
   "execution_count": 1,
   "id": "762e8e37-d2fb-4ebc-83e5-85e4073db0ee",
   "metadata": {},
   "outputs": [],
   "source": [
    "a=10"
   ]
  },
  {
   "cell_type": "code",
   "execution_count": 3,
   "id": "bc51d38d-11a3-4fe0-9c79-edc5259189f4",
   "metadata": {},
   "outputs": [
    {
     "data": {
      "text/plain": [
       "int"
      ]
     },
     "execution_count": 3,
     "metadata": {},
     "output_type": "execute_result"
    }
   ],
   "source": [
    "type(a)"
   ]
  },
  {
   "cell_type": "code",
   "execution_count": 4,
   "id": "6ab614fa-d9ad-4843-8c1d-c64a8aa41521",
   "metadata": {},
   "outputs": [
    {
     "data": {
      "text/plain": [
       "str"
      ]
     },
     "execution_count": 4,
     "metadata": {},
     "output_type": "execute_result"
    }
   ],
   "source": [
    "type(\"Pw Skills\")"
   ]
  },
  {
   "cell_type": "code",
   "execution_count": 5,
   "id": "2114d50c-c87e-46e2-8aa1-56ce2582cfcb",
   "metadata": {},
   "outputs": [
    {
     "data": {
      "text/plain": [
       "list"
      ]
     },
     "execution_count": 5,
     "metadata": {},
     "output_type": "execute_result"
    }
   ],
   "source": [
    "type([])"
   ]
  },
  {
   "cell_type": "code",
   "execution_count": 6,
   "id": "9af5002e-896b-491a-b763-1ed2e93010d4",
   "metadata": {},
   "outputs": [
    {
     "data": {
      "text/plain": [
       "tuple"
      ]
     },
     "execution_count": 6,
     "metadata": {},
     "output_type": "execute_result"
    }
   ],
   "source": [
    "type(())"
   ]
  },
  {
   "cell_type": "code",
   "execution_count": 7,
   "id": "48d461df-750f-47af-abeb-492ce3661651",
   "metadata": {},
   "outputs": [
    {
     "data": {
      "text/plain": [
       "dict"
      ]
     },
     "execution_count": 7,
     "metadata": {},
     "output_type": "execute_result"
    }
   ],
   "source": [
    "type({})"
   ]
  },
  {
   "cell_type": "markdown",
   "id": "8efcff2b-94ae-4b40-b219-25102d22b828",
   "metadata": {},
   "source": [
    "type({0,})"
   ]
  },
  {
   "cell_type": "code",
   "execution_count": 10,
   "id": "c12e8014-49a7-4afe-a462-56e51a6427cc",
   "metadata": {},
   "outputs": [
    {
     "data": {
      "text/plain": [
       "set"
      ]
     },
     "execution_count": 10,
     "metadata": {},
     "output_type": "execute_result"
    }
   ],
   "source": [
    "type({1})"
   ]
  },
  {
   "cell_type": "code",
   "execution_count": 11,
   "id": "416ed980-1753-4926-ba27-7550c002e0d9",
   "metadata": {},
   "outputs": [
    {
     "data": {
      "text/plain": [
       "float"
      ]
     },
     "execution_count": 11,
     "metadata": {},
     "output_type": "execute_result"
    }
   ],
   "source": [
    "type(1.2)"
   ]
  },
  {
   "cell_type": "code",
   "execution_count": 30,
   "id": "b79d859f-cd36-434d-9e85-8ebb2752c2ee",
   "metadata": {},
   "outputs": [
    {
     "name": "stdout",
     "output_type": "stream",
     "text": [
      "<class 'int'>\n"
     ]
    }
   ],
   "source": [
    "print(type(2))"
   ]
  },
  {
   "cell_type": "markdown",
   "id": "0915a17f-2e05-4c03-922a-f7d06fe9c8e0",
   "metadata": {},
   "source": [
    "###CLASS\n"
   ]
  },
  {
   "cell_type": "code",
   "execution_count": 31,
   "id": "fb8a1d9b-f07b-432f-8c7c-b14af9b40119",
   "metadata": {},
   "outputs": [],
   "source": [
    "#Creating class"
   ]
  },
  {
   "cell_type": "code",
   "execution_count": 33,
   "id": "9cb78ffc-71ba-4802-acaf-78e7e38fcbd4",
   "metadata": {},
   "outputs": [],
   "source": [
    "class test:\n",
    "    pass"
   ]
  },
  {
   "cell_type": "code",
   "execution_count": 34,
   "id": "dc6f262a-8297-4f2e-a96a-314f3791d9e1",
   "metadata": {},
   "outputs": [
    {
     "data": {
      "text/plain": [
       "__main__.test"
      ]
     },
     "execution_count": 34,
     "metadata": {},
     "output_type": "execute_result"
    }
   ],
   "source": [
    "type(test())"
   ]
  },
  {
   "cell_type": "code",
   "execution_count": 35,
   "id": "39a23f45-626d-40e6-9520-0509e3480755",
   "metadata": {},
   "outputs": [
    {
     "name": "stdout",
     "output_type": "stream",
     "text": [
      "<class '__main__.test'>\n"
     ]
    }
   ],
   "source": [
    "print(type(test()))"
   ]
  },
  {
   "cell_type": "code",
   "execution_count": 42,
   "id": "04131895-5fc6-4853-b838-592037ad469e",
   "metadata": {},
   "outputs": [],
   "source": [
    "a=test() #a is object or instance of class test()"
   ]
  },
  {
   "cell_type": "code",
   "execution_count": 37,
   "id": "ce95f2cc-61d3-42a6-94ba-23b931fb053a",
   "metadata": {},
   "outputs": [
    {
     "data": {
      "text/plain": [
       "__main__.test"
      ]
     },
     "execution_count": 37,
     "metadata": {},
     "output_type": "execute_result"
    }
   ],
   "source": [
    "type(a)"
   ]
  },
  {
   "cell_type": "code",
   "execution_count": 39,
   "id": "026479af-a973-4d87-88cf-d0e5746db6b0",
   "metadata": {},
   "outputs": [
    {
     "name": "stdout",
     "output_type": "stream",
     "text": [
      "<class '__main__.test'>\n"
     ]
    }
   ],
   "source": [
    "print(type(a))"
   ]
  },
  {
   "cell_type": "code",
   "execution_count": 44,
   "id": "b230a7a6-d42a-4c7d-bf6b-db26d4685ead",
   "metadata": {},
   "outputs": [],
   "source": [
    "class pwskills():\n",
    "    \n",
    "    def welcome_msg():\n",
    "        print(\"Welcome to pwskills\")"
   ]
  },
  {
   "cell_type": "code",
   "execution_count": 45,
   "id": "f857a426-e794-4b5e-80ca-940f0b2b7766",
   "metadata": {},
   "outputs": [],
   "source": [
    "rohan=pwskills()"
   ]
  },
  {
   "cell_type": "code",
   "execution_count": 47,
   "id": "e3ad9aba-7dda-437a-a286-cda367516d8f",
   "metadata": {},
   "outputs": [
    {
     "name": "stdout",
     "output_type": "stream",
     "text": [
      "<__main__.pwskills object at 0x7f4dd81cf4c0>\n"
     ]
    }
   ],
   "source": [
    "print(rohan)"
   ]
  },
  {
   "cell_type": "code",
   "execution_count": 53,
   "id": "3ea164fb-56cb-457b-aeee-5250e59884e3",
   "metadata": {},
   "outputs": [
    {
     "data": {
      "text/plain": [
       "<__main__.pwskills at 0x7f4dd8189480>"
      ]
     },
     "execution_count": 53,
     "metadata": {},
     "output_type": "execute_result"
    }
   ],
   "source": [
    "rohan"
   ]
  },
  {
   "cell_type": "code",
   "execution_count": 54,
   "id": "e5ee79a5-312d-4a42-b64d-3eaef8dee66e",
   "metadata": {},
   "outputs": [
    {
     "ename": "TypeError",
     "evalue": "pwskills.welcome_msg() takes 0 positional arguments but 1 was given",
     "output_type": "error",
     "traceback": [
      "\u001b[0;31m---------------------------------------------------------------------------\u001b[0m",
      "\u001b[0;31mTypeError\u001b[0m                                 Traceback (most recent call last)",
      "Cell \u001b[0;32mIn[54], line 1\u001b[0m\n\u001b[0;32m----> 1\u001b[0m \u001b[43mrohan\u001b[49m\u001b[38;5;241;43m.\u001b[39;49m\u001b[43mwelcome_msg\u001b[49m\u001b[43m(\u001b[49m\u001b[43m)\u001b[49m\n",
      "\u001b[0;31mTypeError\u001b[0m: pwskills.welcome_msg() takes 0 positional arguments but 1 was given"
     ]
    }
   ],
   "source": [
    "rohan.welcome_msg()"
   ]
  },
  {
   "cell_type": "code",
   "execution_count": 88,
   "id": "960bf48a-94da-465e-a216-9c6e364499d6",
   "metadata": {},
   "outputs": [],
   "source": [
    "class pwskills:\n",
    "    \n",
    "    def welcome_msg(self):\n",
    "        print(\"Welcome to pwskills\")"
   ]
  },
  {
   "cell_type": "code",
   "execution_count": 89,
   "id": "e5ecfc88-38c7-4c1f-a8be-f83efeb6eb5e",
   "metadata": {},
   "outputs": [],
   "source": [
    "rohan=pwskills()"
   ]
  },
  {
   "cell_type": "code",
   "execution_count": 90,
   "id": "b084039c-0540-47a9-b452-8c9901e17f2b",
   "metadata": {},
   "outputs": [
    {
     "name": "stdout",
     "output_type": "stream",
     "text": [
      "Welcome to pwskills\n"
     ]
    }
   ],
   "source": [
    "rohan.welcome_msg()"
   ]
  },
  {
   "cell_type": "code",
   "execution_count": 91,
   "id": "3e3238cd-9080-4959-a7d6-f81f61b9aa2b",
   "metadata": {},
   "outputs": [],
   "source": [
    "sohan=pwskills()"
   ]
  },
  {
   "cell_type": "code",
   "execution_count": 92,
   "id": "0972ed1a-f0b8-4a85-9e62-d413d06fa9e3",
   "metadata": {},
   "outputs": [
    {
     "name": "stdout",
     "output_type": "stream",
     "text": [
      "Welcome to pwskills\n"
     ]
    }
   ],
   "source": [
    "sohan.welcome_msg()"
   ]
  },
  {
   "cell_type": "code",
   "execution_count": 94,
   "id": "b9c344f1-da48-4f01-b230-bf27d92422c5",
   "metadata": {},
   "outputs": [],
   "source": [
    "#So we can create thousnads of objects of class like pw skills class has objects like rohan and sohan"
   ]
  },
  {
   "cell_type": "code",
   "execution_count": 128,
   "id": "51335b25-a6bb-44e3-9267-2a694b7f0212",
   "metadata": {},
   "outputs": [],
   "source": [
    "class pwskills1:\n",
    "    def __init__(self,phone_number,email_id,student_id):     \n",
    "        self.phone_number=phone_number          #Here LHS is our attribute class tries to understand the LHS side\n",
    "        self.email_id=email_id\n",
    "        self.student_id=student_id\n",
    "    def return_student_details(self):\n",
    "        return (self.phone_number,self.phone_number,self.student_id)"
   ]
  },
  {
   "cell_type": "code",
   "execution_count": 96,
   "id": "1ad37366-a700-4f08-bf74-b401f6e1be10",
   "metadata": {},
   "outputs": [
    {
     "ename": "TypeError",
     "evalue": "pwskills1.__init__() missing 3 required positional arguments: 'phone_number', 'email_id', and 'student_id'",
     "output_type": "error",
     "traceback": [
      "\u001b[0;31m---------------------------------------------------------------------------\u001b[0m",
      "\u001b[0;31mTypeError\u001b[0m                                 Traceback (most recent call last)",
      "Cell \u001b[0;32mIn[96], line 1\u001b[0m\n\u001b[0;32m----> 1\u001b[0m rohan\u001b[38;5;241m=\u001b[39m\u001b[43mpwskills1\u001b[49m\u001b[43m(\u001b[49m\u001b[43m)\u001b[49m\n",
      "\u001b[0;31mTypeError\u001b[0m: pwskills1.__init__() missing 3 required positional arguments: 'phone_number', 'email_id', and 'student_id'"
     ]
    }
   ],
   "source": [
    "rohan=pwskills1()"
   ]
  },
  {
   "cell_type": "code",
   "execution_count": 99,
   "id": "5530c91d-070b-45db-bcfe-6ab1248b1f16",
   "metadata": {},
   "outputs": [],
   "source": [
    "#Here init is constructor in class which will take data in class while object is creator everytime\n",
    "rohan=pwskills1(123456789,\"rohan@gmail.com\",\"vl2134rl\") #This arguments given passed for init constructor"
   ]
  },
  {
   "cell_type": "code",
   "execution_count": 100,
   "id": "606d3c92-c176-4495-ad23-0f3c0fddaa31",
   "metadata": {},
   "outputs": [
    {
     "data": {
      "text/plain": [
       "(123456789, 123456789, 'vl2134rl')"
      ]
     },
     "execution_count": 100,
     "metadata": {},
     "output_type": "execute_result"
    }
   ],
   "source": [
    "rohan.return_student_details()"
   ]
  },
  {
   "cell_type": "code",
   "execution_count": 107,
   "id": "ffc6a879-0386-4c3d-9015-3edb1d701488",
   "metadata": {},
   "outputs": [
    {
     "data": {
      "text/plain": [
       "123456789"
      ]
     },
     "execution_count": 107,
     "metadata": {},
     "output_type": "execute_result"
    }
   ],
   "source": [
    "rohan.phone_number #Now phone number,email id and student id are attributes for that student or object of class"
   ]
  },
  {
   "cell_type": "code",
   "execution_count": 105,
   "id": "eccee77d-2dcd-44ea-9043-ba02048e617c",
   "metadata": {},
   "outputs": [
    {
     "data": {
      "text/plain": [
       "'rohan@gmail.com'"
      ]
     },
     "execution_count": 105,
     "metadata": {},
     "output_type": "execute_result"
    }
   ],
   "source": [
    "rohan.email_id"
   ]
  },
  {
   "cell_type": "code",
   "execution_count": 106,
   "id": "73c449b1-ecec-48cd-90f3-7de5520595a1",
   "metadata": {},
   "outputs": [
    {
     "data": {
      "text/plain": [
       "'vl2134rl'"
      ]
     },
     "execution_count": 106,
     "metadata": {},
     "output_type": "execute_result"
    }
   ],
   "source": [
    "rohan.student_id"
   ]
  },
  {
   "cell_type": "code",
   "execution_count": 109,
   "id": "8d8ffab3-59c2-4a9b-b363-4eca1d38c0fb",
   "metadata": {},
   "outputs": [
    {
     "data": {
      "text/plain": [
       "(123456789, 123456789, 'vl2134rl')"
      ]
     },
     "execution_count": 109,
     "metadata": {},
     "output_type": "execute_result"
    }
   ],
   "source": [
    "rohan.return_student_details() #This class method for that student and object"
   ]
  },
  {
   "cell_type": "code",
   "execution_count": 111,
   "id": "893a355f-8f62-4940-9b4e-7ac600de0316",
   "metadata": {},
   "outputs": [],
   "source": [
    "sohan=pwskills1(987654321,\"sohan@gmail.com\",\"pl8790ui\")"
   ]
  },
  {
   "cell_type": "code",
   "execution_count": 112,
   "id": "6ac61b1f-34f9-4828-817b-ff3f25ce6b35",
   "metadata": {},
   "outputs": [
    {
     "data": {
      "text/plain": [
       "<__main__.pwskills1 at 0x7f4dc92d8670>"
      ]
     },
     "execution_count": 112,
     "metadata": {},
     "output_type": "execute_result"
    }
   ],
   "source": [
    "sohan"
   ]
  },
  {
   "cell_type": "code",
   "execution_count": 113,
   "id": "da0c8183-fc13-4590-8bbe-be2f7ef7e629",
   "metadata": {},
   "outputs": [
    {
     "data": {
      "text/plain": [
       "(987654321, 987654321, 'pl8790ui')"
      ]
     },
     "execution_count": 113,
     "metadata": {},
     "output_type": "execute_result"
    }
   ],
   "source": [
    "sohan.return_student_details()"
   ]
  },
  {
   "cell_type": "code",
   "execution_count": 115,
   "id": "12eb4088-7cd7-475f-8c8d-4ca9228fe481",
   "metadata": {},
   "outputs": [
    {
     "data": {
      "text/plain": [
       "987654321"
      ]
     },
     "execution_count": 115,
     "metadata": {},
     "output_type": "execute_result"
    }
   ],
   "source": [
    "sohan.phone_number"
   ]
  },
  {
   "cell_type": "code",
   "execution_count": 116,
   "id": "940d3d55-04f7-4c98-b331-5cbf6540b5ea",
   "metadata": {},
   "outputs": [
    {
     "data": {
      "text/plain": [
       "'sohan@gmail.com'"
      ]
     },
     "execution_count": 116,
     "metadata": {},
     "output_type": "execute_result"
    }
   ],
   "source": [
    "sohan.email_id"
   ]
  },
  {
   "cell_type": "code",
   "execution_count": 117,
   "id": "b094365a-d622-4889-ba3d-3b378079c6d8",
   "metadata": {},
   "outputs": [
    {
     "data": {
      "text/plain": [
       "'pl8790ui'"
      ]
     },
     "execution_count": 117,
     "metadata": {},
     "output_type": "execute_result"
    }
   ],
   "source": [
    "sohan.student_id"
   ]
  },
  {
   "cell_type": "code",
   "execution_count": 130,
   "id": "a1a00df3-c7fa-4166-a543-540b77a80b92",
   "metadata": {},
   "outputs": [],
   "source": [
    "class pwskills1:\n",
    "    def __init__(vaib,phone_number,email_id,student_id):\n",
    "        vaib.phone_number=phone_number              #Therefore self is not reserved keyword in python it's just a strong convention used\n",
    "        vaib.email_id=email_id\n",
    "        vaib.student_id=student_id\n",
    "    def return_student_details(vaib):\n",
    "        return (vaib.phone_number,vaib.phone_number,vaib.student_id)"
   ]
  },
  {
   "cell_type": "code",
   "execution_count": 122,
   "id": "0d29cb85-524e-45a8-9efd-e07766bc7edc",
   "metadata": {},
   "outputs": [],
   "source": [
    "mohan=pwskills1(1265479,\"mohan@gmail.com\",\"we3454kl\")"
   ]
  },
  {
   "cell_type": "code",
   "execution_count": 127,
   "id": "1867c875-2f92-4add-b678-de35b01db66b",
   "metadata": {},
   "outputs": [
    {
     "data": {
      "text/plain": [
       "(1265479, 1265479, 'we3454kl')"
      ]
     },
     "execution_count": 127,
     "metadata": {},
     "output_type": "execute_result"
    }
   ],
   "source": [
    "mohan.return_student_details() #So we can use any refernce for object instead of self"
   ]
  },
  {
   "cell_type": "code",
   "execution_count": 124,
   "id": "5aa711c8-8c21-4d1a-8289-fd4021e4a9cd",
   "metadata": {},
   "outputs": [
    {
     "data": {
      "text/plain": [
       "1265479"
      ]
     },
     "execution_count": 124,
     "metadata": {},
     "output_type": "execute_result"
    }
   ],
   "source": [
    "mohan.phone_number"
   ]
  },
  {
   "cell_type": "code",
   "execution_count": 125,
   "id": "d7e49cda-959d-42c5-94f8-8c4f1fd38c18",
   "metadata": {},
   "outputs": [
    {
     "data": {
      "text/plain": [
       "'mohan@gmail.com'"
      ]
     },
     "execution_count": 125,
     "metadata": {},
     "output_type": "execute_result"
    }
   ],
   "source": [
    "mohan.email_id"
   ]
  },
  {
   "cell_type": "code",
   "execution_count": 126,
   "id": "0f794b25-a4b8-42bd-aa5f-13afd4f05ebc",
   "metadata": {},
   "outputs": [
    {
     "data": {
      "text/plain": [
       "'we3454kl'"
      ]
     },
     "execution_count": 126,
     "metadata": {},
     "output_type": "execute_result"
    }
   ],
   "source": [
    "mohan.student_id"
   ]
  },
  {
   "cell_type": "code",
   "execution_count": null,
   "id": "787f687b-b0db-42e7-a2f3-96a76c910773",
   "metadata": {},
   "outputs": [],
   "source": []
  }
 ],
 "metadata": {
  "kernelspec": {
   "display_name": "Python 3 (ipykernel)",
   "language": "python",
   "name": "python3"
  },
  "language_info": {
   "codemirror_mode": {
    "name": "ipython",
    "version": 3
   },
   "file_extension": ".py",
   "mimetype": "text/x-python",
   "name": "python",
   "nbconvert_exporter": "python",
   "pygments_lexer": "ipython3",
   "version": "3.10.8"
  }
 },
 "nbformat": 4,
 "nbformat_minor": 5
}
