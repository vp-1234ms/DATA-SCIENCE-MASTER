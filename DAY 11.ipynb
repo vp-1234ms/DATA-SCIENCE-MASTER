{
 "cells": [
  {
   "cell_type": "markdown",
   "id": "2ffbecb5-acc2-4395-adf4-7bb0dfa1ff54",
   "metadata": {},
   "source": [
    "###FILE OPEN,OVERWRITE,APPEND,CLOSE,READ,SIZE,COPY,RENAME,REMOVE OPERATIONS"
   ]
  },
  {
   "cell_type": "code",
   "execution_count": null,
   "id": "8d003c77-05fc-49b1-8f04-88eb202fbbd4",
   "metadata": {},
   "outputs": [],
   "source": [
    "f=open(\"test.txt\",\"w\")"
   ]
  },
  {
   "cell_type": "code",
   "execution_count": 3,
   "id": "74ca527f-8d1d-4edb-99f4-ef890fe649b6",
   "metadata": {},
   "outputs": [
    {
     "data": {
      "text/plain": [
       "'/home/jovyan/work'"
      ]
     },
     "execution_count": 3,
     "metadata": {},
     "output_type": "execute_result"
    }
   ],
   "source": [
    "pwd"
   ]
  },
  {
   "cell_type": "code",
   "execution_count": 4,
   "id": "e2f4a9b0-945d-40ec-b423-d0b93bba9925",
   "metadata": {},
   "outputs": [
    {
     "name": "stdout",
     "output_type": "stream",
     "text": [
      "'DAY 10.ipynb'   DAY3.2.ipynb  'DAY 5.ipynb'  'DAY 8.ipynb'   sample-code.ipynb\n",
      "'DAY 11.ipynb'   DAY3.ipynb    'Day 6.ipynb'  'DAY 9.ipynb'   test.txt\n",
      " DAY2.ipynb      DAY4.ipynb    'DAY 7.ipynb'   README.md      Untitled.ipynb\n"
     ]
    }
   ],
   "source": [
    "ls"
   ]
  },
  {
   "cell_type": "code",
   "execution_count": 5,
   "id": "db96dd4b-3979-49d1-ace2-abc94d11c0b6",
   "metadata": {},
   "outputs": [
    {
     "data": {
      "text/plain": [
       "44"
      ]
     },
     "execution_count": 5,
     "metadata": {},
     "output_type": "execute_result"
    }
   ],
   "source": [
    "f.write(\"this is my first write operation in the file\")"
   ]
  },
  {
   "cell_type": "code",
   "execution_count": 8,
   "id": "3236dab2-4af8-4f61-82de-4ac9edfa1279",
   "metadata": {},
   "outputs": [],
   "source": [
    "f.close()"
   ]
  },
  {
   "cell_type": "code",
   "execution_count": 9,
   "id": "683966ed-0c7f-4daf-a8ce-4fa27c5aeb33",
   "metadata": {},
   "outputs": [],
   "source": [
    "f=open(\"test.txt\",\"w\") #This will overrite my file"
   ]
  },
  {
   "cell_type": "code",
   "execution_count": 10,
   "id": "56b51c9f-7b99-4897-84c7-e1e85ef56d90",
   "metadata": {},
   "outputs": [
    {
     "data": {
      "text/plain": [
       "245"
      ]
     },
     "execution_count": 10,
     "metadata": {},
     "output_type": "execute_result"
    }
   ],
   "source": [
    "f.write(\"Data science is an interdisciplinary academic field that uses statistics, scientific computing, scientific methods, processes, algorithms and systems to extract or extrapolate knowledge and insights from noisy, structured, and unstructured data.\")"
   ]
  },
  {
   "cell_type": "code",
   "execution_count": 11,
   "id": "d227456e-a9db-42d2-842e-e97b09bacf95",
   "metadata": {},
   "outputs": [],
   "source": [
    "f.close()"
   ]
  },
  {
   "cell_type": "code",
   "execution_count": 15,
   "id": "5f8c41e3-ac97-4839-b1f1-f0c1bbb4cf9b",
   "metadata": {},
   "outputs": [],
   "source": [
    "f=open(\"test.txt\",\"a\") #This will append content in my file"
   ]
  },
  {
   "cell_type": "code",
   "execution_count": 13,
   "id": "45b472ae-f740-4b3e-a319-6647d61463fc",
   "metadata": {},
   "outputs": [
    {
     "data": {
      "text/plain": [
       "295"
      ]
     },
     "execution_count": 13,
     "metadata": {},
     "output_type": "execute_result"
    }
   ],
   "source": [
    "f.write(\"Do you want to know why Data Science has been labelled as the sexiest profession of the 21st century? After taking this course you will be able to answer this question, and get a thorough understanding of what is Data Science, what data scientists do, and learn about career paths in the field. \")"
   ]
  },
  {
   "cell_type": "code",
   "execution_count": 14,
   "id": "101e2a89-1376-48b4-9e88-22a803c658a7",
   "metadata": {},
   "outputs": [],
   "source": [
    "f.close()"
   ]
  },
  {
   "cell_type": "code",
   "execution_count": 17,
   "id": "00d80fcb-c01b-42d1-b087-36781b7ab942",
   "metadata": {},
   "outputs": [],
   "source": [
    "data=open(\"test.txt\",\"r\")"
   ]
  },
  {
   "cell_type": "code",
   "execution_count": 18,
   "id": "92dd0c3d-21de-4c49-a9db-1522c69acc29",
   "metadata": {},
   "outputs": [
    {
     "data": {
      "text/plain": [
       "'Data science is an interdisciplinary academic field that uses statistics, scientific computing, scientific methods, processes, algorithms and systems to extract or extrapolate knowledge and insights from noisy, structured, and unstructured data.Do you want to know why Data Science has been labelled as the sexiest profession of the 21st century? After taking this course you will be able to answer this question, and get a thorough understanding of what is Data Science, what data scientists do, and learn about career paths in the field. '"
      ]
     },
     "execution_count": 18,
     "metadata": {},
     "output_type": "execute_result"
    }
   ],
   "source": [
    "data.read()"
   ]
  },
  {
   "cell_type": "code",
   "execution_count": 21,
   "id": "00cf8e63-74d3-4ad5-8a41-910a8d08f3cd",
   "metadata": {},
   "outputs": [
    {
     "data": {
      "text/plain": [
       "''"
      ]
     },
     "execution_count": 21,
     "metadata": {},
     "output_type": "execute_result"
    }
   ],
   "source": [
    "data.read() #The reason is why i am not able to read my file again is my curso now is at end of file there is no data at end"
   ]
  },
  {
   "cell_type": "code",
   "execution_count": 25,
   "id": "8aa1e602-90ee-4556-a5bc-0d350af119a4",
   "metadata": {},
   "outputs": [
    {
     "data": {
      "text/plain": [
       "0"
      ]
     },
     "execution_count": 25,
     "metadata": {},
     "output_type": "execute_result"
    }
   ],
   "source": [
    "data.seek(0) #Sets cursor at begining of line at 0th index"
   ]
  },
  {
   "cell_type": "code",
   "execution_count": 24,
   "id": "04ae0284-f5ad-48f3-b737-9a0da8524bf2",
   "metadata": {},
   "outputs": [
    {
     "data": {
      "text/plain": [
       "'Data science is an interdisciplinary academic field that uses statistics, scientific computing, scientific methods, processes, algorithms and systems to extract or extrapolate knowledge and insights from noisy, structured, and unstructured data.Do you want to know why Data Science has been labelled as the sexiest profession of the 21st century? After taking this course you will be able to answer this question, and get a thorough understanding of what is Data Science, what data scientists do, and learn about career paths in the field. '"
      ]
     },
     "execution_count": 24,
     "metadata": {},
     "output_type": "execute_result"
    }
   ],
   "source": [
    "data.read()"
   ]
  },
  {
   "cell_type": "code",
   "execution_count": 28,
   "id": "00eebc24-ec66-43f8-af3d-3e20d2daf93e",
   "metadata": {},
   "outputs": [
    {
     "data": {
      "text/plain": [
       "100"
      ]
     },
     "execution_count": 28,
     "metadata": {},
     "output_type": "execute_result"
    }
   ],
   "source": [
    "data.seek(100) #Sets index at 100th index"
   ]
  },
  {
   "cell_type": "code",
   "execution_count": 29,
   "id": "e898cb8f-64c9-410e-8d76-31eba1f04cfe",
   "metadata": {},
   "outputs": [
    {
     "data": {
      "text/plain": [
       "'ntific methods, processes, algorithms and systems to extract or extrapolate knowledge and insights from noisy, structured, and unstructured data.Do you want to know why Data Science has been labelled as the sexiest profession of the 21st century? After taking this course you will be able to answer this question, and get a thorough understanding of what is Data Science, what data scientists do, and learn about career paths in the field. '"
      ]
     },
     "execution_count": 29,
     "metadata": {},
     "output_type": "execute_result"
    }
   ],
   "source": [
    "data.read() #My file will start reading from 100th index"
   ]
  },
  {
   "cell_type": "code",
   "execution_count": 49,
   "id": "bc4fe675-3e7e-49ca-8cff-a31d431452f1",
   "metadata": {},
   "outputs": [
    {
     "data": {
      "text/plain": [
       "540"
      ]
     },
     "execution_count": 49,
     "metadata": {},
     "output_type": "execute_result"
    }
   ],
   "source": [
    "#Size of my file in bytes\n",
    "import os\n",
    "os.path.getsize(\"test.txt\")"
   ]
  },
  {
   "cell_type": "code",
   "execution_count": 48,
   "id": "39e6d4fd-bb9a-41c5-b0cd-6ab4c379f40d",
   "metadata": {},
   "outputs": [
    {
     "data": {
      "text/plain": [
       "530"
      ]
     },
     "execution_count": 48,
     "metadata": {},
     "output_type": "execute_result"
    }
   ],
   "source": [
    "data.seek(530) #That is size of my file is 540 bytes"
   ]
  },
  {
   "cell_type": "code",
   "execution_count": 41,
   "id": "1d95fb68-855a-4445-94f4-6a84ebdd5f32",
   "metadata": {},
   "outputs": [
    {
     "data": {
      "text/plain": [
       "'he field. '"
      ]
     },
     "execution_count": 41,
     "metadata": {},
     "output_type": "execute_result"
    }
   ],
   "source": [
    "data.read()"
   ]
  },
  {
   "cell_type": "code",
   "execution_count": 43,
   "id": "c872ba71-50a3-4abd-827f-d98ff64c44cb",
   "metadata": {},
   "outputs": [],
   "source": [
    "data1=open(\"test.txt\",\"r\")"
   ]
  },
  {
   "cell_type": "code",
   "execution_count": 45,
   "id": "abe46749-91f4-436c-b353-c157b8eea005",
   "metadata": {},
   "outputs": [
    {
     "data": {
      "text/plain": [
       "_io.TextIOWrapper"
      ]
     },
     "execution_count": 45,
     "metadata": {},
     "output_type": "execute_result"
    }
   ],
   "source": [
    "type(data1)"
   ]
  },
  {
   "cell_type": "code",
   "execution_count": 46,
   "id": "919147d2-d265-4275-919c-9acbef5e0a71",
   "metadata": {},
   "outputs": [
    {
     "name": "stdout",
     "output_type": "stream",
     "text": [
      "Data science is an interdisciplinary academic field that uses statistics, scientific computing, scientific methods, processes, algorithms and systems to extract or extrapolate knowledge and insights from noisy, structured, and unstructured data.Do you want to know why Data Science has been labelled as the sexiest profession of the 21st century? After taking this course you will be able to answer this question, and get a thorough understanding of what is Data Science, what data scientists do, and learn about career paths in the field. \n"
     ]
    }
   ],
   "source": [
    "for i in data1:\n",
    "    print(i)"
   ]
  },
  {
   "cell_type": "code",
   "execution_count": 52,
   "id": "5199bda0-7fca-4ece-a5e0-6409c1e99cb8",
   "metadata": {},
   "outputs": [
    {
     "data": {
      "text/plain": [
       "'new_test.txt'"
      ]
     },
     "execution_count": 52,
     "metadata": {},
     "output_type": "execute_result"
    }
   ],
   "source": [
    "import shutil \n",
    "shutil.copy(\"test.txt\",\"new_test.txt\") #Copies test.txt and creates new file new_test.txt"
   ]
  },
  {
   "cell_type": "code",
   "execution_count": 53,
   "id": "47f90778-d6ec-474c-b4d5-9c8b1bcd5890",
   "metadata": {},
   "outputs": [],
   "source": [
    "os.remove(\"test.txt\") #Delete file"
   ]
  },
  {
   "cell_type": "code",
   "execution_count": 55,
   "id": "7894fbc6-340e-424b-b5eb-9c1a7ec832e0",
   "metadata": {},
   "outputs": [
    {
     "name": "stdout",
     "output_type": "stream",
     "text": [
      "Data science is an interdisciplinary academic field that uses statistics, scientific computing, scientific methods, processes, algorithms and systems to extract or extrapolate knowledge and insights from noisy, structured, and unstructured data.Do you want to know why Data Science has been labelled as the sexiest profession of the 21st century? After taking this course you will be able to answer this question, and get a thorough understanding of what is Data Science, what data scientists do, and learn about career paths in the field. \n"
     ]
    }
   ],
   "source": [
    "#New way to read a file\n",
    "with open(\"new_test.txt\",\"r\") as f:\n",
    "    print(f.read())"
   ]
  },
  {
   "cell_type": "code",
   "execution_count": 57,
   "id": "c1f5b724-9c03-46f1-823e-0c2a19ca7020",
   "metadata": {},
   "outputs": [],
   "source": [
    "#Rename the file\n",
    "os.rename(\"new_test.txt\",\"test1.txt\")"
   ]
  },
  {
   "cell_type": "markdown",
   "id": "b11da708-d7ac-4e3d-8b2a-9b6104ce27f8",
   "metadata": {},
   "source": [
    "###Create write read (json file,csv file,binary file)"
   ]
  },
  {
   "cell_type": "code",
   "execution_count": 72,
   "id": "f7ca55c9-3ae3-415b-b82e-c1e8cfb56874",
   "metadata": {},
   "outputs": [],
   "source": [
    "data = {\"name\" : \"sudh\",\"mail_id\" : \"sudh@gmail.com\",\"phone_number\" : 91345435,\"subject\" :[\"data science\" , \"big data\" , \"data analytics\"]}"
   ]
  },
  {
   "cell_type": "code",
   "execution_count": 70,
   "id": "e12eca37-06a1-4425-99c3-0767886dc037",
   "metadata": {},
   "outputs": [],
   "source": [
    "import json #Javascript object notation"
   ]
  },
  {
   "cell_type": "code",
   "execution_count": 71,
   "id": "a8bbae77-101d-4f67-a20b-8dd890c18f78",
   "metadata": {},
   "outputs": [],
   "source": [
    "with open(\"test1.json\", \"w\") as f :\n",
    "    json.dump(data,f)"
   ]
  },
  {
   "cell_type": "code",
   "execution_count": 73,
   "id": "11fa2967-0f70-439f-8016-bbfa0efd7121",
   "metadata": {},
   "outputs": [],
   "source": [
    "with open(\"test1.json\",\"r\") as f:\n",
    "    data1=json.load(f)"
   ]
  },
  {
   "cell_type": "code",
   "execution_count": 74,
   "id": "49b0ff71-e9b4-462c-b708-94b3b66450ed",
   "metadata": {},
   "outputs": [
    {
     "data": {
      "text/plain": [
       "{'name': 'sudh',\n",
       " 'mail_id': 'sudh@gmail.com',\n",
       " 'phone_number': 91345435,\n",
       " 'subject': ['data science', 'big data', 'data analytics']}"
      ]
     },
     "execution_count": 74,
     "metadata": {},
     "output_type": "execute_result"
    }
   ],
   "source": [
    "data1"
   ]
  },
  {
   "cell_type": "code",
   "execution_count": 75,
   "id": "9475f90e-31a0-4ef5-aadd-fa5afcb754a5",
   "metadata": {},
   "outputs": [
    {
     "name": "stdout",
     "output_type": "stream",
     "text": [
      "{\"name\": \"sudh\", \"mail_id\": \"sudh@gmail.com\", \"phone_number\": 91345435, \"subject\": [\"data science\", \"big data\", \"data analytics\"]}\n"
     ]
    }
   ],
   "source": [
    "with open(\"test1.json\",\"r\") as f:\n",
    "    print(f.read())"
   ]
  },
  {
   "cell_type": "code",
   "execution_count": 77,
   "id": "20fac63f-3956-46ac-97a6-6ec6a6e08ca2",
   "metadata": {},
   "outputs": [
    {
     "data": {
      "text/plain": [
       "['data science', 'big data', 'data analytics']"
      ]
     },
     "execution_count": 77,
     "metadata": {},
     "output_type": "execute_result"
    }
   ],
   "source": [
    "data1[\"subject\"]"
   ]
  },
  {
   "cell_type": "code",
   "execution_count": 78,
   "id": "10c6f968-8f23-4006-80c5-9ea411f92fc3",
   "metadata": {},
   "outputs": [
    {
     "data": {
      "text/plain": [
       "'big data'"
      ]
     },
     "execution_count": 78,
     "metadata": {},
     "output_type": "execute_result"
    }
   ],
   "source": [
    "data1[\"subject\"][1]"
   ]
  },
  {
   "cell_type": "code",
   "execution_count": 87,
   "id": "e71ab2ff-5ab0-495a-93bd-941b1bf1cd52",
   "metadata": {},
   "outputs": [],
   "source": [
    "data2=[[\"name\",\"email_id\",\"number\"],[\"sudh\",\"sudh@gmail.com\",1234567890],[\"krish\",\"krish@gmail.com\",9876543210]]"
   ]
  },
  {
   "cell_type": "code",
   "execution_count": 88,
   "id": "00250a5a-315f-4b69-8d40-c38b0535be2a",
   "metadata": {},
   "outputs": [],
   "source": [
    "import csv"
   ]
  },
  {
   "cell_type": "code",
   "execution_count": 89,
   "id": "987a93fa-6d7b-4797-a7bf-2fc4cf977b35",
   "metadata": {},
   "outputs": [],
   "source": [
    "with open(\"test1.csv\",\"w\") as f:\n",
    "    w=csv.writer(f)\n",
    "    for i in data2:\n",
    "        w.writerow(i)"
   ]
  },
  {
   "cell_type": "code",
   "execution_count": 86,
   "id": "de7f772b-bb56-4408-afeb-d8ed7fe63244",
   "metadata": {},
   "outputs": [],
   "source": [
    "os.remove(\"test1.csv\")"
   ]
  },
  {
   "cell_type": "code",
   "execution_count": 91,
   "id": "9dae8d29-af80-4c41-bd25-d6873cb77787",
   "metadata": {},
   "outputs": [
    {
     "name": "stdout",
     "output_type": "stream",
     "text": [
      "['name', 'email_id', 'number']\n",
      "['sudh', 'sudh@gmail.com', '1234567890']\n",
      "['krish', 'krish@gmail.com', '9876543210']\n"
     ]
    }
   ],
   "source": [
    "with open(\"test1.csv\",\"r\") as f:\n",
    "    read=csv.reader(f)\n",
    "    for i in read:\n",
    "        print(i)"
   ]
  },
  {
   "cell_type": "code",
   "execution_count": 94,
   "id": "52e4c05f-5576-44b6-adb3-64a1c32300d7",
   "metadata": {},
   "outputs": [],
   "source": [
    "data3=b\"\\x01\\x02\\x03\"\n",
    "with open(\"test1.bin\",\"wb\") as f:\n",
    "    f.write(data3)"
   ]
  },
  {
   "cell_type": "code",
   "execution_count": 95,
   "id": "b0f4ed71-b04b-4d3a-af6d-2a716244a3db",
   "metadata": {},
   "outputs": [
    {
     "name": "stdout",
     "output_type": "stream",
     "text": [
      "b'\\x01\\x02\\x03'\n"
     ]
    }
   ],
   "source": [
    "with open (\"test1.bin\",\"rb\") as f:\n",
    "    print(f.read())"
   ]
  },
  {
   "cell_type": "markdown",
   "id": "737f95fc-1c62-41b4-b878-7a367c4b217c",
   "metadata": {},
   "source": [
    "BUFFER READ AND WRITE OPERATION"
   ]
  },
  {
   "cell_type": "code",
   "execution_count": 98,
   "id": "0023fb50-5b81-47a7-8855-a2fb68d3b584",
   "metadata": {},
   "outputs": [],
   "source": [
    "import io #When i have big file in gb ad tb size then i can't read or load whole file at one time instead i will do in small chunk"
   ]
  },
  {
   "cell_type": "code",
   "execution_count": 103,
   "id": "d687d765-b946-4a51-888f-7c6f38273c87",
   "metadata": {},
   "outputs": [],
   "source": [
    "with open(\"test.txt\",\"wb\") as f:\n",
    "    file=io.BufferedWriter(f)\n",
    "    file.write(b\"This is my buffer write first line\\n\")\n",
    "    file.write(b\"This is second line\\n\")\n",
    "    file.write(b\"File buffering is a mechanism where the data is read/written into a buffer memory area rather than directly on to disk. This hugely improves the I/O performance when reading or writing files large files since the application doesn't have to wait for the disk read or write to finish\")\n",
    "    file.flush()"
   ]
  },
  {
   "cell_type": "code",
   "execution_count": 108,
   "id": "a94f42de-5485-42b2-94ea-5db2e4df0a0b",
   "metadata": {},
   "outputs": [
    {
     "name": "stdout",
     "output_type": "stream",
     "text": [
      "b'This is my buffer write first line\\nThis is second line\\nFile buffering is a mechanism where the data '\n"
     ]
    }
   ],
   "source": [
    "with open(\"test.txt\",\"rb\") as f:\n",
    "    file=io.BufferedReader(f)\n",
    "    data=file.read(100)\n",
    "    print(data)"
   ]
  },
  {
   "cell_type": "code",
   "execution_count": 109,
   "id": "e85e5699-8ebc-4b94-b6bb-2df0bdb76dc8",
   "metadata": {},
   "outputs": [
    {
     "name": "stdout",
     "output_type": "stream",
     "text": [
      "b\"This is my buffer write first line\\nThis is second line\\nFile buffering is a mechanism where the data is read/written into a buffer memory area rather than directly on to disk. This hugely improves the I/O performance when reading or writing files large files since the application doesn't have to wait for the disk read or write to finish\"\n"
     ]
    }
   ],
   "source": [
    "with open(\"test.txt\",\"rb\") as f:\n",
    "    file=io.BufferedReader(f)\n",
    "    data=file.read(1000)\n",
    "    print(data)"
   ]
  },
  {
   "cell_type": "code",
   "execution_count": 110,
   "id": "369ffa97-141c-4391-a1cf-49b0dc067c92",
   "metadata": {},
   "outputs": [],
   "source": [
    "###Buffer read and write is use in case of very large files"
   ]
  },
  {
   "cell_type": "markdown",
   "id": "80707a41-49ba-4a41-b203-b67673fdbbb5",
   "metadata": {},
   "source": [
    "###LOGGING AND DEBUGGING"
   ]
  },
  {
   "cell_type": "code",
   "execution_count": 10,
   "id": "98217fa8-9e5c-4a29-99d0-2a066e4e9368",
   "metadata": {},
   "outputs": [
    {
     "name": "stdout",
     "output_type": "stream",
     "text": [
      "This is my print statement\n"
     ]
    }
   ],
   "source": [
    "print(\"This is my print statement\") ###Print statemnt prints in console which is temporary after closing program it vanishes\n",
    "#But it is essential when we handle sensitive data our all logging debiugging info needs to be saved so we create file where\n",
    "#all our info gets save all error occcured all logging and evrything"
   ]
  },
  {
   "cell_type": "code",
   "execution_count": 1,
   "id": "172dc997-ea1f-47f4-bec9-838bc4b2a02a",
   "metadata": {},
   "outputs": [],
   "source": [
    "import logging"
   ]
  },
  {
   "cell_type": "code",
   "execution_count": 113,
   "id": "9de6e200-3558-4363-9ca6-844d414b8ee4",
   "metadata": {},
   "outputs": [],
   "source": [
    "logging.basicConfig(filename=\"test.log\",level=logging.INFO)"
   ]
  },
  {
   "cell_type": "code",
   "execution_count": 114,
   "id": "4b5aba44-4517-4599-9989-a006f092ceab",
   "metadata": {},
   "outputs": [],
   "source": [
    "logging.info(\"This is my line of execution\")"
   ]
  },
  {
   "cell_type": "code",
   "execution_count": 115,
   "id": "d1643751-278b-45e9-8b6f-aa774bfeb788",
   "metadata": {},
   "outputs": [],
   "source": [
    "logging.error(\"This is my error\")"
   ]
  },
  {
   "cell_type": "code",
   "execution_count": 119,
   "id": "8ba5b6ff-00a2-48d5-8896-b2fc20242bd7",
   "metadata": {},
   "outputs": [],
   "source": [
    "logging.critical(\"This is my critical\")"
   ]
  },
  {
   "cell_type": "code",
   "execution_count": 117,
   "id": "c43ef7e1-c7b8-44b6-8d60-ee463b170adc",
   "metadata": {},
   "outputs": [
    {
     "data": {
      "text/plain": [
       "'1.Noset\\n2.Debug\\n3.Info\\n4.Warning\\n5.Error\\n6.Critical'"
      ]
     },
     "execution_count": 117,
     "metadata": {},
     "output_type": "execute_result"
    }
   ],
   "source": [
    "\"\"\"1.Noset\n",
    "2.Debug\n",
    "3.Info\n",
    "4.Warning\n",
    "5.Error\n",
    "6.Critical\"\"\""
   ]
  },
  {
   "cell_type": "code",
   "execution_count": 120,
   "id": "8771576f-0987-499e-8d93-df5001056d47",
   "metadata": {},
   "outputs": [],
   "source": [
    "logging.error(\"This is my error\")"
   ]
  },
  {
   "cell_type": "code",
   "execution_count": 122,
   "id": "ff935203-e4ad-4db2-8639-261cf2f50827",
   "metadata": {},
   "outputs": [],
   "source": [
    "logging.debug(\"This is my info related to debug\")"
   ]
  },
  {
   "cell_type": "code",
   "execution_count": 123,
   "id": "e1238588-ad28-4d62-b27e-492962f60f2b",
   "metadata": {},
   "outputs": [],
   "source": [
    "logging.shutdown()"
   ]
  },
  {
   "cell_type": "code",
   "execution_count": 2,
   "id": "a264b6f7-54b1-4ebc-90b0-848465900c48",
   "metadata": {},
   "outputs": [],
   "source": [
    "logging.basicConfig(filename=\"test1.log\",level=logging.DEBUG,format=\"%(asctime)s %(message)s\")"
   ]
  },
  {
   "cell_type": "code",
   "execution_count": 3,
   "id": "60790bc4-61cf-4eec-994b-4b44d619732e",
   "metadata": {},
   "outputs": [],
   "source": [
    "logging.info(\"this is my info log\")"
   ]
  },
  {
   "cell_type": "code",
   "execution_count": 4,
   "id": "5972ef5e-fc15-48e3-88ac-26430089367b",
   "metadata": {},
   "outputs": [],
   "source": [
    "logging.debug(\"this is my debug log\")"
   ]
  },
  {
   "cell_type": "code",
   "execution_count": 5,
   "id": "4e744628-b253-49df-8c83-0ab11a3e6707",
   "metadata": {},
   "outputs": [],
   "source": [
    "logging.warning(\"this s my warnig\")"
   ]
  },
  {
   "cell_type": "code",
   "execution_count": 6,
   "id": "12458771-d35e-4e40-a808-2e9af9cb364d",
   "metadata": {},
   "outputs": [],
   "source": [
    "logging.shutdown()"
   ]
  },
  {
   "cell_type": "code",
   "execution_count": 2,
   "id": "09acf742-0617-49ef-8d2a-26ad79d90567",
   "metadata": {},
   "outputs": [],
   "source": [
    "logging.basicConfig(filename = \"test3.log\" , level = logging.DEBUG, format = '%(asctime)s %(name)s %(levelname)s  %(message)s')"
   ]
  },
  {
   "cell_type": "code",
   "execution_count": 3,
   "id": "a1bd4a23-6d91-43f7-87fe-edba9b42af06",
   "metadata": {},
   "outputs": [],
   "source": [
    "logging.info(\"this is my info log\")"
   ]
  },
  {
   "cell_type": "code",
   "execution_count": 4,
   "id": "f7f625e4-fea6-4669-8832-2bb695968143",
   "metadata": {},
   "outputs": [],
   "source": [
    "l=[1,2,3,4,[5,6,7,8],\"sudh\",\"kumar\"]"
   ]
  },
  {
   "cell_type": "code",
   "execution_count": 5,
   "id": "7f4c8c0f-79d0-4acc-a9c8-a51dffad7b31",
   "metadata": {},
   "outputs": [
    {
     "data": {
      "text/plain": [
       "[1, 2, 3, 4, [5, 6, 7, 8], 'sudh', 'kumar']"
      ]
     },
     "execution_count": 5,
     "metadata": {},
     "output_type": "execute_result"
    }
   ],
   "source": [
    "l"
   ]
  },
  {
   "cell_type": "code",
   "execution_count": 9,
   "id": "44e3b3b2-a5ac-4a6f-9e3a-bd3f15717b00",
   "metadata": {},
   "outputs": [],
   "source": [
    "l1=[]\n",
    "l2=[]\n",
    "for i in l:\n",
    "    logging.info(\"This is the start of my first start loop{}\".format(l))\n",
    "    logging.info(\"This is the value of i that is logging{}\".format(i))\n",
    "    if(type(i)==int):\n",
    "        l1.append(i)\n",
    "    elif(type(i)==list):\n",
    "        for j in i:\n",
    "            logging.info(f\"Logging my j={j} and i{i}\")\n",
    "            if(type(j)==int):\n",
    "                l1.append(j)\n",
    "    elif(type(i)==str):\n",
    "        l2.append(i)\n",
    "logging.info(\"My Final Info\")"
   ]
  },
  {
   "cell_type": "code",
   "execution_count": 26,
   "id": "41d30504-bfde-4262-bd0f-d6648c50ee42",
   "metadata": {},
   "outputs": [
    {
     "data": {
      "text/plain": [
       "[1, 2, 3, 4, 5, 6, 7, 8]"
      ]
     },
     "execution_count": 26,
     "metadata": {},
     "output_type": "execute_result"
    }
   ],
   "source": [
    "l1"
   ]
  },
  {
   "cell_type": "code",
   "execution_count": 27,
   "id": "57a25435-7c43-4f1a-8a6f-2a0178a6cec9",
   "metadata": {},
   "outputs": [
    {
     "data": {
      "text/plain": [
       "['sudh', 'kumar']"
      ]
     },
     "execution_count": 27,
     "metadata": {},
     "output_type": "execute_result"
    }
   ],
   "source": [
    "l2"
   ]
  },
  {
   "cell_type": "code",
   "execution_count": 12,
   "id": "54c8b29e-e207-48dd-b930-c4f1e132dcbe",
   "metadata": {},
   "outputs": [
    {
     "ename": "FileNotFoundError",
     "evalue": "[Errno 2] No such file or directory: 'test2.log'",
     "output_type": "error",
     "traceback": [
      "\u001b[0;31m---------------------------------------------------------------------------\u001b[0m",
      "\u001b[0;31mFileNotFoundError\u001b[0m                         Traceback (most recent call last)",
      "Cell \u001b[0;32mIn[12], line 2\u001b[0m\n\u001b[1;32m      1\u001b[0m \u001b[38;5;28;01mimport\u001b[39;00m \u001b[38;5;21;01mos\u001b[39;00m\n\u001b[0;32m----> 2\u001b[0m \u001b[43mos\u001b[49m\u001b[38;5;241;43m.\u001b[39;49m\u001b[43mremove\u001b[49m\u001b[43m(\u001b[49m\u001b[38;5;124;43m\"\u001b[39;49m\u001b[38;5;124;43mtest2.log\u001b[39;49m\u001b[38;5;124;43m\"\u001b[39;49m\u001b[43m)\u001b[49m\n",
      "\u001b[0;31mFileNotFoundError\u001b[0m: [Errno 2] No such file or directory: 'test2.log'"
     ]
    }
   ],
   "source": [
    "import os\n",
    "os.remove(\"test2.log\")"
   ]
  },
  {
   "cell_type": "code",
   "execution_count": null,
   "id": "1c594405-bf80-47df-9288-416216004046",
   "metadata": {},
   "outputs": [],
   "source": []
  }
 ],
 "metadata": {
  "kernelspec": {
   "display_name": "Python 3 (ipykernel)",
   "language": "python",
   "name": "python3"
  },
  "language_info": {
   "codemirror_mode": {
    "name": "ipython",
    "version": 3
   },
   "file_extension": ".py",
   "mimetype": "text/x-python",
   "name": "python",
   "nbconvert_exporter": "python",
   "pygments_lexer": "ipython3",
   "version": "3.10.8"
  }
 },
 "nbformat": 4,
 "nbformat_minor": 5
}
