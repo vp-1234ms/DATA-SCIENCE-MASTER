{
 "cells": [
  {
   "cell_type": "code",
   "execution_count": 1,
   "id": "2a243ebc-57a1-4868-906a-b2a16e613ac2",
   "metadata": {},
   "outputs": [],
   "source": [
    "a=10"
   ]
  },
  {
   "cell_type": "code",
   "execution_count": 2,
   "id": "db885dd2-1f1b-45c3-b2b1-f404a1b7099d",
   "metadata": {},
   "outputs": [
    {
     "name": "stdout",
     "output_type": "stream",
     "text": [
      "10\n"
     ]
    }
   ],
   "source": [
    "print(a)"
   ]
  },
  {
   "cell_type": "code",
   "execution_count": 3,
   "id": "81669932-8d8c-4c67-a0c2-d410cdb1226e",
   "metadata": {},
   "outputs": [],
   "source": [
    "a='c'"
   ]
  },
  {
   "cell_type": "code",
   "execution_count": 4,
   "id": "17dae46a-f249-4541-a12e-d9592172b43a",
   "metadata": {},
   "outputs": [
    {
     "name": "stdout",
     "output_type": "stream",
     "text": [
      "c\n"
     ]
    }
   ],
   "source": [
    "print(a)"
   ]
  },
  {
   "cell_type": "code",
   "execution_count": 5,
   "id": "3f329305-1c82-490b-87a7-f398375d7e88",
   "metadata": {},
   "outputs": [],
   "source": [
    "##Different types of print statements"
   ]
  },
  {
   "cell_type": "code",
   "execution_count": 6,
   "id": "b6e014e3-5909-4e0a-8294-9cb725d64de5",
   "metadata": {},
   "outputs": [
    {
     "name": "stdout",
     "output_type": "stream",
     "text": [
      "My age is  10\n"
     ]
    }
   ],
   "source": [
    "age=10\n",
    "print(\"My age is \", age)"
   ]
  },
  {
   "cell_type": "code",
   "execution_count": 7,
   "id": "39ec25c0-eb26-4d0f-ba8b-3302f0aa3f94",
   "metadata": {},
   "outputs": [
    {
     "name": "stdout",
     "output_type": "stream",
     "text": [
      "My age is  19  my name is  Vaibhav  and my degree is  Btech\n"
     ]
    }
   ],
   "source": [
    "name=\"Vaibhav\"\n",
    "age=19\n",
    "degree=\"Btech\"\n",
    "print(\"My age is \",age,\" my name is \",name,\" and my degree is \",degree)"
   ]
  },
  {
   "cell_type": "code",
   "execution_count": 9,
   "id": "9c76b90a-8fb2-4d3d-8246-eb071abbef0f",
   "metadata": {},
   "outputs": [
    {
     "name": "stdout",
     "output_type": "stream",
     "text": [
      "My age is 19 my name is Vaibhav and my degree is Btech\n"
     ]
    }
   ],
   "source": [
    "print(f\"My age is {age} my name is {name} and my degree is {degree}\")"
   ]
  },
  {
   "cell_type": "code",
   "execution_count": 10,
   "id": "b8246ded-2d26-4bcb-bd76-ac3bf5c05d6f",
   "metadata": {},
   "outputs": [
    {
     "name": "stdout",
     "output_type": "stream",
     "text": [
      "My age is 19 my name is Vaibhav and my degree is Btech\n"
     ]
    }
   ],
   "source": [
    "print(\"My age is {} my name is {} and my degree is {}\".format(age,name,degree))"
   ]
  },
  {
   "cell_type": "code",
   "execution_count": 11,
   "id": "60177f0f-38fc-4fe0-9f1f-c22ac061e0e4",
   "metadata": {},
   "outputs": [
    {
     "name": "stdout",
     "output_type": "stream",
     "text": [
      "My age is Vaibhav my name is Btech and my degree is 19\n"
     ]
    }
   ],
   "source": [
    "print(\"My age is {} my name is {} and my degree is {}\".format(name,degree,age))"
   ]
  },
  {
   "cell_type": "code",
   "execution_count": 13,
   "id": "2065191a-a2ca-4408-9bef-c4b8bd0b13ef",
   "metadata": {},
   "outputs": [
    {
     "name": "stdout",
     "output_type": "stream",
     "text": [
      "My age is 19 my name is Vaibhav and my degree is Btech\n"
     ]
    }
   ],
   "source": [
    "print(\"My age is {firstage} my name is {firstname} and my degree is {firstdegree}\".format(firstname=name,firstage=age,firstdegree=degree))"
   ]
  },
  {
   "cell_type": "code",
   "execution_count": 14,
   "id": "e74f42d0-9aa5-40f5-9467-e9281e4cd01c",
   "metadata": {},
   "outputs": [],
   "source": [
    "##Always try use. print(f\"\") format string looks good and complex"
   ]
  },
  {
   "cell_type": "markdown",
   "id": "66759e20-51f5-4cb1-bf9d-37585af214f2",
   "metadata": {},
   "source": [
    "##CONTROL FLOW STATEMENTS\n",
    "1)IF\n",
    "2)IF SLE\n",
    "3)IF ELIF ELSE\n",
    "4)NESTED IF\n",
    "5)SINGLE STATEMNT SUITES"
   ]
  },
  {
   "cell_type": "code",
   "execution_count": 15,
   "id": "6f04a83f-a560-4fc9-a974-9de9ef57d994",
   "metadata": {},
   "outputs": [],
   "source": [
    "age=18\n"
   ]
  },
  {
   "cell_type": "code",
   "execution_count": 16,
   "id": "976ec50a-b230-48c5-9c08-678970ed69a0",
   "metadata": {},
   "outputs": [
    {
     "name": "stdout",
     "output_type": "stream",
     "text": [
      "You are eligible to vote\n"
     ]
    }
   ],
   "source": [
    "if(age>=18):\n",
    "    print(\"You are eligible to vote\")"
   ]
  },
  {
   "cell_type": "code",
   "execution_count": 17,
   "id": "9a4d7bb2-00c2-4234-b5bc-83158de2aca5",
   "metadata": {},
   "outputs": [
    {
     "name": "stdout",
     "output_type": "stream",
     "text": [
      "You are eligible to vote\n"
     ]
    }
   ],
   "source": [
    "if(age>=18):\n",
    "    print(\"You are eligible to vote\")\n",
    "else:\n",
    "    print(\"You are not eligible to vote\")"
   ]
  },
  {
   "cell_type": "code",
   "execution_count": 18,
   "id": "c689db68-92b1-4db3-a067-af6a4b28696a",
   "metadata": {},
   "outputs": [
    {
     "name": "stdout",
     "output_type": "stream",
     "text": [
      "You are not eligible to vote\n"
     ]
    }
   ],
   "source": [
    "age=17\n",
    "if(age>=18):\n",
    "    print(\"You are eligible to vote\")\n",
    "else:\n",
    "    print(\"You are not eligible to vote\")"
   ]
  },
  {
   "cell_type": "code",
   "execution_count": 19,
   "id": "ac6f25fb-c053-4c26-a623-36160d1ac928",
   "metadata": {},
   "outputs": [
    {
     "data": {
      "text/plain": [
       "False"
      ]
     },
     "execution_count": 19,
     "metadata": {},
     "output_type": "execute_result"
    }
   ],
   "source": [
    "17>18"
   ]
  },
  {
   "cell_type": "code",
   "execution_count": 20,
   "id": "489cdad5-2591-44ad-8874-a688e1b94f8a",
   "metadata": {},
   "outputs": [
    {
     "data": {
      "text/plain": [
       "True"
      ]
     },
     "execution_count": 20,
     "metadata": {},
     "output_type": "execute_result"
    }
   ],
   "source": [
    "18>=18\n"
   ]
  },
  {
   "cell_type": "code",
   "execution_count": 21,
   "id": "83ebbc5e-396b-4c1f-89eb-71b681086100",
   "metadata": {},
   "outputs": [
    {
     "data": {
      "text/plain": [
       "True"
      ]
     },
     "execution_count": 21,
     "metadata": {},
     "output_type": "execute_result"
    }
   ],
   "source": [
    "19>18"
   ]
  },
  {
   "cell_type": "code",
   "execution_count": 22,
   "id": "137d0c9c-611a-4c0d-8f90-0ad94bd4cdc2",
   "metadata": {},
   "outputs": [
    {
     "data": {
      "text/plain": [
       "True"
      ]
     },
     "execution_count": 22,
     "metadata": {},
     "output_type": "execute_result"
    }
   ],
   "source": [
    "19>=18\n"
   ]
  },
  {
   "cell_type": "markdown",
   "id": "7e0ca7dd-ec24-403d-a0dc-b5fcf270695a",
   "metadata": {},
   "source": [
    "##INPUTS"
   ]
  },
  {
   "cell_type": "code",
   "execution_count": 23,
   "id": "1704528d-6397-4264-ae02-5134d822ab67",
   "metadata": {},
   "outputs": [
    {
     "name": "stdin",
     "output_type": "stream",
     "text": [
      "Enter your name  Vaibhav\n"
     ]
    }
   ],
   "source": [
    "name=input(\"Enter your name \" )"
   ]
  },
  {
   "cell_type": "code",
   "execution_count": 24,
   "id": "c27f6b4e-ad96-4103-89ea-6adc17216705",
   "metadata": {},
   "outputs": [
    {
     "data": {
      "text/plain": [
       "'Vaibhav'"
      ]
     },
     "execution_count": 24,
     "metadata": {},
     "output_type": "execute_result"
    }
   ],
   "source": [
    "name"
   ]
  },
  {
   "cell_type": "code",
   "execution_count": 25,
   "id": "2cfb43de-789f-4bab-a93d-154ce8582ea4",
   "metadata": {},
   "outputs": [
    {
     "name": "stdout",
     "output_type": "stream",
     "text": [
      "Vaibhav\n"
     ]
    }
   ],
   "source": [
    "print(name)"
   ]
  },
  {
   "cell_type": "code",
   "execution_count": 26,
   "id": "8d38668c-082b-4f56-842a-65619b025f3e",
   "metadata": {},
   "outputs": [
    {
     "name": "stdin",
     "output_type": "stream",
     "text": [
      "Enter age  12\n"
     ]
    }
   ],
   "source": [
    "a=input(\"Enter age \" )"
   ]
  },
  {
   "cell_type": "code",
   "execution_count": 27,
   "id": "2700ce41-3c04-40e7-92b9-fc2da491068a",
   "metadata": {},
   "outputs": [
    {
     "data": {
      "text/plain": [
       "str"
      ]
     },
     "execution_count": 27,
     "metadata": {},
     "output_type": "execute_result"
    }
   ],
   "source": [
    "type(a)"
   ]
  },
  {
   "cell_type": "code",
   "execution_count": 28,
   "id": "3e686e1d-a0d8-4c1e-815e-c09c3f019882",
   "metadata": {},
   "outputs": [],
   "source": [
    "##This means input taken always will be in string if we want it in integer format then we need to do typecasting"
   ]
  },
  {
   "cell_type": "code",
   "execution_count": 30,
   "id": "b5f0bda2-11d3-44b0-a1d6-75f88102bbf5",
   "metadata": {},
   "outputs": [
    {
     "name": "stdin",
     "output_type": "stream",
     "text": [
      "Enter your age  19\n"
     ]
    }
   ],
   "source": [
    "a=int(input(\"Enter your age \"))"
   ]
  },
  {
   "cell_type": "code",
   "execution_count": 31,
   "id": "f8924276-45af-4182-a02e-238a73ee4cd3",
   "metadata": {},
   "outputs": [
    {
     "name": "stdout",
     "output_type": "stream",
     "text": [
      "<class 'int'>\n"
     ]
    }
   ],
   "source": [
    "print(type(a))"
   ]
  },
  {
   "cell_type": "code",
   "execution_count": 32,
   "id": "61f21dea-b84d-466f-825c-9c4e7543b179",
   "metadata": {},
   "outputs": [
    {
     "data": {
      "text/plain": [
       "int"
      ]
     },
     "execution_count": 32,
     "metadata": {},
     "output_type": "execute_result"
    }
   ],
   "source": [
    "type(age)"
   ]
  },
  {
   "cell_type": "code",
   "execution_count": 33,
   "id": "ad13770e-9e42-4423-9794-f14f1390ab48",
   "metadata": {},
   "outputs": [
    {
     "name": "stdin",
     "output_type": "stream",
     "text": [
      "Enter your age  19\n"
     ]
    }
   ],
   "source": [
    "age=int(input(\"Enter your age \"))\n"
   ]
  },
  {
   "cell_type": "code",
   "execution_count": 35,
   "id": "adb5a2ec-3dbe-4d05-b611-b312cd985cf6",
   "metadata": {},
   "outputs": [
    {
     "name": "stdout",
     "output_type": "stream",
     "text": [
      "You are young blood\n"
     ]
    }
   ],
   "source": [
    "if((age>=18)and(age<=45)):\n",
    "   print(\"You are young blood\")\n",
    "else:\n",
    "   print(\"You are not young blood\")"
   ]
  },
  {
   "cell_type": "code",
   "execution_count": 36,
   "id": "ffb9c739-3e66-4c55-b20a-1a71b74ec837",
   "metadata": {},
   "outputs": [
    {
     "name": "stdin",
     "output_type": "stream",
     "text": [
      "Enter your age  17\n"
     ]
    }
   ],
   "source": [
    "age=int(input(\"Enter your age \"))"
   ]
  },
  {
   "cell_type": "code",
   "execution_count": 37,
   "id": "fa1c1f98-bdca-43d1-b00d-9b62406818c3",
   "metadata": {},
   "outputs": [
    {
     "name": "stdout",
     "output_type": "stream",
     "text": [
      "You are not young blood\n"
     ]
    }
   ],
   "source": [
    "if((age>=18)and(age<=45)):\n",
    "   print(\"You are young blood\")\n",
    "else:\n",
    "   print(\"You are not young blood\")"
   ]
  },
  {
   "cell_type": "code",
   "execution_count": 38,
   "id": "71d0f18d-4316-4f89-be84-379b5a5b8b75",
   "metadata": {},
   "outputs": [
    {
     "name": "stdin",
     "output_type": "stream",
     "text": [
      "Enter your age  22\n"
     ]
    },
    {
     "name": "stdout",
     "output_type": "stream",
     "text": [
      "You are young blood\n"
     ]
    }
   ],
   "source": [
    "age=int(input(\"Enter your age \"))\n",
    "if((age>=18)and(age<=45)):\n",
    "   print(\"You are young blood\")\n",
    "else:\n",
    "   print(\"You are not young blood\")"
   ]
  },
  {
   "cell_type": "code",
   "execution_count": 39,
   "id": "e5a04110-1c57-4010-a7a4-0a7f97fb1cae",
   "metadata": {},
   "outputs": [
    {
     "name": "stdin",
     "output_type": "stream",
     "text": [
      "Enter your age  55\n"
     ]
    },
    {
     "name": "stdout",
     "output_type": "stream",
     "text": [
      "You are not young blood\n"
     ]
    }
   ],
   "source": [
    "age=int(input(\"Enter your age \"))\n",
    "if((age>=18)and(age<=45)):\n",
    "   print(\"You are young blood\")\n",
    "else:\n",
    "   print(\"You are not young blood\")"
   ]
  },
  {
   "cell_type": "code",
   "execution_count": 40,
   "id": "69eba1b6-a1c9-4cd0-9751-65b430101694",
   "metadata": {},
   "outputs": [
    {
     "name": "stdin",
     "output_type": "stream",
     "text": [
      "Enter your money:  1000\n"
     ]
    }
   ],
   "source": [
    "money=int(input(\"Enter your money: \"))"
   ]
  },
  {
   "cell_type": "code",
   "execution_count": 42,
   "id": "c9298672-8cb1-4c83-9912-f343d0373196",
   "metadata": {},
   "outputs": [
    {
     "name": "stderr",
     "output_type": "stream",
     "text": [
      "<>:3: SyntaxWarning: 'float' object is not callable; perhaps you missed a comma?\n",
      "<>:5: SyntaxWarning: 'float' object is not callable; perhaps you missed a comma?\n",
      "<>:3: SyntaxWarning: 'float' object is not callable; perhaps you missed a comma?\n",
      "<>:5: SyntaxWarning: 'float' object is not callable; perhaps you missed a comma?\n"
     ]
    },
    {
     "name": "stdin",
     "output_type": "stream",
     "text": [
      "Enter Product Price:  1000\n"
     ]
    },
    {
     "name": "stderr",
     "output_type": "stream",
     "text": [
      "/tmp/ipykernel_97/1678142131.py:3: SyntaxWarning: 'float' object is not callable; perhaps you missed a comma?\n",
      "  print(\"Price:{}\".format(0.8(productprice)))\n",
      "/tmp/ipykernel_97/1678142131.py:5: SyntaxWarning: 'float' object is not callable; perhaps you missed a comma?\n",
      "  print(\"Price:{}\".format(0.7(productprice)))\n",
      "/tmp/ipykernel_97/1678142131.py:3: SyntaxWarning: 'float' object is not callable; perhaps you missed a comma?\n",
      "  print(\"Price:{}\".format(0.8(productprice)))\n",
      "/tmp/ipykernel_97/1678142131.py:5: SyntaxWarning: 'float' object is not callable; perhaps you missed a comma?\n",
      "  print(\"Price:{}\".format(0.7(productprice)))\n",
      "/tmp/ipykernel_97/1678142131.py:3: SyntaxWarning: 'float' object is not callable; perhaps you missed a comma?\n",
      "  print(\"Price:{}\".format(0.8(productprice)))\n",
      "/tmp/ipykernel_97/1678142131.py:5: SyntaxWarning: 'float' object is not callable; perhaps you missed a comma?\n",
      "  print(\"Price:{}\".format(0.7(productprice)))\n",
      "/tmp/ipykernel_97/1678142131.py:3: SyntaxWarning: 'float' object is not callable; perhaps you missed a comma?\n",
      "  print(\"Price:{}\".format(0.8(productprice)))\n",
      "/tmp/ipykernel_97/1678142131.py:5: SyntaxWarning: 'float' object is not callable; perhaps you missed a comma?\n",
      "  print(\"Price:{}\".format(0.7(productprice)))\n",
      "/tmp/ipykernel_97/1678142131.py:3: SyntaxWarning: 'float' object is not callable; perhaps you missed a comma?\n",
      "  print(\"Price:{}\".format(0.8(productprice)))\n",
      "/tmp/ipykernel_97/1678142131.py:5: SyntaxWarning: 'float' object is not callable; perhaps you missed a comma?\n",
      "  print(\"Price:{}\".format(0.7(productprice)))\n"
     ]
    },
    {
     "ename": "TypeError",
     "evalue": "'float' object is not callable",
     "output_type": "error",
     "traceback": [
      "\u001b[0;31m---------------------------------------------------------------------------\u001b[0m",
      "\u001b[0;31mTypeError\u001b[0m                                 Traceback (most recent call last)",
      "Cell \u001b[0;32mIn[42], line 5\u001b[0m\n\u001b[1;32m      3\u001b[0m     \u001b[38;5;28mprint\u001b[39m(\u001b[38;5;124m\"\u001b[39m\u001b[38;5;124mPrice:\u001b[39m\u001b[38;5;132;01m{}\u001b[39;00m\u001b[38;5;124m\"\u001b[39m\u001b[38;5;241m.\u001b[39mformat(\u001b[38;5;241m0.8\u001b[39m(productprice)))\n\u001b[1;32m      4\u001b[0m \u001b[38;5;28;01melse\u001b[39;00m:\n\u001b[0;32m----> 5\u001b[0m     \u001b[38;5;28mprint\u001b[39m(\u001b[38;5;124m\"\u001b[39m\u001b[38;5;124mPrice:\u001b[39m\u001b[38;5;132;01m{}\u001b[39;00m\u001b[38;5;124m\"\u001b[39m\u001b[38;5;241m.\u001b[39mformat(\u001b[38;5;241;43m0.7\u001b[39;49m\u001b[43m(\u001b[49m\u001b[43mproductprice\u001b[49m\u001b[43m)\u001b[49m))\n",
      "\u001b[0;31mTypeError\u001b[0m: 'float' object is not callable"
     ]
    }
   ],
   "source": [
    "productprice=int(input(\"Enter Product Price: \"))\n",
    "if(productprice>1000):\n",
    "    print(\"Price:{}\".format(0.8*(productprice)))\n",
    "else:\n",
    "    print(\"Price:{}\".format(0.7*(productprice)))"
   ]
  },
  {
   "cell_type": "code",
   "execution_count": 43,
   "id": "dea9b1d5-af5a-40ca-a75d-827adeabe242",
   "metadata": {},
   "outputs": [
    {
     "name": "stdin",
     "output_type": "stream",
     "text": [
      "Enter Product Price:  1000\n"
     ]
    },
    {
     "name": "stdout",
     "output_type": "stream",
     "text": [
      "Price:700.0\n"
     ]
    }
   ],
   "source": [
    "productprice=int(input(\"Enter Product Price: \"))\n",
    "if(productprice>1000):\n",
    "    print(\"Price:{}\".format(0.8*(productprice)))\n",
    "else:\n",
    "    print(\"Price:{}\".format(0.7*(productprice)))"
   ]
  },
  {
   "cell_type": "code",
   "execution_count": 44,
   "id": "5aaa00a1-3719-494e-ba05-faddff69444c",
   "metadata": {},
   "outputs": [
    {
     "name": "stdin",
     "output_type": "stream",
     "text": [
      "Enter Product Price:  5000\n"
     ]
    },
    {
     "name": "stdout",
     "output_type": "stream",
     "text": [
      "Price:4000.0\n"
     ]
    }
   ],
   "source": [
    "productprice=int(input(\"Enter Product Price: \"))\n",
    "if(productprice>1000):\n",
    "    print(\"Price:{}\".format(0.8*(productprice)))\n",
    "else:\n",
    "    print(\"Price:{}\".format(0.7*(productprice)))"
   ]
  },
  {
   "cell_type": "code",
   "execution_count": 45,
   "id": "9f061e49-4afa-4c65-a5ca-ee097241541d",
   "metadata": {},
   "outputs": [
    {
     "name": "stdin",
     "output_type": "stream",
     "text": [
      "Enter Product Price:  100\n"
     ]
    },
    {
     "name": "stdout",
     "output_type": "stream",
     "text": [
      "Price:70.0\n"
     ]
    }
   ],
   "source": [
    "productprice=int(input(\"Enter Product Price: \"))\n",
    "if(productprice>1000):\n",
    "    print(\"Price:{}\".format(0.8*(productprice)))\n",
    "else:\n",
    "    print(\"Price:{}\".format(0.7*(productprice)))\n",
    "    "
   ]
  },
  {
   "cell_type": "code",
   "execution_count": 46,
   "id": "1ccc9758-347c-404a-b0b4-3c6b71ce23a2",
   "metadata": {},
   "outputs": [
    {
     "name": "stdin",
     "output_type": "stream",
     "text": [
      "Enter Product Price:  1000\n"
     ]
    },
    {
     "name": "stdout",
     "output_type": "stream",
     "text": [
      "Price:700.0\n"
     ]
    }
   ],
   "source": [
    "productprice=int(input(\"Enter Product Price: \"))\n",
    "if(productprice>1000):\n",
    "    print(f\"Price:{0.8*(productprice)}\")\n",
    "else:\n",
    "    print(f\"Price:{0.7*(productprice)}\")\n",
    "   "
   ]
  },
  {
   "cell_type": "code",
   "execution_count": 48,
   "id": "fa5eeae2-fcd5-45d4-b3e1-34fa3d9e5a7d",
   "metadata": {},
   "outputs": [
    {
     "name": "stdin",
     "output_type": "stream",
     "text": [
      "Enter Product Price:  5000\n"
     ]
    },
    {
     "name": "stdout",
     "output_type": "stream",
     "text": [
      "Price:4000.0\n"
     ]
    }
   ],
   "source": [
    "productprice=int(input(\"Enter Product Price: \"))\n",
    "if(productprice>3000):\n",
    "    print(f\"Price:{0.8*(productprice)}\")\n",
    "elif((productprice<=3000)and(productprice>2000)):\n",
    "    print(f\"Price:{0.7*(productprice)}\")\n",
    "elif((productprice<=2000)and(productprice>1000)):\n",
    "    print(f\"Price:{0.4*(productprice)}\")\n",
    "else:\n",
    "    print(f\"Bring Money\")"
   ]
  },
  {
   "cell_type": "code",
   "execution_count": 49,
   "id": "66e8c9f5-7bb1-4bbc-a8f9-b7e64c5f463e",
   "metadata": {},
   "outputs": [
    {
     "name": "stdin",
     "output_type": "stream",
     "text": [
      "Enter Product Price:  2000\n"
     ]
    },
    {
     "name": "stdout",
     "output_type": "stream",
     "text": [
      "Price:800.0\n"
     ]
    }
   ],
   "source": [
    "productprice=int(input(\"Enter Product Price: \"))\n",
    "if(productprice>3000):\n",
    "    print(f\"Price:{0.8*(productprice)}\")\n",
    "elif((productprice<=3000)and(productprice>2000)):\n",
    "    print(f\"Price:{0.7*(productprice)}\")\n",
    "elif((productprice<=2000)and(productprice>1000)):\n",
    "    print(f\"Price:{0.4*(productprice)}\")\n",
    "else:\n",
    "    print(f\"Bring Money\")"
   ]
  },
  {
   "cell_type": "code",
   "execution_count": 51,
   "id": "56af72e1-2cad-4753-98e2-2f4c3bf50545",
   "metadata": {},
   "outputs": [
    {
     "name": "stdin",
     "output_type": "stream",
     "text": [
      "Enter Product Price:  1000\n"
     ]
    },
    {
     "name": "stdout",
     "output_type": "stream",
     "text": [
      "Bring Money\n"
     ]
    }
   ],
   "source": [
    "productprice=int(input(\"Enter Product Price: \"))\n",
    "if(productprice>3000):\n",
    "    print(f\"Price:{0.8*(productprice)}\")\n",
    "elif((productprice<=3000)and(productprice>2000)):\n",
    "    print(f\"Price:{0.7*(productprice)}\")\n",
    "elif((productprice<=2000)and(productprice>1000)):\n",
    "    print(f\"Price:{0.4*(productprice)}\")\n",
    "else:\n",
    "    print(f\"Bring Money\")"
   ]
  },
  {
   "cell_type": "code",
   "execution_count": 52,
   "id": "c8212161-a428-4ebd-a201-dfe8bff8049b",
   "metadata": {},
   "outputs": [
    {
     "data": {
      "text/plain": [
       "4000.0"
      ]
     },
     "execution_count": 52,
     "metadata": {},
     "output_type": "execute_result"
    }
   ],
   "source": [
    "5000*80/100"
   ]
  },
  {
   "cell_type": "code",
   "execution_count": 53,
   "id": "ed08efa8-222b-4fdf-8ef2-fc144e26c638",
   "metadata": {},
   "outputs": [
    {
     "data": {
      "text/plain": [
       "1400.0"
      ]
     },
     "execution_count": 53,
     "metadata": {},
     "output_type": "execute_result"
    }
   ],
   "source": [
    "2000*70/100"
   ]
  },
  {
   "cell_type": "code",
   "execution_count": 54,
   "id": "8480f897-de00-431a-9b70-841e1a2c88ca",
   "metadata": {},
   "outputs": [
    {
     "name": "stdin",
     "output_type": "stream",
     "text": [
      "Enter Product Price:  2000\n"
     ]
    },
    {
     "name": "stdout",
     "output_type": "stream",
     "text": [
      "Price:1200.0\n"
     ]
    }
   ],
   "source": [
    "productprice=int(input(\"Enter Product Price: \"))\n",
    "if(productprice>3000):\n",
    "    print(f\"Price:{0.8*(productprice)}\")\n",
    "elif((productprice<=3000)and(productprice>2000)):\n",
    "    print(f\"Price:{0.7*(productprice)}\")\n",
    "elif((productprice<=2000)and(productprice>1000)):\n",
    "    print(f\"Price:{0.6*(productprice)}\")\n",
    "else:\n",
    "    print(f\"Bring Money\")"
   ]
  },
  {
   "cell_type": "code",
   "execution_count": 55,
   "id": "01d6ff5b-ef33-4897-b543-d97e0bd2ea62",
   "metadata": {},
   "outputs": [
    {
     "data": {
      "text/plain": [
       "1200.0"
      ]
     },
     "execution_count": 55,
     "metadata": {},
     "output_type": "execute_result"
    }
   ],
   "source": [
    "2000*60/100"
   ]
  },
  {
   "cell_type": "code",
   "execution_count": 56,
   "id": "1c96ef3a-434a-48c8-a6fd-a116b8fedcd5",
   "metadata": {},
   "outputs": [
    {
     "name": "stdin",
     "output_type": "stream",
     "text": [
      "Enter Product Price:  5000\n"
     ]
    },
    {
     "name": "stdout",
     "output_type": "stream",
     "text": [
      "Price:4000.0\n"
     ]
    }
   ],
   "source": [
    "productprice=int(input(\"Enter Product Price: \"))\n",
    "if(productprice>3000):\n",
    "    print(f\"Price:{0.8*(productprice)}\")\n",
    "elif((productprice<=3000)and(productprice>2000)):\n",
    "    print(f\"Price:{0.7*(productprice)}\")\n",
    "elif((productprice<=2000)and(productprice>1000)):\n",
    "    print(f\"Price:{0.6*(productprice)}\")\n",
    "else:\n",
    "    print(f\"Bring Money\")"
   ]
  },
  {
   "cell_type": "code",
   "execution_count": 57,
   "id": "f274de1a-438a-49d5-a019-4b8fa61e87dd",
   "metadata": {},
   "outputs": [
    {
     "name": "stdin",
     "output_type": "stream",
     "text": [
      "Enter Product Price:  2000\n"
     ]
    },
    {
     "name": "stdout",
     "output_type": "stream",
     "text": [
      "Price:1200.0\n"
     ]
    }
   ],
   "source": [
    "productprice=int(input(\"Enter Product Price: \"))\n",
    "if(productprice>3000):\n",
    "    print(f\"Price:{0.8*(productprice)}\")\n",
    "elif((productprice<=3000)and(productprice>2000)):\n",
    "    print(f\"Price:{0.7*(productprice)}\")\n",
    "elif((productprice<=2000)and(productprice>1000)):\n",
    "    print(f\"Price:{0.6*(productprice)}\")\n",
    "else:\n",
    "    print(f\"Bring Money\")"
   ]
  },
  {
   "cell_type": "code",
   "execution_count": 59,
   "id": "2874e58b-8fbb-4e3a-a5cc-9340eb7f288d",
   "metadata": {},
   "outputs": [
    {
     "data": {
      "text/plain": [
       "1200.0"
      ]
     },
     "execution_count": 59,
     "metadata": {},
     "output_type": "execute_result"
    }
   ],
   "source": [
    "2000*60/100"
   ]
  },
  {
   "cell_type": "code",
   "execution_count": 60,
   "id": "512460de-16ac-4414-8e71-413728393d42",
   "metadata": {},
   "outputs": [
    {
     "name": "stdin",
     "output_type": "stream",
     "text": [
      "Enter Product Price:  2500\n"
     ]
    },
    {
     "name": "stdout",
     "output_type": "stream",
     "text": [
      "Price:1750.0\n"
     ]
    }
   ],
   "source": [
    "productprice=int(input(\"Enter Product Price: \"))\n",
    "if(productprice>3000):\n",
    "    print(f\"Price:{0.8*(productprice)}\")\n",
    "elif((productprice<=3000)and(productprice>2000)):\n",
    "    print(f\"Price:{0.7*(productprice)}\")\n",
    "elif((productprice<=2000)and(productprice>1000)):\n",
    "    print(f\"Price:{0.6*(productprice)}\")\n",
    "else:\n",
    "    print(f\"Bring Money\")\n",
    "    "
   ]
  },
  {
   "cell_type": "code",
   "execution_count": 61,
   "id": "b866ffc5-1363-4b4e-a218-a59584555dd1",
   "metadata": {},
   "outputs": [
    {
     "data": {
      "text/plain": [
       "1750.0"
      ]
     },
     "execution_count": 61,
     "metadata": {},
     "output_type": "execute_result"
    }
   ],
   "source": [
    "2500*70/100"
   ]
  },
  {
   "cell_type": "code",
   "execution_count": 62,
   "id": "6b50fff3-9164-49cd-ac3b-a360410154ff",
   "metadata": {},
   "outputs": [
    {
     "name": "stdin",
     "output_type": "stream",
     "text": [
      "Enter Product Price:  4000\n"
     ]
    },
    {
     "name": "stdout",
     "output_type": "stream",
     "text": [
      "You get a Goa trip\n"
     ]
    }
   ],
   "source": [
    "productprice=int(input(\"Enter Product Price: \"))\n",
    "if(productprice>3000):\n",
    "    if(productprice==4000):\n",
    "        print(f\"You get a Goa trip\")\n",
    "    else:\n",
    "        print(f\"Price:{0.8*(productprice)}\")\n",
    "elif((productprice<=3000)and(productprice>2000)):\n",
    "    print(f\"Price:{0.7*(productprice)}\")\n",
    "elif((productprice<=2000)and(productprice>1000)):\n",
    "    print(f\"Price:{0.6*(productprice)}\")\n",
    "else:\n",
    "    print(f\"Bring Money\")\n",
    "    "
   ]
  },
  {
   "cell_type": "code",
   "execution_count": 63,
   "id": "24b153a3-9c2b-4b92-b762-f7adf42f5df4",
   "metadata": {},
   "outputs": [
    {
     "name": "stdin",
     "output_type": "stream",
     "text": [
      "Enter Product Price:  7500\n"
     ]
    },
    {
     "name": "stdout",
     "output_type": "stream",
     "text": [
      "Price:6000.0\n"
     ]
    }
   ],
   "source": [
    "productprice=int(input(\"Enter Product Price: \"))\n",
    "if(productprice>3000):\n",
    "    if(productprice==4000):\n",
    "        print(f\"You get a Goa trip\")\n",
    "    else:\n",
    "        print(f\"Price:{0.8*(productprice)}\")\n",
    "elif((productprice<=3000)and(productprice>2000)):\n",
    "    print(f\"Price:{0.7*(productprice)}\")\n",
    "elif((productprice<=2000)and(productprice>1000)):\n",
    "    print(f\"Price:{0.6*(productprice)}\")\n",
    "else:\n",
    "    print(f\"Bring Money\")\n",
    "    "
   ]
  },
  {
   "cell_type": "code",
   "execution_count": 65,
   "id": "5e552997-b939-41b6-9d19-0139943496a5",
   "metadata": {},
   "outputs": [
    {
     "name": "stdout",
     "output_type": "stream",
     "text": [
      "Not less than 100\n"
     ]
    }
   ],
   "source": [
    "##Single Statement Suits\n",
    "val=200\n",
    "if(val<100):print(f\"Less than 100\")\n",
    "else:print(f\"Not less than 100\")"
   ]
  },
  {
   "cell_type": "code",
   "execution_count": 66,
   "id": "a423a93f-0877-4c98-a0ba-719d3b16a00d",
   "metadata": {},
   "outputs": [
    {
     "name": "stdout",
     "output_type": "stream",
     "text": [
      "Less than 100\n"
     ]
    }
   ],
   "source": [
    "val=20\n",
    "if(val<100):print(f\"Less than 100\")\n",
    "else:print(f\"Not less than 100\")"
   ]
  },
  {
   "cell_type": "code",
   "execution_count": 67,
   "id": "9ca5b3dc-57b5-4b20-8982-a09c790dea7e",
   "metadata": {},
   "outputs": [
    {
     "name": "stdout",
     "output_type": "stream",
     "text": [
      "Not less than 100\n"
     ]
    }
   ],
   "source": [
    "val=500\n",
    "if(val<100):print(f\"Less than 100\")\n",
    "else:print(f\"Not less than 100\")"
   ]
  },
  {
   "cell_type": "code",
   "execution_count": 68,
   "id": "9c0005a0-78d9-431c-b47e-87ff61668f3c",
   "metadata": {},
   "outputs": [],
   "source": [
    "##Comparirison Operator =="
   ]
  },
  {
   "cell_type": "markdown",
   "id": "f80460a9-2740-4dd8-8456-e7e3e65ef4c0",
   "metadata": {},
   "source": [
    "##Loop Statemnts\n",
    "1)While Loop\n",
    "2)For Loop\n",
    "3)Nested Loop\n",
    "4)Loop Control(Break, Continue, Pass)"
   ]
  },
  {
   "cell_type": "code",
   "execution_count": 73,
   "id": "15250442-51cf-4ae8-ade3-8d7bcbe85312",
   "metadata": {},
   "outputs": [
    {
     "name": "stdout",
     "output_type": "stream",
     "text": [
      "Your age is 18\n",
      "Your age is 19\n",
      "Your age is 20\n",
      "Your age is 21\n",
      "Your age is 22\n",
      "Your age is 23\n",
      "Your age is 24\n",
      "Your age is 25\n",
      "Your age is 26\n",
      "Your age is 27\n",
      "Your age is 28\n",
      "Your age is 29\n",
      "Your age is 30\n",
      "Your age is 31\n",
      "Your age is 32\n",
      "Your age is 33\n",
      "Your age is 34\n",
      "Your age is 35\n",
      "Your age is 36\n",
      "Your age is 37\n",
      "Your age is 38\n",
      "Your age is 39\n",
      "Your age is 40\n",
      "Your age is 41\n",
      "Your age is 42\n",
      "Your age is 43\n",
      "Your age is 44\n",
      "Your age is 45\n",
      "Your age is 46\n",
      "Your age is 47\n",
      "Your age is 48\n",
      "Your age is 49\n",
      "Your age is 50\n",
      "Your age is 51\n",
      "Your age is 52\n",
      "Your age is 53\n",
      "Your age is 54\n",
      "Your age is 55\n",
      "Your age is 56\n",
      "Your age is 57\n",
      "Your age is 58\n",
      "Your age is 59\n",
      "You are retired. Because your age is 60\n"
     ]
    }
   ],
   "source": [
    "retirementage=60\n",
    "age=18\n",
    "while(age!=retirementage):\n",
    "    print(f\"Your age is {age}\")\n",
    "    age=age+1\n",
    "print(f\"You are retired. Because your age is {age}\")"
   ]
  },
  {
   "cell_type": "code",
   "execution_count": 75,
   "id": "428cccdd-ad7e-4e35-8d98-01f20262b750",
   "metadata": {},
   "outputs": [
    {
     "name": "stdout",
     "output_type": "stream",
     "text": [
      "Your age is 18\n",
      "Your age is 19\n",
      "Your age is 20\n",
      "Your age is 21\n",
      "Your age is 22\n",
      "Your age is 23\n",
      "Your age is 24\n",
      "Your age is 25\n",
      "Your age is 26\n",
      "Your age is 27\n",
      "Your age is 28\n",
      "Your age is 29\n",
      "Your age is 30\n",
      "Your age is 31\n",
      "Your age is 32\n",
      "Your age is 33\n",
      "Your age is 34\n",
      "Your age is 35\n",
      "Your age is 36\n",
      "Your age is 37\n",
      "Your age is 38\n",
      "Your age is 39\n",
      "Your age is 40\n",
      "Your age is 41\n",
      "Your age is 42\n",
      "Your age is 43\n",
      "Your age is 44\n",
      "Your age is 45\n",
      "Your age is 46\n",
      "Your age is 47\n",
      "Your age is 48\n",
      "Your age is 49\n",
      "Your age is 50\n",
      "Your age is 51\n",
      "Your age is 52\n",
      "Your age is 53\n",
      "Your age is 54\n",
      "Your age is 55\n",
      "Your age is 56\n",
      "Your age is 57\n",
      "Your age is 58\n",
      "Your age is 59\n",
      "You are retired. Because your age is 60\n"
     ]
    }
   ],
   "source": [
    "##Else block with While Loop\n",
    "retirementage=60\n",
    "age=18\n",
    "while(age!=retirementage):\n",
    "    print(f\"Your age is {age}\")\n",
    "    age=age+1\n",
    "else:\n",
    "    print(f\"You are retired. Because your age is {age}\")"
   ]
  },
  {
   "cell_type": "code",
   "execution_count": 77,
   "id": "35673f7d-e87b-4f36-a0f6-77f662dbe7bf",
   "metadata": {},
   "outputs": [
    {
     "name": "stdout",
     "output_type": "stream",
     "text": [
      "Amount = 1000\n",
      "Amount = 900\n",
      "Amount = 800\n",
      "Amount = 700\n",
      "Amount = 600\n",
      "Amount = 500\n",
      "Amount = 400\n",
      "Amount = 300\n",
      "Amount = 200\n",
      "Amount = 100\n",
      "Amount = 0\n",
      "Paisa bharo bank walo\n"
     ]
    }
   ],
   "source": [
    "amount=1000\n",
    "while(amount!=0):\n",
    "    print(f\"Amount = {amount}\")\n",
    "    amount=amount-100\n",
    "else:\n",
    "    print(f\"Amount = {amount}\")\n",
    "    print(f\"Paisa bharo bank walo\")"
   ]
  },
  {
   "cell_type": "markdown",
   "id": "382cf91d-5195-4499-b316-bb280e8054c5",
   "metadata": {},
   "source": [
    "#FOR LOOP"
   ]
  },
  {
   "cell_type": "code",
   "execution_count": 79,
   "id": "99bb6ae3-3d0f-4dea-a3c5-45cd0259c603",
   "metadata": {},
   "outputs": [],
   "source": [
    "list=[1,4,2.4,'a',\"Hi My name Is\",\"Unknown\"]"
   ]
  },
  {
   "cell_type": "code",
   "execution_count": 80,
   "id": "e1d2c7d6-3f34-4cfe-93da-044f7f744811",
   "metadata": {},
   "outputs": [
    {
     "data": {
      "text/plain": [
       "[1, 4, 2.4, 'a', 'Hi My name Is', 'Unknown']"
      ]
     },
     "execution_count": 80,
     "metadata": {},
     "output_type": "execute_result"
    }
   ],
   "source": [
    "list"
   ]
  },
  {
   "cell_type": "code",
   "execution_count": 81,
   "id": "d5e085d6-028d-4a75-b69c-b69a74c3c3c7",
   "metadata": {},
   "outputs": [
    {
     "data": {
      "text/plain": [
       "list"
      ]
     },
     "execution_count": 81,
     "metadata": {},
     "output_type": "execute_result"
    }
   ],
   "source": [
    "type(list)"
   ]
  },
  {
   "cell_type": "code",
   "execution_count": 82,
   "id": "ce9cbb41-8b3b-4d6a-82a6-cd7e55804b29",
   "metadata": {},
   "outputs": [
    {
     "name": "stdout",
     "output_type": "stream",
     "text": [
      "<class 'list'>\n"
     ]
    }
   ],
   "source": [
    "print(type(list))"
   ]
  },
  {
   "cell_type": "code",
   "execution_count": 83,
   "id": "fc0f82a7-df39-47f1-9d78-73193731f933",
   "metadata": {},
   "outputs": [
    {
     "data": {
      "text/plain": [
       "1"
      ]
     },
     "execution_count": 83,
     "metadata": {},
     "output_type": "execute_result"
    }
   ],
   "source": [
    "list[0]"
   ]
  },
  {
   "cell_type": "code",
   "execution_count": 85,
   "id": "9e2bd01d-1913-4f8b-bae4-83b0b46554a8",
   "metadata": {},
   "outputs": [
    {
     "data": {
      "text/plain": [
       "6"
      ]
     },
     "execution_count": 85,
     "metadata": {},
     "output_type": "execute_result"
    }
   ],
   "source": [
    "len(list)"
   ]
  },
  {
   "cell_type": "code",
   "execution_count": 86,
   "id": "c390aec9-e804-4272-8c43-4ab4f8a8f1aa",
   "metadata": {},
   "outputs": [
    {
     "data": {
      "text/plain": [
       "'Unknown'"
      ]
     },
     "execution_count": 86,
     "metadata": {},
     "output_type": "execute_result"
    }
   ],
   "source": [
    "list[5]"
   ]
  },
  {
   "cell_type": "code",
   "execution_count": 87,
   "id": "0dfd3e83-511d-45b5-9083-868a9b9cc8d0",
   "metadata": {},
   "outputs": [
    {
     "ename": "IndexError",
     "evalue": "list index out of range",
     "output_type": "error",
     "traceback": [
      "\u001b[0;31m---------------------------------------------------------------------------\u001b[0m",
      "\u001b[0;31mIndexError\u001b[0m                                Traceback (most recent call last)",
      "Cell \u001b[0;32mIn[87], line 1\u001b[0m\n\u001b[0;32m----> 1\u001b[0m \u001b[38;5;28;43mlist\u001b[39;49m\u001b[43m[\u001b[49m\u001b[38;5;241;43m6\u001b[39;49m\u001b[43m]\u001b[49m\n",
      "\u001b[0;31mIndexError\u001b[0m: list index out of range"
     ]
    }
   ],
   "source": [
    "list[6]"
   ]
  },
  {
   "cell_type": "code",
   "execution_count": 88,
   "id": "cd6dbd93-c07b-47c8-8958-949aff856c09",
   "metadata": {},
   "outputs": [
    {
     "data": {
      "text/plain": [
       "'Unknown'"
      ]
     },
     "execution_count": 88,
     "metadata": {},
     "output_type": "execute_result"
    }
   ],
   "source": [
    "list[-1]"
   ]
  },
  {
   "cell_type": "code",
   "execution_count": 89,
   "id": "6e8d45e5-331e-4f3b-88c9-90055d2dbd59",
   "metadata": {},
   "outputs": [
    {
     "data": {
      "text/plain": [
       "'Hi My name Is'"
      ]
     },
     "execution_count": 89,
     "metadata": {},
     "output_type": "execute_result"
    }
   ],
   "source": [
    "list[4]"
   ]
  },
  {
   "cell_type": "code",
   "execution_count": 90,
   "id": "41102aa8-864c-48ff-ae94-6b6d160d7337",
   "metadata": {},
   "outputs": [
    {
     "data": {
      "text/plain": [
       "'a'"
      ]
     },
     "execution_count": 90,
     "metadata": {},
     "output_type": "execute_result"
    }
   ],
   "source": [
    "list[3]"
   ]
  },
  {
   "cell_type": "code",
   "execution_count": 91,
   "id": "8cf84c98-2248-464a-bae2-14f860f89eea",
   "metadata": {},
   "outputs": [
    {
     "data": {
      "text/plain": [
       "2.4"
      ]
     },
     "execution_count": 91,
     "metadata": {},
     "output_type": "execute_result"
    }
   ],
   "source": [
    "list[2]"
   ]
  },
  {
   "cell_type": "code",
   "execution_count": 92,
   "id": "0f116822-ee58-4b84-a175-c60c5f057a5e",
   "metadata": {},
   "outputs": [
    {
     "data": {
      "text/plain": [
       "'Hi My name Is'"
      ]
     },
     "execution_count": 92,
     "metadata": {},
     "output_type": "execute_result"
    }
   ],
   "source": [
    "list[4]"
   ]
  },
  {
   "cell_type": "code",
   "execution_count": 93,
   "id": "41ba65dc-cafe-449d-925a-375803f104ad",
   "metadata": {},
   "outputs": [
    {
     "data": {
      "text/plain": [
       "'Unknown'"
      ]
     },
     "execution_count": 93,
     "metadata": {},
     "output_type": "execute_result"
    }
   ],
   "source": [
    "list[5]"
   ]
  },
  {
   "cell_type": "code",
   "execution_count": 94,
   "id": "6e810679-d0aa-4a18-9d76-3304e9f96a41",
   "metadata": {},
   "outputs": [
    {
     "name": "stdout",
     "output_type": "stream",
     "text": [
      "1\n",
      "4\n",
      "2.4\n",
      "a\n",
      "Hi My name Is\n",
      "Unknown\n"
     ]
    }
   ],
   "source": [
    "for x in list:\n",
    "    print(x)"
   ]
  },
  {
   "cell_type": "code",
   "execution_count": 95,
   "id": "ea437e4c-932f-457b-b045-76aef5fe2f8d",
   "metadata": {},
   "outputs": [
    {
     "data": {
      "text/plain": [
       "int"
      ]
     },
     "execution_count": 95,
     "metadata": {},
     "output_type": "execute_result"
    }
   ],
   "source": [
    "type(list[0])"
   ]
  },
  {
   "cell_type": "code",
   "execution_count": 96,
   "id": "9c0b454b-31d1-449b-ad32-334c7c01433f",
   "metadata": {},
   "outputs": [],
   "source": [
    "fruits_list=[\"Mango\",\"Cherry\",\"Apple\",\"Papaya\",\"Banana\"]"
   ]
  },
  {
   "cell_type": "code",
   "execution_count": 97,
   "id": "21caa0cc-1665-4e60-b116-5f9c60c3e108",
   "metadata": {},
   "outputs": [
    {
     "data": {
      "text/plain": [
       "['Mango', 'Cherry', 'Apple', 'Papaya', 'Banana']"
      ]
     },
     "execution_count": 97,
     "metadata": {},
     "output_type": "execute_result"
    }
   ],
   "source": [
    "fruits_list"
   ]
  },
  {
   "cell_type": "code",
   "execution_count": 98,
   "id": "9797f3c4-0679-4788-a55f-b0e49b8cebbd",
   "metadata": {},
   "outputs": [
    {
     "name": "stdout",
     "output_type": "stream",
     "text": [
      "1\n",
      "4\n",
      "2.4\n",
      "a\n",
      "Hi My name Is\n",
      "Unknown\n"
     ]
    }
   ],
   "source": [
    "for x in list:\n",
    "    print(x)"
   ]
  },
  {
   "cell_type": "code",
   "execution_count": 99,
   "id": "faa71829-08d6-42bb-a9ea-674485f9fcd1",
   "metadata": {},
   "outputs": [
    {
     "name": "stdout",
     "output_type": "stream",
     "text": [
      "Mango\n",
      "Cherry\n",
      "Apple\n",
      "Papaya\n",
      "Banana\n"
     ]
    }
   ],
   "source": [
    "for x in fruits_list:\n",
    "    print(x)"
   ]
  },
  {
   "cell_type": "code",
   "execution_count": 100,
   "id": "2ffc55bc-a949-4236-97de-c1811273b67b",
   "metadata": {},
   "outputs": [
    {
     "name": "stdout",
     "output_type": "stream",
     "text": [
      "Mango\n",
      "Cherry\n",
      "Apple\n",
      "It's a good fruit\n",
      "Papaya\n",
      "Banana\n"
     ]
    }
   ],
   "source": [
    "for x in fruits_list:\n",
    "    print(x)\n",
    "    if(x==\"Apple\"):\n",
    "        print(f\"It's a good fruit\")"
   ]
  },
  {
   "cell_type": "code",
   "execution_count": 101,
   "id": "b0589c14-c880-4220-aff6-c0d37c445f58",
   "metadata": {},
   "outputs": [
    {
     "name": "stdout",
     "output_type": "stream",
     "text": [
      "MangoCherryApplePapayaBanana"
     ]
    }
   ],
   "source": [
    "for x in fruits_list:\n",
    "    print(x,end='')"
   ]
  },
  {
   "cell_type": "code",
   "execution_count": 102,
   "id": "5ee421d1-0b90-4a5f-bf5c-71032360b599",
   "metadata": {},
   "outputs": [
    {
     "name": "stdout",
     "output_type": "stream",
     "text": [
      "Mango Cherry Apple Papaya Banana "
     ]
    }
   ],
   "source": [
    "for x in fruits_list:\n",
    "    print(x,end=' ')"
   ]
  },
  {
   "cell_type": "code",
   "execution_count": 103,
   "id": "ff76a2c9-309d-44ce-89cc-dcf30c01a046",
   "metadata": {},
   "outputs": [
    {
     "name": "stdout",
     "output_type": "stream",
     "text": [
      "m\n",
      "a\n",
      "n\n",
      "g\n",
      "o\n"
     ]
    }
   ],
   "source": [
    "##String is collection of elements\n",
    "fruit=\"mango\"\n",
    "for x in fruit:\n",
    "    print(x)"
   ]
  },
  {
   "cell_type": "code",
   "execution_count": 104,
   "id": "7cae50bd-c2c6-4b1e-8681-3f7e40ae27af",
   "metadata": {},
   "outputs": [
    {
     "name": "stdout",
     "output_type": "stream",
     "text": [
      "m a n g o "
     ]
    }
   ],
   "source": [
    "fruit=\"mango\"\n",
    "for x in fruit:\n",
    "    print(x,end=' ')"
   ]
  },
  {
   "cell_type": "code",
   "execution_count": 105,
   "id": "0736abc7-756e-4267-835b-e27ece084449",
   "metadata": {},
   "outputs": [
    {
     "name": "stdout",
     "output_type": "stream",
     "text": [
      "mango"
     ]
    }
   ],
   "source": [
    "fruit=\"mango\"\n",
    "for x in fruit:\n",
    "    print(x,end='')"
   ]
  },
  {
   "cell_type": "code",
   "execution_count": 106,
   "id": "512dc5e5-d9d2-4df0-97b2-e48d79ebd750",
   "metadata": {},
   "outputs": [
    {
     "data": {
      "text/plain": [
       "'m'"
      ]
     },
     "execution_count": 106,
     "metadata": {},
     "output_type": "execute_result"
    }
   ],
   "source": [
    "fruit[0]"
   ]
  },
  {
   "cell_type": "code",
   "execution_count": 2,
   "id": "3ec1dc25-ee85-4d8b-96c2-9071080c8ddd",
   "metadata": {},
   "outputs": [],
   "source": [
    "###NESTED LOOP"
   ]
  },
  {
   "cell_type": "code",
   "execution_count": 3,
   "id": "67d5db97-20b0-4637-a6ce-c33a5e952c58",
   "metadata": {},
   "outputs": [],
   "source": [
    "##range(start,stop)"
   ]
  },
  {
   "cell_type": "code",
   "execution_count": 4,
   "id": "91f53c1e-0ce8-45df-8a2e-701358e30827",
   "metadata": {},
   "outputs": [
    {
     "data": {
      "text/plain": [
       "range(1, 6)"
      ]
     },
     "execution_count": 4,
     "metadata": {},
     "output_type": "execute_result"
    }
   ],
   "source": [
    "range(1,6)"
   ]
  },
  {
   "cell_type": "code",
   "execution_count": 5,
   "id": "d6cdbb8c-4d4e-4c23-ba03-113abb13233a",
   "metadata": {},
   "outputs": [
    {
     "name": "stdout",
     "output_type": "stream",
     "text": [
      "1\n",
      "2\n",
      "3\n",
      "4\n",
      "5\n"
     ]
    }
   ],
   "source": [
    "for i in range(1,6):\n",
    "    print(i)"
   ]
  },
  {
   "cell_type": "code",
   "execution_count": 6,
   "id": "20edec2d-f49d-46d0-9be2-8e336c6a1cdf",
   "metadata": {},
   "outputs": [
    {
     "name": "stdout",
     "output_type": "stream",
     "text": [
      "1\n",
      "3\n",
      "5\n",
      "7\n",
      "9\n",
      "11\n",
      "13\n",
      "15\n",
      "17\n",
      "19\n"
     ]
    }
   ],
   "source": [
    "for i in range(1,20,2):\n",
    "    print(i)"
   ]
  },
  {
   "cell_type": "code",
   "execution_count": 7,
   "id": "7465f49e-a14f-4dd1-ac6b-38d382ed6e37",
   "metadata": {},
   "outputs": [
    {
     "name": "stdout",
     "output_type": "stream",
     "text": [
      "1\n",
      "6\n",
      "11\n",
      "16\n"
     ]
    }
   ],
   "source": [
    "for i in range(1,20,5):\n",
    "    print(i)"
   ]
  },
  {
   "cell_type": "code",
   "execution_count": 8,
   "id": "80277ec7-7202-46c9-a8b1-410973934e8b",
   "metadata": {},
   "outputs": [
    {
     "name": "stdout",
     "output_type": "stream",
     "text": [
      "0\n",
      "5\n",
      "10\n",
      "15\n",
      "20\n"
     ]
    }
   ],
   "source": [
    "for i in range(0,21,5):\n",
    "    print(i)"
   ]
  },
  {
   "cell_type": "code",
   "execution_count": 12,
   "id": "b23faf3b-94d7-4aa5-8ebf-917d7804b626",
   "metadata": {},
   "outputs": [
    {
     "name": "stdout",
     "output_type": "stream",
     "text": [
      "*\n",
      "\n",
      "**\n",
      "\n",
      "***\n",
      "\n",
      "****\n",
      "\n",
      "*****\n",
      "\n",
      "******\n",
      "\n"
     ]
    }
   ],
   "source": [
    "n=7\n",
    "for i in range(1,7):\n",
    "    for j in range(0,i):\n",
    "        print(\"*\",end=\"\")\n",
    "    print(\"\\n\")"
   ]
  },
  {
   "cell_type": "code",
   "execution_count": 16,
   "id": "e3d9811a-aadf-4b3b-addc-f2107b126b86",
   "metadata": {},
   "outputs": [
    {
     "name": "stdout",
     "output_type": "stream",
     "text": [
      "     * \n",
      "\n",
      "    * * \n",
      "\n",
      "   * * * \n",
      "\n",
      "  * * * * \n",
      "\n",
      " * * * * * \n",
      "\n",
      "* * * * * * \n",
      "\n"
     ]
    }
   ],
   "source": [
    "n=7\n",
    "for i in range(1,7):\n",
    "    for k in range(1,7-i):\n",
    "        print(end=\" \")\n",
    "    for j in range(0,i):\n",
    "        print(\"* \",end=\"\")\n",
    "    print(\"\\n\")"
   ]
  },
  {
   "cell_type": "code",
   "execution_count": 17,
   "id": "f09959a2-cbba-46c4-9fe5-a5737ec661e7",
   "metadata": {},
   "outputs": [
    {
     "name": "stdout",
     "output_type": "stream",
     "text": [
      "     * \n",
      "    * * \n",
      "   * * * \n",
      "  * * * * \n",
      " * * * * * \n",
      "* * * * * * \n"
     ]
    }
   ],
   "source": [
    "n=7\n",
    "for i in range(1,7):\n",
    "    for k in range(1,7-i):\n",
    "        print(end=\" \")\n",
    "    for j in range(0,i):\n",
    "        print(\"* \",end=\"\")\n",
    "    print(\"\\r\")"
   ]
  },
  {
   "cell_type": "code",
   "execution_count": null,
   "id": "a78a4203-5a13-4049-9370-06bf08007371",
   "metadata": {},
   "outputs": [],
   "source": [
    "##LOOP CONTROL\n",
    "##BREAK AND CONTINUE"
   ]
  },
  {
   "cell_type": "code",
   "execution_count": null,
   "id": "43c5b651-53df-4c6c-99e7-25b43d5d0f2d",
   "metadata": {},
   "outputs": [],
   "source": [
    "23==34"
   ]
  },
  {
   "cell_type": "code",
   "execution_count": null,
   "id": "32b7c497-335b-41c6-882e-099905d04909",
   "metadata": {},
   "outputs": [],
   "source": []
  }
 ],
 "metadata": {
  "kernelspec": {
   "display_name": "Python 3 (ipykernel)",
   "language": "python",
   "name": "python3"
  },
  "language_info": {
   "codemirror_mode": {
    "name": "ipython",
    "version": 3
   },
   "file_extension": ".py",
   "mimetype": "text/x-python",
   "name": "python",
   "nbconvert_exporter": "python",
   "pygments_lexer": "ipython3",
   "version": "3.10.8"
  }
 },
 "nbformat": 4,
 "nbformat_minor": 5
}
