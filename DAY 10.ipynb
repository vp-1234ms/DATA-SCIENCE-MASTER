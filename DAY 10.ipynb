{
 "cells": [
  {
   "cell_type": "markdown",
   "id": "7a1d3e3c-6a50-43f7-aa97-8c072c5b1221",
   "metadata": {},
   "source": [
    "###DECORATORS"
   ]
  },
  {
   "cell_type": "code",
   "execution_count": 3,
   "id": "5ddeafba-37ff-4ed5-a8f0-387d02a2d2d1",
   "metadata": {},
   "outputs": [],
   "source": [
    "def test():\n",
    "    print(\"This is start of my function\")\n",
    "    print(4+5)\n",
    "    print(\"This is start of my function\")"
   ]
  },
  {
   "cell_type": "code",
   "execution_count": 4,
   "id": "d8c6b6c6-316e-4f0d-a747-e94f9e721c76",
   "metadata": {},
   "outputs": [
    {
     "name": "stdout",
     "output_type": "stream",
     "text": [
      "This is start of my function\n",
      "9\n",
      "This is start of my function\n"
     ]
    }
   ],
   "source": [
    "test()"
   ]
  },
  {
   "cell_type": "code",
   "execution_count": 8,
   "id": "271d29a8-54bb-4a37-9abf-172ac4706ffb",
   "metadata": {},
   "outputs": [],
   "source": [
    "#what is i want to have both above lines in my all functions then we can create decorater "
   ]
  },
  {
   "cell_type": "code",
   "execution_count": 10,
   "id": "b1d4da79-3e55-4178-be21-7c5f319cfa14",
   "metadata": {},
   "outputs": [],
   "source": [
    "def deco(func):\n",
    "    def inner_deco():\n",
    "        print(\"This is start of my function\")\n",
    "        func()\n",
    "        print(\"This is start of my function\")\n",
    "    return inner_deco"
   ]
  },
  {
   "cell_type": "code",
   "execution_count": 11,
   "id": "b0448d23-3e7e-4539-96b1-9c6b47139368",
   "metadata": {},
   "outputs": [],
   "source": [
    "def test1():\n",
    "    print(4+5)"
   ]
  },
  {
   "cell_type": "code",
   "execution_count": 12,
   "id": "1b2b8142-c994-4277-9d4d-31fe257f4b4d",
   "metadata": {},
   "outputs": [
    {
     "name": "stdout",
     "output_type": "stream",
     "text": [
      "9\n"
     ]
    }
   ],
   "source": [
    "test1()"
   ]
  },
  {
   "cell_type": "code",
   "execution_count": 13,
   "id": "cffdd527-1f86-4878-a791-05091668456d",
   "metadata": {},
   "outputs": [],
   "source": [
    "@deco\n",
    "def test1():\n",
    "    print(4+5)"
   ]
  },
  {
   "cell_type": "code",
   "execution_count": 15,
   "id": "6a0c3091-6651-444f-bfe7-9eb8ca7dee62",
   "metadata": {},
   "outputs": [
    {
     "name": "stdout",
     "output_type": "stream",
     "text": [
      "This is start of my function\n",
      "9\n",
      "This is start of my function\n"
     ]
    }
   ],
   "source": [
    "test1() #We decorate function so we can create any number of functions and use decorate "
   ]
  },
  {
   "cell_type": "code",
   "execution_count": 20,
   "id": "3202413b-23e3-442a-bb4b-0afc066b4454",
   "metadata": {},
   "outputs": [],
   "source": [
    "import time\n",
    "def timer_test(func):\n",
    "    def timer_test_inner():\n",
    "        start=time.time()\n",
    "        func()\n",
    "        end=time.time()\n",
    "        print(end-start)\n",
    "    return timer_test_inner"
   ]
  },
  {
   "cell_type": "code",
   "execution_count": 21,
   "id": "2ec81ff4-f87d-4d95-b0b1-15c70ff219e6",
   "metadata": {},
   "outputs": [],
   "source": [
    "@timer_test\n",
    "def test():\n",
    "    print(45+67)"
   ]
  },
  {
   "cell_type": "code",
   "execution_count": 33,
   "id": "ea1da062-0d1a-4c7b-8e06-abdddb1f4242",
   "metadata": {},
   "outputs": [
    {
     "name": "stdout",
     "output_type": "stream",
     "text": [
      "112\n",
      "5.888938903808594e-05\n"
     ]
    }
   ],
   "source": [
    "test()"
   ]
  },
  {
   "cell_type": "code",
   "execution_count": 38,
   "id": "c6a894c4-a94c-42f6-a6d1-bc64ccc15968",
   "metadata": {},
   "outputs": [
    {
     "name": "stdout",
     "output_type": "stream",
     "text": [
      "112\n",
      "0.00011157989501953125\n"
     ]
    }
   ],
   "source": [
    "def test():\n",
    "    print(45+67)\n",
    "    \n",
    "start=time.time()\n",
    "test()\n",
    "end=time.time()\n",
    "print(end-start)"
   ]
  },
  {
   "cell_type": "code",
   "execution_count": 51,
   "id": "1a623551-6f69-44e3-9dc6-edd62988c47c",
   "metadata": {},
   "outputs": [],
   "source": [
    "def test():\n",
    "    for i in range(100000):\n",
    "        pass"
   ]
  },
  {
   "cell_type": "code",
   "execution_count": 52,
   "id": "a327d9be-bc47-4de0-955b-8e150809ef13",
   "metadata": {},
   "outputs": [
    {
     "name": "stdout",
     "output_type": "stream",
     "text": [
      "0.002018451690673828\n"
     ]
    }
   ],
   "source": [
    "start=time.time()\n",
    "test()\n",
    "end=time.time()\n",
    "print(end-start)"
   ]
  },
  {
   "cell_type": "markdown",
   "id": "9be10742-7f20-4edc-88f3-ceb3e8499d60",
   "metadata": {},
   "source": [
    "###CLASS METHODS"
   ]
  },
  {
   "cell_type": "code",
   "execution_count": 61,
   "id": "e3379800-4b47-418f-9436-c74a71ace4d7",
   "metadata": {},
   "outputs": [],
   "source": [
    "class pwskills:\n",
    "    def __init__(self,name,email):\n",
    "        self.name=name\n",
    "        self.email=email\n",
    "    def student_details(self):\n",
    "        print(self.name,self.email)"
   ]
  },
  {
   "cell_type": "code",
   "execution_count": 62,
   "id": "d9b59961-9b8e-46dd-b154-5cec84ee2586",
   "metadata": {},
   "outputs": [],
   "source": [
    "stud=pwskills(\"Mohan\",\"mohan@gmail.com\")"
   ]
  },
  {
   "cell_type": "code",
   "execution_count": 63,
   "id": "29d4171d-c1ff-4799-9253-bfad989e00ed",
   "metadata": {},
   "outputs": [
    {
     "name": "stdout",
     "output_type": "stream",
     "text": [
      "Mohan mohan@gmail.com\n"
     ]
    }
   ],
   "source": [
    "stud.student_details()"
   ]
  },
  {
   "cell_type": "code",
   "execution_count": 64,
   "id": "f0e09104-b6ab-416b-a32e-e057bb6221a1",
   "metadata": {},
   "outputs": [
    {
     "data": {
      "text/plain": [
       "'Mohan'"
      ]
     },
     "execution_count": 64,
     "metadata": {},
     "output_type": "execute_result"
    }
   ],
   "source": [
    "stud.name\n"
   ]
  },
  {
   "cell_type": "code",
   "execution_count": 65,
   "id": "ab15b2ea-9924-4f1b-8103-333049ea00f7",
   "metadata": {},
   "outputs": [
    {
     "data": {
      "text/plain": [
       "'mohan@gmail.com'"
      ]
     },
     "execution_count": 65,
     "metadata": {},
     "output_type": "execute_result"
    }
   ],
   "source": [
    "stud.email"
   ]
  },
  {
   "cell_type": "code",
   "execution_count": 85,
   "id": "e329c5e8-5cf5-47aa-aa23-926a9c3a3c8a",
   "metadata": {},
   "outputs": [],
   "source": [
    "class pwskills:\n",
    "    def __init__(self,name,email):\n",
    "        self.name=name\n",
    "        self.email=email\n",
    "    \n",
    "   \n",
    "    @classmethod #Directly function overloading is not possible in python therefore here it is done by overloading init method by class method              \n",
    "    def details(cls,name,email):\n",
    "        return cls(name,email)\n",
    "    \n",
    "    def student_details(self):\n",
    "        print(self.name,self.email)"
   ]
  },
  {
   "cell_type": "code",
   "execution_count": 86,
   "id": "1268a137-ce7a-44cb-8592-1ca4c4be4d40",
   "metadata": {},
   "outputs": [],
   "source": [
    "stud=pwskills.details(\"Mohan\",\"mohan@gmail.com\")"
   ]
  },
  {
   "cell_type": "code",
   "execution_count": 87,
   "id": "696e4e17-fdad-40ea-a331-d06d62d5ce64",
   "metadata": {},
   "outputs": [
    {
     "data": {
      "text/plain": [
       "'Mohan'"
      ]
     },
     "execution_count": 87,
     "metadata": {},
     "output_type": "execute_result"
    }
   ],
   "source": [
    "stud.name"
   ]
  },
  {
   "cell_type": "code",
   "execution_count": 88,
   "id": "b183d090-b655-466b-8330-dec69598e191",
   "metadata": {},
   "outputs": [
    {
     "data": {
      "text/plain": [
       "'mohan@gmail.com'"
      ]
     },
     "execution_count": 88,
     "metadata": {},
     "output_type": "execute_result"
    }
   ],
   "source": [
    "stud.email"
   ]
  },
  {
   "cell_type": "code",
   "execution_count": 89,
   "id": "62543352-212b-434f-ae2d-6537504e58cd",
   "metadata": {},
   "outputs": [
    {
     "name": "stdout",
     "output_type": "stream",
     "text": [
      "Mohan mohan@gmail.com\n"
     ]
    }
   ],
   "source": [
    "stud.student_details()"
   ]
  },
  {
   "cell_type": "code",
   "execution_count": 93,
   "id": "f87a46e4-48b8-4e0a-b9fb-07e5e90d9227",
   "metadata": {},
   "outputs": [],
   "source": [
    "class pwskills:\n",
    "    \n",
    "    mobile=1234567890\n",
    "    \n",
    "    def __init__(self,name,email):\n",
    "        self.name=name\n",
    "        self.email=email\n",
    "    \n",
    "   \n",
    "    @classmethod #Directly function overloading is not possible in python therefore here it is done by overloading init method by class method              \n",
    "    def details(cls,name,email):\n",
    "        return cls(name,email)\n",
    "    \n",
    "    def student_details(self):\n",
    "        print(self.name,self.email,pwskills.mobile)"
   ]
  },
  {
   "cell_type": "code",
   "execution_count": 92,
   "id": "486c03db-8519-4526-bc88-10d3fdb2771b",
   "metadata": {},
   "outputs": [
    {
     "data": {
      "text/plain": [
       "1234567890"
      ]
     },
     "execution_count": 92,
     "metadata": {},
     "output_type": "execute_result"
    }
   ],
   "source": [
    "pwskills.mobile #Class variable can be accessed by mobile number"
   ]
  },
  {
   "cell_type": "code",
   "execution_count": 98,
   "id": "4b4167b2-ff35-4450-9330-42edde36d678",
   "metadata": {},
   "outputs": [],
   "source": [
    "obj=pwskills(\"Sohan\",\"sohan@gmail.com\")"
   ]
  },
  {
   "cell_type": "code",
   "execution_count": 99,
   "id": "7aa5c5c2-bcf6-4ef5-9195-8b745a1f5b54",
   "metadata": {},
   "outputs": [
    {
     "name": "stdout",
     "output_type": "stream",
     "text": [
      "Sohan sohan@gmail.com 1234567890\n"
     ]
    }
   ],
   "source": [
    "obj.student_details()"
   ]
  },
  {
   "cell_type": "code",
   "execution_count": 100,
   "id": "07b1299c-9129-45ba-b18c-d18e315a7b32",
   "metadata": {},
   "outputs": [
    {
     "data": {
      "text/plain": [
       "1234567890"
      ]
     },
     "execution_count": 100,
     "metadata": {},
     "output_type": "execute_result"
    }
   ],
   "source": [
    "obj.mobile"
   ]
  },
  {
   "cell_type": "code",
   "execution_count": 101,
   "id": "8fb0ed1e-82fc-4587-9c32-498f6c460627",
   "metadata": {},
   "outputs": [
    {
     "data": {
      "text/plain": [
       "'Sohan'"
      ]
     },
     "execution_count": 101,
     "metadata": {},
     "output_type": "execute_result"
    }
   ],
   "source": [
    "obj.name"
   ]
  },
  {
   "cell_type": "code",
   "execution_count": 103,
   "id": "126e8fca-6fe3-4dca-9145-b257e9728c97",
   "metadata": {},
   "outputs": [
    {
     "data": {
      "text/plain": [
       "'sohan@gmail.com'"
      ]
     },
     "execution_count": 103,
     "metadata": {},
     "output_type": "execute_result"
    }
   ],
   "source": [
    "obj.email"
   ]
  },
  {
   "cell_type": "code",
   "execution_count": 105,
   "id": "9247850b-2bde-4764-9eae-c27b8f64f617",
   "metadata": {},
   "outputs": [],
   "source": [
    "obj1=pwskills.details(\"Rohan\",\"rohan@gmail.com\")"
   ]
  },
  {
   "cell_type": "code",
   "execution_count": 106,
   "id": "67cb98b8-82dc-4390-9ebf-fbfb990f6ac5",
   "metadata": {},
   "outputs": [
    {
     "data": {
      "text/plain": [
       "'Rohan'"
      ]
     },
     "execution_count": 106,
     "metadata": {},
     "output_type": "execute_result"
    }
   ],
   "source": [
    "obj1.name"
   ]
  },
  {
   "cell_type": "code",
   "execution_count": 107,
   "id": "be67389c-a66b-4722-bd62-ce16de766efc",
   "metadata": {},
   "outputs": [
    {
     "data": {
      "text/plain": [
       "'rohan@gmail.com'"
      ]
     },
     "execution_count": 107,
     "metadata": {},
     "output_type": "execute_result"
    }
   ],
   "source": [
    "obj1.email"
   ]
  },
  {
   "cell_type": "code",
   "execution_count": 108,
   "id": "4782defb-4c00-4b58-a025-094331acc86d",
   "metadata": {},
   "outputs": [
    {
     "name": "stdout",
     "output_type": "stream",
     "text": [
      "Rohan rohan@gmail.com 1234567890\n"
     ]
    }
   ],
   "source": [
    "obj1.student_details()"
   ]
  },
  {
   "cell_type": "code",
   "execution_count": 109,
   "id": "4cb6fcc6-e919-4fc6-b4c1-6bf0a8a56516",
   "metadata": {},
   "outputs": [],
   "source": [
    "#Therefore class variable will be same for all objects"
   ]
  },
  {
   "cell_type": "code",
   "execution_count": 110,
   "id": "9ab81a72-c790-424e-b52d-59a4894485b2",
   "metadata": {},
   "outputs": [],
   "source": [
    "#Now we will see how to access and modify class variable"
   ]
  },
  {
   "cell_type": "code",
   "execution_count": 111,
   "id": "71de67a8-82e4-4e3a-b989-e0dde54c7b39",
   "metadata": {},
   "outputs": [],
   "source": [
    "class pwskills:\n",
    "    \n",
    "    mobile=1234567890\n",
    "    \n",
    "    def __init__(self,name,email):\n",
    "        self.name=name\n",
    "        self.email=email\n",
    "    \n",
    "    @classmethod\n",
    "    def change_mobile(cls,mobile):\n",
    "        pwskills.mobile=mobile\n",
    "    @classmethod \n",
    "    def details(cls,name,email):\n",
    "        return cls(name,email)\n",
    "    \n",
    "    def student_details(self):\n",
    "        print(self.name,self.email,pwskills.mobile)"
   ]
  },
  {
   "cell_type": "code",
   "execution_count": 112,
   "id": "f738a1ca-04a6-44c8-bccb-50a203b6c46d",
   "metadata": {},
   "outputs": [
    {
     "data": {
      "text/plain": [
       "1234567890"
      ]
     },
     "execution_count": 112,
     "metadata": {},
     "output_type": "execute_result"
    }
   ],
   "source": [
    "pwskills.mobile"
   ]
  },
  {
   "cell_type": "code",
   "execution_count": 113,
   "id": "c68a197d-e4e6-405c-b4d6-8a297b6d4a42",
   "metadata": {},
   "outputs": [],
   "source": [
    "pwskills.change_mobile(9876543210)"
   ]
  },
  {
   "cell_type": "code",
   "execution_count": 114,
   "id": "92d35f66-7274-4f31-b635-809f66b2ffd5",
   "metadata": {},
   "outputs": [
    {
     "data": {
      "text/plain": [
       "9876543210"
      ]
     },
     "execution_count": 114,
     "metadata": {},
     "output_type": "execute_result"
    }
   ],
   "source": [
    "pwskills.mobile"
   ]
  },
  {
   "cell_type": "code",
   "execution_count": 122,
   "id": "0aaca8a4-dcaa-4db0-b76c-9eee1c786633",
   "metadata": {},
   "outputs": [],
   "source": [
    "obj2=pwskills(\"Sohil\",\"sohil@gmail.com\")"
   ]
  },
  {
   "cell_type": "code",
   "execution_count": 123,
   "id": "1f164272-b21a-45d7-ae59-5f2ac105b47e",
   "metadata": {},
   "outputs": [
    {
     "data": {
      "text/plain": [
       "9876543210"
      ]
     },
     "execution_count": 123,
     "metadata": {},
     "output_type": "execute_result"
    }
   ],
   "source": [
    "obj2.mobile"
   ]
  },
  {
   "cell_type": "code",
   "execution_count": 124,
   "id": "b4511f25-518f-45e7-8ccc-5d722fc7cb07",
   "metadata": {},
   "outputs": [],
   "source": [
    "obj2.change_mobile(1234598760)"
   ]
  },
  {
   "cell_type": "code",
   "execution_count": 125,
   "id": "e7895149-b748-44a3-b74c-08bfcaf0ecd0",
   "metadata": {},
   "outputs": [
    {
     "data": {
      "text/plain": [
       "1234598760"
      ]
     },
     "execution_count": 125,
     "metadata": {},
     "output_type": "execute_result"
    }
   ],
   "source": [
    "obj2.mobile"
   ]
  },
  {
   "cell_type": "code",
   "execution_count": 126,
   "id": "cf85d1c3-fe30-4419-a529-59d2f884721b",
   "metadata": {},
   "outputs": [],
   "source": [
    "#Therefore class variables and class methods is same for all objects and instance methods are different for different objects"
   ]
  },
  {
   "cell_type": "code",
   "execution_count": 144,
   "id": "24699e5f-e10f-4d5d-97b8-1242bac864d5",
   "metadata": {},
   "outputs": [],
   "source": [
    "#Adding functions to class externally"
   ]
  },
  {
   "cell_type": "code",
   "execution_count": 127,
   "id": "fa5dc669-398d-45f4-b381-7457d0a4120f",
   "metadata": {},
   "outputs": [],
   "source": [
    "class pwskills:\n",
    "    \n",
    "    mobile=1234567890\n",
    "    \n",
    "    def __init__(self,name,email):\n",
    "        self.name=name\n",
    "        self.email=email\n",
    "    \n",
    "    @classmethod\n",
    "    def change_mobile(cls,mobile):\n",
    "        pwskills.mobile=mobile\n",
    "    @classmethod \n",
    "    def details(cls,name,email):\n",
    "        return cls(name,email)\n",
    "    \n",
    "    def student_details(self):\n",
    "        print(self.name,self.email,pwskills.mobile)"
   ]
  },
  {
   "cell_type": "code",
   "execution_count": 135,
   "id": "3cdceafc-765a-4b52-b4d3-4a447bc9c93b",
   "metadata": {},
   "outputs": [],
   "source": [
    "def course_details(cls,course_name):\n",
    "    print(\"Course details \",course_name)"
   ]
  },
  {
   "cell_type": "code",
   "execution_count": 136,
   "id": "d09dfe58-077d-4da7-9ddf-52d906b1ab0f",
   "metadata": {},
   "outputs": [],
   "source": [
    "pwskills.course_details=classmethod(course_details)"
   ]
  },
  {
   "cell_type": "code",
   "execution_count": 137,
   "id": "6db21cde-3de0-484b-b77b-4091efbc8e6c",
   "metadata": {},
   "outputs": [
    {
     "name": "stdout",
     "output_type": "stream",
     "text": [
      "Course details  Data Science Masters\n"
     ]
    }
   ],
   "source": [
    "pwskills.course_details(\"Data Science Masters\")"
   ]
  },
  {
   "cell_type": "code",
   "execution_count": 139,
   "id": "baba54f2-fc28-4afe-a842-a5a6ee9a206c",
   "metadata": {},
   "outputs": [],
   "source": [
    "obj=pwskills(\"Rohils\",\"rohils@gmail.com\")"
   ]
  },
  {
   "cell_type": "code",
   "execution_count": 140,
   "id": "ac31408a-b0ae-4772-a5c4-bb8afa21c78d",
   "metadata": {},
   "outputs": [
    {
     "name": "stdout",
     "output_type": "stream",
     "text": [
      "Rohils rohils@gmail.com 1234567890\n"
     ]
    }
   ],
   "source": [
    "obj.student_details()"
   ]
  },
  {
   "cell_type": "code",
   "execution_count": 143,
   "id": "71a6c760-f759-42f9-a490-c3f7e0d1f260",
   "metadata": {},
   "outputs": [
    {
     "name": "stdout",
     "output_type": "stream",
     "text": [
      "Course details  Data\n"
     ]
    }
   ],
   "source": [
    "obj.course_details(\"Data\")"
   ]
  },
  {
   "cell_type": "code",
   "execution_count": 145,
   "id": "5dd3d5b0-8284-4fa5-ac4c-2a990d601af0",
   "metadata": {},
   "outputs": [],
   "source": [
    "#Deleting function from class"
   ]
  },
  {
   "cell_type": "code",
   "execution_count": 170,
   "id": "c169d7f9-dc56-4a03-b980-3f9d83a0ef0e",
   "metadata": {},
   "outputs": [],
   "source": [
    "class pwskills:\n",
    "    \n",
    "    mobile=1234567890\n",
    "    \n",
    "    def __init__(self,name,email):\n",
    "        self.name=name\n",
    "        self.email=email\n",
    "    \n",
    "    @classmethod\n",
    "    def change_mobile(cls,mobile):\n",
    "        pwskills.mobile=mobile\n",
    "    @classmethod \n",
    "    def details(cls,name,email):\n",
    "        return cls(name,email)\n",
    "    \n",
    "    def student_details(self):\n",
    "        print(self.name,self.email,pwskills.mobile)"
   ]
  },
  {
   "cell_type": "code",
   "execution_count": 171,
   "id": "4c66aa00-fb39-4e95-abac-51288f66e470",
   "metadata": {},
   "outputs": [],
   "source": [
    "del pwskills.change_mobile"
   ]
  },
  {
   "cell_type": "code",
   "execution_count": 172,
   "id": "a9be4207-e464-4e40-879b-6980b8aba513",
   "metadata": {},
   "outputs": [
    {
     "ename": "AttributeError",
     "evalue": "type object 'pwskills' has no attribute 'change_mobile'",
     "output_type": "error",
     "traceback": [
      "\u001b[0;31m---------------------------------------------------------------------------\u001b[0m",
      "\u001b[0;31mAttributeError\u001b[0m                            Traceback (most recent call last)",
      "Cell \u001b[0;32mIn[172], line 1\u001b[0m\n\u001b[0;32m----> 1\u001b[0m \u001b[43mpwskills\u001b[49m\u001b[38;5;241;43m.\u001b[39;49m\u001b[43mchange_mobile\u001b[49m\n",
      "\u001b[0;31mAttributeError\u001b[0m: type object 'pwskills' has no attribute 'change_mobile'"
     ]
    }
   ],
   "source": [
    "pwskills.change_mobile"
   ]
  },
  {
   "cell_type": "code",
   "execution_count": 173,
   "id": "0c58cce4-8f05-4205-b15e-68d2c82542df",
   "metadata": {},
   "outputs": [
    {
     "data": {
      "text/plain": [
       "1234567890"
      ]
     },
     "execution_count": 173,
     "metadata": {},
     "output_type": "execute_result"
    }
   ],
   "source": [
    "pwskills.mobile"
   ]
  },
  {
   "cell_type": "code",
   "execution_count": 174,
   "id": "d3d9d2d3-38b1-499c-9c02-016de4255a6e",
   "metadata": {},
   "outputs": [],
   "source": [
    "del pwskills.mobile"
   ]
  },
  {
   "cell_type": "code",
   "execution_count": 175,
   "id": "e29a96df-9805-44a7-adae-08163ce53540",
   "metadata": {},
   "outputs": [
    {
     "ename": "AttributeError",
     "evalue": "type object 'pwskills' has no attribute 'mobile'",
     "output_type": "error",
     "traceback": [
      "\u001b[0;31m---------------------------------------------------------------------------\u001b[0m",
      "\u001b[0;31mAttributeError\u001b[0m                            Traceback (most recent call last)",
      "Cell \u001b[0;32mIn[175], line 1\u001b[0m\n\u001b[0;32m----> 1\u001b[0m \u001b[43mpwskills\u001b[49m\u001b[38;5;241;43m.\u001b[39;49m\u001b[43mmobile\u001b[49m\n",
      "\u001b[0;31mAttributeError\u001b[0m: type object 'pwskills' has no attribute 'mobile'"
     ]
    }
   ],
   "source": [
    "pwskills.mobile"
   ]
  },
  {
   "cell_type": "code",
   "execution_count": 176,
   "id": "656e09ae-144f-44a9-920b-66da62cd580f",
   "metadata": {},
   "outputs": [],
   "source": [
    "obj=pwskills(\"Mohil\",\"mohil@gmail.com\")"
   ]
  },
  {
   "cell_type": "code",
   "execution_count": 177,
   "id": "7062b06f-cad3-4856-998a-7453c3e55151",
   "metadata": {},
   "outputs": [
    {
     "data": {
      "text/plain": [
       "'Mohil'"
      ]
     },
     "execution_count": 177,
     "metadata": {},
     "output_type": "execute_result"
    }
   ],
   "source": [
    "obj.name"
   ]
  },
  {
   "cell_type": "code",
   "execution_count": 179,
   "id": "77abccd2-3c40-4afc-8edc-8e8fb8195a68",
   "metadata": {},
   "outputs": [],
   "source": [
    "delattr(pwskills,\"student_details\")"
   ]
  },
  {
   "cell_type": "code",
   "execution_count": 180,
   "id": "3516ea48-a28d-48d4-b37f-665bb5d0b973",
   "metadata": {},
   "outputs": [
    {
     "ename": "AttributeError",
     "evalue": "'pwskills' object has no attribute 'student_details'",
     "output_type": "error",
     "traceback": [
      "\u001b[0;31m---------------------------------------------------------------------------\u001b[0m",
      "\u001b[0;31mAttributeError\u001b[0m                            Traceback (most recent call last)",
      "Cell \u001b[0;32mIn[180], line 1\u001b[0m\n\u001b[0;32m----> 1\u001b[0m \u001b[43mobj\u001b[49m\u001b[38;5;241;43m.\u001b[39;49m\u001b[43mstudent_details\u001b[49m()\n",
      "\u001b[0;31mAttributeError\u001b[0m: 'pwskills' object has no attribute 'student_details'"
     ]
    }
   ],
   "source": [
    "obj.student_details()"
   ]
  },
  {
   "cell_type": "markdown",
   "id": "7de2a89c-0f91-450d-a78d-a4557b680667",
   "metadata": {},
   "source": [
    "###STATIC METHOD"
   ]
  },
  {
   "cell_type": "code",
   "execution_count": 181,
   "id": "1b1f14a1-3e0d-4a94-920d-3a089ee00a4e",
   "metadata": {},
   "outputs": [],
   "source": [
    "class pwskills:\n",
    "    def student_details(self,name,mail_id,number):\n",
    "        print(name,mail_id,number)"
   ]
  },
  {
   "cell_type": "code",
   "execution_count": 182,
   "id": "102c6ed1-32c8-44bc-9baf-afa6bb518dd6",
   "metadata": {},
   "outputs": [],
   "source": [
    "obj=pwskills()"
   ]
  },
  {
   "cell_type": "code",
   "execution_count": 185,
   "id": "ca30f70c-6f93-441f-b273-5fd2528c6f42",
   "metadata": {},
   "outputs": [
    {
     "name": "stdout",
     "output_type": "stream",
     "text": [
      "Sudh sudh@gmail.com 1234567890\n"
     ]
    }
   ],
   "source": [
    "obj.student_details(\"Sudh\",\"sudh@gmail.com\",1234567890)"
   ]
  },
  {
   "cell_type": "code",
   "execution_count": 186,
   "id": "85512cf9-3d58-473c-b332-5a1458696230",
   "metadata": {},
   "outputs": [
    {
     "ename": "AttributeError",
     "evalue": "'pwskills' object has no attribute 'name'",
     "output_type": "error",
     "traceback": [
      "\u001b[0;31m---------------------------------------------------------------------------\u001b[0m",
      "\u001b[0;31mAttributeError\u001b[0m                            Traceback (most recent call last)",
      "Cell \u001b[0;32mIn[186], line 1\u001b[0m\n\u001b[0;32m----> 1\u001b[0m \u001b[43mobj\u001b[49m\u001b[38;5;241;43m.\u001b[39;49m\u001b[43mname\u001b[49m\n",
      "\u001b[0;31mAttributeError\u001b[0m: 'pwskills' object has no attribute 'name'"
     ]
    }
   ],
   "source": [
    "obj.name"
   ]
  },
  {
   "cell_type": "code",
   "execution_count": 187,
   "id": "b0da2571-04f6-4550-9117-4917a939d99a",
   "metadata": {},
   "outputs": [],
   "source": [
    "class pwskills:\n",
    "    def student_details(self,name,mail_id,number):\n",
    "        self.name=name\n",
    "        self.mail_id=mail_id\n",
    "        self.number=number\n",
    "        print(name,mail_id,number)"
   ]
  },
  {
   "cell_type": "code",
   "execution_count": 188,
   "id": "97598c2e-4468-4b4d-99ac-fb4300eca445",
   "metadata": {},
   "outputs": [],
   "source": [
    "obj=pwskills()"
   ]
  },
  {
   "cell_type": "code",
   "execution_count": 189,
   "id": "e2e207d6-4b94-4cb2-9d29-dbfa6a1dfb78",
   "metadata": {},
   "outputs": [
    {
     "name": "stdout",
     "output_type": "stream",
     "text": [
      "Sudh sudh@gmail.com 1234567890\n"
     ]
    }
   ],
   "source": [
    "obj.student_details(\"Sudh\",\"sudh@gmail.com\",1234567890)"
   ]
  },
  {
   "cell_type": "code",
   "execution_count": 190,
   "id": "8fe92d38-5239-45a4-945b-bb5d2d4add65",
   "metadata": {},
   "outputs": [
    {
     "data": {
      "text/plain": [
       "'Sudh'"
      ]
     },
     "execution_count": 190,
     "metadata": {},
     "output_type": "execute_result"
    }
   ],
   "source": [
    "obj.name"
   ]
  },
  {
   "cell_type": "code",
   "execution_count": 227,
   "id": "236d1cf7-b46a-42e0-8dce-fb04d68835ac",
   "metadata": {},
   "outputs": [],
   "source": [
    "class pwskills:\n",
    "    def student_details(self,name,mail_id,number):\n",
    "        print(name,mail_id,number)\n",
    "        \n",
    "    @staticmethod\n",
    "    def mentor(list_mentor):\n",
    "        print(list_mentor)\n",
    "    def mentoraccess(self,list_mentor):\n",
    "        print(list_mentor)"
   ]
  },
  {
   "cell_type": "code",
   "execution_count": 228,
   "id": "eb6b64e3-a1c9-4bf1-94a3-6cc297c52837",
   "metadata": {},
   "outputs": [
    {
     "name": "stdout",
     "output_type": "stream",
     "text": [
      "['Sudh', 'Krish']\n"
     ]
    }
   ],
   "source": [
    "pwskills.mentor([\"Sudh\",\"Krish\"])"
   ]
  },
  {
   "cell_type": "code",
   "execution_count": 229,
   "id": "d93f6262-f519-4ea5-b74c-f1c9c265c2d5",
   "metadata": {},
   "outputs": [],
   "source": [
    "obj=pwskills()"
   ]
  },
  {
   "cell_type": "code",
   "execution_count": 231,
   "id": "ae2f615e-8063-498f-b4bb-cef5e83ab803",
   "metadata": {},
   "outputs": [
    {
     "name": "stdout",
     "output_type": "stream",
     "text": [
      "['Sudh', 'Krish']\n"
     ]
    }
   ],
   "source": [
    "obj.mentoraccess([\"Sudh\",\"Krish\"])"
   ]
  },
  {
   "cell_type": "code",
   "execution_count": 246,
   "id": "cb5d94b0-79d3-4db6-8da6-f90f94ec57e2",
   "metadata": {},
   "outputs": [],
   "source": [
    "class pwskills1:\n",
    "    def student_details(self , name , mail_id , number) : \n",
    "        print(name , mail_id, number)\n",
    "        \n",
    "    @staticmethod\n",
    "    def mentor_mail_id(mail_id):\n",
    "        print(mail_id)\n",
    "        \n",
    "    @staticmethod\n",
    "    def mentor_class(list_mentor) : \n",
    "        print(list_mentor)\n",
    "        pwskills1.mentor_mail_id([\"krish@gmail.com\" , \"sudh@gmail.com\"])\n",
    "        \n",
    "    @classmethod\n",
    "    def class_name(cls,class_name):\n",
    "        cls.mentor_class([\"sudh\" , \"krish\"])\n",
    "        \n",
    "    def mentor(self , mentor_list) :\n",
    "        print(mentor_list)\n",
    "        self.mentor_class([\"krish\" , \"sudh\"])"
   ]
  },
  {
   "cell_type": "code",
   "execution_count": 244,
   "id": "8aeed7c0-bd8b-414b-b333-8de55e0d2493",
   "metadata": {},
   "outputs": [],
   "source": [
    "obj=pwskills()"
   ]
  },
  {
   "cell_type": "code",
   "execution_count": 235,
   "id": "7dfda6a8-73da-4e4f-a047-8c217c1ef1ee",
   "metadata": {},
   "outputs": [
    {
     "name": "stdout",
     "output_type": "stream",
     "text": [
      "Unknown unknown@gmail.com 123456789\n"
     ]
    }
   ],
   "source": [
    "obj.student_details(\"Unknown\",\"unknown@gmail.com\",123456789)"
   ]
  },
  {
   "cell_type": "code",
   "execution_count": 239,
   "id": "6af60b5f-b8d6-4b7b-bfc2-dd9746531149",
   "metadata": {},
   "outputs": [
    {
     "name": "stdout",
     "output_type": "stream",
     "text": [
      "['Krish', 'Sudh']\n"
     ]
    }
   ],
   "source": [
    "obj.mentor([\"Krish\",\"Sudh\"])"
   ]
  },
  {
   "cell_type": "code",
   "execution_count": 249,
   "id": "765c147c-b169-479b-b1fe-181f122692e7",
   "metadata": {},
   "outputs": [],
   "source": [
    "#Therefore class method can used to overload the init method and behave as a constructor\n",
    "#And static method will try to reduce memory utilization"
   ]
  },
  {
   "cell_type": "markdown",
   "id": "0fec7f7c-c548-4f6f-8e48-d65ad00f04f0",
   "metadata": {},
   "source": [
    "###Magic/Dunder method"
   ]
  },
  {
   "cell_type": "code",
   "execution_count": 250,
   "id": "b0c98aa9-9b8c-4a0e-b66c-92b88611030c",
   "metadata": {},
   "outputs": [
    {
     "data": {
      "text/plain": [
       "['__abs__',\n",
       " '__add__',\n",
       " '__and__',\n",
       " '__bool__',\n",
       " '__ceil__',\n",
       " '__class__',\n",
       " '__delattr__',\n",
       " '__dir__',\n",
       " '__divmod__',\n",
       " '__doc__',\n",
       " '__eq__',\n",
       " '__float__',\n",
       " '__floor__',\n",
       " '__floordiv__',\n",
       " '__format__',\n",
       " '__ge__',\n",
       " '__getattribute__',\n",
       " '__getnewargs__',\n",
       " '__gt__',\n",
       " '__hash__',\n",
       " '__index__',\n",
       " '__init__',\n",
       " '__init_subclass__',\n",
       " '__int__',\n",
       " '__invert__',\n",
       " '__le__',\n",
       " '__lshift__',\n",
       " '__lt__',\n",
       " '__mod__',\n",
       " '__mul__',\n",
       " '__ne__',\n",
       " '__neg__',\n",
       " '__new__',\n",
       " '__or__',\n",
       " '__pos__',\n",
       " '__pow__',\n",
       " '__radd__',\n",
       " '__rand__',\n",
       " '__rdivmod__',\n",
       " '__reduce__',\n",
       " '__reduce_ex__',\n",
       " '__repr__',\n",
       " '__rfloordiv__',\n",
       " '__rlshift__',\n",
       " '__rmod__',\n",
       " '__rmul__',\n",
       " '__ror__',\n",
       " '__round__',\n",
       " '__rpow__',\n",
       " '__rrshift__',\n",
       " '__rshift__',\n",
       " '__rsub__',\n",
       " '__rtruediv__',\n",
       " '__rxor__',\n",
       " '__setattr__',\n",
       " '__sizeof__',\n",
       " '__str__',\n",
       " '__sub__',\n",
       " '__subclasshook__',\n",
       " '__truediv__',\n",
       " '__trunc__',\n",
       " '__xor__',\n",
       " 'as_integer_ratio',\n",
       " 'bit_count',\n",
       " 'bit_length',\n",
       " 'conjugate',\n",
       " 'denominator',\n",
       " 'from_bytes',\n",
       " 'imag',\n",
       " 'numerator',\n",
       " 'real',\n",
       " 'to_bytes']"
      ]
     },
     "execution_count": 250,
     "metadata": {},
     "output_type": "execute_result"
    }
   ],
   "source": [
    "dir(int)"
   ]
  },
  {
   "cell_type": "code",
   "execution_count": 251,
   "id": "8e776d0e-5dc4-4b36-a4e2-62ff8b095cbd",
   "metadata": {},
   "outputs": [],
   "source": [
    "a=10"
   ]
  },
  {
   "cell_type": "code",
   "execution_count": 252,
   "id": "3d02be83-0da8-4c45-b55a-661cc33dbb80",
   "metadata": {},
   "outputs": [
    {
     "data": {
      "text/plain": [
       "16"
      ]
     },
     "execution_count": 252,
     "metadata": {},
     "output_type": "execute_result"
    }
   ],
   "source": [
    "a+6"
   ]
  },
  {
   "cell_type": "code",
   "execution_count": 255,
   "id": "e747189c-5f64-48bf-8263-c99a7bb8ac2c",
   "metadata": {},
   "outputs": [
    {
     "data": {
      "text/plain": [
       "16"
      ]
     },
     "execution_count": 255,
     "metadata": {},
     "output_type": "execute_result"
    }
   ],
   "source": [
    "a.__add__(6)"
   ]
  },
  {
   "cell_type": "code",
   "execution_count": 256,
   "id": "26739581-af55-4b01-843b-68b463e4b529",
   "metadata": {},
   "outputs": [
    {
     "data": {
      "text/plain": [
       "['__add__',\n",
       " '__class__',\n",
       " '__contains__',\n",
       " '__delattr__',\n",
       " '__dir__',\n",
       " '__doc__',\n",
       " '__eq__',\n",
       " '__format__',\n",
       " '__ge__',\n",
       " '__getattribute__',\n",
       " '__getitem__',\n",
       " '__getnewargs__',\n",
       " '__gt__',\n",
       " '__hash__',\n",
       " '__init__',\n",
       " '__init_subclass__',\n",
       " '__iter__',\n",
       " '__le__',\n",
       " '__len__',\n",
       " '__lt__',\n",
       " '__mod__',\n",
       " '__mul__',\n",
       " '__ne__',\n",
       " '__new__',\n",
       " '__reduce__',\n",
       " '__reduce_ex__',\n",
       " '__repr__',\n",
       " '__rmod__',\n",
       " '__rmul__',\n",
       " '__setattr__',\n",
       " '__sizeof__',\n",
       " '__str__',\n",
       " '__subclasshook__',\n",
       " 'capitalize',\n",
       " 'casefold',\n",
       " 'center',\n",
       " 'count',\n",
       " 'encode',\n",
       " 'endswith',\n",
       " 'expandtabs',\n",
       " 'find',\n",
       " 'format',\n",
       " 'format_map',\n",
       " 'index',\n",
       " 'isalnum',\n",
       " 'isalpha',\n",
       " 'isascii',\n",
       " 'isdecimal',\n",
       " 'isdigit',\n",
       " 'isidentifier',\n",
       " 'islower',\n",
       " 'isnumeric',\n",
       " 'isprintable',\n",
       " 'isspace',\n",
       " 'istitle',\n",
       " 'isupper',\n",
       " 'join',\n",
       " 'ljust',\n",
       " 'lower',\n",
       " 'lstrip',\n",
       " 'maketrans',\n",
       " 'partition',\n",
       " 'removeprefix',\n",
       " 'removesuffix',\n",
       " 'replace',\n",
       " 'rfind',\n",
       " 'rindex',\n",
       " 'rjust',\n",
       " 'rpartition',\n",
       " 'rsplit',\n",
       " 'rstrip',\n",
       " 'split',\n",
       " 'splitlines',\n",
       " 'startswith',\n",
       " 'strip',\n",
       " 'swapcase',\n",
       " 'title',\n",
       " 'translate',\n",
       " 'upper',\n",
       " 'zfill']"
      ]
     },
     "execution_count": 256,
     "metadata": {},
     "output_type": "execute_result"
    }
   ],
   "source": [
    "dir(str)"
   ]
  },
  {
   "cell_type": "code",
   "execution_count": 257,
   "id": "03ea9cea-57cc-44b0-a8d0-bca8c15f99eb",
   "metadata": {},
   "outputs": [],
   "source": [
    "a=\"Hi\""
   ]
  },
  {
   "cell_type": "code",
   "execution_count": 258,
   "id": "6d19f108-e6d8-4221-a265-db0ba15d434a",
   "metadata": {},
   "outputs": [
    {
     "data": {
      "text/plain": [
       "'Hi Hello'"
      ]
     },
     "execution_count": 258,
     "metadata": {},
     "output_type": "execute_result"
    }
   ],
   "source": [
    "a+\" Hello\""
   ]
  },
  {
   "cell_type": "code",
   "execution_count": 259,
   "id": "db2b8ed6-a0e2-4dd8-b18e-0e725363bc62",
   "metadata": {},
   "outputs": [
    {
     "data": {
      "text/plain": [
       "'Hi Hello'"
      ]
     },
     "execution_count": 259,
     "metadata": {},
     "output_type": "execute_result"
    }
   ],
   "source": [
    "a.__add__(\" Hello\")"
   ]
  },
  {
   "cell_type": "code",
   "execution_count": 260,
   "id": "611d261d-2829-4c72-9955-5afa39ab9364",
   "metadata": {},
   "outputs": [],
   "source": [
    "class pwskills:\n",
    "    def __init__(self):\n",
    "        print(\"This is my init\")"
   ]
  },
  {
   "cell_type": "code",
   "execution_count": 261,
   "id": "3dd52eb1-9d9d-4297-9347-56abb032c638",
   "metadata": {},
   "outputs": [
    {
     "name": "stdout",
     "output_type": "stream",
     "text": [
      "This is my init\n"
     ]
    }
   ],
   "source": [
    "obj=pwskills()"
   ]
  },
  {
   "cell_type": "code",
   "execution_count": 262,
   "id": "6c9e8579-abed-48e0-943a-1f09ef2d3c93",
   "metadata": {},
   "outputs": [],
   "source": [
    "class pwskills:\n",
    "    def __new__(self):\n",
    "        print(\"This is my new\")\n",
    "    def __init__(self):\n",
    "        print(\"This is my init\")"
   ]
  },
  {
   "cell_type": "code",
   "execution_count": 263,
   "id": "ecd70fb9-8c47-48af-b412-7484f6166327",
   "metadata": {},
   "outputs": [
    {
     "name": "stdout",
     "output_type": "stream",
     "text": [
      "This is my new\n"
     ]
    }
   ],
   "source": [
    "obj=pwskills()"
   ]
  },
  {
   "cell_type": "code",
   "execution_count": 264,
   "id": "88b4f6f9-fd49-41ec-848c-f460679348f2",
   "metadata": {},
   "outputs": [],
   "source": [
    "class pwskills:\n",
    "    def __init__(self):\n",
    "        print(\"This is my init\")"
   ]
  },
  {
   "cell_type": "code",
   "execution_count": 265,
   "id": "f644dc8c-d4ca-40a3-ba5e-1f1ed66bc5af",
   "metadata": {},
   "outputs": [
    {
     "name": "stdout",
     "output_type": "stream",
     "text": [
      "This is my init\n"
     ]
    }
   ],
   "source": [
    "obj=pwskills()"
   ]
  },
  {
   "cell_type": "code",
   "execution_count": 266,
   "id": "42369a60-8104-41cf-beb1-55d4a870336b",
   "metadata": {},
   "outputs": [
    {
     "name": "stdout",
     "output_type": "stream",
     "text": [
      "<__main__.pwskills object at 0x7f603ffaa260>\n"
     ]
    }
   ],
   "source": [
    "print(obj)"
   ]
  },
  {
   "cell_type": "code",
   "execution_count": 273,
   "id": "cececf1d-a4b5-4dc5-8d7b-905d247baf2d",
   "metadata": {},
   "outputs": [],
   "source": [
    "class pwskills:\n",
    "    def __init__(self):\n",
    "        print(\"This is my init\")\n",
    "    def __str__(self):\n",
    "        return(\"This is magic method\")"
   ]
  },
  {
   "cell_type": "code",
   "execution_count": 274,
   "id": "2dfad4e5-7bb4-4e8b-a9d2-aeeb3e85ee0a",
   "metadata": {},
   "outputs": [
    {
     "name": "stdout",
     "output_type": "stream",
     "text": [
      "This is my init\n"
     ]
    }
   ],
   "source": [
    "obj=pwskills()"
   ]
  },
  {
   "cell_type": "code",
   "execution_count": 275,
   "id": "c4abecbf-ac02-404f-b3e2-6b3fadab244b",
   "metadata": {},
   "outputs": [
    {
     "name": "stdout",
     "output_type": "stream",
     "text": [
      "This is magic method\n"
     ]
    }
   ],
   "source": [
    "print(obj)"
   ]
  },
  {
   "cell_type": "code",
   "execution_count": 276,
   "id": "984bfc78-1aa4-416c-8cb2-a52fa4b7843b",
   "metadata": {},
   "outputs": [
    {
     "data": {
      "text/plain": [
       "['__class__',\n",
       " '__class_getitem__',\n",
       " '__contains__',\n",
       " '__delattr__',\n",
       " '__delitem__',\n",
       " '__dir__',\n",
       " '__doc__',\n",
       " '__eq__',\n",
       " '__format__',\n",
       " '__ge__',\n",
       " '__getattribute__',\n",
       " '__getitem__',\n",
       " '__gt__',\n",
       " '__hash__',\n",
       " '__init__',\n",
       " '__init_subclass__',\n",
       " '__ior__',\n",
       " '__iter__',\n",
       " '__le__',\n",
       " '__len__',\n",
       " '__lt__',\n",
       " '__ne__',\n",
       " '__new__',\n",
       " '__or__',\n",
       " '__reduce__',\n",
       " '__reduce_ex__',\n",
       " '__repr__',\n",
       " '__reversed__',\n",
       " '__ror__',\n",
       " '__setattr__',\n",
       " '__setitem__',\n",
       " '__sizeof__',\n",
       " '__str__',\n",
       " '__subclasshook__',\n",
       " 'clear',\n",
       " 'copy',\n",
       " 'fromkeys',\n",
       " 'get',\n",
       " 'items',\n",
       " 'keys',\n",
       " 'pop',\n",
       " 'popitem',\n",
       " 'setdefault',\n",
       " 'update',\n",
       " 'values']"
      ]
     },
     "execution_count": 276,
     "metadata": {},
     "output_type": "execute_result"
    }
   ],
   "source": [
    "dir(dict)"
   ]
  },
  {
   "cell_type": "code",
   "execution_count": 277,
   "id": "ab1f4832-e8bd-40c9-b968-9466a77a1da9",
   "metadata": {},
   "outputs": [
    {
     "data": {
      "text/plain": [
       "['__add__',\n",
       " '__class__',\n",
       " '__class_getitem__',\n",
       " '__contains__',\n",
       " '__delattr__',\n",
       " '__delitem__',\n",
       " '__dir__',\n",
       " '__doc__',\n",
       " '__eq__',\n",
       " '__format__',\n",
       " '__ge__',\n",
       " '__getattribute__',\n",
       " '__getitem__',\n",
       " '__gt__',\n",
       " '__hash__',\n",
       " '__iadd__',\n",
       " '__imul__',\n",
       " '__init__',\n",
       " '__init_subclass__',\n",
       " '__iter__',\n",
       " '__le__',\n",
       " '__len__',\n",
       " '__lt__',\n",
       " '__mul__',\n",
       " '__ne__',\n",
       " '__new__',\n",
       " '__reduce__',\n",
       " '__reduce_ex__',\n",
       " '__repr__',\n",
       " '__reversed__',\n",
       " '__rmul__',\n",
       " '__setattr__',\n",
       " '__setitem__',\n",
       " '__sizeof__',\n",
       " '__str__',\n",
       " '__subclasshook__',\n",
       " 'append',\n",
       " 'clear',\n",
       " 'copy',\n",
       " 'count',\n",
       " 'extend',\n",
       " 'index',\n",
       " 'insert',\n",
       " 'pop',\n",
       " 'remove',\n",
       " 'reverse',\n",
       " 'sort']"
      ]
     },
     "execution_count": 277,
     "metadata": {},
     "output_type": "execute_result"
    }
   ],
   "source": [
    "dir(list)"
   ]
  },
  {
   "cell_type": "code",
   "execution_count": 279,
   "id": "5da4dadc-957c-45c2-b497-24ea0cc12afe",
   "metadata": {},
   "outputs": [
    {
     "data": {
      "text/plain": [
       "['__add__',\n",
       " '__class__',\n",
       " '__class_getitem__',\n",
       " '__contains__',\n",
       " '__delattr__',\n",
       " '__dir__',\n",
       " '__doc__',\n",
       " '__eq__',\n",
       " '__format__',\n",
       " '__ge__',\n",
       " '__getattribute__',\n",
       " '__getitem__',\n",
       " '__getnewargs__',\n",
       " '__gt__',\n",
       " '__hash__',\n",
       " '__init__',\n",
       " '__init_subclass__',\n",
       " '__iter__',\n",
       " '__le__',\n",
       " '__len__',\n",
       " '__lt__',\n",
       " '__mul__',\n",
       " '__ne__',\n",
       " '__new__',\n",
       " '__reduce__',\n",
       " '__reduce_ex__',\n",
       " '__repr__',\n",
       " '__rmul__',\n",
       " '__setattr__',\n",
       " '__sizeof__',\n",
       " '__str__',\n",
       " '__subclasshook__',\n",
       " 'count',\n",
       " 'index']"
      ]
     },
     "execution_count": 279,
     "metadata": {},
     "output_type": "execute_result"
    }
   ],
   "source": [
    "dir(tuple)"
   ]
  },
  {
   "cell_type": "code",
   "execution_count": 280,
   "id": "91a91173-b948-41f6-9aa9-fbfbf7c291c1",
   "metadata": {},
   "outputs": [
    {
     "data": {
      "text/plain": [
       "['__and__',\n",
       " '__class__',\n",
       " '__class_getitem__',\n",
       " '__contains__',\n",
       " '__delattr__',\n",
       " '__dir__',\n",
       " '__doc__',\n",
       " '__eq__',\n",
       " '__format__',\n",
       " '__ge__',\n",
       " '__getattribute__',\n",
       " '__gt__',\n",
       " '__hash__',\n",
       " '__iand__',\n",
       " '__init__',\n",
       " '__init_subclass__',\n",
       " '__ior__',\n",
       " '__isub__',\n",
       " '__iter__',\n",
       " '__ixor__',\n",
       " '__le__',\n",
       " '__len__',\n",
       " '__lt__',\n",
       " '__ne__',\n",
       " '__new__',\n",
       " '__or__',\n",
       " '__rand__',\n",
       " '__reduce__',\n",
       " '__reduce_ex__',\n",
       " '__repr__',\n",
       " '__ror__',\n",
       " '__rsub__',\n",
       " '__rxor__',\n",
       " '__setattr__',\n",
       " '__sizeof__',\n",
       " '__str__',\n",
       " '__sub__',\n",
       " '__subclasshook__',\n",
       " '__xor__',\n",
       " 'add',\n",
       " 'clear',\n",
       " 'copy',\n",
       " 'difference',\n",
       " 'difference_update',\n",
       " 'discard',\n",
       " 'intersection',\n",
       " 'intersection_update',\n",
       " 'isdisjoint',\n",
       " 'issubset',\n",
       " 'issuperset',\n",
       " 'pop',\n",
       " 'remove',\n",
       " 'symmetric_difference',\n",
       " 'symmetric_difference_update',\n",
       " 'union',\n",
       " 'update']"
      ]
     },
     "execution_count": 280,
     "metadata": {},
     "output_type": "execute_result"
    }
   ],
   "source": [
    "dir(set)"
   ]
  },
  {
   "cell_type": "markdown",
   "id": "b2ba9610-3a75-40b5-8522-43f8c896795d",
   "metadata": {},
   "source": [
    "###PROPERTY DECORATOR"
   ]
  },
  {
   "cell_type": "code",
   "execution_count": 281,
   "id": "70f17855-9275-432b-820a-2d7a94eaf370",
   "metadata": {},
   "outputs": [],
   "source": [
    "class pwskills:\n",
    "    \n",
    "    def __init__(self, course_price , course_name):\n",
    "        self.__course_price = course_price\n",
    "        self.course_name = course_name\n",
    "        \n",
    "    @property\n",
    "    def course_price_access(self):\n",
    "        return self.__course_price\n",
    "    \n",
    "    @course_price_access.setter\n",
    "    def course_price_set(self , price):\n",
    "        if price <= 3500:\n",
    "            pass\n",
    "        else :\n",
    "            self.__course_price = price\n",
    "            \n",
    "    @course_price_access.deleter \n",
    "    def course_price_del(self):\n",
    "        del  self.__course_price\n",
    "    \n",
    "       "
   ]
  },
  {
   "cell_type": "code",
   "execution_count": 283,
   "id": "b2f6554e-fb69-4a57-ab1f-9ecea5e32d2d",
   "metadata": {},
   "outputs": [],
   "source": [
    "obj=pwskills(35000,\"Data Science Masters\")"
   ]
  },
  {
   "cell_type": "code",
   "execution_count": 284,
   "id": "efe37df0-d000-49e0-860b-aec4d8ad64b2",
   "metadata": {},
   "outputs": [
    {
     "data": {
      "text/plain": [
       "'Data Science Masters'"
      ]
     },
     "execution_count": 284,
     "metadata": {},
     "output_type": "execute_result"
    }
   ],
   "source": [
    "obj.course_name"
   ]
  },
  {
   "cell_type": "code",
   "execution_count": 285,
   "id": "888c680a-ceb4-47c6-a1b2-1dfc049abeae",
   "metadata": {},
   "outputs": [
    {
     "ename": "AttributeError",
     "evalue": "'pwskills' object has no attribute 'course_price'",
     "output_type": "error",
     "traceback": [
      "\u001b[0;31m---------------------------------------------------------------------------\u001b[0m",
      "\u001b[0;31mAttributeError\u001b[0m                            Traceback (most recent call last)",
      "Cell \u001b[0;32mIn[285], line 1\u001b[0m\n\u001b[0;32m----> 1\u001b[0m \u001b[43mobj\u001b[49m\u001b[38;5;241;43m.\u001b[39;49m\u001b[43mcourse_price\u001b[49m\n",
      "\u001b[0;31mAttributeError\u001b[0m: 'pwskills' object has no attribute 'course_price'"
     ]
    }
   ],
   "source": [
    "obj.course_price"
   ]
  },
  {
   "cell_type": "code",
   "execution_count": 287,
   "id": "b55719af-02a2-4238-8c24-5ed190568953",
   "metadata": {},
   "outputs": [
    {
     "data": {
      "text/plain": [
       "35000"
      ]
     },
     "execution_count": 287,
     "metadata": {},
     "output_type": "execute_result"
    }
   ],
   "source": [
    "obj._pwskills__course_price"
   ]
  },
  {
   "cell_type": "code",
   "execution_count": 289,
   "id": "56b7b428-842b-4bfb-8e4c-967d221b29a8",
   "metadata": {},
   "outputs": [
    {
     "data": {
      "text/plain": [
       "35000"
      ]
     },
     "execution_count": 289,
     "metadata": {},
     "output_type": "execute_result"
    }
   ],
   "source": [
    "obj.course_price_access"
   ]
  },
  {
   "cell_type": "code",
   "execution_count": 291,
   "id": "94ddaf74-4dd3-4f8f-9c78-b21a309b411c",
   "metadata": {},
   "outputs": [],
   "source": [
    "obj.course_price_set = 2300"
   ]
  },
  {
   "cell_type": "code",
   "execution_count": 292,
   "id": "86867347-afb3-4d6b-8b9d-3cbeb609cda6",
   "metadata": {},
   "outputs": [
    {
     "data": {
      "text/plain": [
       "35000"
      ]
     },
     "execution_count": 292,
     "metadata": {},
     "output_type": "execute_result"
    }
   ],
   "source": [
    "obj.course_price_access"
   ]
  },
  {
   "cell_type": "code",
   "execution_count": 293,
   "id": "742be441-04ea-4188-904d-7b2f15b1d054",
   "metadata": {},
   "outputs": [],
   "source": [
    "obj.course_price_set = 4000"
   ]
  },
  {
   "cell_type": "code",
   "execution_count": 294,
   "id": "a63a880e-dcec-40ac-8b07-d1a134ad5b5a",
   "metadata": {},
   "outputs": [
    {
     "data": {
      "text/plain": [
       "4000"
      ]
     },
     "execution_count": 294,
     "metadata": {},
     "output_type": "execute_result"
    }
   ],
   "source": [
    "obj.course_price_access"
   ]
  },
  {
   "cell_type": "code",
   "execution_count": 297,
   "id": "ebce6a78-6833-49f6-a80b-282d77bb283c",
   "metadata": {},
   "outputs": [
    {
     "data": {
      "text/plain": [
       "<property at 0x7f605414e8e0>"
      ]
     },
     "execution_count": 297,
     "metadata": {},
     "output_type": "execute_result"
    }
   ],
   "source": [
    "pwskills.course_price_del"
   ]
  },
  {
   "cell_type": "code",
   "execution_count": 300,
   "id": "fe844723-c002-486e-a65d-f6b4dcf09762",
   "metadata": {},
   "outputs": [
    {
     "ename": "NameError",
     "evalue": "name 'course_details' is not defined",
     "output_type": "error",
     "traceback": [
      "\u001b[0;31m---------------------------------------------------------------------------\u001b[0m",
      "\u001b[0;31mNameError\u001b[0m                                 Traceback (most recent call last)",
      "Cell \u001b[0;32mIn[300], line 1\u001b[0m\n\u001b[0;32m----> 1\u001b[0m \u001b[38;5;28;01mdel\u001b[39;00m course_details\n",
      "\u001b[0;31mNameError\u001b[0m: name 'course_details' is not defined"
     ]
    }
   ],
   "source": [
    "del course_details"
   ]
  },
  {
   "cell_type": "code",
   "execution_count": null,
   "id": "e31275a8-bcdb-4973-9132-1ec1603b703e",
   "metadata": {},
   "outputs": [],
   "source": []
  },
  {
   "cell_type": "code",
   "execution_count": null,
   "id": "4afa17f2-c720-4870-acb3-e9592c4b7910",
   "metadata": {},
   "outputs": [],
   "source": []
  }
 ],
 "metadata": {
  "kernelspec": {
   "display_name": "Python 3 (ipykernel)",
   "language": "python",
   "name": "python3"
  },
  "language_info": {
   "codemirror_mode": {
    "name": "ipython",
    "version": 3
   },
   "file_extension": ".py",
   "mimetype": "text/x-python",
   "name": "python",
   "nbconvert_exporter": "python",
   "pygments_lexer": "ipython3",
   "version": "3.10.8"
  }
 },
 "nbformat": 4,
 "nbformat_minor": 5
}
