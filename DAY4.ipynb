{
 "cells": [
  {
   "cell_type": "code",
   "execution_count": 1,
   "id": "cbb6af77-60e3-422b-99ab-102009d5bbba",
   "metadata": {},
   "outputs": [],
   "source": [
    "string=\"Data Science Master\""
   ]
  },
  {
   "cell_type": "code",
   "execution_count": 2,
   "id": "24d9bbe4-ee2f-46d6-8301-9af6a4d1b21b",
   "metadata": {},
   "outputs": [
    {
     "data": {
      "text/plain": [
       "'Data Science Master'"
      ]
     },
     "execution_count": 2,
     "metadata": {},
     "output_type": "execute_result"
    }
   ],
   "source": [
    "string"
   ]
  },
  {
   "cell_type": "code",
   "execution_count": 3,
   "id": "69038120-c21e-471f-ad07-1dc84617722f",
   "metadata": {},
   "outputs": [
    {
     "data": {
      "text/plain": [
       "'Data Science Master'"
      ]
     },
     "execution_count": 3,
     "metadata": {},
     "output_type": "execute_result"
    }
   ],
   "source": [
    "string.title()"
   ]
  },
  {
   "cell_type": "code",
   "execution_count": 5,
   "id": "fb3c6383-2989-41e2-927b-3b50c1fe1eba",
   "metadata": {},
   "outputs": [
    {
     "data": {
      "text/plain": [
       "'Data science master'"
      ]
     },
     "execution_count": 5,
     "metadata": {},
     "output_type": "execute_result"
    }
   ],
   "source": [
    "string.capitalize()"
   ]
  },
  {
   "cell_type": "code",
   "execution_count": 6,
   "id": "998ac73c-952a-4616-8ef9-f2a34fd65b04",
   "metadata": {},
   "outputs": [],
   "source": [
    "##Reverse string"
   ]
  },
  {
   "cell_type": "code",
   "execution_count": 7,
   "id": "0c2de976-4772-4f02-8e03-ded069aadf2e",
   "metadata": {},
   "outputs": [
    {
     "data": {
      "text/plain": [
       "'retsaM ecneicS ataD'"
      ]
     },
     "execution_count": 7,
     "metadata": {},
     "output_type": "execute_result"
    }
   ],
   "source": [
    "string[::-1]"
   ]
  },
  {
   "cell_type": "code",
   "execution_count": 8,
   "id": "d44c3c93-396f-4f32-914a-0ba74c6cb20e",
   "metadata": {},
   "outputs": [
    {
     "data": {
      "text/plain": [
       "<reversed at 0x7f2e778aaad0>"
      ]
     },
     "execution_count": 8,
     "metadata": {},
     "output_type": "execute_result"
    }
   ],
   "source": [
    "reversed(string)"
   ]
  },
  {
   "cell_type": "code",
   "execution_count": 11,
   "id": "6c40a754-c563-4510-8d26-616d1f738ab6",
   "metadata": {},
   "outputs": [
    {
     "data": {
      "text/plain": [
       "'retsaM ecneicS ataD'"
      ]
     },
     "execution_count": 11,
     "metadata": {},
     "output_type": "execute_result"
    }
   ],
   "source": [
    "\"\".join(reversed(string))"
   ]
  },
  {
   "cell_type": "code",
   "execution_count": 14,
   "id": "2545b11f-79c6-4c92-acb1-a473a25a4498",
   "metadata": {},
   "outputs": [
    {
     "data": {
      "text/plain": [
       "'PVaibhav VilasaVaibhav VilaswVaibhav VilasaVaibhav Vilasr'"
      ]
     },
     "execution_count": 14,
     "metadata": {},
     "output_type": "execute_result"
    }
   ],
   "source": [
    "\"Vaibhav Vilas\".join(\"Pawar\")"
   ]
  },
  {
   "cell_type": "code",
   "execution_count": 15,
   "id": "91e226e5-c919-4a0b-9d5a-66539ca05682",
   "metadata": {},
   "outputs": [
    {
     "data": {
      "text/plain": [
       "'R a b b i t'"
      ]
     },
     "execution_count": 15,
     "metadata": {},
     "output_type": "execute_result"
    }
   ],
   "source": [
    "\" \".join(\"Rabbit\")"
   ]
  },
  {
   "cell_type": "code",
   "execution_count": 16,
   "id": "2bea73a0-b202-4944-8e28-ee26cdb39c28",
   "metadata": {},
   "outputs": [
    {
     "data": {
      "text/plain": [
       "'t i b b a R'"
      ]
     },
     "execution_count": 16,
     "metadata": {},
     "output_type": "execute_result"
    }
   ],
   "source": [
    "\" \".join(reversed(\"Rabbit\"))"
   ]
  },
  {
   "cell_type": "code",
   "execution_count": 17,
   "id": "f8b6e2f4-beb1-4c63-aa06-ae9286844479",
   "metadata": {},
   "outputs": [
    {
     "data": {
      "text/plain": [
       "'Rabbit'"
      ]
     },
     "execution_count": 17,
     "metadata": {},
     "output_type": "execute_result"
    }
   ],
   "source": [
    "\"\".join(\"Rabbit\")"
   ]
  },
  {
   "cell_type": "code",
   "execution_count": 18,
   "id": "04eef339-9409-4090-8e63-053c3f119824",
   "metadata": {},
   "outputs": [
    {
     "data": {
      "text/plain": [
       "'tibbaR'"
      ]
     },
     "execution_count": 18,
     "metadata": {},
     "output_type": "execute_result"
    }
   ],
   "source": [
    "\"\".join(reversed(\"Rabbit\"))"
   ]
  },
  {
   "cell_type": "code",
   "execution_count": 19,
   "id": "e12c1ff5-6a00-469d-98e7-75cf21098884",
   "metadata": {},
   "outputs": [
    {
     "data": {
      "text/plain": [
       "['t', 'i', 'b', 'b', 'a', 'R']"
      ]
     },
     "execution_count": 19,
     "metadata": {},
     "output_type": "execute_result"
    }
   ],
   "source": [
    "list(reversed(\"Rabbit\"))"
   ]
  },
  {
   "cell_type": "code",
   "execution_count": 20,
   "id": "90f0f4aa-d451-401a-b63f-d0a93b20a2fd",
   "metadata": {},
   "outputs": [],
   "source": [
    "str1=\"Pw is good company\""
   ]
  },
  {
   "cell_type": "code",
   "execution_count": 21,
   "id": "e9f135bd-bd73-4d6c-b2cf-678a011b7def",
   "metadata": {},
   "outputs": [],
   "source": [
    "str2=\"skills\""
   ]
  },
  {
   "cell_type": "code",
   "execution_count": 22,
   "id": "7cc28e69-4cff-4638-ae3e-7285c0976d21",
   "metadata": {},
   "outputs": [
    {
     "data": {
      "text/plain": [
       "'sPw is good companykPw is good companyiPw is good companylPw is good companylPw is good companys'"
      ]
     },
     "execution_count": 22,
     "metadata": {},
     "output_type": "execute_result"
    }
   ],
   "source": [
    "str1.join(str2)"
   ]
  },
  {
   "cell_type": "code",
   "execution_count": 23,
   "id": "83dfa8fe-8a5d-4356-a9e9-4e2502bfe5ab",
   "metadata": {},
   "outputs": [],
   "source": [
    "str1=\"rabbit\""
   ]
  },
  {
   "cell_type": "code",
   "execution_count": 24,
   "id": "14b3af14-f90b-439b-8a58-443dafcec1ca",
   "metadata": {},
   "outputs": [],
   "source": [
    "str2=\"ant\""
   ]
  },
  {
   "cell_type": "code",
   "execution_count": 25,
   "id": "3b737e36-801e-42b9-b99a-3de8bad57e10",
   "metadata": {},
   "outputs": [
    {
     "data": {
      "text/plain": [
       "'arabbitnrabbitt'"
      ]
     },
     "execution_count": 25,
     "metadata": {},
     "output_type": "execute_result"
    }
   ],
   "source": [
    "str1.join(str2)"
   ]
  },
  {
   "cell_type": "code",
   "execution_count": 27,
   "id": "ddfb1259-672a-4e7b-8ff4-4ab6e9f77e1d",
   "metadata": {},
   "outputs": [
    {
     "data": {
      "text/plain": [
       "<reversed at 0x7f2e745818d0>"
      ]
     },
     "execution_count": 27,
     "metadata": {},
     "output_type": "execute_result"
    }
   ],
   "source": [
    "reversed(\"ant\")"
   ]
  },
  {
   "cell_type": "code",
   "execution_count": 29,
   "id": "0226eb45-7644-44f9-a39a-121c31006ea7",
   "metadata": {},
   "outputs": [
    {
     "data": {
      "text/plain": [
       "['t', 'n', 'a']"
      ]
     },
     "execution_count": 29,
     "metadata": {},
     "output_type": "execute_result"
    }
   ],
   "source": [
    "list(reversed(\"ant\"))"
   ]
  },
  {
   "cell_type": "code",
   "execution_count": 30,
   "id": "9a71ce27-cf2b-4628-b2b0-34932d70fa8f",
   "metadata": {},
   "outputs": [],
   "source": [
    "string=\"Greetings to World\""
   ]
  },
  {
   "cell_type": "code",
   "execution_count": 31,
   "id": "a81853a9-2e93-409e-86a1-12d449484f0f",
   "metadata": {},
   "outputs": [
    {
     "data": {
      "text/plain": [
       "'Greetings from World'"
      ]
     },
     "execution_count": 31,
     "metadata": {},
     "output_type": "execute_result"
    }
   ],
   "source": [
    "string.replace(\"to\",\"from\")"
   ]
  },
  {
   "cell_type": "code",
   "execution_count": 32,
   "id": "941b71a9-eaae-47d5-8e60-1aff1e329b06",
   "metadata": {},
   "outputs": [
    {
     "data": {
      "text/plain": [
       "'Treetings to World'"
      ]
     },
     "execution_count": 32,
     "metadata": {},
     "output_type": "execute_result"
    }
   ],
   "source": [
    "string.replace(\"G\",\"T\")"
   ]
  },
  {
   "cell_type": "code",
   "execution_count": 34,
   "id": "1bdf364d-1053-44f6-84c7-7c22d8b6f274",
   "metadata": {},
   "outputs": [
    {
     "data": {
      "text/plain": [
       "'Hello\\nWorld'"
      ]
     },
     "execution_count": 34,
     "metadata": {},
     "output_type": "execute_result"
    }
   ],
   "source": [
    "string=\"Hello\\nWorld\""
   ]
  },
  {
   "cell_type": "code",
   "execution_count": 35,
   "id": "f292cbd2-223c-4346-b7bc-a2b4c89ed7a4",
   "metadata": {},
   "outputs": [],
   "source": [
    "string=\"vaibhav@gmail.com\""
   ]
  },
  {
   "cell_type": "code",
   "execution_count": 36,
   "id": "ec9b90af-30c6-4829-a9a8-fa23e4caf41d",
   "metadata": {},
   "outputs": [
    {
     "data": {
      "text/plain": [
       "'vaibhav gmail.com'"
      ]
     },
     "execution_count": 36,
     "metadata": {},
     "output_type": "execute_result"
    }
   ],
   "source": [
    "string.replace(\"@\",\" \")"
   ]
  },
  {
   "cell_type": "code",
   "execution_count": 37,
   "id": "e24a614a-ee87-479c-9a00-64ba74c79222",
   "metadata": {},
   "outputs": [
    {
     "data": {
      "text/plain": [
       "'vaibhavgmail.com'"
      ]
     },
     "execution_count": 37,
     "metadata": {},
     "output_type": "execute_result"
    }
   ],
   "source": [
    "string.replace(\"@\",\"\")"
   ]
  },
  {
   "cell_type": "code",
   "execution_count": 38,
   "id": "9fedacaa-9fff-4a4c-a875-583a1f091fde",
   "metadata": {},
   "outputs": [
    {
     "data": {
      "text/plain": [
       "'vaibhav@gmail.com'"
      ]
     },
     "execution_count": 38,
     "metadata": {},
     "output_type": "execute_result"
    }
   ],
   "source": [
    "string"
   ]
  },
  {
   "cell_type": "code",
   "execution_count": 45,
   "id": "98294210-be05-44b3-812b-106b31fb764a",
   "metadata": {},
   "outputs": [
    {
     "data": {
      "text/plain": [
       "'Welcome to pwskills.Welcome to DAT cience Masters'"
      ]
     },
     "execution_count": 45,
     "metadata": {},
     "output_type": "execute_result"
    }
   ],
   "source": [
    "string=\"Welcome to pwskills.Welcome to DAT cience Masters\"\n",
    "string"
   ]
  },
  {
   "cell_type": "code",
   "execution_count": 48,
   "id": "c3d736fb-7408-48ba-9f0e-2a149672223f",
   "metadata": {},
   "outputs": [
    {
     "data": {
      "text/plain": [
       "'Welcome to pwskills.Welcome to DAT cience Masters'"
      ]
     },
     "execution_count": 48,
     "metadata": {},
     "output_type": "execute_result"
    }
   ],
   "source": [
    "string.replace(\"Dat\",\"Data\")"
   ]
  },
  {
   "cell_type": "code",
   "execution_count": 49,
   "id": "f31a7426-548a-42b2-b94d-cb631592ec1b",
   "metadata": {},
   "outputs": [
    {
     "data": {
      "text/plain": [
       "'Welcome to pwskills.Welcome to DAT Science Masters'"
      ]
     },
     "execution_count": 49,
     "metadata": {},
     "output_type": "execute_result"
    }
   ],
   "source": [
    "string.replace(\"cience\",\"Science\")"
   ]
  },
  {
   "cell_type": "code",
   "execution_count": 52,
   "id": "69923f7e-6ec0-4ada-b347-557653c91f4e",
   "metadata": {},
   "outputs": [],
   "source": [
    "string=\"Welcome to pwskills.Welcome to Dat cience Masters\""
   ]
  },
  {
   "cell_type": "code",
   "execution_count": 56,
   "id": "7578fe58-7abf-4b0a-9a3f-2357314efa95",
   "metadata": {},
   "outputs": [
    {
     "data": {
      "text/plain": [
       "'Welcome to pwskills.Welcome to Data cience Masters'"
      ]
     },
     "execution_count": 56,
     "metadata": {},
     "output_type": "execute_result"
    }
   ],
   "source": [
    "str1=string.replace(\"Dat\",\"Data\")\n",
    "str1"
   ]
  },
  {
   "cell_type": "code",
   "execution_count": 57,
   "id": "b55ccf90-04ef-4931-a39d-b9f448bb1a44",
   "metadata": {},
   "outputs": [],
   "source": [
    "str2=str1.replace(\"cience\",\"Science\")"
   ]
  },
  {
   "cell_type": "code",
   "execution_count": 58,
   "id": "557cde26-39ae-446c-8fb4-533c2e71758f",
   "metadata": {},
   "outputs": [
    {
     "data": {
      "text/plain": [
       "'Welcome to pwskills.Welcome to Data Science Masters'"
      ]
     },
     "execution_count": 58,
     "metadata": {},
     "output_type": "execute_result"
    }
   ],
   "source": [
    "str2"
   ]
  },
  {
   "cell_type": "code",
   "execution_count": 59,
   "id": "4f700a79-8e22-43eb-a1ee-5c41c9b5edf7",
   "metadata": {},
   "outputs": [
    {
     "data": {
      "text/plain": [
       "False"
      ]
     },
     "execution_count": 59,
     "metadata": {},
     "output_type": "execute_result"
    }
   ],
   "source": [
    "str2.isupper()"
   ]
  },
  {
   "cell_type": "code",
   "execution_count": 60,
   "id": "0e91ab38-c508-436a-8732-814ad9ef7e32",
   "metadata": {},
   "outputs": [
    {
     "data": {
      "text/plain": [
       "False"
      ]
     },
     "execution_count": 60,
     "metadata": {},
     "output_type": "execute_result"
    }
   ],
   "source": [
    "str2.islower()"
   ]
  },
  {
   "cell_type": "code",
   "execution_count": 61,
   "id": "cc5b2a28-a8e7-470e-a7a2-99a4aef1be6c",
   "metadata": {},
   "outputs": [
    {
     "data": {
      "text/plain": [
       "False"
      ]
     },
     "execution_count": 61,
     "metadata": {},
     "output_type": "execute_result"
    }
   ],
   "source": [
    "str2.istitle()"
   ]
  },
  {
   "cell_type": "code",
   "execution_count": 64,
   "id": "f5d253ee-8a6a-4b36-93c6-004ee23553de",
   "metadata": {},
   "outputs": [
    {
     "data": {
      "text/plain": [
       "False"
      ]
     },
     "execution_count": 64,
     "metadata": {},
     "output_type": "execute_result"
    }
   ],
   "source": [
    "str2.isspace()"
   ]
  },
  {
   "cell_type": "code",
   "execution_count": 67,
   "id": "40181cef-8346-44e5-be13-6f28c86f9dfb",
   "metadata": {},
   "outputs": [
    {
     "data": {
      "text/plain": [
       "True"
      ]
     },
     "execution_count": 67,
     "metadata": {},
     "output_type": "execute_result"
    }
   ],
   "source": [
    "\" \".isspace()#Check wheather empty or not"
   ]
  },
  {
   "cell_type": "code",
   "execution_count": 68,
   "id": "fc017216-f4f2-4d98-8817-4890eb6b5d3b",
   "metadata": {},
   "outputs": [
    {
     "data": {
      "text/plain": [
       "False"
      ]
     },
     "execution_count": 68,
     "metadata": {},
     "output_type": "execute_result"
    }
   ],
   "source": [
    "\"\".isspace()"
   ]
  },
  {
   "cell_type": "code",
   "execution_count": 69,
   "id": "c1496d3b-e7ec-4d82-af0d-01fbf329aa87",
   "metadata": {},
   "outputs": [],
   "source": [
    "str1=\"Greetings\""
   ]
  },
  {
   "cell_type": "code",
   "execution_count": 70,
   "id": "fa6d2a64-16b2-4520-8690-1dbcd54433f0",
   "metadata": {},
   "outputs": [
    {
     "data": {
      "text/plain": [
       "False"
      ]
     },
     "execution_count": 70,
     "metadata": {},
     "output_type": "execute_result"
    }
   ],
   "source": [
    "str1.endswith(\"S\")"
   ]
  },
  {
   "cell_type": "code",
   "execution_count": 71,
   "id": "3fc1360d-a101-43e4-ad5f-ccefc39c022b",
   "metadata": {},
   "outputs": [
    {
     "data": {
      "text/plain": [
       "True"
      ]
     },
     "execution_count": 71,
     "metadata": {},
     "output_type": "execute_result"
    }
   ],
   "source": [
    "str1.endswith(\"s\")"
   ]
  },
  {
   "cell_type": "code",
   "execution_count": 73,
   "id": "14bb20e7-33d9-4e17-bf29-005b89316a99",
   "metadata": {},
   "outputs": [
    {
     "data": {
      "text/plain": [
       "True"
      ]
     },
     "execution_count": 73,
     "metadata": {},
     "output_type": "execute_result"
    }
   ],
   "source": [
    "str1.startswith(\"G\")"
   ]
  },
  {
   "cell_type": "code",
   "execution_count": null,
   "id": "b821a6e2-c254-4280-9baa-5d9d907b8135",
   "metadata": {},
   "outputs": [],
   "source": [
    "str1=\"Aabv123\""
   ]
  },
  {
   "cell_type": "code",
   "execution_count": 75,
   "id": "2b0a3091-8943-4d71-a63b-801b2d787463",
   "metadata": {},
   "outputs": [
    {
     "data": {
      "text/plain": [
       "True"
      ]
     },
     "execution_count": 75,
     "metadata": {},
     "output_type": "execute_result"
    }
   ],
   "source": [
    "str1.isalnum() #For checking alpha numeric string"
   ]
  },
  {
   "cell_type": "code",
   "execution_count": 76,
   "id": "f037b444-12e6-4a25-a669-b7b2d9c5341e",
   "metadata": {},
   "outputs": [
    {
     "data": {
      "text/plain": [
       "'Welcome to pwskills.Welcome to Dat cience Masters'"
      ]
     },
     "execution_count": 76,
     "metadata": {},
     "output_type": "execute_result"
    }
   ],
   "source": [
    "string"
   ]
  },
  {
   "cell_type": "code",
   "execution_count": 77,
   "id": "fd9a49f6-9638-46ff-9d6e-8a9da1c28879",
   "metadata": {},
   "outputs": [],
   "source": [
    "##Write the code to count number of characters in the string"
   ]
  },
  {
   "cell_type": "code",
   "execution_count": 82,
   "id": "d22f2450-7d3a-4051-ae7d-12cbf29727d4",
   "metadata": {},
   "outputs": [
    {
     "name": "stdin",
     "output_type": "stream",
     "text": [
      "Enter String :  Vaibhav \n"
     ]
    },
    {
     "name": "stdout",
     "output_type": "stream",
     "text": [
      "Length = 7\n"
     ]
    }
   ],
   "source": [
    "string=input(\"Enter String : \")\n",
    "i=0\n",
    "while(string[i]!=' '):\n",
    "    i=i+1\n",
    "print(f\"Length = {i}\")"
   ]
  },
  {
   "cell_type": "code",
   "execution_count": 81,
   "id": "fe0d67a5-a3d9-4393-9d54-286b74ec5289",
   "metadata": {},
   "outputs": [
    {
     "data": {
      "text/plain": [
       "8"
      ]
     },
     "execution_count": 81,
     "metadata": {},
     "output_type": "execute_result"
    }
   ],
   "source": [
    "string.count('')"
   ]
  },
  {
   "cell_type": "code",
   "execution_count": 83,
   "id": "fde60fb3-4074-4f81-b14c-a32066326377",
   "metadata": {},
   "outputs": [
    {
     "name": "stdin",
     "output_type": "stream",
     "text": [
      "Enter String :  vaibhav\n"
     ]
    },
    {
     "ename": "IndexError",
     "evalue": "string index out of range",
     "output_type": "error",
     "traceback": [
      "\u001b[0;31m---------------------------------------------------------------------------\u001b[0m",
      "\u001b[0;31mIndexError\u001b[0m                                Traceback (most recent call last)",
      "Cell \u001b[0;32mIn[83], line 3\u001b[0m\n\u001b[1;32m      1\u001b[0m string\u001b[38;5;241m=\u001b[39m\u001b[38;5;28minput\u001b[39m(\u001b[38;5;124m\"\u001b[39m\u001b[38;5;124mEnter String : \u001b[39m\u001b[38;5;124m\"\u001b[39m)\n\u001b[1;32m      2\u001b[0m i\u001b[38;5;241m=\u001b[39m\u001b[38;5;241m0\u001b[39m\n\u001b[0;32m----> 3\u001b[0m \u001b[38;5;28;01mwhile\u001b[39;00m(\u001b[43mstring\u001b[49m\u001b[43m[\u001b[49m\u001b[43mi\u001b[49m\u001b[43m]\u001b[49m\u001b[38;5;241m!=\u001b[39m\u001b[38;5;124m'\u001b[39m\u001b[38;5;124m \u001b[39m\u001b[38;5;124m'\u001b[39m):\n\u001b[1;32m      4\u001b[0m     i\u001b[38;5;241m=\u001b[39mi\u001b[38;5;241m+\u001b[39m\u001b[38;5;241m1\u001b[39m\n\u001b[1;32m      5\u001b[0m \u001b[38;5;28mprint\u001b[39m(\u001b[38;5;124mf\u001b[39m\u001b[38;5;124m\"\u001b[39m\u001b[38;5;124mLength = \u001b[39m\u001b[38;5;132;01m{\u001b[39;00mi\u001b[38;5;132;01m}\u001b[39;00m\u001b[38;5;124m\"\u001b[39m)\n",
      "\u001b[0;31mIndexError\u001b[0m: string index out of range"
     ]
    }
   ],
   "source": [
    "string=input(\"Enter String : \")\n",
    "i=0\n",
    "while(string[i]!=' '):\n",
    "    i=i+1\n",
    "print(f\"Length = {i}\")"
   ]
  },
  {
   "cell_type": "code",
   "execution_count": 85,
   "id": "f71294e4-acb9-4c39-81c4-540cc01ff30a",
   "metadata": {},
   "outputs": [
    {
     "name": "stdin",
     "output_type": "stream",
     "text": [
      "Enter String :  vaibhav\n"
     ]
    },
    {
     "name": "stdout",
     "output_type": "stream",
     "text": [
      "Length = 7\n"
     ]
    }
   ],
   "source": [
    "string=input(\"Enter String : \")\n",
    "count=0\n",
    "for i in string:\n",
    "    count=count+1\n",
    "print(f\"Length = {count}\")"
   ]
  },
  {
   "cell_type": "code",
   "execution_count": 86,
   "id": "86e134b7-91b4-4944-ae36-a4d0f8d3030a",
   "metadata": {},
   "outputs": [
    {
     "name": "stdin",
     "output_type": "stream",
     "text": [
      "Enter String :  Vaibhav Vilas Pawar\n"
     ]
    },
    {
     "name": "stdout",
     "output_type": "stream",
     "text": [
      "Length = 19\n"
     ]
    }
   ],
   "source": [
    "string=input(\"Enter String : \")\n",
    "count=0\n",
    "for i in string:\n",
    "    count=count+1\n",
    "print(f\"Length = {count}\")"
   ]
  },
  {
   "cell_type": "code",
   "execution_count": 87,
   "id": "fbebe7f4-49b9-435e-8126-ea2912157c19",
   "metadata": {},
   "outputs": [],
   "source": [
    "string=\"Data Science Masters\""
   ]
  },
  {
   "cell_type": "code",
   "execution_count": 88,
   "id": "10c457b2-f8f9-4362-a04b-1fcedc99d311",
   "metadata": {},
   "outputs": [
    {
     "data": {
      "text/plain": [
       "'Data Science Masters'"
      ]
     },
     "execution_count": 88,
     "metadata": {},
     "output_type": "execute_result"
    }
   ],
   "source": [
    "string"
   ]
  },
  {
   "cell_type": "code",
   "execution_count": 93,
   "id": "5d9eb23c-1d98-4cf6-9c47-b1caccadbaa1",
   "metadata": {},
   "outputs": [
    {
     "name": "stdout",
     "output_type": "stream",
     "text": [
      "D\n",
      "a\n",
      "t\n",
      "a\n",
      " \n",
      "S\n",
      "c\n",
      "i\n",
      "e\n",
      "n\n",
      "c\n",
      "e\n",
      " \n",
      "M\n",
      "a\n",
      "s\n",
      "t\n",
      "e\n",
      "r\n",
      "s\n"
     ]
    }
   ],
   "source": [
    "for i in range((len(string))):\n",
    "    print(string[i])"
   ]
  },
  {
   "cell_type": "code",
   "execution_count": 96,
   "id": "cea85ba2-6e46-4519-9659-3c5c02a7fabf",
   "metadata": {},
   "outputs": [
    {
     "name": "stdout",
     "output_type": "stream",
     "text": [
      "s\n",
      "r\n",
      "e\n",
      "t\n",
      "s\n",
      "a\n",
      "M\n",
      " \n",
      "e\n",
      "c\n",
      "n\n",
      "e\n",
      "i\n",
      "c\n",
      "S\n",
      " \n",
      "a\n",
      "t\n",
      "a\n",
      "D\n"
     ]
    }
   ],
   "source": [
    "for i in range(len(string)-1,-1,-1):\n",
    "    print(string[i])"
   ]
  },
  {
   "cell_type": "code",
   "execution_count": 97,
   "id": "599eac52-4c37-40f9-8ddf-fd1fc5e9d6ea",
   "metadata": {},
   "outputs": [
    {
     "data": {
      "text/plain": [
       "20"
      ]
     },
     "execution_count": 97,
     "metadata": {},
     "output_type": "execute_result"
    }
   ],
   "source": [
    "len(string)"
   ]
  },
  {
   "cell_type": "code",
   "execution_count": 3,
   "id": "7f258762-7d89-4a9f-a2af-b1ee5f0a5838",
   "metadata": {},
   "outputs": [
    {
     "name": "stdout",
     "output_type": "stream",
     "text": [
      "p is not vowel\n",
      "w is not vowel\n",
      "s is not vowel\n",
      "k is not vowel\n",
      "i is vowel\n",
      "l is not vowel\n",
      "l is not vowel\n",
      "s is not vowel\n"
     ]
    }
   ],
   "source": [
    "Name=\"pwskills\"\n",
    "vowels=\"AaEeIiOoUu\"\n",
    "for i in Name:\n",
    "     if i in vowels:\n",
    "        print(f\"{i} is vowel\")\n",
    "     else:\n",
    "        print(f\"{i} is not vowel\")\n",
    "                "
   ]
  },
  {
   "cell_type": "markdown",
   "id": "cc3e8a8a-6c51-4087-b808-d1d279401e24",
   "metadata": {},
   "source": [
    "###LIST"
   ]
  },
  {
   "cell_type": "code",
   "execution_count": 5,
   "id": "d85811c2-0d70-4c8b-b5e7-b9483f2fe1d9",
   "metadata": {},
   "outputs": [
    {
     "data": {
      "text/plain": [
       "type"
      ]
     },
     "execution_count": 5,
     "metadata": {},
     "output_type": "execute_result"
    }
   ],
   "source": [
    "type(list)"
   ]
  },
  {
   "cell_type": "code",
   "execution_count": 6,
   "id": "201f0e53-111f-4465-bff5-6c8bbb2bacfa",
   "metadata": {},
   "outputs": [
    {
     "data": {
      "text/plain": [
       "list"
      ]
     },
     "execution_count": 6,
     "metadata": {},
     "output_type": "execute_result"
    }
   ],
   "source": [
    "type([])"
   ]
  },
  {
   "cell_type": "code",
   "execution_count": 7,
   "id": "b90c9d0b-5e63-449c-9192-ebb772bfaf7f",
   "metadata": {},
   "outputs": [
    {
     "name": "stdout",
     "output_type": "stream",
     "text": [
      "<class 'list'>\n"
     ]
    }
   ],
   "source": [
    "print(type([]))"
   ]
  },
  {
   "cell_type": "code",
   "execution_count": null,
   "id": "f437f9f8-fec9-437c-b231-8673ef5f268b",
   "metadata": {},
   "outputs": [],
   "source": []
  },
  {
   "cell_type": "code",
   "execution_count": null,
   "id": "b55dddc5-1764-4c44-b262-5afc969c04aa",
   "metadata": {},
   "outputs": [],
   "source": []
  },
  {
   "cell_type": "code",
   "execution_count": 10,
   "id": "2c5708f7-4582-4575-9121-aaf9ebd1f115",
   "metadata": {},
   "outputs": [],
   "source": [
    "##List and string are iterable we can iterate through each element of list and each character of string"
   ]
  },
  {
   "cell_type": "code",
   "execution_count": 25,
   "id": "498f5f08-82e2-49d1-82ce-ba86c34e4fc9",
   "metadata": {},
   "outputs": [],
   "source": [
    "string=\"Hello\""
   ]
  },
  {
   "cell_type": "code",
   "execution_count": 26,
   "id": "488ce4c5-9c31-4bf0-979c-6c70f2a12844",
   "metadata": {},
   "outputs": [
    {
     "ename": "TypeError",
     "evalue": "'list' object is not callable",
     "output_type": "error",
     "traceback": [
      "\u001b[0;31m---------------------------------------------------------------------------\u001b[0m",
      "\u001b[0;31mTypeError\u001b[0m                                 Traceback (most recent call last)",
      "Cell \u001b[0;32mIn[26], line 1\u001b[0m\n\u001b[0;32m----> 1\u001b[0m \u001b[38;5;28;43mlist\u001b[39;49m\u001b[43m(\u001b[49m\u001b[43mstring\u001b[49m\u001b[43m)\u001b[49m\n",
      "\u001b[0;31mTypeError\u001b[0m: 'list' object is not callable"
     ]
    }
   ],
   "source": [
    "list(string)"
   ]
  },
  {
   "cell_type": "code",
   "execution_count": 27,
   "id": "49eeda2b-d451-4a4c-ad1e-3cbce98f6e04",
   "metadata": {},
   "outputs": [
    {
     "data": {
      "text/plain": [
       "'Hello'"
      ]
     },
     "execution_count": 27,
     "metadata": {},
     "output_type": "execute_result"
    }
   ],
   "source": [
    "string"
   ]
  },
  {
   "cell_type": "code",
   "execution_count": 28,
   "id": "d5b8873e-d412-4d13-b617-7b675724ce0c",
   "metadata": {},
   "outputs": [
    {
     "ename": "TypeError",
     "evalue": "'list' object is not callable",
     "output_type": "error",
     "traceback": [
      "\u001b[0;31m---------------------------------------------------------------------------\u001b[0m",
      "\u001b[0;31mTypeError\u001b[0m                                 Traceback (most recent call last)",
      "Cell \u001b[0;32mIn[28], line 1\u001b[0m\n\u001b[0;32m----> 1\u001b[0m \u001b[38;5;28;43mlist\u001b[39;49m\u001b[43m(\u001b[49m\u001b[43mstring\u001b[49m\u001b[43m)\u001b[49m\n",
      "\u001b[0;31mTypeError\u001b[0m: 'list' object is not callable"
     ]
    }
   ],
   "source": [
    "list(string)"
   ]
  },
  {
   "cell_type": "code",
   "execution_count": 29,
   "id": "0499290e-da3e-4865-9bbb-9b4858442dd1",
   "metadata": {},
   "outputs": [],
   "source": [
    "str1=\"pwskills\""
   ]
  },
  {
   "cell_type": "code",
   "execution_count": 30,
   "id": "ee999935-697c-49dd-80f1-1115ac8abb4e",
   "metadata": {},
   "outputs": [
    {
     "ename": "TypeError",
     "evalue": "'list' object is not callable",
     "output_type": "error",
     "traceback": [
      "\u001b[0;31m---------------------------------------------------------------------------\u001b[0m",
      "\u001b[0;31mTypeError\u001b[0m                                 Traceback (most recent call last)",
      "Cell \u001b[0;32mIn[30], line 1\u001b[0m\n\u001b[0;32m----> 1\u001b[0m \u001b[38;5;28;43mlist\u001b[39;49m\u001b[43m(\u001b[49m\u001b[43mstr1\u001b[49m\u001b[43m)\u001b[49m\n",
      "\u001b[0;31mTypeError\u001b[0m: 'list' object is not callable"
     ]
    }
   ],
   "source": [
    "list(str1)"
   ]
  },
  {
   "cell_type": "code",
   "execution_count": 34,
   "id": "f96aaf43-8cba-4e27-8441-a01fdf16a018",
   "metadata": {},
   "outputs": [],
   "source": [
    "str1=\"PW Skills Data Scienece Master\""
   ]
  },
  {
   "cell_type": "code",
   "execution_count": 36,
   "id": "f7a52203-ae78-4dcf-97f4-c22ca4aec66d",
   "metadata": {},
   "outputs": [
    {
     "ename": "TypeError",
     "evalue": "'list' object is not callable",
     "output_type": "error",
     "traceback": [
      "\u001b[0;31m---------------------------------------------------------------------------\u001b[0m",
      "\u001b[0;31mTypeError\u001b[0m                                 Traceback (most recent call last)",
      "Cell \u001b[0;32mIn[36], line 1\u001b[0m\n\u001b[0;32m----> 1\u001b[0m \u001b[38;5;28;43mlist\u001b[39;49m\u001b[43m(\u001b[49m\u001b[43mstr1\u001b[49m\u001b[43m)\u001b[49m\n",
      "\u001b[0;31mTypeError\u001b[0m: 'list' object is not callable"
     ]
    }
   ],
   "source": [
    "list(str1)"
   ]
  },
  {
   "cell_type": "code",
   "execution_count": 37,
   "id": "7c53c0c0-aa58-4c0a-869d-7e758c0849dd",
   "metadata": {},
   "outputs": [
    {
     "ename": "TypeError",
     "evalue": "'list' object is not callable",
     "output_type": "error",
     "traceback": [
      "\u001b[0;31m---------------------------------------------------------------------------\u001b[0m",
      "\u001b[0;31mTypeError\u001b[0m                                 Traceback (most recent call last)",
      "Cell \u001b[0;32mIn[37], line 1\u001b[0m\n\u001b[0;32m----> 1\u001b[0m \u001b[38;5;28;43mlist\u001b[39;49m\u001b[43m(\u001b[49m\u001b[43mstr1\u001b[49m\u001b[38;5;241;43m.\u001b[39;49m\u001b[43msplit\u001b[49m\u001b[43m(\u001b[49m\u001b[38;5;124;43m\"\u001b[39;49m\u001b[38;5;124;43m \u001b[39;49m\u001b[38;5;124;43m\"\u001b[39;49m\u001b[43m)\u001b[49m\u001b[43m)\u001b[49m\n",
      "\u001b[0;31mTypeError\u001b[0m: 'list' object is not callable"
     ]
    }
   ],
   "source": [
    "list(str1.split(\" \"))"
   ]
  },
  {
   "cell_type": "code",
   "execution_count": 41,
   "id": "99dc0082-3c68-415f-8c4c-afa1d287659b",
   "metadata": {},
   "outputs": [],
   "source": [
    "str1=\"PW skills Data science masters\""
   ]
  },
  {
   "cell_type": "code",
   "execution_count": 42,
   "id": "ac060945-b727-4ccd-937c-a58fbfbe49fb",
   "metadata": {},
   "outputs": [
    {
     "ename": "TypeError",
     "evalue": "'list' object is not callable",
     "output_type": "error",
     "traceback": [
      "\u001b[0;31m---------------------------------------------------------------------------\u001b[0m",
      "\u001b[0;31mTypeError\u001b[0m                                 Traceback (most recent call last)",
      "Cell \u001b[0;32mIn[42], line 1\u001b[0m\n\u001b[0;32m----> 1\u001b[0m \u001b[38;5;28;43mlist\u001b[39;49m\u001b[43m(\u001b[49m\u001b[43mstr1\u001b[49m\u001b[38;5;241;43m.\u001b[39;49m\u001b[43msplit\u001b[49m\u001b[43m(\u001b[49m\u001b[38;5;124;43m\"\u001b[39;49m\u001b[38;5;124;43m \u001b[39;49m\u001b[38;5;124;43m\"\u001b[39;49m\u001b[43m)\u001b[49m\u001b[43m)\u001b[49m\n",
      "\u001b[0;31mTypeError\u001b[0m: 'list' object is not callable"
     ]
    }
   ],
   "source": [
    "list(str1.split(\" \"))"
   ]
  },
  {
   "cell_type": "code",
   "execution_count": 43,
   "id": "50edecc1-3e7d-41ec-ad5a-098b23327d67",
   "metadata": {},
   "outputs": [
    {
     "data": {
      "text/plain": [
       "list"
      ]
     },
     "execution_count": 43,
     "metadata": {},
     "output_type": "execute_result"
    }
   ],
   "source": [
    "type(list)"
   ]
  },
  {
   "cell_type": "code",
   "execution_count": 44,
   "id": "6a0141f7-4107-4b24-9619-652fd81ad9c4",
   "metadata": {},
   "outputs": [],
   "source": [
    "del(list)"
   ]
  },
  {
   "cell_type": "code",
   "execution_count": 45,
   "id": "db56fc3a-d6c8-483b-a069-76ed0ca32734",
   "metadata": {},
   "outputs": [],
   "source": [
    "str1=\"PW skills Data science masters\""
   ]
  },
  {
   "cell_type": "code",
   "execution_count": 46,
   "id": "ff5a59b9-6537-42ef-b310-94d222d8aea2",
   "metadata": {},
   "outputs": [
    {
     "data": {
      "text/plain": [
       "'PW skills Data science masters'"
      ]
     },
     "execution_count": 46,
     "metadata": {},
     "output_type": "execute_result"
    }
   ],
   "source": [
    "str1"
   ]
  },
  {
   "cell_type": "code",
   "execution_count": 47,
   "id": "2e1386a6-d038-449e-a2cc-03210d4a6442",
   "metadata": {},
   "outputs": [
    {
     "data": {
      "text/plain": [
       "['PW', 'skills', 'Data', 'science', 'masters']"
      ]
     },
     "execution_count": 47,
     "metadata": {},
     "output_type": "execute_result"
    }
   ],
   "source": [
    "list(str1.split(\" \"))"
   ]
  },
  {
   "cell_type": "code",
   "execution_count": 50,
   "id": "fc48a451-5b05-405b-a536-91c58bf8788a",
   "metadata": {},
   "outputs": [
    {
     "data": {
      "text/plain": [
       "['P',\n",
       " 'W',\n",
       " ' ',\n",
       " 's',\n",
       " 'k',\n",
       " 'i',\n",
       " 'l',\n",
       " 'l',\n",
       " 's',\n",
       " ' ',\n",
       " 'D',\n",
       " 'a',\n",
       " 't',\n",
       " 'a',\n",
       " ' ',\n",
       " 's',\n",
       " 'c',\n",
       " 'i',\n",
       " 'e',\n",
       " 'n',\n",
       " 'c',\n",
       " 'e',\n",
       " ' ',\n",
       " 'm',\n",
       " 'a',\n",
       " 's',\n",
       " 't',\n",
       " 'e',\n",
       " 'r',\n",
       " 's']"
      ]
     },
     "execution_count": 50,
     "metadata": {},
     "output_type": "execute_result"
    }
   ],
   "source": [
    "list(str1,)"
   ]
  },
  {
   "cell_type": "code",
   "execution_count": 51,
   "id": "11175901-5d66-410f-aaa7-c2760b3d26e4",
   "metadata": {},
   "outputs": [
    {
     "data": {
      "text/plain": [
       "['PW', 'skills', 'Data', 'science', 'masters']"
      ]
     },
     "execution_count": 51,
     "metadata": {},
     "output_type": "execute_result"
    }
   ],
   "source": [
    "list(str1.split(\" \"))"
   ]
  },
  {
   "cell_type": "code",
   "execution_count": 52,
   "id": "df6b7e64-4cf7-4db4-bf40-0877f2604c27",
   "metadata": {},
   "outputs": [],
   "source": [
    "#list is ordered datatype that is it has index for each letter ,unorder means no index example sets"
   ]
  },
  {
   "cell_type": "code",
   "execution_count": 53,
   "id": "f5b58bee-3dec-41cc-8ca4-4cc0e35af6e8",
   "metadata": {},
   "outputs": [],
   "source": [
    "list1=list(str1.split(\" \"))"
   ]
  },
  {
   "cell_type": "code",
   "execution_count": 54,
   "id": "f9223da7-c7cf-4902-8338-a31ea70fdabc",
   "metadata": {},
   "outputs": [
    {
     "data": {
      "text/plain": [
       "['PW', 'skills', 'Data', 'science', 'masters']"
      ]
     },
     "execution_count": 54,
     "metadata": {},
     "output_type": "execute_result"
    }
   ],
   "source": [
    "list1"
   ]
  },
  {
   "cell_type": "code",
   "execution_count": 56,
   "id": "4777eb35-e680-4dbf-83ce-1d787ee87d8c",
   "metadata": {},
   "outputs": [
    {
     "data": {
      "text/plain": [
       "5"
      ]
     },
     "execution_count": 56,
     "metadata": {},
     "output_type": "execute_result"
    }
   ],
   "source": [
    "len(list1)"
   ]
  },
  {
   "cell_type": "code",
   "execution_count": 60,
   "id": "4b13afd3-79e5-4eab-9744-85d314bd8313",
   "metadata": {},
   "outputs": [
    {
     "data": {
      "text/plain": [
       "'masters'"
      ]
     },
     "execution_count": 60,
     "metadata": {},
     "output_type": "execute_result"
    }
   ],
   "source": [
    "list1[-1]"
   ]
  },
  {
   "cell_type": "code",
   "execution_count": 63,
   "id": "293e5429-8ce8-4a9a-ba5b-079157e124aa",
   "metadata": {},
   "outputs": [
    {
     "data": {
      "text/plain": [
       "['PW', 'skills', 'Data', 'science', 'masters']"
      ]
     },
     "execution_count": 63,
     "metadata": {},
     "output_type": "execute_result"
    }
   ],
   "source": [
    "list1[-5:]"
   ]
  },
  {
   "cell_type": "code",
   "execution_count": 64,
   "id": "cd67504f-8605-4c34-8747-c2bdbcfd29bb",
   "metadata": {},
   "outputs": [
    {
     "data": {
      "text/plain": [
       "['PW', 'Data', 'masters']"
      ]
     },
     "execution_count": 64,
     "metadata": {},
     "output_type": "execute_result"
    }
   ],
   "source": [
    "list1[-5::2]"
   ]
  },
  {
   "cell_type": "code",
   "execution_count": 65,
   "id": "9f587ce4-c69b-4912-a586-fefe92dad98e",
   "metadata": {},
   "outputs": [
    {
     "data": {
      "text/plain": [
       "['PW', 'skills', 'Data', 'science', 'masters']"
      ]
     },
     "execution_count": 65,
     "metadata": {},
     "output_type": "execute_result"
    }
   ],
   "source": [
    "list1"
   ]
  },
  {
   "cell_type": "code",
   "execution_count": 66,
   "id": "cb213c8a-0494-4db1-8a9c-916cb76a1f44",
   "metadata": {},
   "outputs": [],
   "source": [
    "list1[0]=\"Vaibhav\""
   ]
  },
  {
   "cell_type": "code",
   "execution_count": 67,
   "id": "9d59c0eb-d142-47f5-9bee-32e24b99ed26",
   "metadata": {},
   "outputs": [
    {
     "data": {
      "text/plain": [
       "['Vaibhav', 'skills', 'Data', 'science', 'masters']"
      ]
     },
     "execution_count": 67,
     "metadata": {},
     "output_type": "execute_result"
    }
   ],
   "source": [
    "list1"
   ]
  },
  {
   "cell_type": "code",
   "execution_count": 69,
   "id": "d627dade-0530-4a89-b163-08f12daccc53",
   "metadata": {},
   "outputs": [],
   "source": [
    "str2=\" \".join(list1)"
   ]
  },
  {
   "cell_type": "code",
   "execution_count": 70,
   "id": "ba26c6cb-b252-428b-81d4-0ade7d936d49",
   "metadata": {},
   "outputs": [
    {
     "data": {
      "text/plain": [
       "'Vaibhav skills Data science masters'"
      ]
     },
     "execution_count": 70,
     "metadata": {},
     "output_type": "execute_result"
    }
   ],
   "source": [
    "str2"
   ]
  },
  {
   "cell_type": "code",
   "execution_count": 71,
   "id": "4c94fb90-6f02-42d2-953e-f9172d4eab2d",
   "metadata": {},
   "outputs": [],
   "source": [
    "#Concatenation of list"
   ]
  },
  {
   "cell_type": "code",
   "execution_count": 72,
   "id": "db4f46a1-12a6-4e99-b04d-1bde6e27144f",
   "metadata": {},
   "outputs": [],
   "source": [
    "list2=list1  + [\"I\",\"Am\"]"
   ]
  },
  {
   "cell_type": "code",
   "execution_count": 73,
   "id": "d3807283-f5f5-4e9f-955c-997914191024",
   "metadata": {},
   "outputs": [
    {
     "data": {
      "text/plain": [
       "['Vaibhav', 'skills', 'Data', 'science', 'masters', 'I', 'Am']"
      ]
     },
     "execution_count": 73,
     "metadata": {},
     "output_type": "execute_result"
    }
   ],
   "source": [
    "list2"
   ]
  },
  {
   "cell_type": "code",
   "execution_count": 74,
   "id": "cb943349-8456-4431-832d-c7611ea426c4",
   "metadata": {},
   "outputs": [],
   "source": [
    "list3= list2 + [[\"Data\",\"Scientist\"]]"
   ]
  },
  {
   "cell_type": "code",
   "execution_count": 75,
   "id": "e2c06275-f543-451e-a94e-db36e8d13356",
   "metadata": {},
   "outputs": [
    {
     "data": {
      "text/plain": [
       "['Vaibhav',\n",
       " 'skills',\n",
       " 'Data',\n",
       " 'science',\n",
       " 'masters',\n",
       " 'I',\n",
       " 'Am',\n",
       " ['Data', 'Scientist']]"
      ]
     },
     "execution_count": 75,
     "metadata": {},
     "output_type": "execute_result"
    }
   ],
   "source": [
    "list3"
   ]
  },
  {
   "cell_type": "code",
   "execution_count": 78,
   "id": "7151976d-2b26-49f4-bcd1-aa2b2fc058ce",
   "metadata": {},
   "outputs": [
    {
     "data": {
      "text/plain": [
       "['Vaibhav',\n",
       " 'skills',\n",
       " 'Data',\n",
       " 'science',\n",
       " 'masters',\n",
       " 'I',\n",
       " 'Am',\n",
       " ['Data', 'Scientist']]"
      ]
     },
     "execution_count": 78,
     "metadata": {},
     "output_type": "execute_result"
    }
   ],
   "source": [
    "list3"
   ]
  },
  {
   "cell_type": "code",
   "execution_count": 80,
   "id": "812fa226-06ff-4da3-9cdf-8574a2a682fb",
   "metadata": {},
   "outputs": [
    {
     "ename": "TypeError",
     "evalue": "sequence item 7: expected str instance, list found",
     "output_type": "error",
     "traceback": [
      "\u001b[0;31m---------------------------------------------------------------------------\u001b[0m",
      "\u001b[0;31mTypeError\u001b[0m                                 Traceback (most recent call last)",
      "Cell \u001b[0;32mIn[80], line 1\u001b[0m\n\u001b[0;32m----> 1\u001b[0m str2\u001b[38;5;241m=\u001b[39m\u001b[38;5;124;43m\"\u001b[39;49m\u001b[38;5;124;43m \u001b[39;49m\u001b[38;5;124;43m\"\u001b[39;49m\u001b[38;5;241;43m.\u001b[39;49m\u001b[43mjoin\u001b[49m\u001b[43m(\u001b[49m\u001b[43mlist3\u001b[49m\u001b[43m)\u001b[49m\n",
      "\u001b[0;31mTypeError\u001b[0m: sequence item 7: expected str instance, list found"
     ]
    }
   ],
   "source": [
    "str2=\" \".join(list3)"
   ]
  },
  {
   "cell_type": "code",
   "execution_count": 85,
   "id": "b002a089-eba3-43b0-9575-24ace8358b12",
   "metadata": {},
   "outputs": [],
   "source": [
    "str2=\" \".join(list1[-3:-1])"
   ]
  },
  {
   "cell_type": "code",
   "execution_count": 86,
   "id": "3643ade3-2d4c-4fdf-a794-940562aa7fc5",
   "metadata": {},
   "outputs": [
    {
     "data": {
      "text/plain": [
       "'Data science'"
      ]
     },
     "execution_count": 86,
     "metadata": {},
     "output_type": "execute_result"
    }
   ],
   "source": [
    "str2"
   ]
  },
  {
   "cell_type": "code",
   "execution_count": 87,
   "id": "a1ec36d4-833c-4955-a5c9-4bfebf644c22",
   "metadata": {},
   "outputs": [],
   "source": [
    "str2=\"\".join(list1[-3:-1])"
   ]
  },
  {
   "cell_type": "code",
   "execution_count": 88,
   "id": "0dd4eca1-0198-4b68-b8a9-153ffdaff332",
   "metadata": {},
   "outputs": [
    {
     "data": {
      "text/plain": [
       "'Datascience'"
      ]
     },
     "execution_count": 88,
     "metadata": {},
     "output_type": "execute_result"
    }
   ],
   "source": [
    "str2"
   ]
  },
  {
   "cell_type": "code",
   "execution_count": 90,
   "id": "79a76641-6dea-4f39-bdb6-d8da21bed14c",
   "metadata": {},
   "outputs": [
    {
     "data": {
      "text/plain": [
       "['Data', 'Scientist']"
      ]
     },
     "execution_count": 90,
     "metadata": {},
     "output_type": "execute_result"
    }
   ],
   "source": [
    "list3[len(list3)-1]"
   ]
  },
  {
   "cell_type": "code",
   "execution_count": 92,
   "id": "a94c6186-578f-4b0d-ab4e-44dce231af31",
   "metadata": {},
   "outputs": [
    {
     "data": {
      "text/plain": [
       "'Data'"
      ]
     },
     "execution_count": 92,
     "metadata": {},
     "output_type": "execute_result"
    }
   ],
   "source": [
    "list3[len(list3)-1][0]"
   ]
  },
  {
   "cell_type": "code",
   "execution_count": 93,
   "id": "d05f9396-8e11-4947-b8ea-c6409c094fa5",
   "metadata": {},
   "outputs": [
    {
     "data": {
      "text/plain": [
       "'Scientist'"
      ]
     },
     "execution_count": 93,
     "metadata": {},
     "output_type": "execute_result"
    }
   ],
   "source": [
    "list3[len(list3)-1][1]"
   ]
  },
  {
   "cell_type": "code",
   "execution_count": 94,
   "id": "60033b9f-86a3-4e15-ad87-6e2a649ffc11",
   "metadata": {},
   "outputs": [],
   "source": [
    "list1=[\"Mercedes\",\"Verna\",\"City\",\"BMW\",\"Audi\"]"
   ]
  },
  {
   "cell_type": "code",
   "execution_count": 95,
   "id": "d4cfee04-40e6-431e-9986-c49f915caee6",
   "metadata": {},
   "outputs": [
    {
     "data": {
      "text/plain": [
       "['Mercedes', 'Verna', 'City', 'BMW', 'Audi']"
      ]
     },
     "execution_count": 95,
     "metadata": {},
     "output_type": "execute_result"
    }
   ],
   "source": [
    "list1"
   ]
  },
  {
   "cell_type": "code",
   "execution_count": 97,
   "id": "1a7420f5-7d28-4c7c-9370-a4ed1d277917",
   "metadata": {},
   "outputs": [],
   "source": [
    "list2=list1*2"
   ]
  },
  {
   "cell_type": "code",
   "execution_count": 98,
   "id": "5946aefb-d262-4707-a31c-61af7209cf04",
   "metadata": {},
   "outputs": [
    {
     "data": {
      "text/plain": [
       "['Mercedes',\n",
       " 'Verna',\n",
       " 'City',\n",
       " 'BMW',\n",
       " 'Audi',\n",
       " 'Mercedes',\n",
       " 'Verna',\n",
       " 'City',\n",
       " 'BMW',\n",
       " 'Audi']"
      ]
     },
     "execution_count": 98,
     "metadata": {},
     "output_type": "execute_result"
    }
   ],
   "source": [
    "list2"
   ]
  },
  {
   "cell_type": "code",
   "execution_count": 100,
   "id": "e188d8e4-cc9f-4690-84b2-c6077127bc63",
   "metadata": {},
   "outputs": [
    {
     "data": {
      "text/plain": [
       "5"
      ]
     },
     "execution_count": 100,
     "metadata": {},
     "output_type": "execute_result"
    }
   ],
   "source": [
    "len(list1)"
   ]
  },
  {
   "cell_type": "code",
   "execution_count": 101,
   "id": "7d5119f4-69d9-4094-8e1e-0e522b5bc090",
   "metadata": {},
   "outputs": [
    {
     "data": {
      "text/plain": [
       "10"
      ]
     },
     "execution_count": 101,
     "metadata": {},
     "output_type": "execute_result"
    }
   ],
   "source": [
    "len(list2)"
   ]
  },
  {
   "cell_type": "code",
   "execution_count": 102,
   "id": "91e3f013-8fe8-4a64-bf91-d22c1a3d1735",
   "metadata": {},
   "outputs": [],
   "source": [
    "#This means not inplace that is we are not updating original list or data structure instead it is  creating new list"
   ]
  },
  {
   "cell_type": "code",
   "execution_count": 103,
   "id": "47e157c0-3671-4040-9b08-4422fb48e5f4",
   "metadata": {},
   "outputs": [],
   "source": [
    "#Inplace means we are updating original data structure"
   ]
  },
  {
   "cell_type": "code",
   "execution_count": 104,
   "id": "1eb10144-4378-49e1-a811-5637b67209fe",
   "metadata": {},
   "outputs": [
    {
     "data": {
      "text/plain": [
       "['Mercedes', 'Verna', 'City', 'BMW', 'Audi']"
      ]
     },
     "execution_count": 104,
     "metadata": {},
     "output_type": "execute_result"
    }
   ],
   "source": [
    "list1"
   ]
  },
  {
   "cell_type": "code",
   "execution_count": 106,
   "id": "403b7276-d458-42b6-96d5-cbf8f5d31c47",
   "metadata": {},
   "outputs": [
    {
     "name": "stdout",
     "output_type": "stream",
     "text": [
      "True\n"
     ]
    }
   ],
   "source": [
    "for i in list1:\n",
    "    if(i==\"Verna\"):\n",
    "        print(\"True\")\n",
    "        break\n",
    "else:\n",
    "    print(\"False\")"
   ]
  },
  {
   "cell_type": "code",
   "execution_count": 107,
   "id": "5a27333f-7a01-4b12-8528-c7e6d4a5e765",
   "metadata": {},
   "outputs": [
    {
     "name": "stdout",
     "output_type": "stream",
     "text": [
      "False\n"
     ]
    }
   ],
   "source": [
    "for i in list1:\n",
    "    if(i==\"Porche\"):\n",
    "        print(\"True\")\n",
    "        break\n",
    "else:\n",
    "    print(\"False\")"
   ]
  },
  {
   "cell_type": "code",
   "execution_count": 109,
   "id": "060ec84a-b7d0-48af-8cc6-6379d13c9dbc",
   "metadata": {},
   "outputs": [
    {
     "name": "stdout",
     "output_type": "stream",
     "text": [
      "True\n"
     ]
    }
   ],
   "source": [
    "#Optimal Solution\n",
    "if \"BMW\" in list1:\n",
    "    print(\"True\")\n",
    "else:\n",
    "    print(\"False\")"
   ]
  },
  {
   "cell_type": "code",
   "execution_count": 110,
   "id": "221d3bc4-1ab6-4469-b4cc-60fe63166ea0",
   "metadata": {},
   "outputs": [
    {
     "data": {
      "text/plain": [
       "True"
      ]
     },
     "execution_count": 110,
     "metadata": {},
     "output_type": "execute_result"
    }
   ],
   "source": [
    "\"City\" in list1"
   ]
  },
  {
   "cell_type": "code",
   "execution_count": 111,
   "id": "46613fbe-0870-478c-9943-871b8eb43569",
   "metadata": {},
   "outputs": [
    {
     "data": {
      "text/plain": [
       "['Mercedes', 'Verna', 'City', 'BMW', 'Audi']"
      ]
     },
     "execution_count": 111,
     "metadata": {},
     "output_type": "execute_result"
    }
   ],
   "source": [
    "list1"
   ]
  },
  {
   "cell_type": "code",
   "execution_count": 112,
   "id": "d727c8eb-0f9c-457c-92cd-080bf5769038",
   "metadata": {},
   "outputs": [],
   "source": [
    "list2=[-1,-12,56,34,23,58]"
   ]
  },
  {
   "cell_type": "code",
   "execution_count": 113,
   "id": "dfda74f0-b796-446a-819c-a676573158c5",
   "metadata": {},
   "outputs": [
    {
     "data": {
      "text/plain": [
       "[-1, -12, 56, 34, 23, 58]"
      ]
     },
     "execution_count": 113,
     "metadata": {},
     "output_type": "execute_result"
    }
   ],
   "source": [
    "list2"
   ]
  },
  {
   "cell_type": "code",
   "execution_count": 114,
   "id": "9e4e7f2f-9b11-407a-beaf-ccf17468a8d4",
   "metadata": {},
   "outputs": [
    {
     "data": {
      "text/plain": [
       "'Verna'"
      ]
     },
     "execution_count": 114,
     "metadata": {},
     "output_type": "execute_result"
    }
   ],
   "source": [
    "max(list1)"
   ]
  },
  {
   "cell_type": "code",
   "execution_count": 115,
   "id": "49f12449-e471-4bf5-8d5e-f68e8068773b",
   "metadata": {},
   "outputs": [
    {
     "data": {
      "text/plain": [
       "58"
      ]
     },
     "execution_count": 115,
     "metadata": {},
     "output_type": "execute_result"
    }
   ],
   "source": [
    "max(list2)"
   ]
  },
  {
   "cell_type": "code",
   "execution_count": 118,
   "id": "42f137f6-5c2f-495c-ae27-344344d21eef",
   "metadata": {},
   "outputs": [],
   "source": [
    "list1=list1.sort()"
   ]
  },
  {
   "cell_type": "code",
   "execution_count": 120,
   "id": "e285bed4-8e42-47ea-9ad3-761933847c43",
   "metadata": {},
   "outputs": [],
   "source": [
    "list1"
   ]
  },
  {
   "cell_type": "code",
   "execution_count": 121,
   "id": "4f0c3cca-174e-4678-8200-26179728a38a",
   "metadata": {},
   "outputs": [
    {
     "name": "stdout",
     "output_type": "stream",
     "text": [
      "None\n"
     ]
    }
   ],
   "source": [
    "print(list1)"
   ]
  },
  {
   "cell_type": "code",
   "execution_count": 123,
   "id": "d0a548a3-fe49-4980-8f2c-625c6c247967",
   "metadata": {},
   "outputs": [
    {
     "name": "stdout",
     "output_type": "stream",
     "text": [
      "None\n"
     ]
    }
   ],
   "source": [
    "print(list2.sort())"
   ]
  },
  {
   "cell_type": "code",
   "execution_count": 127,
   "id": "38b587b4-8710-4409-847e-32a1e6704b83",
   "metadata": {},
   "outputs": [
    {
     "data": {
      "text/plain": [
       "[-12, -1, 23, 34, 56, 58]"
      ]
     },
     "execution_count": 127,
     "metadata": {},
     "output_type": "execute_result"
    }
   ],
   "source": [
    "list2"
   ]
  },
  {
   "cell_type": "code",
   "execution_count": 128,
   "id": "3a2499ce-6483-459d-8c95-48f4ada26642",
   "metadata": {},
   "outputs": [],
   "source": [
    "list1"
   ]
  },
  {
   "cell_type": "code",
   "execution_count": 129,
   "id": "3e87d03a-a331-42f9-9ac8-16b445681d27",
   "metadata": {},
   "outputs": [],
   "source": [
    "list1=[\"Mercedes\",\"Verna\",\"City\",\"BMW\",\"Audi\"]"
   ]
  },
  {
   "cell_type": "code",
   "execution_count": 130,
   "id": "01c17d22-6639-4f2c-bdfb-3f764090337b",
   "metadata": {},
   "outputs": [],
   "source": [
    "list1.sort()"
   ]
  },
  {
   "cell_type": "code",
   "execution_count": 131,
   "id": "aa2aa679-e5f8-4524-ad31-d52c1c904a7b",
   "metadata": {},
   "outputs": [
    {
     "name": "stdout",
     "output_type": "stream",
     "text": [
      "['Audi', 'BMW', 'City', 'Mercedes', 'Verna']\n"
     ]
    }
   ],
   "source": [
    "print(list1)"
   ]
  },
  {
   "cell_type": "code",
   "execution_count": 132,
   "id": "bf83f268-da41-4dbe-8b94-623427f4d4ba",
   "metadata": {},
   "outputs": [
    {
     "data": {
      "text/plain": [
       "['Audi', 'BMW', 'City', 'Mercedes', 'Verna']"
      ]
     },
     "execution_count": 132,
     "metadata": {},
     "output_type": "execute_result"
    }
   ],
   "source": [
    "list1"
   ]
  },
  {
   "cell_type": "code",
   "execution_count": 133,
   "id": "4605b341-ad80-4421-a245-06c00d3c0651",
   "metadata": {},
   "outputs": [
    {
     "data": {
      "text/plain": [
       "'Verna'"
      ]
     },
     "execution_count": 133,
     "metadata": {},
     "output_type": "execute_result"
    }
   ],
   "source": [
    "max(list1)"
   ]
  },
  {
   "cell_type": "code",
   "execution_count": 134,
   "id": "7bed0f5f-9592-4c17-8990-2f7c6fc5f989",
   "metadata": {},
   "outputs": [
    {
     "data": {
      "text/plain": [
       "'Audi'"
      ]
     },
     "execution_count": 134,
     "metadata": {},
     "output_type": "execute_result"
    }
   ],
   "source": [
    "min(list1)"
   ]
  },
  {
   "cell_type": "code",
   "execution_count": 137,
   "id": "abde6688-bd33-4244-bca4-bcbfe336ea76",
   "metadata": {},
   "outputs": [
    {
     "data": {
      "text/plain": [
       "True"
      ]
     },
     "execution_count": 137,
     "metadata": {},
     "output_type": "execute_result"
    }
   ],
   "source": [
    "5.0==5"
   ]
  },
  {
   "cell_type": "code",
   "execution_count": 138,
   "id": "bc9a2121-c905-4198-91e0-d307c73a5970",
   "metadata": {},
   "outputs": [
    {
     "data": {
      "text/plain": [
       "True"
      ]
     },
     "execution_count": 138,
     "metadata": {},
     "output_type": "execute_result"
    }
   ],
   "source": [
    "lst3=[5,6,2,9,5,8,6]\n",
    "type(lst3[0])  ## output is integer\n",
    "type(5.0)  ### output is float\n",
    "5.0 in lst3 ## output is TRUE"
   ]
  },
  {
   "cell_type": "code",
   "execution_count": 139,
   "id": "a1215989-cba0-4fca-a31a-55df08262ade",
   "metadata": {},
   "outputs": [
    {
     "data": {
      "text/plain": [
       "False"
      ]
     },
     "execution_count": 139,
     "metadata": {},
     "output_type": "execute_result"
    }
   ],
   "source": [
    "5.9==6"
   ]
  },
  {
   "cell_type": "code",
   "execution_count": 141,
   "id": "ca812548-e3ae-485e-8d06-6375fb590096",
   "metadata": {},
   "outputs": [
    {
     "data": {
      "text/plain": [
       "False"
      ]
     },
     "execution_count": 141,
     "metadata": {},
     "output_type": "execute_result"
    }
   ],
   "source": [
    "1.9999 in [1,2,3]"
   ]
  },
  {
   "cell_type": "code",
   "execution_count": 142,
   "id": "660514dc-a8cb-4843-b520-ebe5c82d0cc6",
   "metadata": {},
   "outputs": [
    {
     "data": {
      "text/plain": [
       "True"
      ]
     },
     "execution_count": 142,
     "metadata": {},
     "output_type": "execute_result"
    }
   ],
   "source": [
    "1.9999999999999999 in [1, 2, 3]"
   ]
  },
  {
   "cell_type": "code",
   "execution_count": 143,
   "id": "98c57722-1f49-4b46-8cfe-63c2369b92dc",
   "metadata": {},
   "outputs": [
    {
     "data": {
      "text/plain": [
       "False"
      ]
     },
     "execution_count": 143,
     "metadata": {},
     "output_type": "execute_result"
    }
   ],
   "source": [
    "1.9999999999999999 in [1, 4, 3]"
   ]
  },
  {
   "cell_type": "code",
   "execution_count": 144,
   "id": "8ebb7ce2-26a9-47f9-ad56-835af18610b6",
   "metadata": {},
   "outputs": [
    {
     "data": {
      "text/plain": [
       "False"
      ]
     },
     "execution_count": 144,
     "metadata": {},
     "output_type": "execute_result"
    }
   ],
   "source": [
    "1.999999999999999 in [1, 2, 3]"
   ]
  },
  {
   "cell_type": "code",
   "execution_count": 147,
   "id": "d5295cb3-907c-41d2-ada6-7b03af5e12a6",
   "metadata": {},
   "outputs": [
    {
     "data": {
      "text/plain": [
       "True"
      ]
     },
     "execution_count": 147,
     "metadata": {},
     "output_type": "execute_result"
    }
   ],
   "source": [
    "1.9999999999999999 in [1, 2, 3]"
   ]
  },
  {
   "cell_type": "code",
   "execution_count": 148,
   "id": "9f7db2b1-6397-48c5-938b-0a437af8014c",
   "metadata": {},
   "outputs": [
    {
     "data": {
      "text/plain": [
       "int"
      ]
     },
     "execution_count": 148,
     "metadata": {},
     "output_type": "execute_result"
    }
   ],
   "source": [
    "type(5)"
   ]
  },
  {
   "cell_type": "code",
   "execution_count": 149,
   "id": "089fbe5a-a74c-4052-a415-b3aaf9e9c9db",
   "metadata": {},
   "outputs": [
    {
     "data": {
      "text/plain": [
       "float"
      ]
     },
     "execution_count": 149,
     "metadata": {},
     "output_type": "execute_result"
    }
   ],
   "source": [
    "type(5.0)"
   ]
  },
  {
   "cell_type": "code",
   "execution_count": 150,
   "id": "973fa6fa-a9a9-4229-a757-47eb3268ee44",
   "metadata": {},
   "outputs": [
    {
     "data": {
      "text/plain": [
       "float"
      ]
     },
     "execution_count": 150,
     "metadata": {},
     "output_type": "execute_result"
    }
   ],
   "source": [
    "type(5.5)"
   ]
  },
  {
   "cell_type": "code",
   "execution_count": 151,
   "id": "6215f211-8e76-4a25-a792-1a8b19f869c7",
   "metadata": {},
   "outputs": [],
   "source": [
    "list1=[\"Mercedes\",\"Verna\",\"City\",\"BMW\",\"Audi\"]"
   ]
  },
  {
   "cell_type": "code",
   "execution_count": 152,
   "id": "e0ca85a9-7e8a-4b67-9753-8765bdc7e8ce",
   "metadata": {},
   "outputs": [],
   "source": [
    "list1.append(\"Ferrari\")"
   ]
  },
  {
   "cell_type": "code",
   "execution_count": 153,
   "id": "46ad1b22-2fe1-4087-8aa0-cbb0a20c8392",
   "metadata": {},
   "outputs": [
    {
     "data": {
      "text/plain": [
       "['Mercedes', 'Verna', 'City', 'BMW', 'Audi', 'Ferrari']"
      ]
     },
     "execution_count": 153,
     "metadata": {},
     "output_type": "execute_result"
    }
   ],
   "source": [
    "list1"
   ]
  },
  {
   "cell_type": "code",
   "execution_count": 154,
   "id": "7ba6debe-102a-4c7c-9c86-859d6e54d39b",
   "metadata": {},
   "outputs": [],
   "source": [
    "#That is append is an inplace operation"
   ]
  },
  {
   "cell_type": "code",
   "execution_count": 155,
   "id": "8c791c5d-501c-41a1-9b8e-822bbf7e847e",
   "metadata": {},
   "outputs": [],
   "source": [
    "list1.append([\"Honda\",\"Toyota\"])"
   ]
  },
  {
   "cell_type": "code",
   "execution_count": 156,
   "id": "49837867-9dca-49de-bf1e-771026cb22c6",
   "metadata": {},
   "outputs": [
    {
     "data": {
      "text/plain": [
       "['Mercedes', 'Verna', 'City', 'BMW', 'Audi', 'Ferrari', ['Honda', 'Toyota']]"
      ]
     },
     "execution_count": 156,
     "metadata": {},
     "output_type": "execute_result"
    }
   ],
   "source": [
    "list1"
   ]
  },
  {
   "cell_type": "code",
   "execution_count": 157,
   "id": "e794b214-5a27-4872-a799-c8741e870743",
   "metadata": {},
   "outputs": [
    {
     "data": {
      "text/plain": [
       "['Honda', 'Toyota']"
      ]
     },
     "execution_count": 157,
     "metadata": {},
     "output_type": "execute_result"
    }
   ],
   "source": [
    "list1.pop()"
   ]
  },
  {
   "cell_type": "code",
   "execution_count": 158,
   "id": "98b549e2-fd7b-47d0-8d61-ff42043d48da",
   "metadata": {},
   "outputs": [
    {
     "data": {
      "text/plain": [
       "'Ferrari'"
      ]
     },
     "execution_count": 158,
     "metadata": {},
     "output_type": "execute_result"
    }
   ],
   "source": [
    "list1.pop()"
   ]
  },
  {
   "cell_type": "code",
   "execution_count": 160,
   "id": "18a7a651-c6a3-46a9-b5d3-6cbf6cbc5c9b",
   "metadata": {},
   "outputs": [
    {
     "data": {
      "text/plain": [
       "['Mercedes', 'Verna', 'City', 'BMW', 'Audi']"
      ]
     },
     "execution_count": 160,
     "metadata": {},
     "output_type": "execute_result"
    }
   ],
   "source": [
    "list1"
   ]
  },
  {
   "cell_type": "code",
   "execution_count": 161,
   "id": "18728afd-4ef1-4072-9e3c-322f7fe42e99",
   "metadata": {},
   "outputs": [],
   "source": [
    "#Pop is inplace operation"
   ]
  },
  {
   "cell_type": "code",
   "execution_count": 163,
   "id": "cbabc625-cb92-49c7-be10-9e070e911f9a",
   "metadata": {},
   "outputs": [
    {
     "data": {
      "text/plain": [
       "'City'"
      ]
     },
     "execution_count": 163,
     "metadata": {},
     "output_type": "execute_result"
    }
   ],
   "source": [
    "list1.pop(2)"
   ]
  },
  {
   "cell_type": "code",
   "execution_count": 164,
   "id": "aae4cc7b-5c58-4444-aeb0-29de9d1bb0b6",
   "metadata": {},
   "outputs": [
    {
     "data": {
      "text/plain": [
       "['Mercedes', 'Verna', 'BMW', 'Audi']"
      ]
     },
     "execution_count": 164,
     "metadata": {},
     "output_type": "execute_result"
    }
   ],
   "source": [
    "list1"
   ]
  },
  {
   "cell_type": "code",
   "execution_count": 165,
   "id": "c35aee13-daf5-445d-9a0d-9fb3e5132850",
   "metadata": {},
   "outputs": [
    {
     "ename": "IndexError",
     "evalue": "list index out of range",
     "output_type": "error",
     "traceback": [
      "\u001b[0;31m---------------------------------------------------------------------------\u001b[0m",
      "\u001b[0;31mIndexError\u001b[0m                                Traceback (most recent call last)",
      "Cell \u001b[0;32mIn[165], line 1\u001b[0m\n\u001b[0;32m----> 1\u001b[0m \u001b[43mlist1\u001b[49m\u001b[43m[\u001b[49m\u001b[38;5;241;43m10\u001b[39;49m\u001b[43m]\u001b[49m\n",
      "\u001b[0;31mIndexError\u001b[0m: list index out of range"
     ]
    }
   ],
   "source": [
    "list1[10]"
   ]
  },
  {
   "cell_type": "code",
   "execution_count": 166,
   "id": "6ff96347-c44d-4318-a930-fc3c82ac90aa",
   "metadata": {},
   "outputs": [],
   "source": [
    "list1=['q','e','f','s','t','u']"
   ]
  },
  {
   "cell_type": "code",
   "execution_count": 167,
   "id": "742f513d-238c-4a2b-bb30-94b33c669836",
   "metadata": {},
   "outputs": [
    {
     "data": {
      "text/plain": [
       "['q', 'e', 'f', 's', 't', 'u']"
      ]
     },
     "execution_count": 167,
     "metadata": {},
     "output_type": "execute_result"
    }
   ],
   "source": [
    "list1"
   ]
  },
  {
   "cell_type": "code",
   "execution_count": 168,
   "id": "291778a3-af14-4359-8eeb-bb836f156ead",
   "metadata": {},
   "outputs": [],
   "source": [
    "list1.reverse()"
   ]
  },
  {
   "cell_type": "code",
   "execution_count": 169,
   "id": "9176c1a7-0851-4b07-9d43-eebf356b1c7e",
   "metadata": {},
   "outputs": [
    {
     "data": {
      "text/plain": [
       "['u', 't', 's', 'f', 'e', 'q']"
      ]
     },
     "execution_count": 169,
     "metadata": {},
     "output_type": "execute_result"
    }
   ],
   "source": [
    "list1"
   ]
  },
  {
   "cell_type": "code",
   "execution_count": 170,
   "id": "596d39f5-404b-4de6-9411-e06ae5fe23cf",
   "metadata": {},
   "outputs": [],
   "source": [
    "#Reverse is inplace operation on given list"
   ]
  },
  {
   "cell_type": "code",
   "execution_count": 171,
   "id": "ffca7b13-3d00-488f-a564-5d2c5398f61b",
   "metadata": {},
   "outputs": [],
   "source": [
    "list1.sort()"
   ]
  },
  {
   "cell_type": "code",
   "execution_count": 172,
   "id": "8ef6c3da-5c85-4c25-8187-2ff5e6efad6e",
   "metadata": {},
   "outputs": [
    {
     "data": {
      "text/plain": [
       "['e', 'f', 'q', 's', 't', 'u']"
      ]
     },
     "execution_count": 172,
     "metadata": {},
     "output_type": "execute_result"
    }
   ],
   "source": [
    "list1"
   ]
  },
  {
   "cell_type": "code",
   "execution_count": 173,
   "id": "dc1dd070-9c08-40a6-808a-803f8616c7ec",
   "metadata": {},
   "outputs": [],
   "source": [
    "#Sort is inplace operation on given list"
   ]
  },
  {
   "cell_type": "code",
   "execution_count": 174,
   "id": "8a7b8081-40d3-4d92-b0a8-30434e4037bf",
   "metadata": {},
   "outputs": [],
   "source": [
    "list1.reverse()"
   ]
  },
  {
   "cell_type": "code",
   "execution_count": 175,
   "id": "2aa5bd46-4b24-4314-84e2-857fdabb2fdc",
   "metadata": {},
   "outputs": [
    {
     "data": {
      "text/plain": [
       "['u', 't', 's', 'q', 'f', 'e']"
      ]
     },
     "execution_count": 175,
     "metadata": {},
     "output_type": "execute_result"
    }
   ],
   "source": [
    "list1"
   ]
  },
  {
   "cell_type": "code",
   "execution_count": 176,
   "id": "f23ef99d-d06f-4ab5-a41d-1aff2633ccc2",
   "metadata": {},
   "outputs": [],
   "source": [
    "##In ascending order sorting\n",
    "list1.sort()"
   ]
  },
  {
   "cell_type": "code",
   "execution_count": 177,
   "id": "dc7641ea-8b91-44d3-a68c-a8b5e60d10bf",
   "metadata": {},
   "outputs": [
    {
     "data": {
      "text/plain": [
       "['e', 'f', 'q', 's', 't', 'u']"
      ]
     },
     "execution_count": 177,
     "metadata": {},
     "output_type": "execute_result"
    }
   ],
   "source": [
    "list1"
   ]
  },
  {
   "cell_type": "code",
   "execution_count": 178,
   "id": "9a12801b-0f7c-4e37-bb46-c56b612317b9",
   "metadata": {},
   "outputs": [],
   "source": [
    "##In ascending order sorting"
   ]
  },
  {
   "cell_type": "code",
   "execution_count": 180,
   "id": "3190a1fe-5920-4032-9a22-25ba1e775525",
   "metadata": {},
   "outputs": [],
   "source": [
    "list1.sort(reverse=False)"
   ]
  },
  {
   "cell_type": "code",
   "execution_count": 181,
   "id": "a2fa335a-9314-417d-a436-4aa60137469d",
   "metadata": {},
   "outputs": [
    {
     "data": {
      "text/plain": [
       "['e', 'f', 'q', 's', 't', 'u']"
      ]
     },
     "execution_count": 181,
     "metadata": {},
     "output_type": "execute_result"
    }
   ],
   "source": [
    "list1"
   ]
  },
  {
   "cell_type": "code",
   "execution_count": 184,
   "id": "6741511a-6604-4f4f-9d2e-1c30f6640226",
   "metadata": {},
   "outputs": [],
   "source": [
    "##In descending order sorting\n",
    "list1.sort(reverse=True)"
   ]
  },
  {
   "cell_type": "code",
   "execution_count": 185,
   "id": "c6f4972d-54d3-4ca0-a514-5a9c342f6baf",
   "metadata": {},
   "outputs": [
    {
     "data": {
      "text/plain": [
       "['u', 't', 's', 'q', 'f', 'e']"
      ]
     },
     "execution_count": 185,
     "metadata": {},
     "output_type": "execute_result"
    }
   ],
   "source": [
    "list1"
   ]
  },
  {
   "cell_type": "code",
   "execution_count": 191,
   "id": "ae9f7df6-29e9-4310-ad83-a76e5400c2fe",
   "metadata": {},
   "outputs": [
    {
     "data": {
      "text/plain": [
       "[1, 2, 3, 4, 5, 6, 7]"
      ]
     },
     "execution_count": 191,
     "metadata": {},
     "output_type": "execute_result"
    }
   ],
   "source": [
    "#We cannot add two elements at a time using append operation on list\n",
    "list1=[1,2,3,4,5]\n",
    "#list1.append(6,7)\n",
    "list1.extend([6,7])\n",
    "list1"
   ]
  },
  {
   "cell_type": "markdown",
   "id": "2f07d548-373a-459d-8f91-b6812b8b5b38",
   "metadata": {},
   "source": [
    "##NESTED LIST"
   ]
  },
  {
   "cell_type": "code",
   "execution_count": 192,
   "id": "bf9a0b6e-0184-42f6-9664-2328393fcb82",
   "metadata": {},
   "outputs": [],
   "source": [
    "# Let's make three lists\n",
    "lst_1=[1,2,3]\n",
    "lst_2=[4,5,6]\n",
    "lst_3=[7,8,9]\n",
    "\n",
    "# Make a list of lists to form a matrix\n",
    "matrix = [lst_1,lst_2,lst_3]"
   ]
  },
  {
   "cell_type": "code",
   "execution_count": 193,
   "id": "e2fd3d7a-5f4f-4aa2-b4fe-1820b4db2ff6",
   "metadata": {},
   "outputs": [
    {
     "data": {
      "text/plain": [
       "[[1, 2, 3], [4, 5, 6], [7, 8, 9]]"
      ]
     },
     "execution_count": 193,
     "metadata": {},
     "output_type": "execute_result"
    }
   ],
   "source": [
    "matrix"
   ]
  },
  {
   "cell_type": "code",
   "execution_count": 196,
   "id": "d0fe4148-bc84-45c3-ac90-2502384d0237",
   "metadata": {},
   "outputs": [
    {
     "data": {
      "text/plain": [
       "[1, 2, 3]"
      ]
     },
     "execution_count": 196,
     "metadata": {},
     "output_type": "execute_result"
    }
   ],
   "source": [
    "matrix[0]\n"
   ]
  },
  {
   "cell_type": "code",
   "execution_count": 195,
   "id": "3dc80560-38f6-483d-9c4e-055ae4ff52f2",
   "metadata": {},
   "outputs": [
    {
     "data": {
      "text/plain": [
       "1"
      ]
     },
     "execution_count": 195,
     "metadata": {},
     "output_type": "execute_result"
    }
   ],
   "source": [
    "matrix[0][0]"
   ]
  },
  {
   "cell_type": "code",
   "execution_count": 197,
   "id": "e177b1a2-c40d-4bcf-a37e-bc84d7cb1f12",
   "metadata": {},
   "outputs": [
    {
     "data": {
      "text/plain": [
       "6"
      ]
     },
     "execution_count": 197,
     "metadata": {},
     "output_type": "execute_result"
    }
   ],
   "source": [
    "matrix[1][2]"
   ]
  },
  {
   "cell_type": "code",
   "execution_count": 198,
   "id": "02c765cd-93ee-4b3f-aac7-83ac35f6e6be",
   "metadata": {},
   "outputs": [
    {
     "data": {
      "text/plain": [
       "[8, 9]"
      ]
     },
     "execution_count": 198,
     "metadata": {},
     "output_type": "execute_result"
    }
   ],
   "source": [
    "matrix[2][1:]"
   ]
  },
  {
   "cell_type": "code",
   "execution_count": 202,
   "id": "7fd4af16-39b9-4a61-accc-9c34eff082ed",
   "metadata": {},
   "outputs": [
    {
     "data": {
      "text/plain": [
       "[[1, 2, 3], [4, 5, 6], [7, 8, 9]]"
      ]
     },
     "execution_count": 202,
     "metadata": {},
     "output_type": "execute_result"
    }
   ],
   "source": [
    "matrix[:][:]"
   ]
  },
  {
   "cell_type": "code",
   "execution_count": null,
   "id": "ee2e19e4-16c9-4f93-9da9-932906f0ce9e",
   "metadata": {},
   "outputs": [],
   "source": [
    "#List Comprehension"
   ]
  },
  {
   "cell_type": "code",
   "execution_count": 218,
   "id": "6a63f35a-672a-4170-9b83-25a524de15f0",
   "metadata": {},
   "outputs": [
    {
     "name": "stdout",
     "output_type": "stream",
     "text": [
      "0\n",
      "1\n",
      "2\n",
      "3\n",
      "4\n",
      "5\n",
      "6\n",
      "7\n",
      "8\n",
      "9\n",
      "10\n",
      "11\n",
      "12\n",
      "13\n",
      "14\n",
      "15\n",
      "16\n",
      "17\n",
      "18\n",
      "19\n"
     ]
    }
   ],
   "source": [
    "for i in range(20):\n",
    "    print(i)"
   ]
  },
  {
   "cell_type": "code",
   "execution_count": 219,
   "id": "baf429ab-ed1a-4beb-9bdd-1cbd24dc4632",
   "metadata": {},
   "outputs": [
    {
     "data": {
      "text/plain": [
       "[0, 1, 2, 3, 4, 5, 6, 7, 8, 9, 10, 11, 12, 13, 14, 15, 16, 17, 18, 19]"
      ]
     },
     "execution_count": 219,
     "metadata": {},
     "output_type": "execute_result"
    }
   ],
   "source": [
    "[i for i in range(20)]"
   ]
  },
  {
   "cell_type": "code",
   "execution_count": 221,
   "id": "83c5676e-c30e-4b0c-a131-015c512760e4",
   "metadata": {},
   "outputs": [],
   "source": [
    "list1=[i for i in range(20)]"
   ]
  },
  {
   "cell_type": "code",
   "execution_count": 222,
   "id": "1068014d-3f0c-40f8-9ac6-1a67157c7d63",
   "metadata": {},
   "outputs": [
    {
     "data": {
      "text/plain": [
       "[0, 1, 2, 3, 4, 5, 6, 7, 8, 9, 10, 11, 12, 13, 14, 15, 16, 17, 18, 19]"
      ]
     },
     "execution_count": 222,
     "metadata": {},
     "output_type": "execute_result"
    }
   ],
   "source": [
    "list1"
   ]
  },
  {
   "cell_type": "code",
   "execution_count": 225,
   "id": "6544af98-5ca9-475e-a6f6-b807734a1e74",
   "metadata": {},
   "outputs": [],
   "source": [
    "list2=[i for i in range(0,20,2)]"
   ]
  },
  {
   "cell_type": "code",
   "execution_count": 226,
   "id": "d9f5c924-ffa7-40a8-9ba2-69d3d4f90b99",
   "metadata": {},
   "outputs": [
    {
     "data": {
      "text/plain": [
       "[0, 2, 4, 6, 8, 10, 12, 14, 16, 18]"
      ]
     },
     "execution_count": 226,
     "metadata": {},
     "output_type": "execute_result"
    }
   ],
   "source": [
    "list2"
   ]
  },
  {
   "cell_type": "code",
   "execution_count": 228,
   "id": "896e904f-76c1-4f28-b3d1-1f2b2e12a04b",
   "metadata": {},
   "outputs": [],
   "source": [
    "list2=[i%2==0 for i in range(0,20,2)]"
   ]
  },
  {
   "cell_type": "code",
   "execution_count": 229,
   "id": "a644dcdd-b5c0-46c0-a9d2-504364dc28ca",
   "metadata": {},
   "outputs": [
    {
     "data": {
      "text/plain": [
       "[True, True, True, True, True, True, True, True, True, True]"
      ]
     },
     "execution_count": 229,
     "metadata": {},
     "output_type": "execute_result"
    }
   ],
   "source": [
    "list2"
   ]
  },
  {
   "cell_type": "code",
   "execution_count": 230,
   "id": "99f17a93-cd68-43c7-858d-55221ffb5fa2",
   "metadata": {},
   "outputs": [],
   "source": [
    "list2=[i%2==0 for i in list1]"
   ]
  },
  {
   "cell_type": "code",
   "execution_count": 231,
   "id": "23c560bc-249e-4ad1-9621-0f744d54045b",
   "metadata": {},
   "outputs": [
    {
     "data": {
      "text/plain": [
       "[True,\n",
       " False,\n",
       " True,\n",
       " False,\n",
       " True,\n",
       " False,\n",
       " True,\n",
       " False,\n",
       " True,\n",
       " False,\n",
       " True,\n",
       " False,\n",
       " True,\n",
       " False,\n",
       " True,\n",
       " False,\n",
       " True,\n",
       " False,\n",
       " True,\n",
       " False]"
      ]
     },
     "execution_count": 231,
     "metadata": {},
     "output_type": "execute_result"
    }
   ],
   "source": [
    "list2"
   ]
  },
  {
   "cell_type": "code",
   "execution_count": 233,
   "id": "0ecefe2c-3c90-4ec6-876a-00ec23a078ab",
   "metadata": {},
   "outputs": [
    {
     "data": {
      "text/plain": [
       "list"
      ]
     },
     "execution_count": 233,
     "metadata": {},
     "output_type": "execute_result"
    }
   ],
   "source": [
    "type(list2)"
   ]
  },
  {
   "cell_type": "code",
   "execution_count": 235,
   "id": "07e40dc5-d32d-476d-b4e8-93b86172dbd3",
   "metadata": {},
   "outputs": [
    {
     "data": {
      "text/plain": [
       "bool"
      ]
     },
     "execution_count": 235,
     "metadata": {},
     "output_type": "execute_result"
    }
   ],
   "source": [
    "type(list2[2])"
   ]
  },
  {
   "cell_type": "code",
   "execution_count": 236,
   "id": "77eac1a3-3c41-42ab-8082-676fe6b56927",
   "metadata": {},
   "outputs": [
    {
     "data": {
      "text/plain": [
       "[0, 1, 2, 3, 4, 5, 6, 7, 8, 9, 10, 11, 12, 13, 14, 15, 16, 17, 18, 19]"
      ]
     },
     "execution_count": 236,
     "metadata": {},
     "output_type": "execute_result"
    }
   ],
   "source": [
    "list1"
   ]
  },
  {
   "cell_type": "code",
   "execution_count": 247,
   "id": "b2a55ef5-b91b-46d2-a900-f48a278728cb",
   "metadata": {},
   "outputs": [
    {
     "name": "stdout",
     "output_type": "stream",
     "text": [
      "Odd\n",
      "Odd\n",
      "Odd\n",
      "Odd\n",
      "Odd\n",
      "Odd\n",
      "Odd\n",
      "Odd\n",
      "Odd\n",
      "Odd\n"
     ]
    }
   ],
   "source": [
    "list2=[ i if (i%2==0) else print(\"Odd\") for i in list1]"
   ]
  },
  {
   "cell_type": "code",
   "execution_count": 248,
   "id": "ecf35f92-6894-4762-854b-2f1a917b4c70",
   "metadata": {},
   "outputs": [
    {
     "data": {
      "text/plain": [
       "[0,\n",
       " None,\n",
       " 2,\n",
       " None,\n",
       " 4,\n",
       " None,\n",
       " 6,\n",
       " None,\n",
       " 8,\n",
       " None,\n",
       " 10,\n",
       " None,\n",
       " 12,\n",
       " None,\n",
       " 14,\n",
       " None,\n",
       " 16,\n",
       " None,\n",
       " 18,\n",
       " None]"
      ]
     },
     "execution_count": 248,
     "metadata": {},
     "output_type": "execute_result"
    }
   ],
   "source": [
    "list2"
   ]
  },
  {
   "cell_type": "code",
   "execution_count": 258,
   "id": "b451aa49-92d2-46ff-82dd-d85831263e05",
   "metadata": {},
   "outputs": [],
   "source": [
    "list1=[i for i in range(1,21)]"
   ]
  },
  {
   "cell_type": "code",
   "execution_count": 259,
   "id": "1968f609-4abf-40ef-95f0-ff6635130307",
   "metadata": {},
   "outputs": [],
   "source": [
    "for i in list1:\n",
    "    if(i%2==0):\n",
    "        list1[list1.index(i)]=\"Even\"\n",
    "    else:\n",
    "        list1[list1.index(i)]=\"Odd\""
   ]
  },
  {
   "cell_type": "code",
   "execution_count": 260,
   "id": "8c73bc1a-2f65-493f-97f8-f69c110a5dc5",
   "metadata": {},
   "outputs": [
    {
     "data": {
      "text/plain": [
       "['Odd',\n",
       " 'Even',\n",
       " 'Odd',\n",
       " 'Even',\n",
       " 'Odd',\n",
       " 'Even',\n",
       " 'Odd',\n",
       " 'Even',\n",
       " 'Odd',\n",
       " 'Even',\n",
       " 'Odd',\n",
       " 'Even',\n",
       " 'Odd',\n",
       " 'Even',\n",
       " 'Odd',\n",
       " 'Even',\n",
       " 'Odd',\n",
       " 'Even',\n",
       " 'Odd',\n",
       " 'Even']"
      ]
     },
     "execution_count": 260,
     "metadata": {},
     "output_type": "execute_result"
    }
   ],
   "source": [
    "list1"
   ]
  },
  {
   "cell_type": "code",
   "execution_count": 261,
   "id": "4f8418b5-7f83-42e1-bde0-6ce5d1a85722",
   "metadata": {},
   "outputs": [],
   "source": [
    "list1=[i for i in range(1,21)]"
   ]
  },
  {
   "cell_type": "code",
   "execution_count": 262,
   "id": "ea11df22-d7ce-4596-b7c5-eaad4b113fec",
   "metadata": {},
   "outputs": [
    {
     "data": {
      "text/plain": [
       "[1, 2, 3, 4, 5, 6, 7, 8, 9, 10, 11, 12, 13, 14, 15, 16, 17, 18, 19, 20]"
      ]
     },
     "execution_count": 262,
     "metadata": {},
     "output_type": "execute_result"
    }
   ],
   "source": [
    "list1"
   ]
  },
  {
   "cell_type": "code",
   "execution_count": 263,
   "id": "eccb36f6-2420-4d14-ae66-31df13580036",
   "metadata": {},
   "outputs": [],
   "source": [
    "list1=[i if i%2==0 else \"Odd\" for i in list1]"
   ]
  },
  {
   "cell_type": "code",
   "execution_count": 264,
   "id": "07d2ddb9-826f-4b02-9d07-113a0558bab8",
   "metadata": {},
   "outputs": [
    {
     "data": {
      "text/plain": [
       "['Odd',\n",
       " 2,\n",
       " 'Odd',\n",
       " 4,\n",
       " 'Odd',\n",
       " 6,\n",
       " 'Odd',\n",
       " 8,\n",
       " 'Odd',\n",
       " 10,\n",
       " 'Odd',\n",
       " 12,\n",
       " 'Odd',\n",
       " 14,\n",
       " 'Odd',\n",
       " 16,\n",
       " 'Odd',\n",
       " 18,\n",
       " 'Odd',\n",
       " 20]"
      ]
     },
     "execution_count": 264,
     "metadata": {},
     "output_type": "execute_result"
    }
   ],
   "source": [
    "list1"
   ]
  },
  {
   "cell_type": "code",
   "execution_count": 289,
   "id": "8f4c1821-07e8-429c-8bd0-9348440fb050",
   "metadata": {},
   "outputs": [],
   "source": [
    "list1=[i for i in range(1,21)]"
   ]
  },
  {
   "cell_type": "code",
   "execution_count": 290,
   "id": "9a90c18a-c61b-41f7-abe1-5328b16757a0",
   "metadata": {},
   "outputs": [
    {
     "data": {
      "text/plain": [
       "[1, 2, 3, 4, 5, 6, 7, 8, 9, 10, 11, 12, 13, 14, 15, 16, 17, 18, 19, 20]"
      ]
     },
     "execution_count": 290,
     "metadata": {},
     "output_type": "execute_result"
    }
   ],
   "source": [
    "list1"
   ]
  },
  {
   "cell_type": "code",
   "execution_count": 291,
   "id": "dcbbbd6b-63cd-47b0-869b-c82297f19efd",
   "metadata": {},
   "outputs": [],
   "source": [
    "list1=[i if i%2!=0  else \"Even\" for i in list1]"
   ]
  },
  {
   "cell_type": "code",
   "execution_count": 292,
   "id": "0a840b05-6458-4b0a-acf3-16fbe4bd43c8",
   "metadata": {},
   "outputs": [
    {
     "data": {
      "text/plain": [
       "[1,\n",
       " 'Even',\n",
       " 3,\n",
       " 'Even',\n",
       " 5,\n",
       " 'Even',\n",
       " 7,\n",
       " 'Even',\n",
       " 9,\n",
       " 'Even',\n",
       " 11,\n",
       " 'Even',\n",
       " 13,\n",
       " 'Even',\n",
       " 15,\n",
       " 'Even',\n",
       " 17,\n",
       " 'Even',\n",
       " 19,\n",
       " 'Even']"
      ]
     },
     "execution_count": 292,
     "metadata": {},
     "output_type": "execute_result"
    }
   ],
   "source": [
    "list1"
   ]
  },
  {
   "cell_type": "code",
   "execution_count": 293,
   "id": "d7e94626-3869-4688-9b5e-f33249d4b6b0",
   "metadata": {},
   "outputs": [],
   "source": [
    "list1=[i for i in range(1,21)]"
   ]
  },
  {
   "cell_type": "code",
   "execution_count": 294,
   "id": "502e671b-2cfa-44b9-817d-8808deffdb13",
   "metadata": {},
   "outputs": [
    {
     "data": {
      "text/plain": [
       "[1, 2, 3, 4, 5, 6, 7, 8, 9, 10, 11, 12, 13, 14, 15, 16, 17, 18, 19, 20]"
      ]
     },
     "execution_count": 294,
     "metadata": {},
     "output_type": "execute_result"
    }
   ],
   "source": [
    "list1"
   ]
  },
  {
   "cell_type": "code",
   "execution_count": 295,
   "id": "22f2b88d-ab5b-4e4c-a354-6a0a9919d7d8",
   "metadata": {},
   "outputs": [],
   "source": [
    "list1=[i if i%2!=0  else \" \" for i in list1]"
   ]
  },
  {
   "cell_type": "code",
   "execution_count": 296,
   "id": "20805f55-72b0-4f99-b9f1-aeb181a1d432",
   "metadata": {},
   "outputs": [
    {
     "data": {
      "text/plain": [
       "[1,\n",
       " ' ',\n",
       " 3,\n",
       " ' ',\n",
       " 5,\n",
       " ' ',\n",
       " 7,\n",
       " ' ',\n",
       " 9,\n",
       " ' ',\n",
       " 11,\n",
       " ' ',\n",
       " 13,\n",
       " ' ',\n",
       " 15,\n",
       " ' ',\n",
       " 17,\n",
       " ' ',\n",
       " 19,\n",
       " ' ']"
      ]
     },
     "execution_count": 296,
     "metadata": {},
     "output_type": "execute_result"
    }
   ],
   "source": [
    "list1"
   ]
  },
  {
   "cell_type": "code",
   "execution_count": 307,
   "id": "b519629c-c0dd-4436-8fc2-4cd3aa1773ff",
   "metadata": {},
   "outputs": [
    {
     "name": "stdout",
     "output_type": "stream",
     "text": [
      "Even = 20 ... Odd=16\n"
     ]
    }
   ],
   "source": [
    "list1=[1,2,3,4,5,6,7,8]\n",
    "odd=0\n",
    "even=0\n",
    "for i in list1:\n",
    "    if i%2==0:\n",
    "        even=even+i\n",
    "    else:\n",
    "        odd=odd+i\n",
    "print(f\"Even = {even} ... Odd={odd}\")"
   ]
  },
  {
   "cell_type": "code",
   "execution_count": 311,
   "id": "ac73e403-af27-422f-934f-3188642385ad",
   "metadata": {},
   "outputs": [
    {
     "ename": "SyntaxError",
     "evalue": "invalid syntax. Maybe you meant '==' or ':=' instead of '='? (2137571001.py, line 2)",
     "output_type": "error",
     "traceback": [
      "\u001b[0;36m  Cell \u001b[0;32mIn[311], line 2\u001b[0;36m\u001b[0m\n\u001b[0;31m    sum=[i if i%2==0 else (odd=odd+i) for i in list1]\u001b[0m\n\u001b[0m                           ^\u001b[0m\n\u001b[0;31mSyntaxError\u001b[0m\u001b[0;31m:\u001b[0m invalid syntax. Maybe you meant '==' or ':=' instead of '='?\n"
     ]
    }
   ],
   "source": [
    "odd=0\n",
    "sum=[i if i%2==0 else (odd=odd+i) for i in list1]\n",
    "print(f\"Odd={odd}\")"
   ]
  },
  {
   "cell_type": "code",
   "execution_count": 310,
   "id": "3290bbc7-9769-47c0-a657-01db40419dbd",
   "metadata": {},
   "outputs": [
    {
     "data": {
      "text/plain": [
       "[1, 2, 3, 4, 5, 6, 7, 8]"
      ]
     },
     "execution_count": 310,
     "metadata": {},
     "output_type": "execute_result"
    }
   ],
   "source": [
    "sum"
   ]
  },
  {
   "cell_type": "code",
   "execution_count": 316,
   "id": "066ad36b-04c3-421b-8194-1a850fda6d2e",
   "metadata": {},
   "outputs": [],
   "source": [
    "list2=[i for i in list1 if (i%2==0)]"
   ]
  },
  {
   "cell_type": "code",
   "execution_count": 320,
   "id": "c507e763-6b21-48e9-a678-061dab9c7b42",
   "metadata": {},
   "outputs": [
    {
     "data": {
      "text/plain": [
       "[2, 4, 6, 8]"
      ]
     },
     "execution_count": 320,
     "metadata": {},
     "output_type": "execute_result"
    }
   ],
   "source": [
    "list2"
   ]
  },
  {
   "cell_type": "code",
   "execution_count": 324,
   "id": "8086d2e2-d4a2-4a30-b4c4-b11585809bc2",
   "metadata": {},
   "outputs": [],
   "source": [
    "del(list1)"
   ]
  },
  {
   "cell_type": "code",
   "execution_count": 325,
   "id": "0ef13adb-7461-461a-b8db-94d73f72a3fb",
   "metadata": {},
   "outputs": [],
   "source": [
    "list1=[1,2,3,4,5,6,7,8]"
   ]
  },
  {
   "cell_type": "code",
   "execution_count": 330,
   "id": "9328cd05-b1b6-4863-9548-ba744ce309ca",
   "metadata": {},
   "outputs": [],
   "source": [
    "list3=[i for i in list1 if (i%2==0)]"
   ]
  },
  {
   "cell_type": "code",
   "execution_count": 332,
   "id": "caa45ccf-39fb-4762-bb8f-1c27b5fe088b",
   "metadata": {},
   "outputs": [
    {
     "data": {
      "text/plain": [
       "[2, 4, 6, 8]"
      ]
     },
     "execution_count": 332,
     "metadata": {},
     "output_type": "execute_result"
    }
   ],
   "source": [
    "list3"
   ]
  },
  {
   "cell_type": "code",
   "execution_count": 331,
   "id": "1bedc3ac-192a-4739-b2ff-8ef424444852",
   "metadata": {},
   "outputs": [
    {
     "ename": "TypeError",
     "evalue": "'list' object is not callable",
     "output_type": "error",
     "traceback": [
      "\u001b[0;31m---------------------------------------------------------------------------\u001b[0m",
      "\u001b[0;31mTypeError\u001b[0m                                 Traceback (most recent call last)",
      "Cell \u001b[0;32mIn[331], line 1\u001b[0m\n\u001b[0;32m----> 1\u001b[0m \u001b[38;5;28;43msum\u001b[39;49m\u001b[43m(\u001b[49m\u001b[43mlist3\u001b[49m\u001b[43m)\u001b[49m\n",
      "\u001b[0;31mTypeError\u001b[0m: 'list' object is not callable"
     ]
    }
   ],
   "source": [
    "sum(list3)"
   ]
  },
  {
   "cell_type": "code",
   "execution_count": 333,
   "id": "dde90900-6aa5-42aa-bd76-d350cbb9e803",
   "metadata": {},
   "outputs": [],
   "source": [
    "list4=[i for i in list1 if (i%2!=0)]"
   ]
  },
  {
   "cell_type": "code",
   "execution_count": 334,
   "id": "7294ab6d-5f33-4797-bc33-34b07531dac3",
   "metadata": {},
   "outputs": [
    {
     "ename": "TypeError",
     "evalue": "'list' object is not callable",
     "output_type": "error",
     "traceback": [
      "\u001b[0;31m---------------------------------------------------------------------------\u001b[0m",
      "\u001b[0;31mTypeError\u001b[0m                                 Traceback (most recent call last)",
      "Cell \u001b[0;32mIn[334], line 1\u001b[0m\n\u001b[0;32m----> 1\u001b[0m \u001b[38;5;28;43msum\u001b[39;49m\u001b[43m(\u001b[49m\u001b[43mlist4\u001b[49m\u001b[43m)\u001b[49m\n",
      "\u001b[0;31mTypeError\u001b[0m: 'list' object is not callable"
     ]
    }
   ],
   "source": [
    "sum(list4)"
   ]
  },
  {
   "cell_type": "code",
   "execution_count": 336,
   "id": "97a7c083-1bd8-480c-96da-b18ccecf0bda",
   "metadata": {},
   "outputs": [],
   "source": [
    "list1=[i for i in range(1,11)]"
   ]
  },
  {
   "cell_type": "code",
   "execution_count": 337,
   "id": "954a4293-0d65-49aa-a18f-ac28a529be24",
   "metadata": {},
   "outputs": [
    {
     "data": {
      "text/plain": [
       "[1, 2, 3, 4, 5, 6, 7, 8, 9, 10]"
      ]
     },
     "execution_count": 337,
     "metadata": {},
     "output_type": "execute_result"
    }
   ],
   "source": [
    "list1"
   ]
  },
  {
   "cell_type": "code",
   "execution_count": 338,
   "id": "57871c6b-5c14-42d2-955b-3cd3d972a944",
   "metadata": {},
   "outputs": [],
   "source": [
    "list2=[i*i for i in list1]"
   ]
  },
  {
   "cell_type": "code",
   "execution_count": 339,
   "id": "baa932d3-33ab-4573-ac7f-107a85bc3dd5",
   "metadata": {},
   "outputs": [
    {
     "data": {
      "text/plain": [
       "[1, 4, 9, 16, 25, 36, 49, 64, 81, 100]"
      ]
     },
     "execution_count": 339,
     "metadata": {},
     "output_type": "execute_result"
    }
   ],
   "source": [
    "list2"
   ]
  },
  {
   "cell_type": "code",
   "execution_count": 340,
   "id": "0a0e1385-5cf9-4730-9e88-e72667203c9c",
   "metadata": {},
   "outputs": [],
   "source": [
    "# Example 2: Create a list of only the positive numbers from a given list\n",
    "numbers = [-2, -1, 0, 1, 2, 3, 4]"
   ]
  },
  {
   "cell_type": "code",
   "execution_count": 341,
   "id": "367b12d6-f0f5-45b5-a6f7-0c4beabdc533",
   "metadata": {},
   "outputs": [],
   "source": [
    "list1=[i>0 for i in numbers]"
   ]
  },
  {
   "cell_type": "code",
   "execution_count": 342,
   "id": "f21dea68-ab79-43be-a3b0-9a2aaab6b485",
   "metadata": {},
   "outputs": [
    {
     "data": {
      "text/plain": [
       "[False, False, False, True, True, True, True]"
      ]
     },
     "execution_count": 342,
     "metadata": {},
     "output_type": "execute_result"
    }
   ],
   "source": [
    "list1"
   ]
  },
  {
   "cell_type": "code",
   "execution_count": 345,
   "id": "1de70c50-cfb4-44cc-8bc9-0958ff79a666",
   "metadata": {},
   "outputs": [],
   "source": [
    "list1=[i>0 for i in numbers] "
   ]
  },
  {
   "cell_type": "code",
   "execution_count": 351,
   "id": "6a38a7bf-3936-4708-ab21-6680345467b1",
   "metadata": {},
   "outputs": [],
   "source": [
    "list2=[i for i in numbers if (i>0)]"
   ]
  },
  {
   "cell_type": "code",
   "execution_count": 352,
   "id": "5785c61a-a20d-4628-8d26-ba371c624757",
   "metadata": {},
   "outputs": [
    {
     "data": {
      "text/plain": [
       "[1, 2, 3, 4]"
      ]
     },
     "execution_count": 352,
     "metadata": {},
     "output_type": "execute_result"
    }
   ],
   "source": [
    "list2"
   ]
  },
  {
   "cell_type": "code",
   "execution_count": 355,
   "id": "f709feef-698f-4eba-bc8c-3ed6b5a8e0d4",
   "metadata": {},
   "outputs": [],
   "source": [
    "# Example 3: Create a list of only the first letters of words in a list\n",
    "words = ['apple', 'banana', 'cherry', 'date']\n",
    "list1=[i[0] for i in words]"
   ]
  },
  {
   "cell_type": "code",
   "execution_count": 356,
   "id": "d3dddb65-c363-4f8c-a290-fb62c13a9127",
   "metadata": {},
   "outputs": [
    {
     "data": {
      "text/plain": [
       "['a', 'b', 'c', 'd']"
      ]
     },
     "execution_count": 356,
     "metadata": {},
     "output_type": "execute_result"
    }
   ],
   "source": [
    "list1"
   ]
  },
  {
   "cell_type": "code",
   "execution_count": 359,
   "id": "8240195b-c1e5-4f09-ab11-a27df63d8b14",
   "metadata": {},
   "outputs": [],
   "source": [
    "# Example 4: Convert a list of temperatures from Celsius to Fahrenheit uing list comprehesnion\n",
    "celsius_temperatures = [0, 10, 20, 30, 40, 50]\n",
    "list1=[(9/5)*i+32 for i in celsius_temperatures]"
   ]
  },
  {
   "cell_type": "code",
   "execution_count": 360,
   "id": "344e558b-a2ba-4b2c-9cfb-a97b866b4e60",
   "metadata": {},
   "outputs": [
    {
     "data": {
      "text/plain": [
       "[32.0, 50.0, 68.0, 86.0, 104.0, 122.0]"
      ]
     },
     "execution_count": 360,
     "metadata": {},
     "output_type": "execute_result"
    }
   ],
   "source": [
    "list1"
   ]
  },
  {
   "cell_type": "code",
   "execution_count": 361,
   "id": "38463dd2-c795-45b6-af8c-ae7cec4085f1",
   "metadata": {},
   "outputs": [],
   "source": [
    "# Example 5: Flatten a list of lists into a single list\n",
    "lists = [[1, 2, 3], [4, 5, 6], [7, 8, 9]]"
   ]
  },
  {
   "cell_type": "code",
   "execution_count": 401,
   "id": "c651501a-1fd7-44f7-841c-229cb6840acf",
   "metadata": {},
   "outputs": [],
   "source": [
    "list1=[i for j in lists for i in j ]"
   ]
  },
  {
   "cell_type": "code",
   "execution_count": 402,
   "id": "44e2721f-d1e1-49ed-a9aa-fe2c220d333f",
   "metadata": {},
   "outputs": [
    {
     "data": {
      "text/plain": [
       "[1, 2, 3, 4, 5, 6, 7, 8, 9]"
      ]
     },
     "execution_count": 402,
     "metadata": {},
     "output_type": "execute_result"
    }
   ],
   "source": [
    "list1"
   ]
  },
  {
   "cell_type": "code",
   "execution_count": 416,
   "id": "b21b9cc6-a058-4fa6-bf36-615ee2e323c1",
   "metadata": {},
   "outputs": [],
   "source": [
    "## Assignment \n",
    "## Using both code and list comprehesnion\n",
    "# Example 2: Create a list of only the prime numbers from a given list\n",
    "numbers = [1, 2, 3, 4, 5, 6, 7, 8, 9, 10]"
   ]
  },
  {
   "cell_type": "code",
   "execution_count": 424,
   "id": "3263b111-7c73-4759-ab74-0023e07dbe0d",
   "metadata": {},
   "outputs": [
    {
     "name": "stdout",
     "output_type": "stream",
     "text": [
      "4 is not prime\n",
      "6 is not prime\n",
      "8 is not prime\n",
      "9 is not prime\n",
      "10 is not prime\n"
     ]
    }
   ],
   "source": [
    "#Code\n",
    "for i in numbers:\n",
    "    for j in range(2,i):\n",
    "        if i%j==0:\n",
    "            print(f\"{i} is not prime\")\n",
    "            break\n"
   ]
  },
  {
   "cell_type": "code",
   "execution_count": 435,
   "id": "8f3f2bcc-f5d2-40be-b524-0b576afbeeee",
   "metadata": {},
   "outputs": [
    {
     "ename": "SyntaxError",
     "evalue": "invalid syntax (1203689523.py, line 1)",
     "output_type": "error",
     "traceback": [
      "\u001b[0;36m  Cell \u001b[0;32mIn[435], line 1\u001b[0;36m\u001b[0m\n\u001b[0;31m    list1=[i for i in numbers for j in range(2,i) if (i%j!=0) else break]\u001b[0m\n\u001b[0m                                                              ^\u001b[0m\n\u001b[0;31mSyntaxError\u001b[0m\u001b[0;31m:\u001b[0m invalid syntax\n"
     ]
    }
   ],
   "source": [
    "list1=[i for i in numbers for j in range(2,i) if (i%j!=0) else break]"
   ]
  },
  {
   "cell_type": "code",
   "execution_count": 431,
   "id": "927838fa-94a5-4086-b6e1-2cd1fed5e54d",
   "metadata": {},
   "outputs": [
    {
     "data": {
      "text/plain": [
       "[3,\n",
       " 4,\n",
       " 5,\n",
       " 5,\n",
       " 5,\n",
       " 6,\n",
       " 6,\n",
       " 7,\n",
       " 7,\n",
       " 7,\n",
       " 7,\n",
       " 7,\n",
       " 8,\n",
       " 8,\n",
       " 8,\n",
       " 8,\n",
       " 9,\n",
       " 9,\n",
       " 9,\n",
       " 9,\n",
       " 9,\n",
       " 9,\n",
       " 10,\n",
       " 10,\n",
       " 10,\n",
       " 10,\n",
       " 10,\n",
       " 10]"
      ]
     },
     "execution_count": 431,
     "metadata": {},
     "output_type": "execute_result"
    }
   ],
   "source": [
    "list1"
   ]
  },
  {
   "cell_type": "code",
   "execution_count": 413,
   "id": "2435575b-d9e3-4e85-b950-f84c5709a6d9",
   "metadata": {},
   "outputs": [
    {
     "ename": "SyntaxError",
     "evalue": "invalid syntax (3096471691.py, line 1)",
     "output_type": "error",
     "traceback": [
      "\u001b[0;36m  Cell \u001b[0;32mIn[413], line 1\u001b[0;36m\u001b[0m\n\u001b[0;31m    2.isprime()\u001b[0m\n\u001b[0m      ^\u001b[0m\n\u001b[0;31mSyntaxError\u001b[0m\u001b[0;31m:\u001b[0m invalid syntax\n"
     ]
    }
   ],
   "source": []
  },
  {
   "cell_type": "code",
   "execution_count": 436,
   "id": "a034e2c1-e706-46d8-8c85-9c86b32ff4b9",
   "metadata": {},
   "outputs": [],
   "source": [
    "# Example 3: Create a list of all the possible combinations of 2 elements from a list\n",
    "numbers = [1, 2, 3, 4, 5]\n",
    "list1=[]\n",
    "for i in numbers:\n",
    "    for j in range(i+1,len(numbers)):\n",
    "        if(i>0) and(j>0):\n",
    "            list1.append([i,j])\n",
    "            \n",
    "        "
   ]
  },
  {
   "cell_type": "code",
   "execution_count": 437,
   "id": "364850fb-ea49-4c89-837c-b2522903f556",
   "metadata": {},
   "outputs": [
    {
     "data": {
      "text/plain": [
       "[[1, 2], [1, 3], [1, 4], [2, 3], [2, 4], [3, 4]]"
      ]
     },
     "execution_count": 437,
     "metadata": {},
     "output_type": "execute_result"
    }
   ],
   "source": [
    "list1"
   ]
  },
  {
   "cell_type": "code",
   "execution_count": 456,
   "id": "f9cb2e26-938e-4960-bd4a-de1d4fef5351",
   "metadata": {},
   "outputs": [],
   "source": [
    "# Example 3: Create a list of all the possible combinations of 2 elements from a list\n",
    "numbers = [-2,-1,0,1, 2, 3, 4, 5]\n",
    "list1=[]\n",
    "for i in range(len(numbers)):\n",
    "    for j in range(i+1,len(numbers)):\n",
    "        if(numbers[i]>0) and(numbers[j]>0):\n",
    "            list1.append([numbers[i],numbers[j]])\n",
    "            \n",
    "      "
   ]
  },
  {
   "cell_type": "code",
   "execution_count": 457,
   "id": "36f98276-c95b-41e7-806c-4d9af692831d",
   "metadata": {},
   "outputs": [
    {
     "data": {
      "text/plain": [
       "[[1, 2],\n",
       " [1, 3],\n",
       " [1, 4],\n",
       " [1, 5],\n",
       " [2, 3],\n",
       " [2, 4],\n",
       " [2, 5],\n",
       " [3, 4],\n",
       " [3, 5],\n",
       " [4, 5]]"
      ]
     },
     "execution_count": 457,
     "metadata": {},
     "output_type": "execute_result"
    }
   ],
   "source": [
    "list1"
   ]
  },
  {
   "cell_type": "code",
   "execution_count": null,
   "id": "ca6d81a7-08c4-4935-b9e5-d589b924f9f7",
   "metadata": {},
   "outputs": [],
   "source": []
  }
 ],
 "metadata": {
  "kernelspec": {
   "display_name": "Python 3 (ipykernel)",
   "language": "python",
   "name": "python3"
  },
  "language_info": {
   "codemirror_mode": {
    "name": "ipython",
    "version": 3
   },
   "file_extension": ".py",
   "mimetype": "text/x-python",
   "name": "python",
   "nbconvert_exporter": "python",
   "pygments_lexer": "ipython3",
   "version": "3.10.8"
  }
 },
 "nbformat": 4,
 "nbformat_minor": 5
}
