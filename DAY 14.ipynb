{
 "cells": [
  {
   "cell_type": "markdown",
   "id": "fd358563-7aa2-488f-a5e5-6fc1dac04c51",
   "metadata": {},
   "source": [
    "#THREADING"
   ]
  },
  {
   "cell_type": "code",
   "execution_count": 3,
   "id": "472cc0ec-500d-4f27-821d-9fdf10b570d6",
   "metadata": {},
   "outputs": [],
   "source": [
    "#Suppose we are downloading movie and we want another video to be downloaded it is not like that after movie is download\n",
    "#then only video will start to download instead both will be downloading at same time"
   ]
  },
  {
   "cell_type": "code",
   "execution_count": 4,
   "id": "f5270d76-bc32-466d-a74c-ad7a993e6ead",
   "metadata": {},
   "outputs": [],
   "source": [
    "#Also if we have quad core that is four core computer then we can run four diffrent task at one time\n",
    "#suppose we want to run another program in same one core then concept of threading can be used"
   ]
  },
  {
   "cell_type": "code",
   "execution_count": 17,
   "id": "f343d44f-9757-4c9c-90f6-8e96e06d19a3",
   "metadata": {},
   "outputs": [],
   "source": [
    "import threading"
   ]
  },
  {
   "cell_type": "code",
   "execution_count": 8,
   "id": "ccd968e5-85bd-49a6-9f28-9b831606d856",
   "metadata": {},
   "outputs": [],
   "source": [
    "def test(id):\n",
    "    print(\"This is my test id %d \" %id)"
   ]
  },
  {
   "cell_type": "code",
   "execution_count": 9,
   "id": "75f7e375-71cb-446a-a427-14409806a0df",
   "metadata": {},
   "outputs": [
    {
     "name": "stdout",
     "output_type": "stream",
     "text": [
      "This is my test id 12 \n"
     ]
    }
   ],
   "source": [
    "test(12)"
   ]
  },
  {
   "cell_type": "code",
   "execution_count": 10,
   "id": "ebcd4e46-9f12-428a-8b12-8f4b7de37b1d",
   "metadata": {},
   "outputs": [
    {
     "name": "stdout",
     "output_type": "stream",
     "text": [
      "This is my test id 24 \n"
     ]
    }
   ],
   "source": [
    "test(24)"
   ]
  },
  {
   "cell_type": "code",
   "execution_count": 11,
   "id": "0bf7345f-b355-484d-bb3c-e043630f8cc8",
   "metadata": {},
   "outputs": [
    {
     "name": "stdout",
     "output_type": "stream",
     "text": [
      "This is my test id 15 \n"
     ]
    }
   ],
   "source": [
    "test(15)"
   ]
  },
  {
   "cell_type": "code",
   "execution_count": 12,
   "id": "6fb2ee70-e570-40c9-be16-de44c78a226b",
   "metadata": {},
   "outputs": [
    {
     "name": "stdout",
     "output_type": "stream",
     "text": [
      "This is my test id 45 \n"
     ]
    }
   ],
   "source": [
    "test(45)"
   ]
  },
  {
   "cell_type": "code",
   "execution_count": 13,
   "id": "8824f160-af78-4f6a-a1ed-b289058e7e8f",
   "metadata": {},
   "outputs": [],
   "source": [
    "#So what if i want to call all id's together want execute all test(12) test(24) test(15) test(45) all at one timw"
   ]
  },
  {
   "cell_type": "code",
   "execution_count": 18,
   "id": "710b67a1-9ad9-46ee-8433-1fda32f3b1d2",
   "metadata": {},
   "outputs": [],
   "source": [
    "thred = [threading.Thread(target=test,args=(i,)) for i in [12,24,15,45]]"
   ]
  },
  {
   "cell_type": "code",
   "execution_count": 19,
   "id": "97c8d193-9054-4f51-b028-1cae171124d8",
   "metadata": {},
   "outputs": [
    {
     "data": {
      "text/plain": [
       "[<Thread(Thread-5 (test), initial)>,\n",
       " <Thread(Thread-6 (test), initial)>,\n",
       " <Thread(Thread-7 (test), initial)>,\n",
       " <Thread(Thread-8 (test), initial)>]"
      ]
     },
     "execution_count": 19,
     "metadata": {},
     "output_type": "execute_result"
    }
   ],
   "source": [
    "thred"
   ]
  },
  {
   "cell_type": "code",
   "execution_count": 21,
   "id": "bd7eba23-709f-4921-b0ce-bb1ee754ec6b",
   "metadata": {},
   "outputs": [
    {
     "name": "stdout",
     "output_type": "stream",
     "text": [
      "This is my test id 12 \n",
      "This is my test id 24 \n",
      "This is my test id 15 \n",
      "This is my test id 45 \n"
     ]
    }
   ],
   "source": [
    "for j in thred:\n",
    "    j.start()"
   ]
  },
  {
   "cell_type": "code",
   "execution_count": 5,
   "id": "b7eecde1-2f23-47c6-b286-05265637e4a3",
   "metadata": {},
   "outputs": [],
   "source": [
    "import urllib.request\n",
    "def file_download(url,filename):\n",
    "    urllib.request.urlretrieve(url,filename)"
   ]
  },
  {
   "cell_type": "code",
   "execution_count": 9,
   "id": "ba302027-a17b-4de6-bca5-e708a87d5474",
   "metadata": {},
   "outputs": [],
   "source": [
    "file_download('https://raw.githubusercontent.com/itsfoss/text-files/master/agatha.txt' , \"StoreDownloadDataFile.txt\")\n",
    "#So new file has been created with name StoreDownloadDataFile"
   ]
  },
  {
   "cell_type": "code",
   "execution_count": 11,
   "id": "b0489b64-5a25-43ff-9df0-69259f1d1891",
   "metadata": {},
   "outputs": [],
   "source": [
    "#Above method will fetch data from one website at one time but what is i have multi url so concept of multithreading comes\n"
   ]
  },
  {
   "cell_type": "code",
   "execution_count": 12,
   "id": "0a7afdb7-d716-46d4-bd20-b3cb16291617",
   "metadata": {},
   "outputs": [],
   "source": [
    "url_list = ['https://raw.githubusercontent.com/itsfoss/text-files/master/agatha.txt' , 'https://raw.githubusercontent.com/itsfoss/text-files/master/sherlock.txt' ,'https://raw.githubusercontent.com/itsfoss/text-files/master/sample_log_file.txt' ]"
   ]
  },
  {
   "cell_type": "code",
   "execution_count": 13,
   "id": "12991c92-7657-4bbe-b0d6-6fa0a19f9461",
   "metadata": {},
   "outputs": [
    {
     "data": {
      "text/plain": [
       "['https://raw.githubusercontent.com/itsfoss/text-files/master/agatha.txt',\n",
       " 'https://raw.githubusercontent.com/itsfoss/text-files/master/sherlock.txt',\n",
       " 'https://raw.githubusercontent.com/itsfoss/text-files/master/sample_log_file.txt']"
      ]
     },
     "execution_count": 13,
     "metadata": {},
     "output_type": "execute_result"
    }
   ],
   "source": [
    "url_list"
   ]
  },
  {
   "cell_type": "code",
   "execution_count": 14,
   "id": "fa9c66d1-2aca-44f8-ae6d-29eee27f87be",
   "metadata": {},
   "outputs": [],
   "source": [
    "data_file_list = ['data1.txt', 'data2.txt','data3.txt']"
   ]
  },
  {
   "cell_type": "code",
   "execution_count": 20,
   "id": "44aaf711-53b7-4966-91aa-6ba309a46258",
   "metadata": {},
   "outputs": [],
   "source": [
    "thred = [threading.Thread(target=file_download,args=(url_list[i],data_file_list[i])) for i in range(len(url_list))]"
   ]
  },
  {
   "cell_type": "code",
   "execution_count": 21,
   "id": "de9df582-9be3-419a-9a63-01be8c9ea4f2",
   "metadata": {},
   "outputs": [
    {
     "data": {
      "text/plain": [
       "[<Thread(Thread-6 (file_download), initial)>,\n",
       " <Thread(Thread-7 (file_download), initial)>,\n",
       " <Thread(Thread-8 (file_download), initial)>]"
      ]
     },
     "execution_count": 21,
     "metadata": {},
     "output_type": "execute_result"
    }
   ],
   "source": [
    "thred"
   ]
  },
  {
   "cell_type": "code",
   "execution_count": 22,
   "id": "878ff64e-d9f1-4b04-a834-8b43b8f4a316",
   "metadata": {},
   "outputs": [],
   "source": [
    "for j in thred:\n",
    "    j.start()"
   ]
  },
  {
   "cell_type": "code",
   "execution_count": 32,
   "id": "03c73f3c-b414-4d7e-96ca-078164b0be37",
   "metadata": {},
   "outputs": [],
   "source": [
    "import time"
   ]
  },
  {
   "cell_type": "code",
   "execution_count": 24,
   "id": "c3721c15-7dfb-412f-a53b-7fc0ed42eddc",
   "metadata": {},
   "outputs": [],
   "source": [
    "def func(x):\n",
    "    for i in range(10):\n",
    "        print(f\"Func print the value of x - {x} and print the value of i - {i}\") "
   ]
  },
  {
   "cell_type": "code",
   "execution_count": 40,
   "id": "69d09dd7-4e68-4caf-a4c0-318113becc9d",
   "metadata": {},
   "outputs": [
    {
     "name": "stdout",
     "output_type": "stream",
     "text": [
      "Func print the value of x - 2 and print the value of i - 0\n",
      "Func print the value of x - 2 and print the value of i - 1\n",
      "Func print the value of x - 2 and print the value of i - 2\n",
      "Func print the value of x - 2 and print the value of i - 3\n",
      "Func print the value of x - 2 and print the value of i - 4\n",
      "Func print the value of x - 2 and print the value of i - 5\n",
      "Func print the value of x - 2 and print the value of i - 6\n",
      "Func print the value of x - 2 and print the value of i - 7\n",
      "Func print the value of x - 2 and print the value of i - 8\n",
      "Func print the value of x - 2 and print the value of i - 9\n",
      "Over time consumed is 0.0009360313415527344\n"
     ]
    }
   ],
   "source": [
    "start=time.time()\n",
    "func(2)\n",
    "stop=time.time()\n",
    "print(f\"Over time consumed is {stop-start}\")"
   ]
  },
  {
   "cell_type": "code",
   "execution_count": 44,
   "id": "6b56922f-c808-4fbc-b6a1-0df23c44816d",
   "metadata": {},
   "outputs": [
    {
     "name": "stdout",
     "output_type": "stream",
     "text": [
      "Func print the value of x - 2 and print the value of i - 0\n",
      "Func print the value of x - 2 and print the value of i - 1\n",
      "Func print the value of x - 2 and print the value of i - 2\n",
      "Func print the value of x - 2 and print the value of i - 3\n",
      "Func print the value of x - 2 and print the value of i - 4\n",
      "Func print the value of x - 2 and print the value of i - 5\n",
      "Func print the value of x - 2 and print the value of i - 6\n",
      "Func print the value of x - 2 and print the value of i - 7\n",
      "Func print the value of x - 2 and print the value of i - 8\n",
      "Func print the value of x - 2 and print the value of i - 9\n",
      "Over time consumed is 0.0029380321502685547\n"
     ]
    }
   ],
   "source": [
    "def func(i):\n",
    "    print(f\"Func print the value of x - 2 and print the value of i - {i}\") \n",
    "    \n",
    "start=time.time()\n",
    "thred = [threading.Thread(target=func,args=(i,)) for i in range(10)]\n",
    "for j in thred:\n",
    "    j.start()\n",
    "stop=time.time()\n",
    "print(f\"Over time consumed is {stop-start}\")"
   ]
  },
  {
   "cell_type": "code",
   "execution_count": 45,
   "id": "67ea394c-bae9-4652-952c-8cb6ee5a793b",
   "metadata": {},
   "outputs": [],
   "source": [
    "def func(x):\n",
    "    for i in range(10):\n",
    "        print(f\"Func print the value of x - {x} and print the value of i - {i}\") \n",
    "        time.sleep(1)"
   ]
  },
  {
   "cell_type": "code",
   "execution_count": 46,
   "id": "80fa7c04-f809-4248-8234-29930b1b0a28",
   "metadata": {},
   "outputs": [
    {
     "name": "stdout",
     "output_type": "stream",
     "text": [
      "Func print the value of x - 10 and print the value of i - 0\n",
      "Func print the value of x - 10 and print the value of i - 1\n",
      "Func print the value of x - 10 and print the value of i - 2\n",
      "Func print the value of x - 10 and print the value of i - 3\n",
      "Func print the value of x - 10 and print the value of i - 4\n",
      "Func print the value of x - 10 and print the value of i - 5\n",
      "Func print the value of x - 10 and print the value of i - 6\n",
      "Func print the value of x - 10 and print the value of i - 7\n",
      "Func print the value of x - 10 and print the value of i - 8\n",
      "Func print the value of x - 10 and print the value of i - 9\n"
     ]
    }
   ],
   "source": [
    "func(10)"
   ]
  },
  {
   "cell_type": "code",
   "execution_count": 49,
   "id": "daaa19d7-a95e-42a4-a7ed-7afb781891e5",
   "metadata": {},
   "outputs": [],
   "source": [
    "thred = [threading.Thread(target=func,args=(i,)) for i in [100,10,20,5]]"
   ]
  },
  {
   "cell_type": "code",
   "execution_count": 50,
   "id": "799fb7ba-e0c1-4982-adc8-ce9546598b05",
   "metadata": {},
   "outputs": [
    {
     "name": "stdout",
     "output_type": "stream",
     "text": [
      "Func print the value of x - 100 and print the value of i - 0\n",
      "Func print the value of x - 10 and print the value of i - 0\n",
      "Func print the value of x - 20 and print the value of i - 0\n",
      "Func print the value of x - 5 and print the value of i - 0\n",
      "Func print the value of x - 100 and print the value of i - 1\n",
      "Func print the value of x - 20 and print the value of i - 1\n",
      "Func print the value of x - 10 and print the value of i - 1\n",
      "Func print the value of x - 5 and print the value of i - 1\n",
      "Func print the value of x - 100 and print the value of i - 2\n",
      "Func print the value of x - 20 and print the value of i - 2\n",
      "Func print the value of x - 10 and print the value of i - 2\n",
      "Func print the value of x - 5 and print the value of i - 2\n",
      "Func print the value of x - 100 and print the value of i - 3\n",
      "Func print the value of x - 10 and print the value of i - 3\n",
      "Func print the value of x - 20 and print the value of i - 3\n",
      "Func print the value of x - 5 and print the value of i - 3\n",
      "Func print the value of x - 100 and print the value of i - 4\n",
      "Func print the value of x - 10 and print the value of i - 4\n",
      "Func print the value of x - 20 and print the value of i - 4\n",
      "Func print the value of x - 5 and print the value of i - 4\n",
      "Func print the value of x - 100 and print the value of i - 5\n",
      "Func print the value of x - 10 and print the value of i - 5\n",
      "Func print the value of x - 20 and print the value of i - 5\n",
      "Func print the value of x - 5 and print the value of i - 5\n",
      "Func print the value of x - 100 and print the value of i - 6\n",
      "Func print the value of x - 10 and print the value of i - 6\n",
      "Func print the value of x - 20 and print the value of i - 6\n",
      "Func print the value of x - 5 and print the value of i - 6\n",
      "Func print the value of x - 100 and print the value of i - 7\n",
      "Func print the value of x - 10 and print the value of i - 7\n",
      "Func print the value of x - 20 and print the value of i - 7\n",
      "Func print the value of x - 5 and print the value of i - 7\n",
      "Func print the value of x - 100 and print the value of i - 8\n",
      "Func print the value of x - 10 and print the value of i - 8\n",
      "Func print the value of x - 20 and print the value of i - 8\n",
      "Func print the value of x - 5 and print the value of i - 8\n",
      "Func print the value of x - 100 and print the value of i - 9\n",
      "Func print the value of x - 10 and print the value of i - 9\n",
      "Func print the value of x - 20 and print the value of i - 9\n",
      "Func print the value of x - 5 and print the value of i - 9\n"
     ]
    }
   ],
   "source": [
    "for j in thred:\n",
    "    j.start()"
   ]
  },
  {
   "cell_type": "code",
   "execution_count": 53,
   "id": "b71c6f0a-be77-4e6e-9b97-46ab37f0ed82",
   "metadata": {},
   "outputs": [],
   "source": [
    "###Here we have 4 threads so like normal function it is not exceuting like for 100 value all 0-9 then for 10 0-9 then \n",
    "#for 20 0-9 and then for 5 0-9 instead it is getting executed 100 for i=0 then 10 for i=0 then 20 for i=0 and then\n",
    "#5 for i=0 then again 100 for i=1 then 10 for i-1 and so on\n",
    "\n",
    "#Thats the beauty of threading it exceutes all function at one time and gives eqaul chance for all inputs and excutes one\n",
    "#by one"
   ]
  },
  {
   "cell_type": "code",
   "execution_count": 70,
   "id": "cb0507e2-337a-44bb-885f-39009475b60a",
   "metadata": {},
   "outputs": [],
   "source": [
    "shared_var=0\n",
    "lock_var=threading.Lock()\n",
    "def fun(x):\n",
    "    global shared_var\n",
    "    with lock_var:\n",
    "        shared_var = shared_var + 1\n",
    "        print(f\"Value of x - {x} and value of shared_var - {shared_var} \")\n",
    "        time.sleep(1)"
   ]
  },
  {
   "cell_type": "code",
   "execution_count": 58,
   "id": "3ca1566a-b3dc-4636-a843-4ad45edccdd1",
   "metadata": {},
   "outputs": [
    {
     "name": "stdout",
     "output_type": "stream",
     "text": [
      "Value of x - 1 and value of shared_var - 1 \n"
     ]
    }
   ],
   "source": [
    "fun(1)"
   ]
  },
  {
   "cell_type": "code",
   "execution_count": 59,
   "id": "10b8a71c-d829-4164-a4f4-185a9946e2a9",
   "metadata": {},
   "outputs": [
    {
     "name": "stdout",
     "output_type": "stream",
     "text": [
      "Value of x - 2 and value of shared_var - 2 \n"
     ]
    }
   ],
   "source": [
    "fun(2)"
   ]
  },
  {
   "cell_type": "code",
   "execution_count": 60,
   "id": "6aa18814-c0fe-439a-b1b4-456807c06a0f",
   "metadata": {},
   "outputs": [
    {
     "name": "stdout",
     "output_type": "stream",
     "text": [
      "Value of x - 3 and value of shared_var - 3 \n"
     ]
    }
   ],
   "source": [
    "fun(3)"
   ]
  },
  {
   "cell_type": "code",
   "execution_count": 61,
   "id": "3fbc2cd6-4538-408e-b63f-9b695bf6dcde",
   "metadata": {},
   "outputs": [
    {
     "name": "stdout",
     "output_type": "stream",
     "text": [
      "Value of x - 5 and value of shared_var - 4 \n"
     ]
    }
   ],
   "source": [
    "fun(5)"
   ]
  },
  {
   "cell_type": "code",
   "execution_count": 62,
   "id": "d6041a66-c8f9-457f-a5cc-6f8551a2afdf",
   "metadata": {},
   "outputs": [
    {
     "name": "stdout",
     "output_type": "stream",
     "text": [
      "Value of x - 11 and value of shared_var - 5 \n"
     ]
    }
   ],
   "source": [
    "fun(11)"
   ]
  },
  {
   "cell_type": "code",
   "execution_count": 72,
   "id": "5a36f4fa-f8f3-4934-afdf-1e78c8c7a598",
   "metadata": {},
   "outputs": [],
   "source": [
    "thred=[threading.Thread(target=fun,args=(i,)) for i in [1,2,3,5,11]]"
   ]
  },
  {
   "cell_type": "code",
   "execution_count": 68,
   "id": "e736eae7-ebc5-442e-97b7-4ee4f0b9abb8",
   "metadata": {},
   "outputs": [
    {
     "data": {
      "text/plain": [
       "[<Thread(Thread-50 (fun), initial)>,\n",
       " <Thread(Thread-51 (fun), initial)>,\n",
       " <Thread(Thread-52 (fun), initial)>,\n",
       " <Thread(Thread-53 (fun), initial)>,\n",
       " <Thread(Thread-54 (fun), initial)>]"
      ]
     },
     "execution_count": 68,
     "metadata": {},
     "output_type": "execute_result"
    }
   ],
   "source": [
    "thred"
   ]
  },
  {
   "cell_type": "code",
   "execution_count": 73,
   "id": "fa635aff-f9c7-430e-8933-65b134f71ede",
   "metadata": {},
   "outputs": [
    {
     "name": "stdout",
     "output_type": "stream",
     "text": [
      "Value of x - 1 and value of shared_var - 1 \n",
      "Value of x - 2 and value of shared_var - 2 \n",
      "Value of x - 3 and value of shared_var - 3 \n",
      "Value of x - 5 and value of shared_var - 4 \n",
      "Value of x - 11 and value of shared_var - 5 \n"
     ]
    }
   ],
   "source": [
    "for j in thred:\n",
    "    j.start()"
   ]
  },
  {
   "cell_type": "code",
   "execution_count": null,
   "id": "ea45c3c5-dbe5-4c47-8600-18977651273f",
   "metadata": {},
   "outputs": [],
   "source": []
  }
 ],
 "metadata": {
  "kernelspec": {
   "display_name": "Python 3 (ipykernel)",
   "language": "python",
   "name": "python3"
  },
  "language_info": {
   "codemirror_mode": {
    "name": "ipython",
    "version": 3
   },
   "file_extension": ".py",
   "mimetype": "text/x-python",
   "name": "python",
   "nbconvert_exporter": "python",
   "pygments_lexer": "ipython3",
   "version": "3.10.8"
  }
 },
 "nbformat": 4,
 "nbformat_minor": 5
}
