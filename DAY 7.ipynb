{
 "cells": [
  {
   "cell_type": "markdown",
   "id": "844c0283-09c4-4b52-86fc-0091eee85248",
   "metadata": {},
   "source": [
    "###LAMBDA FUNCTION\n"
   ]
  },
  {
   "cell_type": "code",
   "execution_count": 1,
   "id": "776d0808-f463-4577-a808-e6828431bb00",
   "metadata": {},
   "outputs": [],
   "source": [
    "n=3\n",
    "p=2"
   ]
  },
  {
   "cell_type": "code",
   "execution_count": 2,
   "id": "491c7e57-2d15-4fee-8a81-0f06d8468e05",
   "metadata": {},
   "outputs": [],
   "source": [
    "def test(n,p):\n",
    "    return (n**p)"
   ]
  },
  {
   "cell_type": "code",
   "execution_count": 3,
   "id": "eed3e8d8-b3cd-4174-9708-f2714b538eee",
   "metadata": {},
   "outputs": [
    {
     "data": {
      "text/plain": [
       "8"
      ]
     },
     "execution_count": 3,
     "metadata": {},
     "output_type": "execute_result"
    }
   ],
   "source": [
    "test(2,3)"
   ]
  },
  {
   "cell_type": "code",
   "execution_count": 4,
   "id": "f40ff071-b048-4df9-b080-e8b0b1f844c4",
   "metadata": {},
   "outputs": [
    {
     "data": {
      "text/plain": [
       "64"
      ]
     },
     "execution_count": 4,
     "metadata": {},
     "output_type": "execute_result"
    }
   ],
   "source": [
    "test(4,3)"
   ]
  },
  {
   "cell_type": "code",
   "execution_count": 10,
   "id": "5f0058ae-3009-4978-b59a-8aae3a469f87",
   "metadata": {},
   "outputs": [],
   "source": [
    "a=lambda n,p:n**p #Kind of short hand function"
   ]
  },
  {
   "cell_type": "code",
   "execution_count": 7,
   "id": "d91f5fa1-075a-44af-91ce-e64beef2ac74",
   "metadata": {},
   "outputs": [
    {
     "data": {
      "text/plain": [
       "function"
      ]
     },
     "execution_count": 7,
     "metadata": {},
     "output_type": "execute_result"
    }
   ],
   "source": [
    "type(a)"
   ]
  },
  {
   "cell_type": "code",
   "execution_count": 11,
   "id": "fdee400a-ba38-43a7-90c0-65fcf186ca1c",
   "metadata": {},
   "outputs": [
    {
     "data": {
      "text/plain": [
       "64"
      ]
     },
     "execution_count": 11,
     "metadata": {},
     "output_type": "execute_result"
    }
   ],
   "source": [
    "a(4,3)"
   ]
  },
  {
   "cell_type": "code",
   "execution_count": 16,
   "id": "4e4536c8-f842-4fed-8d3b-d1cfb9f1e1fa",
   "metadata": {},
   "outputs": [],
   "source": [
    "add=lambda a,b:a+b #Short hand fucntion or one line function"
   ]
  },
  {
   "cell_type": "code",
   "execution_count": 17,
   "id": "e540d0eb-da91-4c50-91fc-5c3c9a1599ce",
   "metadata": {},
   "outputs": [
    {
     "data": {
      "text/plain": [
       "34"
      ]
     },
     "execution_count": 17,
     "metadata": {},
     "output_type": "execute_result"
    }
   ],
   "source": [
    "add(15,19)"
   ]
  },
  {
   "cell_type": "code",
   "execution_count": 20,
   "id": "a6d7fb1f-2e67-451e-b4dc-5b300147db79",
   "metadata": {},
   "outputs": [],
   "source": [
    "conversion=lambda celsius:(celsius*9/5)+32"
   ]
  },
  {
   "cell_type": "code",
   "execution_count": 22,
   "id": "378dccc9-1092-42a1-98ca-b41a73ed1eea",
   "metadata": {},
   "outputs": [
    {
     "data": {
      "text/plain": [
       "262.4"
      ]
     },
     "execution_count": 22,
     "metadata": {},
     "output_type": "execute_result"
    }
   ],
   "source": [
    "conversion(128)"
   ]
  },
  {
   "cell_type": "code",
   "execution_count": 24,
   "id": "b08ce716-fdd2-4515-b43a-2c5d35333f74",
   "metadata": {},
   "outputs": [
    {
     "data": {
      "text/plain": [
       "262.4"
      ]
     },
     "execution_count": 24,
     "metadata": {},
     "output_type": "execute_result"
    }
   ],
   "source": [
    "conversion(celsius=128)"
   ]
  },
  {
   "cell_type": "code",
   "execution_count": 25,
   "id": "56e2edce-e941-4ec2-8e30-78e75b9a902b",
   "metadata": {},
   "outputs": [
    {
     "data": {
      "text/plain": [
       "32.0"
      ]
     },
     "execution_count": 25,
     "metadata": {},
     "output_type": "execute_result"
    }
   ],
   "source": [
    "conversion(0)"
   ]
  },
  {
   "cell_type": "code",
   "execution_count": 32,
   "id": "8c90c804-65ca-4e1a-8c97-004824586c26",
   "metadata": {},
   "outputs": [],
   "source": [
    "max=lambda x,y:x if(x>y) else y"
   ]
  },
  {
   "cell_type": "code",
   "execution_count": 33,
   "id": "887fcccc-5ea2-4e6b-b646-a474cb4ea0ed",
   "metadata": {},
   "outputs": [
    {
     "data": {
      "text/plain": [
       "20"
      ]
     },
     "execution_count": 33,
     "metadata": {},
     "output_type": "execute_result"
    }
   ],
   "source": [
    "max(10,20)"
   ]
  },
  {
   "cell_type": "code",
   "execution_count": 34,
   "id": "232b7ee8-45f5-484d-b02f-d2e089424d9a",
   "metadata": {},
   "outputs": [
    {
     "data": {
      "text/plain": [
       "40"
      ]
     },
     "execution_count": 34,
     "metadata": {},
     "output_type": "execute_result"
    }
   ],
   "source": [
    "max(40,30)"
   ]
  },
  {
   "cell_type": "code",
   "execution_count": 36,
   "id": "42ba4589-be78-4236-bd5f-d8612edd3778",
   "metadata": {},
   "outputs": [],
   "source": [
    "string=\"pwskills\"\n"
   ]
  },
  {
   "cell_type": "code",
   "execution_count": 37,
   "id": "7a5d29e5-a613-40db-b5ee-ff13d337ecba",
   "metadata": {},
   "outputs": [
    {
     "data": {
      "text/plain": [
       "8"
      ]
     },
     "execution_count": 37,
     "metadata": {},
     "output_type": "execute_result"
    }
   ],
   "source": [
    "len(string)"
   ]
  },
  {
   "cell_type": "code",
   "execution_count": 46,
   "id": "e0852df7-037c-477c-a065-707b8ef46fef",
   "metadata": {},
   "outputs": [],
   "source": [
    "length=lambda x:len(x)"
   ]
  },
  {
   "cell_type": "code",
   "execution_count": 47,
   "id": "e482cdea-3a4a-4a52-abb8-5d17034c4d80",
   "metadata": {},
   "outputs": [
    {
     "data": {
      "text/plain": [
       "8"
      ]
     },
     "execution_count": 47,
     "metadata": {},
     "output_type": "execute_result"
    }
   ],
   "source": [
    "length(string)"
   ]
  },
  {
   "cell_type": "markdown",
   "id": "aa7347e5-2116-4fa3-9699-61b0c0a1bb9b",
   "metadata": {},
   "source": [
    "###"
   ]
  },
  {
   "cell_type": "code",
   "execution_count": 52,
   "id": "219fd431-3ca6-4850-861f-2e8518e3407d",
   "metadata": {},
   "outputs": [],
   "source": [
    "l=[1,2,3,4,45,5]"
   ]
  },
  {
   "cell_type": "code",
   "execution_count": 53,
   "id": "58b8bbd4-930f-4f6a-83ce-a37a018691a7",
   "metadata": {},
   "outputs": [],
   "source": [
    "lst=[i*i for i in l]"
   ]
  },
  {
   "cell_type": "code",
   "execution_count": 54,
   "id": "16aab6a3-4bff-4d38-ab21-460e83544c20",
   "metadata": {},
   "outputs": [
    {
     "data": {
      "text/plain": [
       "[1, 4, 9, 16, 2025, 25]"
      ]
     },
     "execution_count": 54,
     "metadata": {},
     "output_type": "execute_result"
    }
   ],
   "source": [
    "lst"
   ]
  },
  {
   "cell_type": "markdown",
   "id": "fa908305-9bb0-4e4a-8cf9-3d4fbee0fda2",
   "metadata": {},
   "source": [
    "###Map"
   ]
  },
  {
   "cell_type": "code",
   "execution_count": 55,
   "id": "a638ce21-e17b-481d-8574-66d6c1bc2cdf",
   "metadata": {},
   "outputs": [],
   "source": [
    "def test(x):\n",
    "    return x**2"
   ]
  },
  {
   "cell_type": "code",
   "execution_count": 56,
   "id": "7e401625-4492-4dd5-80dc-a01af5d6fe1d",
   "metadata": {},
   "outputs": [
    {
     "data": {
      "text/plain": [
       "<map at 0x7f9f306ebfd0>"
      ]
     },
     "execution_count": 56,
     "metadata": {},
     "output_type": "execute_result"
    }
   ],
   "source": [
    "map(test,l)"
   ]
  },
  {
   "cell_type": "code",
   "execution_count": 60,
   "id": "5d168ef6-db73-4b71-932a-3adabc3fcae4",
   "metadata": {},
   "outputs": [],
   "source": [
    "l1=list(map(test,l)) #Map takes function and data structure as argument operates on each elemnt of data structure \n",
    "#one by one and gives output"
   ]
  },
  {
   "cell_type": "code",
   "execution_count": 61,
   "id": "ad615edd-a0fe-4dbb-b695-5ed2994992f5",
   "metadata": {},
   "outputs": [
    {
     "data": {
      "text/plain": [
       "[1, 4, 9, 16, 2025, 25]"
      ]
     },
     "execution_count": 61,
     "metadata": {},
     "output_type": "execute_result"
    }
   ],
   "source": [
    "l1"
   ]
  },
  {
   "cell_type": "code",
   "execution_count": 62,
   "id": "66639702-62ae-44d7-bf82-51b5228e0cc6",
   "metadata": {},
   "outputs": [],
   "source": [
    "#combining lambda and map function"
   ]
  },
  {
   "cell_type": "code",
   "execution_count": 68,
   "id": "30ace40f-9b95-4bb9-8c4d-ffcb3be263a7",
   "metadata": {},
   "outputs": [],
   "source": [
    "l1=list(map(lambda x:x**2,l))"
   ]
  },
  {
   "cell_type": "code",
   "execution_count": 69,
   "id": "46a4af3e-1c40-4372-8cb1-13f368d0cbf7",
   "metadata": {},
   "outputs": [
    {
     "data": {
      "text/plain": [
       "[1, 4, 9, 16, 2025, 25]"
      ]
     },
     "execution_count": 69,
     "metadata": {},
     "output_type": "execute_result"
    }
   ],
   "source": [
    "l1"
   ]
  },
  {
   "cell_type": "code",
   "execution_count": 79,
   "id": "c4f90493-95a1-4142-b8c0-e661137f5893",
   "metadata": {},
   "outputs": [],
   "source": [
    "#Use map and lambda function to get odd numbers in list as a new list\n",
    "lst=[1,2,3,4,5,6,7,8,9]\n"
   ]
  },
  {
   "cell_type": "code",
   "execution_count": 100,
   "id": "76ff7eb4-058d-42a2-ae52-92352ae5fd91",
   "metadata": {},
   "outputs": [],
   "source": [
    "lst1=list((map(lambda x:x if (x%2==0) else x,lst)))"
   ]
  },
  {
   "cell_type": "code",
   "execution_count": 99,
   "id": "1345412c-ab1f-48c5-9439-e33a7e2c036c",
   "metadata": {},
   "outputs": [
    {
     "data": {
      "text/plain": [
       "[1, 2, 3, 4, 5, 6, 7, 8, 9]"
      ]
     },
     "execution_count": 99,
     "metadata": {},
     "output_type": "execute_result"
    }
   ],
   "source": [
    "lst1"
   ]
  },
  {
   "cell_type": "code",
   "execution_count": 83,
   "id": "6eca751d-56d9-4437-b726-7c2ea78be223",
   "metadata": {},
   "outputs": [
    {
     "data": {
      "text/plain": [
       "list"
      ]
     },
     "execution_count": 83,
     "metadata": {},
     "output_type": "execute_result"
    }
   ],
   "source": [
    "type(lst1)"
   ]
  },
  {
   "cell_type": "code",
   "execution_count": 86,
   "id": "51e97681-5af0-408b-abf1-e474d75e8854",
   "metadata": {},
   "outputs": [],
   "source": [
    "lst1=list(map(lambda x:x+10,lst))"
   ]
  },
  {
   "cell_type": "code",
   "execution_count": 88,
   "id": "b7fe10b2-627c-48b3-8885-6ac0de637e5b",
   "metadata": {},
   "outputs": [
    {
     "data": {
      "text/plain": [
       "[11, 12, 13, 14, 15, 16, 17, 18, 19]"
      ]
     },
     "execution_count": 88,
     "metadata": {},
     "output_type": "execute_result"
    }
   ],
   "source": [
    "lst1"
   ]
  },
  {
   "cell_type": "code",
   "execution_count": 101,
   "id": "d6a0c84f-3631-41ea-aefa-5cb9809bf15c",
   "metadata": {},
   "outputs": [],
   "source": [
    "lst1=list(map(lambda x:str(x),lst))"
   ]
  },
  {
   "cell_type": "code",
   "execution_count": 104,
   "id": "191367c4-e46b-412e-9905-9ade7ab4869f",
   "metadata": {},
   "outputs": [
    {
     "data": {
      "text/plain": [
       "['1', '2', '3', '4', '5', '6', '7', '8', '9']"
      ]
     },
     "execution_count": 104,
     "metadata": {},
     "output_type": "execute_result"
    }
   ],
   "source": [
    "lst1"
   ]
  },
  {
   "cell_type": "code",
   "execution_count": 105,
   "id": "79ceafe0-aacc-4e0d-b004-f9436c04f67d",
   "metadata": {},
   "outputs": [],
   "source": [
    "l1=[1,2,3,4,5]\n",
    "l2=[6,7,8,9,10]"
   ]
  },
  {
   "cell_type": "code",
   "execution_count": 127,
   "id": "bf4104a1-bff4-40c4-8c86-0e2053b234ce",
   "metadata": {},
   "outputs": [],
   "source": [
    "l3=list(map(lambda x,y:x+y,l1,l2))"
   ]
  },
  {
   "cell_type": "code",
   "execution_count": 128,
   "id": "5e6b1064-4612-4c84-9c34-0195142029bf",
   "metadata": {},
   "outputs": [
    {
     "data": {
      "text/plain": [
       "[7, 9, 11, 13, 15]"
      ]
     },
     "execution_count": 128,
     "metadata": {},
     "output_type": "execute_result"
    }
   ],
   "source": [
    "l3"
   ]
  },
  {
   "cell_type": "code",
   "execution_count": 125,
   "id": "63cd1d47-1b08-42d5-9c30-ec73b29377ce",
   "metadata": {},
   "outputs": [],
   "source": [
    "def add(l1,l2):\n",
    "    l=[]\n",
    "    for i in range(len(l1)):\n",
    "        l.append((l1[i]+l2[i]))\n",
    "    return (l)"
   ]
  },
  {
   "cell_type": "code",
   "execution_count": 126,
   "id": "f00578e7-2343-498a-817b-76245476ad91",
   "metadata": {},
   "outputs": [
    {
     "data": {
      "text/plain": [
       "[7, 9, 11, 13, 15]"
      ]
     },
     "execution_count": 126,
     "metadata": {},
     "output_type": "execute_result"
    }
   ],
   "source": [
    "add(l1,l2)"
   ]
  },
  {
   "cell_type": "code",
   "execution_count": 122,
   "id": "4f9280b9-9c0b-4225-b7bf-cfc269fe9507",
   "metadata": {},
   "outputs": [
    {
     "name": "stdout",
     "output_type": "stream",
     "text": [
      "7\n",
      "9\n",
      "11\n",
      "13\n",
      "15\n"
     ]
    }
   ],
   "source": [
    "for i in range(len(l1)):\n",
    "    print(l1[i]+l2[i])"
   ]
  },
  {
   "cell_type": "code",
   "execution_count": 129,
   "id": "6b28b0fe-bd6d-46a6-be58-58a377cbc727",
   "metadata": {},
   "outputs": [],
   "source": [
    "l3=list(map(lambda x,y:x+y,l1,l2))"
   ]
  },
  {
   "cell_type": "code",
   "execution_count": 130,
   "id": "5fda3fab-7556-4e6a-9c1e-73ea3bc0d192",
   "metadata": {},
   "outputs": [
    {
     "data": {
      "text/plain": [
       "[7, 9, 11, 13, 15]"
      ]
     },
     "execution_count": 130,
     "metadata": {},
     "output_type": "execute_result"
    }
   ],
   "source": [
    "l3"
   ]
  },
  {
   "cell_type": "code",
   "execution_count": 132,
   "id": "dd237546-227d-4aff-9b50-98eb58219387",
   "metadata": {},
   "outputs": [],
   "source": [
    "a=lambda x,y:x+y\n"
   ]
  },
  {
   "cell_type": "code",
   "execution_count": 133,
   "id": "44da3ecc-acb1-4185-b42b-96cf1a9da0b3",
   "metadata": {},
   "outputs": [],
   "source": [
    "l3=list(map(a,l1,l2))"
   ]
  },
  {
   "cell_type": "code",
   "execution_count": 134,
   "id": "2e1e4d38-0b6a-4993-bf0d-a9ee52bc4449",
   "metadata": {},
   "outputs": [
    {
     "data": {
      "text/plain": [
       "[7, 9, 11, 13, 15]"
      ]
     },
     "execution_count": 134,
     "metadata": {},
     "output_type": "execute_result"
    }
   ],
   "source": [
    "l3"
   ]
  },
  {
   "cell_type": "code",
   "execution_count": 139,
   "id": "a3ee4392-f61a-4168-bddc-93ce8abe0731",
   "metadata": {},
   "outputs": [],
   "source": [
    "def func(string):\n",
    "    return[i.upper() for i in string]"
   ]
  },
  {
   "cell_type": "code",
   "execution_count": 140,
   "id": "affd7cf0-e699-4375-a789-786f717d1bd7",
   "metadata": {},
   "outputs": [
    {
     "data": {
      "text/plain": [
       "['P', 'W', 'S', 'K', 'I', 'L', 'L', 'S']"
      ]
     },
     "execution_count": 140,
     "metadata": {},
     "output_type": "execute_result"
    }
   ],
   "source": [
    "func(\"PwSkills\")"
   ]
  },
  {
   "cell_type": "code",
   "execution_count": 141,
   "id": "59a29bad-2f1d-46d9-94a3-ed0c1e779858",
   "metadata": {},
   "outputs": [],
   "source": [
    "a=list(map(lambda x:x.upper(),string))"
   ]
  },
  {
   "cell_type": "code",
   "execution_count": 142,
   "id": "390b8969-9de9-44c6-a5e1-27856fdf126b",
   "metadata": {},
   "outputs": [
    {
     "data": {
      "text/plain": [
       "['P', 'W', 'S', 'K', 'I', 'L', 'L', 'S']"
      ]
     },
     "execution_count": 142,
     "metadata": {},
     "output_type": "execute_result"
    }
   ],
   "source": [
    "a"
   ]
  },
  {
   "cell_type": "markdown",
   "id": "9523d719-f633-4be3-8467-551fb1ccb2eb",
   "metadata": {},
   "source": [
    "###Reduce"
   ]
  },
  {
   "cell_type": "code",
   "execution_count": 143,
   "id": "53fa7995-7e48-475a-8611-8db2d5bf3520",
   "metadata": {},
   "outputs": [],
   "source": [
    "from functools import reduce"
   ]
  },
  {
   "cell_type": "code",
   "execution_count": 152,
   "id": "a31756d2-6737-4a05-85b2-6759c7720b3b",
   "metadata": {},
   "outputs": [],
   "source": [
    "l=[1,2,3,4,5]"
   ]
  },
  {
   "cell_type": "code",
   "execution_count": 145,
   "id": "2eb25945-5373-4b92-b690-e88888786485",
   "metadata": {},
   "outputs": [
    {
     "data": {
      "text/plain": [
       "15"
      ]
     },
     "execution_count": 145,
     "metadata": {},
     "output_type": "execute_result"
    }
   ],
   "source": [
    "sum(l)"
   ]
  },
  {
   "cell_type": "code",
   "execution_count": 146,
   "id": "de5c23d0-b067-4774-ba1a-8f98ae54ba2c",
   "metadata": {},
   "outputs": [
    {
     "data": {
      "text/plain": [
       "15"
      ]
     },
     "execution_count": 146,
     "metadata": {},
     "output_type": "execute_result"
    }
   ],
   "source": [
    "reduce(lambda x,y:x+y,l)"
   ]
  },
  {
   "cell_type": "code",
   "execution_count": 153,
   "id": "57cc6943-c969-4a6e-a2a9-3385f4bb119f",
   "metadata": {},
   "outputs": [
    {
     "data": {
      "text/plain": [
       "120"
      ]
     },
     "execution_count": 153,
     "metadata": {},
     "output_type": "execute_result"
    }
   ],
   "source": [
    "reduce(lambda x,y:x*y,l)"
   ]
  },
  {
   "cell_type": "code",
   "execution_count": 155,
   "id": "2fd817b6-65d3-45ed-b162-cc4025ca1b47",
   "metadata": {},
   "outputs": [],
   "source": [
    "def func(x,y):\n",
    "    return(x*y)"
   ]
  },
  {
   "cell_type": "code",
   "execution_count": 156,
   "id": "4411eb81-5b3b-4b37-9e09-4f82b33e5486",
   "metadata": {},
   "outputs": [
    {
     "data": {
      "text/plain": [
       "120"
      ]
     },
     "execution_count": 156,
     "metadata": {},
     "output_type": "execute_result"
    }
   ],
   "source": [
    "reduce(func,l)"
   ]
  },
  {
   "cell_type": "code",
   "execution_count": 158,
   "id": "b743bf0e-364c-47f2-8faa-3c1a033e9709",
   "metadata": {},
   "outputs": [],
   "source": [
    "def func(x,y):\n",
    "    return(x+y)"
   ]
  },
  {
   "cell_type": "code",
   "execution_count": 159,
   "id": "135d8c00-e5a2-4a43-819b-b471b498b795",
   "metadata": {},
   "outputs": [
    {
     "data": {
      "text/plain": [
       "15"
      ]
     },
     "execution_count": 159,
     "metadata": {},
     "output_type": "execute_result"
    }
   ],
   "source": [
    "reduce(func,l)"
   ]
  },
  {
   "cell_type": "code",
   "execution_count": 160,
   "id": "7db4155c-19c6-47c8-92fc-16beaabab199",
   "metadata": {},
   "outputs": [
    {
     "data": {
      "text/plain": [
       "15"
      ]
     },
     "execution_count": 160,
     "metadata": {},
     "output_type": "execute_result"
    }
   ],
   "source": [
    "reduce(lambda x,y:x+y,[1,2,3,4,5])"
   ]
  },
  {
   "cell_type": "code",
   "execution_count": 161,
   "id": "3a50091b-fa94-4d70-baea-fabbd02edb02",
   "metadata": {},
   "outputs": [
    {
     "data": {
      "text/plain": [
       "1"
      ]
     },
     "execution_count": 161,
     "metadata": {},
     "output_type": "execute_result"
    }
   ],
   "source": [
    "reduce(lambda x,y:x+y,[1])"
   ]
  },
  {
   "cell_type": "code",
   "execution_count": 163,
   "id": "82df7401-0d47-48bf-bc83-0090a76bee5a",
   "metadata": {},
   "outputs": [
    {
     "data": {
      "text/plain": [
       "5"
      ]
     },
     "execution_count": 163,
     "metadata": {},
     "output_type": "execute_result"
    }
   ],
   "source": [
    "reduce(lambda x,y:x if(x>y) else y,[1,2,3,4,5])"
   ]
  },
  {
   "cell_type": "code",
   "execution_count": 164,
   "id": "7673d0bc-0516-4d37-b19c-c581fae12079",
   "metadata": {},
   "outputs": [
    {
     "ename": "TypeError",
     "evalue": "can only concatenate list (not \"int\") to list",
     "output_type": "error",
     "traceback": [
      "\u001b[0;31m---------------------------------------------------------------------------\u001b[0m",
      "\u001b[0;31mTypeError\u001b[0m                                 Traceback (most recent call last)",
      "Cell \u001b[0;32mIn[164], line 1\u001b[0m\n\u001b[0;32m----> 1\u001b[0m \u001b[43mreduce\u001b[49m\u001b[43m(\u001b[49m\u001b[38;5;28;43;01mlambda\u001b[39;49;00m\u001b[43m \u001b[49m\u001b[43mx\u001b[49m\u001b[43m,\u001b[49m\u001b[43my\u001b[49m\u001b[43m:\u001b[49m\u001b[43mx\u001b[49m\u001b[38;5;241;43m+\u001b[39;49m\u001b[43my\u001b[49m\u001b[43m,\u001b[49m\u001b[43m[\u001b[49m\u001b[38;5;241;43m1\u001b[39;49m\u001b[43m,\u001b[49m\u001b[38;5;241;43m2\u001b[39;49m\u001b[43m,\u001b[49m\u001b[38;5;241;43m3\u001b[39;49m\u001b[43m,\u001b[49m\u001b[38;5;241;43m4\u001b[39;49m\u001b[43m,\u001b[49m\u001b[38;5;241;43m5\u001b[39;49m\u001b[43m]\u001b[49m\u001b[43m,\u001b[49m\u001b[43m[\u001b[49m\u001b[38;5;241;43m6\u001b[39;49m\u001b[43m,\u001b[49m\u001b[38;5;241;43m7\u001b[39;49m\u001b[43m,\u001b[49m\u001b[38;5;241;43m8\u001b[39;49m\u001b[43m,\u001b[49m\u001b[38;5;241;43m9\u001b[39;49m\u001b[43m,\u001b[49m\u001b[38;5;241;43m10\u001b[39;49m\u001b[43m]\u001b[49m\u001b[43m)\u001b[49m\n",
      "Cell \u001b[0;32mIn[164], line 1\u001b[0m, in \u001b[0;36m<lambda>\u001b[0;34m(x, y)\u001b[0m\n\u001b[0;32m----> 1\u001b[0m reduce(\u001b[38;5;28;01mlambda\u001b[39;00m x,y:\u001b[43mx\u001b[49m\u001b[38;5;241;43m+\u001b[39;49m\u001b[43my\u001b[49m,[\u001b[38;5;241m1\u001b[39m,\u001b[38;5;241m2\u001b[39m,\u001b[38;5;241m3\u001b[39m,\u001b[38;5;241m4\u001b[39m,\u001b[38;5;241m5\u001b[39m],[\u001b[38;5;241m6\u001b[39m,\u001b[38;5;241m7\u001b[39m,\u001b[38;5;241m8\u001b[39m,\u001b[38;5;241m9\u001b[39m,\u001b[38;5;241m10\u001b[39m])\n",
      "\u001b[0;31mTypeError\u001b[0m: can only concatenate list (not \"int\") to list"
     ]
    }
   ],
   "source": [
    "reduce(lambda x,y:x+y,[1,2,3,4,5],[6,7,8,9,10])"
   ]
  },
  {
   "cell_type": "code",
   "execution_count": 167,
   "id": "e0ea5de5-bc05-43d0-9c9f-c2105f574c62",
   "metadata": {},
   "outputs": [
    {
     "data": {
      "text/plain": [
       "[7, 9, 11, 13, 15]"
      ]
     },
     "execution_count": 167,
     "metadata": {},
     "output_type": "execute_result"
    }
   ],
   "source": [
    "list(map(lambda x,y:x+y,[1,2,3,4,5],[6,7,8,9,10]))"
   ]
  },
  {
   "cell_type": "code",
   "execution_count": 168,
   "id": "fa2fcb51-cc75-4597-b791-7701bfaedb9b",
   "metadata": {},
   "outputs": [
    {
     "data": {
      "text/plain": [
       "55"
      ]
     },
     "execution_count": 168,
     "metadata": {},
     "output_type": "execute_result"
    }
   ],
   "source": [
    "reduce(lambda x,y:x+y,l)"
   ]
  },
  {
   "cell_type": "markdown",
   "id": "b6f36e8b-b04c-4f0a-93f4-b030d80cbd9f",
   "metadata": {},
   "source": [
    "###FILTER"
   ]
  },
  {
   "cell_type": "code",
   "execution_count": 170,
   "id": "8e2073f9-ed93-4297-bf28-bb5a00ba8c53",
   "metadata": {},
   "outputs": [],
   "source": [
    "l=[1,2,3,4,5,6,7,8,9]"
   ]
  },
  {
   "cell_type": "code",
   "execution_count": 172,
   "id": "8f19ff92-eb25-4e4c-ba74-7244d3557b52",
   "metadata": {},
   "outputs": [
    {
     "data": {
      "text/plain": [
       "[2, 4, 6, 8]"
      ]
     },
     "execution_count": 172,
     "metadata": {},
     "output_type": "execute_result"
    }
   ],
   "source": [
    "list(filter(lambda x:x%2==0,l))"
   ]
  },
  {
   "cell_type": "code",
   "execution_count": 173,
   "id": "32a2b5b0-a4a4-4331-9d36-38cf0db1c17e",
   "metadata": {},
   "outputs": [
    {
     "data": {
      "text/plain": [
       "[1, 3, 5, 7, 9]"
      ]
     },
     "execution_count": 173,
     "metadata": {},
     "output_type": "execute_result"
    }
   ],
   "source": [
    "list(filter(lambda x:x%2!=0,l))"
   ]
  },
  {
   "cell_type": "code",
   "execution_count": 174,
   "id": "fe388a8b-155b-4635-a294-689f1aedcc50",
   "metadata": {},
   "outputs": [],
   "source": [
    "l=[-1,-5,0,3,5,6,-23,67,45]"
   ]
  },
  {
   "cell_type": "code",
   "execution_count": 175,
   "id": "c8455068-0ad0-4143-95de-0d12b2d6dc25",
   "metadata": {},
   "outputs": [
    {
     "data": {
      "text/plain": [
       "[3, 5, 6, 67, 45]"
      ]
     },
     "execution_count": 175,
     "metadata": {},
     "output_type": "execute_result"
    }
   ],
   "source": [
    "list(filter(lambda x:x>0,l))"
   ]
  },
  {
   "cell_type": "code",
   "execution_count": 176,
   "id": "f0e6fed8-2791-46c6-902c-f233ec31fcef",
   "metadata": {},
   "outputs": [],
   "source": [
    "l1=[\"Name\",\"String\",\"Pw skills\",\"Hi\",\"Hello\"]"
   ]
  },
  {
   "cell_type": "code",
   "execution_count": 183,
   "id": "c43f256b-4669-4a05-a816-14619124a4f2",
   "metadata": {},
   "outputs": [
    {
     "data": {
      "text/plain": [
       "['String', 'Pw skills']"
      ]
     },
     "execution_count": 183,
     "metadata": {},
     "output_type": "execute_result"
    }
   ],
   "source": [
    "list(filter(lambda x:len(x)>5,l1))"
   ]
  },
  {
   "cell_type": "code",
   "execution_count": null,
   "id": "5d59e5bc-c86c-46cd-99ea-ea096360216a",
   "metadata": {},
   "outputs": [],
   "source": []
  }
 ],
 "metadata": {
  "kernelspec": {
   "display_name": "Python 3 (ipykernel)",
   "language": "python",
   "name": "python3"
  },
  "language_info": {
   "codemirror_mode": {
    "name": "ipython",
    "version": 3
   },
   "file_extension": ".py",
   "mimetype": "text/x-python",
   "name": "python",
   "nbconvert_exporter": "python",
   "pygments_lexer": "ipython3",
   "version": "3.10.8"
  }
 },
 "nbformat": 4,
 "nbformat_minor": 5
}
