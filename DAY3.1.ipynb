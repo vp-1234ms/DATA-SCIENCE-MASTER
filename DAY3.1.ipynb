{
 "cells": [
  {
   "cell_type": "code",
   "execution_count": 35,
   "id": "035ebee2-b815-478c-a825-f0ad54df72dd",
   "metadata": {},
   "outputs": [],
   "source": [
    "string=\"Data Science Master\""
   ]
  },
  {
   "cell_type": "code",
   "execution_count": 4,
   "id": "40d68d2d-aa91-4530-9102-9b022ee52aff",
   "metadata": {},
   "outputs": [
    {
     "name": "stdout",
     "output_type": "stream",
     "text": [
      "Data Science Master\n"
     ]
    }
   ],
   "source": [
    "print(f\"{string}\")"
   ]
  },
  {
   "cell_type": "code",
   "execution_count": 8,
   "id": "5a7ecee2-216c-484e-b0e3-e7c359249f7d",
   "metadata": {},
   "outputs": [
    {
     "data": {
      "text/plain": [
       "'nce Mast'"
      ]
     },
     "execution_count": 8,
     "metadata": {},
     "output_type": "execute_result"
    }
   ],
   "source": [
    "string[-10:-2]"
   ]
  },
  {
   "cell_type": "code",
   "execution_count": 9,
   "id": "18cbe1b7-9236-4d3b-887f-0f0ad1b49bd9",
   "metadata": {},
   "outputs": [
    {
     "data": {
      "text/plain": [
       "''"
      ]
     },
     "execution_count": 9,
     "metadata": {},
     "output_type": "execute_result"
    }
   ],
   "source": [
    "string[-10:2]"
   ]
  },
  {
   "cell_type": "code",
   "execution_count": 10,
   "id": "efc8db46-a2cd-4da8-b768-1a81284e0bd3",
   "metadata": {},
   "outputs": [
    {
     "data": {
      "text/plain": [
       "'ce Mast'"
      ]
     },
     "execution_count": 10,
     "metadata": {},
     "output_type": "execute_result"
    }
   ],
   "source": [
    "string[10:-2]"
   ]
  },
  {
   "cell_type": "code",
   "execution_count": 11,
   "id": "d72e7034-758b-4c39-ba6a-f8e2467cb69f",
   "metadata": {},
   "outputs": [
    {
     "data": {
      "text/plain": [
       "'Data Science Maste'"
      ]
     },
     "execution_count": 11,
     "metadata": {},
     "output_type": "execute_result"
    }
   ],
   "source": [
    "string[:-1]"
   ]
  },
  {
   "cell_type": "code",
   "execution_count": 12,
   "id": "ad6cf533-3319-433b-847d-d1c8f83cc2e0",
   "metadata": {},
   "outputs": [
    {
     "data": {
      "text/plain": [
       "'Data Science Master'"
      ]
     },
     "execution_count": 12,
     "metadata": {},
     "output_type": "execute_result"
    }
   ],
   "source": [
    "string[:]"
   ]
  },
  {
   "cell_type": "code",
   "execution_count": 13,
   "id": "942b2f08-37c2-4a48-adf7-e1b748274f85",
   "metadata": {},
   "outputs": [
    {
     "data": {
      "text/plain": [
       "'ience'"
      ]
     },
     "execution_count": 13,
     "metadata": {},
     "output_type": "execute_result"
    }
   ],
   "source": [
    "string[-12:12]"
   ]
  },
  {
   "cell_type": "code",
   "execution_count": 15,
   "id": "d2ec156c-fc9c-4ca2-a18a-57ca50f6ebd4",
   "metadata": {},
   "outputs": [
    {
     "data": {
      "text/plain": [
       "''"
      ]
     },
     "execution_count": 15,
     "metadata": {},
     "output_type": "execute_result"
    }
   ],
   "source": [
    "string[-12:2]#Not allowed"
   ]
  },
  {
   "cell_type": "code",
   "execution_count": 25,
   "id": "5036646a-22c2-4637-9f3e-9a3b8268ba45",
   "metadata": {},
   "outputs": [
    {
     "name": "stdout",
     "output_type": "stream",
     "text": [
      "retsaM ecneicS ataD"
     ]
    }
   ],
   "source": [
    "#Reverse String\n",
    "for i in range(len(string)-1,-1,-1):\n",
    "    print(f\"{string[i]}\",end='')"
   ]
  },
  {
   "cell_type": "code",
   "execution_count": 26,
   "id": "ce0a14a3-e947-4a1a-9f0f-2fd7926ebd45",
   "metadata": {},
   "outputs": [
    {
     "data": {
      "text/plain": [
       "'retsaM ecneicS ataD'"
      ]
     },
     "execution_count": 26,
     "metadata": {},
     "output_type": "execute_result"
    }
   ],
   "source": [
    "string[::-1]"
   ]
  },
  {
   "cell_type": "code",
   "execution_count": 27,
   "id": "dd490a98-cb52-453d-a1ef-5846679daedf",
   "metadata": {},
   "outputs": [
    {
     "data": {
      "text/plain": [
       "'rta cec tD'"
      ]
     },
     "execution_count": 27,
     "metadata": {},
     "output_type": "execute_result"
    }
   ],
   "source": [
    "string[::-2]"
   ]
  },
  {
   "cell_type": "code",
   "execution_count": 3,
   "id": "7fbf9261-cd94-4f9c-94f4-9a8fced7e485",
   "metadata": {},
   "outputs": [
    {
     "data": {
      "text/plain": [
       "'Data Science Master'"
      ]
     },
     "execution_count": 3,
     "metadata": {},
     "output_type": "execute_result"
    }
   ],
   "source": [
    "string[::1]"
   ]
  },
  {
   "cell_type": "code",
   "execution_count": 4,
   "id": "08dc9901-998c-49c5-8626-dc935c5752cb",
   "metadata": {},
   "outputs": [
    {
     "data": {
      "text/plain": [
       "'Dt cec atr'"
      ]
     },
     "execution_count": 4,
     "metadata": {},
     "output_type": "execute_result"
    }
   ],
   "source": [
    "string[::2]"
   ]
  },
  {
   "cell_type": "code",
   "execution_count": 5,
   "id": "92f4bf78-c688-4ccc-9dd6-8f69cb83d757",
   "metadata": {},
   "outputs": [
    {
     "data": {
      "text/plain": [
       "'DScs'"
      ]
     },
     "execution_count": 5,
     "metadata": {},
     "output_type": "execute_result"
    }
   ],
   "source": [
    "string[::5]"
   ]
  },
  {
   "cell_type": "code",
   "execution_count": 6,
   "id": "a902731f-9abc-4b21-b0a2-f84328000be5",
   "metadata": {},
   "outputs": [
    {
     "data": {
      "text/plain": [
       "'retsaM ecneicS ataD'"
      ]
     },
     "execution_count": 6,
     "metadata": {},
     "output_type": "execute_result"
    }
   ],
   "source": [
    "string[::-1]"
   ]
  },
  {
   "cell_type": "code",
   "execution_count": 7,
   "id": "4ce7fc4c-3375-4c95-b64e-41bf33957c4e",
   "metadata": {},
   "outputs": [
    {
     "data": {
      "text/plain": [
       "'rta cec tD'"
      ]
     },
     "execution_count": 7,
     "metadata": {},
     "output_type": "execute_result"
    }
   ],
   "source": [
    "string[::-2]"
   ]
  },
  {
   "cell_type": "code",
   "execution_count": 8,
   "id": "eba28288-d2ac-4bbd-8f86-a975127e18cc",
   "metadata": {},
   "outputs": [
    {
     "data": {
      "text/plain": [
       "'Data Science Master'"
      ]
     },
     "execution_count": 8,
     "metadata": {},
     "output_type": "execute_result"
    }
   ],
   "source": [
    "string[::1]"
   ]
  },
  {
   "cell_type": "code",
   "execution_count": 9,
   "id": "8f421ce8-3c59-457a-96c0-92c070977f4d",
   "metadata": {},
   "outputs": [
    {
     "data": {
      "text/plain": [
       "'Dt cec atr'"
      ]
     },
     "execution_count": 9,
     "metadata": {},
     "output_type": "execute_result"
    }
   ],
   "source": [
    "string[::2]"
   ]
  },
  {
   "cell_type": "code",
   "execution_count": 10,
   "id": "976e6aa6-30e2-4069-abc2-814114a6fc0f",
   "metadata": {},
   "outputs": [
    {
     "data": {
      "text/plain": [
       "'rs ncaD'"
      ]
     },
     "execution_count": 10,
     "metadata": {},
     "output_type": "execute_result"
    }
   ],
   "source": [
    "string[::-3]"
   ]
  },
  {
   "cell_type": "code",
   "execution_count": 11,
   "id": "4a4b7732-2242-4650-8659-989513d6c312",
   "metadata": {},
   "outputs": [
    {
     "data": {
      "text/plain": [
       "'Dacn sr'"
      ]
     },
     "execution_count": 11,
     "metadata": {},
     "output_type": "execute_result"
    }
   ],
   "source": [
    "string[::3]"
   ]
  },
  {
   "cell_type": "code",
   "execution_count": 12,
   "id": "2f0bcac9-98fd-4b58-b512-e4b505308a53",
   "metadata": {},
   "outputs": [
    {
     "data": {
      "text/plain": [
       "'D e t'"
      ]
     },
     "execution_count": 12,
     "metadata": {},
     "output_type": "execute_result"
    }
   ],
   "source": [
    "string[::4]"
   ]
  },
  {
   "cell_type": "code",
   "execution_count": 13,
   "id": "e185b5c3-9b3d-45f9-9232-c5d2e316fb04",
   "metadata": {},
   "outputs": [
    {
     "data": {
      "text/plain": [
       "'racct'"
      ]
     },
     "execution_count": 13,
     "metadata": {},
     "output_type": "execute_result"
    }
   ],
   "source": [
    "string[::-4]"
   ]
  },
  {
   "cell_type": "code",
   "execution_count": 14,
   "id": "15b1e244-b55d-442b-8fa8-1953894cca35",
   "metadata": {},
   "outputs": [
    {
     "data": {
      "text/plain": [
       "19"
      ]
     },
     "execution_count": 14,
     "metadata": {},
     "output_type": "execute_result"
    }
   ],
   "source": [
    "len(string)"
   ]
  },
  {
   "cell_type": "code",
   "execution_count": 15,
   "id": "e5441a1f-c11d-42bc-8ddb-8783e269a589",
   "metadata": {},
   "outputs": [
    {
     "data": {
      "text/plain": [
       "'retsaM ecneicS ataD'"
      ]
     },
     "execution_count": 15,
     "metadata": {},
     "output_type": "execute_result"
    }
   ],
   "source": [
    "string[18::-1]"
   ]
  },
  {
   "cell_type": "code",
   "execution_count": 16,
   "id": "9561d3e8-58b3-42b8-89d7-ba96ade38ebc",
   "metadata": {},
   "outputs": [
    {
     "data": {
      "text/plain": [
       "'retsaM e'"
      ]
     },
     "execution_count": 16,
     "metadata": {},
     "output_type": "execute_result"
    }
   ],
   "source": [
    "string[18:10:-1]"
   ]
  },
  {
   "cell_type": "code",
   "execution_count": 17,
   "id": "dd873f82-4bb2-4058-893a-fd08fef3df86",
   "metadata": {},
   "outputs": [
    {
     "data": {
      "text/plain": [
       "'retsaM ecneic'"
      ]
     },
     "execution_count": 17,
     "metadata": {},
     "output_type": "execute_result"
    }
   ],
   "source": [
    "string[18:5:-1]"
   ]
  },
  {
   "cell_type": "code",
   "execution_count": 18,
   "id": "b2c6b3c5-3ce7-4449-980b-328c16ba692f",
   "metadata": {},
   "outputs": [
    {
     "data": {
      "text/plain": [
       "'retsaM ecneicS a'"
      ]
     },
     "execution_count": 18,
     "metadata": {},
     "output_type": "execute_result"
    }
   ],
   "source": [
    "string[18:2:-1]"
   ]
  },
  {
   "cell_type": "code",
   "execution_count": 19,
   "id": "a7fd67ea-fe1d-4aa7-9f1a-93a26eb95236",
   "metadata": {},
   "outputs": [
    {
     "data": {
      "text/plain": [
       "'retsaM ecneicS at'"
      ]
     },
     "execution_count": 19,
     "metadata": {},
     "output_type": "execute_result"
    }
   ],
   "source": [
    "string[18:1:-1]"
   ]
  },
  {
   "cell_type": "code",
   "execution_count": 20,
   "id": "505a2ae3-7dbd-4229-b16b-4685a417af11",
   "metadata": {},
   "outputs": [
    {
     "data": {
      "text/plain": [
       "'retsaM ecneicS ataD'"
      ]
     },
     "execution_count": 20,
     "metadata": {},
     "output_type": "execute_result"
    }
   ],
   "source": [
    "string[18::-1]"
   ]
  },
  {
   "cell_type": "code",
   "execution_count": 21,
   "id": "95085b4f-7cbe-4208-90bf-9db06385c306",
   "metadata": {},
   "outputs": [
    {
     "data": {
      "text/plain": [
       "'Data Science Master'"
      ]
     },
     "execution_count": 21,
     "metadata": {},
     "output_type": "execute_result"
    }
   ],
   "source": [
    "string"
   ]
  },
  {
   "cell_type": "code",
   "execution_count": 23,
   "id": "0171c436-a74e-465d-b81a-7c0ca3bab703",
   "metadata": {},
   "outputs": [
    {
     "data": {
      "text/plain": [
       "'ecneicS'"
      ]
     },
     "execution_count": 23,
     "metadata": {},
     "output_type": "execute_result"
    }
   ],
   "source": [
    "string[11:4:-1]"
   ]
  },
  {
   "cell_type": "code",
   "execution_count": 25,
   "id": "0d0f08e8-9411-4116-9484-7fce19beacc4",
   "metadata": {},
   "outputs": [
    {
     "data": {
      "text/plain": [
       "'Science'"
      ]
     },
     "execution_count": 25,
     "metadata": {},
     "output_type": "execute_result"
    }
   ],
   "source": [
    "string[5:12:1]"
   ]
  },
  {
   "cell_type": "code",
   "execution_count": 34,
   "id": "ef7a9bdb-6ae9-419c-abcf-e97c91de9d39",
   "metadata": {},
   "outputs": [
    {
     "data": {
      "text/plain": [
       "'Sci'"
      ]
     },
     "execution_count": 34,
     "metadata": {},
     "output_type": "execute_result"
    }
   ],
   "source": [
    "string[-14:8:1]"
   ]
  },
  {
   "cell_type": "code",
   "execution_count": 36,
   "id": "463939c1-2940-4a06-8acf-d8bf778be551",
   "metadata": {},
   "outputs": [
    {
     "data": {
      "text/plain": [
       "'Data Science MasterData Science MasterData Science MasterData Science MasterData Science Master'"
      ]
     },
     "execution_count": 36,
     "metadata": {},
     "output_type": "execute_result"
    }
   ],
   "source": [
    "string*5"
   ]
  },
  {
   "cell_type": "code",
   "execution_count": 38,
   "id": "7c8a5641-e4bd-4e00-a723-ff328f924a85",
   "metadata": {},
   "outputs": [
    {
     "data": {
      "text/plain": [
       "'Data Science Master Data Science Master'"
      ]
     },
     "execution_count": 38,
     "metadata": {},
     "output_type": "execute_result"
    }
   ],
   "source": [
    "string + \" \" + string"
   ]
  },
  {
   "cell_type": "code",
   "execution_count": 39,
   "id": "5cdf3ced-776c-4a26-b782-8b90dbef90e4",
   "metadata": {},
   "outputs": [
    {
     "data": {
      "text/plain": [
       "19"
      ]
     },
     "execution_count": 39,
     "metadata": {},
     "output_type": "execute_result"
    }
   ],
   "source": [
    "len(string)"
   ]
  },
  {
   "cell_type": "code",
   "execution_count": 40,
   "id": "d713349c-a1ac-496d-91e6-95dbedb37d71",
   "metadata": {},
   "outputs": [
    {
     "data": {
      "text/plain": [
       "5"
      ]
     },
     "execution_count": 40,
     "metadata": {},
     "output_type": "execute_result"
    }
   ],
   "source": [
    "#string inbuit functions\n",
    "string.find(\"S\")"
   ]
  },
  {
   "cell_type": "code",
   "execution_count": 41,
   "id": "6c0ba2e5-504b-455a-b76f-3344904e631b",
   "metadata": {},
   "outputs": [
    {
     "data": {
      "text/plain": [
       "'Data Science Master'"
      ]
     },
     "execution_count": 41,
     "metadata": {},
     "output_type": "execute_result"
    }
   ],
   "source": [
    "string"
   ]
  },
  {
   "cell_type": "code",
   "execution_count": 43,
   "id": "2c9525ae-3efc-4e5c-8c74-bc427417815f",
   "metadata": {},
   "outputs": [
    {
     "data": {
      "text/plain": [
       "1"
      ]
     },
     "execution_count": 43,
     "metadata": {},
     "output_type": "execute_result"
    }
   ],
   "source": [
    "string.find(\"a\") ##first occurence of character"
   ]
  },
  {
   "cell_type": "code",
   "execution_count": 47,
   "id": "61eebce4-29aa-4c9b-8780-2a3fce05c29f",
   "metadata": {},
   "outputs": [
    {
     "data": {
      "text/plain": [
       "3"
      ]
     },
     "execution_count": 47,
     "metadata": {},
     "output_type": "execute_result"
    }
   ],
   "source": [
    "string.find(\"a\",2,5)"
   ]
  },
  {
   "cell_type": "code",
   "execution_count": 49,
   "id": "6a08debc-186e-496b-96a8-55b31e3ef745",
   "metadata": {},
   "outputs": [
    {
     "data": {
      "text/plain": [
       "3"
      ]
     },
     "execution_count": 49,
     "metadata": {},
     "output_type": "execute_result"
    }
   ],
   "source": [
    "string.find(\"a\",2,)"
   ]
  },
  {
   "cell_type": "code",
   "execution_count": 50,
   "id": "f7be6dd5-4936-4bb7-b677-1a30a88ba590",
   "metadata": {},
   "outputs": [
    {
     "data": {
      "text/plain": [
       "14"
      ]
     },
     "execution_count": 50,
     "metadata": {},
     "output_type": "execute_result"
    }
   ],
   "source": [
    "string.find(\"a\",10,)"
   ]
  },
  {
   "cell_type": "code",
   "execution_count": 51,
   "id": "1ea17237-97fa-4831-92bc-50fed08cb276",
   "metadata": {},
   "outputs": [
    {
     "data": {
      "text/plain": [
       "-1"
      ]
     },
     "execution_count": 51,
     "metadata": {},
     "output_type": "execute_result"
    }
   ],
   "source": [
    "string.find(\"z\")"
   ]
  },
  {
   "cell_type": "code",
   "execution_count": 54,
   "id": "0551dd57-30db-4d64-b2dc-10fbf11ba9ba",
   "metadata": {},
   "outputs": [
    {
     "data": {
      "text/plain": [
       "3"
      ]
     },
     "execution_count": 54,
     "metadata": {},
     "output_type": "execute_result"
    }
   ],
   "source": [
    "string.count('a') #Total a in string"
   ]
  },
  {
   "cell_type": "code",
   "execution_count": 53,
   "id": "4e691688-c237-41dd-bb4a-c69f0eb50452",
   "metadata": {},
   "outputs": [
    {
     "data": {
      "text/plain": [
       "'Data Science Master'"
      ]
     },
     "execution_count": 53,
     "metadata": {},
     "output_type": "execute_result"
    }
   ],
   "source": [
    "string"
   ]
  },
  {
   "cell_type": "code",
   "execution_count": 55,
   "id": "6fddc554-6c0a-42e5-9da1-7692ff900680",
   "metadata": {},
   "outputs": [
    {
     "data": {
      "text/plain": [
       "2"
      ]
     },
     "execution_count": 55,
     "metadata": {},
     "output_type": "execute_result"
    }
   ],
   "source": [
    "string.count(' ')#empty strings in string"
   ]
  },
  {
   "cell_type": "code",
   "execution_count": 56,
   "id": "741f57b0-4536-42e5-b497-4fa70b5851a5",
   "metadata": {},
   "outputs": [
    {
     "data": {
      "text/plain": [
       "20"
      ]
     },
     "execution_count": 56,
     "metadata": {},
     "output_type": "execute_result"
    }
   ],
   "source": [
    "string.count('')"
   ]
  },
  {
   "cell_type": "code",
   "execution_count": 58,
   "id": "cf175931-e0d4-437c-9c34-3815de5a6b40",
   "metadata": {},
   "outputs": [
    {
     "data": {
      "text/plain": [
       "15"
      ]
     },
     "execution_count": 58,
     "metadata": {},
     "output_type": "execute_result"
    }
   ],
   "source": [
    "string.index('s')"
   ]
  },
  {
   "cell_type": "code",
   "execution_count": 59,
   "id": "c1ec51ce-b571-44c4-814b-72a357462c78",
   "metadata": {},
   "outputs": [
    {
     "data": {
      "text/plain": [
       "5"
      ]
     },
     "execution_count": 59,
     "metadata": {},
     "output_type": "execute_result"
    }
   ],
   "source": [
    "string.index('S')"
   ]
  },
  {
   "cell_type": "code",
   "execution_count": 60,
   "id": "428796b4-0866-4b19-bad4-72bc4c307f71",
   "metadata": {},
   "outputs": [
    {
     "data": {
      "text/plain": [
       "8"
      ]
     },
     "execution_count": 60,
     "metadata": {},
     "output_type": "execute_result"
    }
   ],
   "source": [
    "string.index('e')"
   ]
  },
  {
   "cell_type": "code",
   "execution_count": 61,
   "id": "f0b7483a-81a3-41ca-8d6a-9df2ccfe4342",
   "metadata": {},
   "outputs": [],
   "source": [
    "#String split function"
   ]
  },
  {
   "cell_type": "code",
   "execution_count": 62,
   "id": "71cc66ca-9a2b-4262-a285-8f6eddab32c3",
   "metadata": {},
   "outputs": [
    {
     "data": {
      "text/plain": [
       "['Data', 'Science', 'Master']"
      ]
     },
     "execution_count": 62,
     "metadata": {},
     "output_type": "execute_result"
    }
   ],
   "source": [
    "string.split(\" \") #slits string based on blank space"
   ]
  },
  {
   "cell_type": "code",
   "execution_count": 63,
   "id": "381b9b4c-ff7e-4a37-861f-deeaa971ef99",
   "metadata": {},
   "outputs": [
    {
     "data": {
      "text/plain": [
       "19"
      ]
     },
     "execution_count": 63,
     "metadata": {},
     "output_type": "execute_result"
    }
   ],
   "source": [
    "len(string)"
   ]
  },
  {
   "cell_type": "code",
   "execution_count": 65,
   "id": "a83f2d80-db48-47dc-8a13-dc504e95f705",
   "metadata": {},
   "outputs": [
    {
     "data": {
      "text/plain": [
       "['Data ', 'cience Master']"
      ]
     },
     "execution_count": 65,
     "metadata": {},
     "output_type": "execute_result"
    }
   ],
   "source": [
    "string.split(\"S\")##Splits the string from right and left of \"S\""
   ]
  },
  {
   "cell_type": "code",
   "execution_count": 66,
   "id": "bab29ad8-cbc5-4657-8164-868eff1486d0",
   "metadata": {},
   "outputs": [
    {
     "data": {
      "text/plain": [
       "['Data Science Ma', 'ter']"
      ]
     },
     "execution_count": 66,
     "metadata": {},
     "output_type": "execute_result"
    }
   ],
   "source": [
    "string.split(\"s\")"
   ]
  },
  {
   "cell_type": "code",
   "execution_count": 67,
   "id": "5929deb7-83b5-423b-91d6-493a9008e900",
   "metadata": {},
   "outputs": [
    {
     "data": {
      "text/plain": [
       "('Data Science Ma', 's', 'ter')"
      ]
     },
     "execution_count": 67,
     "metadata": {},
     "output_type": "execute_result"
    }
   ],
   "source": [
    "string.partition(\"s\")"
   ]
  },
  {
   "cell_type": "code",
   "execution_count": 68,
   "id": "82e9f2fa-03e1-4d69-a515-567f301c76d3",
   "metadata": {},
   "outputs": [
    {
     "data": {
      "text/plain": [
       "('Data ', 'S', 'cience Master')"
      ]
     },
     "execution_count": 68,
     "metadata": {},
     "output_type": "execute_result"
    }
   ],
   "source": [
    "string.partition(\"S\")"
   ]
  },
  {
   "cell_type": "code",
   "execution_count": 69,
   "id": "ebefd2c1-3a16-4d1a-8650-f9e2b4ae6147",
   "metadata": {},
   "outputs": [],
   "source": [
    "##String Upper and Lower Case"
   ]
  },
  {
   "cell_type": "code",
   "execution_count": 70,
   "id": "a49c830e-66f5-4dd4-85c8-beadcb916fb7",
   "metadata": {},
   "outputs": [
    {
     "data": {
      "text/plain": [
       "'DATA SCIENCE MASTER'"
      ]
     },
     "execution_count": 70,
     "metadata": {},
     "output_type": "execute_result"
    }
   ],
   "source": [
    "string.upper()"
   ]
  },
  {
   "cell_type": "code",
   "execution_count": 71,
   "id": "7f388a4e-656c-4640-b14f-4c37236f6215",
   "metadata": {},
   "outputs": [
    {
     "data": {
      "text/plain": [
       "'data science master'"
      ]
     },
     "execution_count": 71,
     "metadata": {},
     "output_type": "execute_result"
    }
   ],
   "source": [
    "string.lower()"
   ]
  },
  {
   "cell_type": "code",
   "execution_count": 74,
   "id": "8f63d52f-b95e-48ea-a719-5d309aaed59d",
   "metadata": {},
   "outputs": [
    {
     "data": {
      "text/plain": [
       "'dATA sCIENCE mASTER'"
      ]
     },
     "execution_count": 74,
     "metadata": {},
     "output_type": "execute_result"
    }
   ],
   "source": [
    "string.swapcase()"
   ]
  },
  {
   "cell_type": "code",
   "execution_count": 75,
   "id": "1e52cce9-7781-48bc-8988-b856c7cff4c2",
   "metadata": {},
   "outputs": [
    {
     "data": {
      "text/plain": [
       "'Data Science Master'"
      ]
     },
     "execution_count": 75,
     "metadata": {},
     "output_type": "execute_result"
    }
   ],
   "source": [
    "string.title()"
   ]
  },
  {
   "cell_type": "code",
   "execution_count": 76,
   "id": "1a41988c-b504-4459-b881-310fa54ef886",
   "metadata": {},
   "outputs": [],
   "source": [
    "string=\"vaIbhav viLas PaWar\""
   ]
  },
  {
   "cell_type": "code",
   "execution_count": 77,
   "id": "ecf8708c-0501-43f1-9d22-1a7917661436",
   "metadata": {},
   "outputs": [
    {
     "data": {
      "text/plain": [
       "'Vaibhav Vilas Pawar'"
      ]
     },
     "execution_count": 77,
     "metadata": {},
     "output_type": "execute_result"
    }
   ],
   "source": [
    "string.title()"
   ]
  },
  {
   "cell_type": "code",
   "execution_count": 78,
   "id": "eb088c49-2a08-48aa-be9b-c48591f9fff7",
   "metadata": {},
   "outputs": [
    {
     "data": {
      "text/plain": [
       "'Vaibhav vilas pawar'"
      ]
     },
     "execution_count": 78,
     "metadata": {},
     "output_type": "execute_result"
    }
   ],
   "source": [
    "string.capitalize()"
   ]
  },
  {
   "cell_type": "code",
   "execution_count": 81,
   "id": "6370bfc9-a92b-4d2d-9b4c-a35832c86f4c",
   "metadata": {},
   "outputs": [
    {
     "name": "stdout",
     "output_type": "stream",
     "text": [
      "<reversed object at 0x7f8763512260>\n"
     ]
    }
   ],
   "source": [
    "print(reversed(string))"
   ]
  },
  {
   "cell_type": "code",
   "execution_count": 84,
   "id": "a045c31c-bc52-47c8-bc5a-4a7674841040",
   "metadata": {},
   "outputs": [
    {
     "data": {
      "text/plain": [
       "'H i   I   A m'"
      ]
     },
     "execution_count": 84,
     "metadata": {},
     "output_type": "execute_result"
    }
   ],
   "source": [
    "\" \".join(\"Hi I Am\")"
   ]
  },
  {
   "cell_type": "code",
   "execution_count": 86,
   "id": "8327e6d1-2161-4f92-bd15-319987056683",
   "metadata": {},
   "outputs": [
    {
     "data": {
      "text/plain": [
       "'vaIbhav viLas PaWar'"
      ]
     },
     "execution_count": 86,
     "metadata": {},
     "output_type": "execute_result"
    }
   ],
   "source": [
    "\"\".join(string)"
   ]
  },
  {
   "cell_type": "code",
   "execution_count": 87,
   "id": "44e49a37-8a41-41a4-92f5-bb2a3dc2551a",
   "metadata": {},
   "outputs": [
    {
     "data": {
      "text/plain": [
       "'v a I b h a v   v i L a s   P a W a r'"
      ]
     },
     "execution_count": 87,
     "metadata": {},
     "output_type": "execute_result"
    }
   ],
   "source": [
    "\" \".join(string)"
   ]
  },
  {
   "cell_type": "code",
   "execution_count": 89,
   "id": "bddcab40-28bd-4f23-b7cf-f53feabd0e17",
   "metadata": {},
   "outputs": [
    {
     "data": {
      "text/plain": [
       "'raWaP saLiv vahbIav'"
      ]
     },
     "execution_count": 89,
     "metadata": {},
     "output_type": "execute_result"
    }
   ],
   "source": [
    "\"\".join(reversed(string))"
   ]
  },
  {
   "cell_type": "code",
   "execution_count": 90,
   "id": "d530019e-bc96-4117-8806-0b615dce1c78",
   "metadata": {},
   "outputs": [],
   "source": [
    "string=\"Data Science Master\""
   ]
  },
  {
   "cell_type": "code",
   "execution_count": 91,
   "id": "0a1aea52-54c0-49c2-9d2c-ba43ec5d8ed8",
   "metadata": {},
   "outputs": [
    {
     "data": {
      "text/plain": [
       "'retsaM ecneicS ataD'"
      ]
     },
     "execution_count": 91,
     "metadata": {},
     "output_type": "execute_result"
    }
   ],
   "source": [
    "\"\".join(reversed(string))"
   ]
  },
  {
   "cell_type": "code",
   "execution_count": 92,
   "id": "986869b3-018d-4a53-8056-677deceb334d",
   "metadata": {},
   "outputs": [
    {
     "data": {
      "text/plain": [
       "'r e t s a M   e c n e i c S   a t a D'"
      ]
     },
     "execution_count": 92,
     "metadata": {},
     "output_type": "execute_result"
    }
   ],
   "source": [
    "\" \".join(reversed(string))"
   ]
  },
  {
   "cell_type": "code",
   "execution_count": 93,
   "id": "f9c07997-bbf9-4acb-bce8-091d7627cc20",
   "metadata": {},
   "outputs": [],
   "source": [
    "string=\" Data Science Master \""
   ]
  },
  {
   "cell_type": "code",
   "execution_count": 94,
   "id": "ec79c9b6-4f0b-4186-b54f-54a7d2ce0c3d",
   "metadata": {},
   "outputs": [
    {
     "data": {
      "text/plain": [
       "' Data Science Master '"
      ]
     },
     "execution_count": 94,
     "metadata": {},
     "output_type": "execute_result"
    }
   ],
   "source": [
    "string"
   ]
  },
  {
   "cell_type": "code",
   "execution_count": 96,
   "id": "a08ce8f6-f4ed-40ee-82ff-9e04738cb308",
   "metadata": {},
   "outputs": [
    {
     "data": {
      "text/plain": [
       "'Data Science Master'"
      ]
     },
     "execution_count": 96,
     "metadata": {},
     "output_type": "execute_result"
    }
   ],
   "source": [
    "string.strip()"
   ]
  },
  {
   "cell_type": "code",
   "execution_count": 97,
   "id": "a17bd3cf-95d9-4e06-afd0-bdf2fb785b89",
   "metadata": {},
   "outputs": [
    {
     "data": {
      "text/plain": [
       "'Data Science Master'"
      ]
     },
     "execution_count": 97,
     "metadata": {},
     "output_type": "execute_result"
    }
   ],
   "source": [
    "string.strip(\" \")"
   ]
  },
  {
   "cell_type": "code",
   "execution_count": 98,
   "id": "312181e7-befc-4f72-8859-e5fd5ecd08c8",
   "metadata": {},
   "outputs": [
    {
     "data": {
      "text/plain": [
       "'Data Science Master '"
      ]
     },
     "execution_count": 98,
     "metadata": {},
     "output_type": "execute_result"
    }
   ],
   "source": [
    "string.lstrip(\" \")"
   ]
  },
  {
   "cell_type": "code",
   "execution_count": 99,
   "id": "4d21a3b2-0f7b-4ed8-8216-bd304b95f4f0",
   "metadata": {},
   "outputs": [
    {
     "data": {
      "text/plain": [
       "' Data Science Master'"
      ]
     },
     "execution_count": 99,
     "metadata": {},
     "output_type": "execute_result"
    }
   ],
   "source": [
    "string.rstrip(\" \")"
   ]
  },
  {
   "cell_type": "code",
   "execution_count": 102,
   "id": "313f3a9d-3390-49c4-bf42-afc986d1ab71",
   "metadata": {},
   "outputs": [
    {
     "data": {
      "text/plain": [
       "' Data Science Legend '"
      ]
     },
     "execution_count": 102,
     "metadata": {},
     "output_type": "execute_result"
    }
   ],
   "source": [
    "string.replace(\"Master\",\"Legend\")"
   ]
  },
  {
   "cell_type": "code",
   "execution_count": 104,
   "id": "ffe80148-85b2-4a2c-aede-aae1bd5a86ff",
   "metadata": {},
   "outputs": [
    {
     "data": {
      "text/plain": [
       "'zzzzzzzzzzzzzz Data Science Master zzzzzzzzzzzzzzz'"
      ]
     },
     "execution_count": 104,
     "metadata": {},
     "output_type": "execute_result"
    }
   ],
   "source": [
    "string.center(50,\"z\")"
   ]
  },
  {
   "cell_type": "code",
   "execution_count": 105,
   "id": "ae36ae22-0fd5-4fd8-ab82-9d79a593dcaf",
   "metadata": {},
   "outputs": [
    {
     "data": {
      "text/plain": [
       "False"
      ]
     },
     "execution_count": 105,
     "metadata": {},
     "output_type": "execute_result"
    }
   ],
   "source": [
    "string.isupper()"
   ]
  },
  {
   "cell_type": "code",
   "execution_count": 106,
   "id": "73c83ee0-5d96-4949-a5f7-9754c66b72a5",
   "metadata": {},
   "outputs": [],
   "source": [
    "string1=\"ABC\"\n",
    "string2=\"pqr\""
   ]
  },
  {
   "cell_type": "code",
   "execution_count": 107,
   "id": "7e3ef5ea-81a1-4b32-91ed-6ca666fc4022",
   "metadata": {},
   "outputs": [
    {
     "data": {
      "text/plain": [
       "True"
      ]
     },
     "execution_count": 107,
     "metadata": {},
     "output_type": "execute_result"
    }
   ],
   "source": [
    "string1.isupper()"
   ]
  },
  {
   "cell_type": "code",
   "execution_count": 108,
   "id": "79e425a7-3a0d-4b1a-99a2-98c77eec8497",
   "metadata": {},
   "outputs": [
    {
     "data": {
      "text/plain": [
       "False"
      ]
     },
     "execution_count": 108,
     "metadata": {},
     "output_type": "execute_result"
    }
   ],
   "source": [
    "string2.isupper()"
   ]
  },
  {
   "cell_type": "code",
   "execution_count": 109,
   "id": "8cb14fd6-eac7-4865-ab3a-4be2b0e68f45",
   "metadata": {},
   "outputs": [
    {
     "data": {
      "text/plain": [
       "False"
      ]
     },
     "execution_count": 109,
     "metadata": {},
     "output_type": "execute_result"
    }
   ],
   "source": [
    "string1.islower()"
   ]
  },
  {
   "cell_type": "code",
   "execution_count": 110,
   "id": "f1e13098-549a-46d5-be53-4b1ccb67bbe6",
   "metadata": {},
   "outputs": [
    {
     "data": {
      "text/plain": [
       "True"
      ]
     },
     "execution_count": 110,
     "metadata": {},
     "output_type": "execute_result"
    }
   ],
   "source": [
    "string2.islower()"
   ]
  },
  {
   "cell_type": "code",
   "execution_count": 111,
   "id": "e7dd23e9-cefb-4a2f-aef0-8f277381093b",
   "metadata": {},
   "outputs": [
    {
     "data": {
      "text/plain": [
       "False"
      ]
     },
     "execution_count": 111,
     "metadata": {},
     "output_type": "execute_result"
    }
   ],
   "source": [
    "string1.startswith(\"a\")"
   ]
  },
  {
   "cell_type": "code",
   "execution_count": 112,
   "id": "d7abe534-2bfd-4443-9ce7-d511396cf813",
   "metadata": {},
   "outputs": [
    {
     "data": {
      "text/plain": [
       "True"
      ]
     },
     "execution_count": 112,
     "metadata": {},
     "output_type": "execute_result"
    }
   ],
   "source": [
    "string1.endswith(\"C\")"
   ]
  },
  {
   "cell_type": "code",
   "execution_count": 113,
   "id": "4c2b836e-dada-4299-9853-5d1a6777863c",
   "metadata": {},
   "outputs": [
    {
     "name": "stdout",
     "output_type": "stream",
     "text": [
      "A is there in string2\n",
      "a is there in string2\n",
      "b is there in string2\n",
      "c is there in string2\n",
      "d is there in string2\n",
      "e is not there in string2\n",
      "f is not there in string2\n",
      "g is there in string2\n"
     ]
    }
   ],
   "source": [
    "string1=\"Aabcdefg\"\n",
    "string2=\"aAbcdFg\"\n",
    "for ch in string1:\n",
    "    if ch in string2:\n",
    "        print(\"{} is there in string2\".format(ch))\n",
    "    else:\n",
    "        print(\"{} is not there in string2\".format(ch))"
   ]
  },
  {
   "cell_type": "code",
   "execution_count": 114,
   "id": "4ba5177b-465d-4c31-a32b-e4034a338335",
   "metadata": {},
   "outputs": [],
   "source": [
    "string=\"Data Science Master\""
   ]
  },
  {
   "cell_type": "code",
   "execution_count": 115,
   "id": "4ae405b3-cf50-454d-b9d8-ead23a21ce2e",
   "metadata": {},
   "outputs": [
    {
     "data": {
      "text/plain": [
       "'Data Science Master'"
      ]
     },
     "execution_count": 115,
     "metadata": {},
     "output_type": "execute_result"
    }
   ],
   "source": [
    "string"
   ]
  },
  {
   "cell_type": "code",
   "execution_count": 116,
   "id": "1d76526b-a8ff-4126-9740-f5ce7fdc4042",
   "metadata": {},
   "outputs": [
    {
     "data": {
      "text/plain": [
       "'ataD'"
      ]
     },
     "execution_count": 116,
     "metadata": {},
     "output_type": "execute_result"
    }
   ],
   "source": [
    "string[3::-1]"
   ]
  },
  {
   "cell_type": "code",
   "execution_count": 117,
   "id": "ce70058d-d3d8-4b9d-a371-b87546165772",
   "metadata": {},
   "outputs": [
    {
     "data": {
      "text/plain": [
       "'Data'"
      ]
     },
     "execution_count": 117,
     "metadata": {},
     "output_type": "execute_result"
    }
   ],
   "source": [
    "string[:4:1]"
   ]
  },
  {
   "cell_type": "code",
   "execution_count": 121,
   "id": "c2e0ed6a-510c-41aa-99f6-9f1c7ab770d5",
   "metadata": {},
   "outputs": [
    {
     "data": {
      "text/plain": [
       "'Data'"
      ]
     },
     "execution_count": 121,
     "metadata": {},
     "output_type": "execute_result"
    }
   ],
   "source": [
    "string[-19:-15:1]"
   ]
  },
  {
   "cell_type": "code",
   "execution_count": null,
   "id": "74b5b53f-ee70-44b9-8406-5eb6cb57ce94",
   "metadata": {},
   "outputs": [],
   "source": [
    "string[1]"
   ]
  }
 ],
 "metadata": {
  "kernelspec": {
   "display_name": "Python 3 (ipykernel)",
   "language": "python",
   "name": "python3"
  },
  "language_info": {
   "codemirror_mode": {
    "name": "ipython",
    "version": 3
   },
   "file_extension": ".py",
   "mimetype": "text/x-python",
   "name": "python",
   "nbconvert_exporter": "python",
   "pygments_lexer": "ipython3",
   "version": "3.10.8"
  }
 },
 "nbformat": 4,
 "nbformat_minor": 5
}
