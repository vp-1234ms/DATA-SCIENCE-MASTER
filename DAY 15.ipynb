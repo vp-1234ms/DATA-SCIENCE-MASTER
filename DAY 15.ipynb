{
 "cells": [
  {
   "cell_type": "markdown",
   "id": "7e259e83-b824-4e67-af78-84452ddafa2a",
   "metadata": {},
   "source": [
    "#MULTIPROCESSING"
   ]
  },
  {
   "cell_type": "code",
   "execution_count": 1,
   "id": "2b7db44d-a51e-4c2b-bc7d-3712794763bd",
   "metadata": {},
   "outputs": [],
   "source": [
    "#We know that in Multithreading for diffeent program are executed simultaneously but not parallaly it exceutes one program for\n",
    "#Sometime then other program for some time then comes back to first program and excecutes for some time then second program for \n",
    "#some time so it executes all program together but not parallayy\n"
   ]
  },
  {
   "cell_type": "code",
   "execution_count": 2,
   "id": "7c2dbc64-86d6-4bbc-88a3-f9dec0280ae5",
   "metadata": {},
   "outputs": [],
   "source": [
    "#In microprocessing all programs are executed parallaly"
   ]
  },
  {
   "cell_type": "code",
   "execution_count": 3,
   "id": "6bab1c5a-067c-49ca-9c22-9f8d58e1fbd0",
   "metadata": {},
   "outputs": [],
   "source": [
    "import multiprocessing"
   ]
  },
  {
   "cell_type": "code",
   "execution_count": 13,
   "id": "538ccf60-c22a-48a7-8353-6dfef84be0d6",
   "metadata": {},
   "outputs": [
    {
     "name": "stdout",
     "output_type": "stream",
     "text": [
      "This is my main program\n",
      "This is my multiprocessing program\n"
     ]
    }
   ],
   "source": [
    "#Multiprocessing using target(for one input)\n",
    "def test():\n",
    "    print(\"This is my multiprocessing program\")\n",
    "\n",
    "if __name__ == \"__main__\":#This main program is responsible to execute everything in python,this main invokes entire python compiler\n",
    "    m=multiprocessing.Process(target=test)\n",
    "    print(\"This is my main program\")\n",
    "    m.start() #This starts the execution of child programs in code here only test is child program of parent main\n",
    "    m.join()\n",
    "    "
   ]
  },
  {
   "cell_type": "code",
   "execution_count": 14,
   "id": "a6c98df0-0d72-4a45-9709-8bab1755c58f",
   "metadata": {},
   "outputs": [
    {
     "name": "stdout",
     "output_type": "stream",
     "text": [
      "This is my multiprocessing program\n"
     ]
    }
   ],
   "source": [
    "test()"
   ]
  },
  {
   "cell_type": "code",
   "execution_count": 15,
   "id": "001a9ccf-1cf0-4b1e-a3f7-7374cfe84d88",
   "metadata": {},
   "outputs": [
    {
     "name": "stdout",
     "output_type": "stream",
     "text": [
      "[9, 16, 25, 36, 49, 64, 81, 1, 4]\n"
     ]
    }
   ],
   "source": [
    "#Multiprocessing using pool of pool of inputs\n",
    "def square(n):\n",
    "    return n**2\n",
    "\n",
    "if __name__==\"__main__\":\n",
    "    with multiprocessing.Pool(processes=5) as pool: #Here we are using total of 5 processes here different processes are executing\n",
    "        #different inputs\n",
    "        out = pool.map(square,[3,4,5,6,7,8,9,1,2])\n",
    "        print(out)\n",
    "        \n",
    "#Normally if we o then all inputs will be executed in only one processor with the help of multiprocessing we can assign different \n",
    "#processors for different all inputs"
   ]
  },
  {
   "cell_type": "code",
   "execution_count": 2,
   "id": "d2554b44-6dfe-42be-9f99-6f398e4cfb7f",
   "metadata": {},
   "outputs": [
    {
     "name": "stdout",
     "output_type": "stream",
     "text": [
      "Rohan\n",
      "Tanmay\n",
      "Vishal\n",
      "Kullu\n",
      "Shoaib\n"
     ]
    },
    {
     "name": "stderr",
     "output_type": "stream",
     "text": [
      "Process Process-2:\n",
      "Traceback (most recent call last):\n",
      "  File \"/opt/conda/lib/python3.10/multiprocessing/process.py\", line 314, in _bootstrap\n",
      "    self.run()\n",
      "  File \"/opt/conda/lib/python3.10/multiprocessing/process.py\", line 108, in run\n",
      "    self._target(*self._args, **self._kwargs)\n",
      "  File \"/tmp/ipykernel_1060/788701824.py\", line 8, in consume\n",
      "    item=q.get()\n",
      "  File \"/opt/conda/lib/python3.10/multiprocessing/queues.py\", line 103, in get\n",
      "    res = self._recv_bytes()\n",
      "  File \"/opt/conda/lib/python3.10/multiprocessing/connection.py\", line 221, in recv_bytes\n",
      "    buf = self._recv_bytes(maxlength)\n",
      "  File \"/opt/conda/lib/python3.10/multiprocessing/connection.py\", line 419, in _recv_bytes\n",
      "    buf = self._recv(4)\n"
     ]
    },
    {
     "ename": "KeyboardInterrupt",
     "evalue": "",
     "output_type": "error",
     "traceback": [
      "\u001b[0;31m---------------------------------------------------------------------------\u001b[0m",
      "\u001b[0;31mKeyboardInterrupt\u001b[0m                         Traceback (most recent call last)",
      "Cell \u001b[0;32mIn[2], line 22\u001b[0m\n\u001b[1;32m     20\u001b[0m \u001b[38;5;66;03m#queue.put(\"xyz\")\u001b[39;00m\n\u001b[1;32m     21\u001b[0m m1\u001b[38;5;241m.\u001b[39mjoin() \u001b[38;5;66;03m#Join the two process\u001b[39;00m\n\u001b[0;32m---> 22\u001b[0m \u001b[43mm2\u001b[49m\u001b[38;5;241;43m.\u001b[39;49m\u001b[43mjoin\u001b[49m\u001b[43m(\u001b[49m\u001b[43m)\u001b[49m\n",
      "File \u001b[0;32m/opt/conda/lib/python3.10/multiprocessing/process.py:149\u001b[0m, in \u001b[0;36mBaseProcess.join\u001b[0;34m(self, timeout)\u001b[0m\n\u001b[1;32m    147\u001b[0m \u001b[38;5;28;01massert\u001b[39;00m \u001b[38;5;28mself\u001b[39m\u001b[38;5;241m.\u001b[39m_parent_pid \u001b[38;5;241m==\u001b[39m os\u001b[38;5;241m.\u001b[39mgetpid(), \u001b[38;5;124m'\u001b[39m\u001b[38;5;124mcan only join a child process\u001b[39m\u001b[38;5;124m'\u001b[39m\n\u001b[1;32m    148\u001b[0m \u001b[38;5;28;01massert\u001b[39;00m \u001b[38;5;28mself\u001b[39m\u001b[38;5;241m.\u001b[39m_popen \u001b[38;5;129;01mis\u001b[39;00m \u001b[38;5;129;01mnot\u001b[39;00m \u001b[38;5;28;01mNone\u001b[39;00m, \u001b[38;5;124m'\u001b[39m\u001b[38;5;124mcan only join a started process\u001b[39m\u001b[38;5;124m'\u001b[39m\n\u001b[0;32m--> 149\u001b[0m res \u001b[38;5;241m=\u001b[39m \u001b[38;5;28;43mself\u001b[39;49m\u001b[38;5;241;43m.\u001b[39;49m\u001b[43m_popen\u001b[49m\u001b[38;5;241;43m.\u001b[39;49m\u001b[43mwait\u001b[49m\u001b[43m(\u001b[49m\u001b[43mtimeout\u001b[49m\u001b[43m)\u001b[49m\n\u001b[1;32m    150\u001b[0m \u001b[38;5;28;01mif\u001b[39;00m res \u001b[38;5;129;01mis\u001b[39;00m \u001b[38;5;129;01mnot\u001b[39;00m \u001b[38;5;28;01mNone\u001b[39;00m:\n\u001b[1;32m    151\u001b[0m     _children\u001b[38;5;241m.\u001b[39mdiscard(\u001b[38;5;28mself\u001b[39m)\n",
      "File \u001b[0;32m/opt/conda/lib/python3.10/multiprocessing/popen_fork.py:43\u001b[0m, in \u001b[0;36mPopen.wait\u001b[0;34m(self, timeout)\u001b[0m\n\u001b[1;32m     41\u001b[0m             \u001b[38;5;28;01mreturn\u001b[39;00m \u001b[38;5;28;01mNone\u001b[39;00m\n\u001b[1;32m     42\u001b[0m     \u001b[38;5;66;03m# This shouldn't block if wait() returned successfully.\u001b[39;00m\n\u001b[0;32m---> 43\u001b[0m     \u001b[38;5;28;01mreturn\u001b[39;00m \u001b[38;5;28;43mself\u001b[39;49m\u001b[38;5;241;43m.\u001b[39;49m\u001b[43mpoll\u001b[49m\u001b[43m(\u001b[49m\u001b[43mos\u001b[49m\u001b[38;5;241;43m.\u001b[39;49m\u001b[43mWNOHANG\u001b[49m\u001b[43m \u001b[49m\u001b[38;5;28;43;01mif\u001b[39;49;00m\u001b[43m \u001b[49m\u001b[43mtimeout\u001b[49m\u001b[43m \u001b[49m\u001b[38;5;241;43m==\u001b[39;49m\u001b[43m \u001b[49m\u001b[38;5;241;43m0.0\u001b[39;49m\u001b[43m \u001b[49m\u001b[38;5;28;43;01melse\u001b[39;49;00m\u001b[43m \u001b[49m\u001b[38;5;241;43m0\u001b[39;49m\u001b[43m)\u001b[49m\n\u001b[1;32m     44\u001b[0m \u001b[38;5;28;01mreturn\u001b[39;00m \u001b[38;5;28mself\u001b[39m\u001b[38;5;241m.\u001b[39mreturncode\n",
      "File \u001b[0;32m/opt/conda/lib/python3.10/multiprocessing/popen_fork.py:27\u001b[0m, in \u001b[0;36mPopen.poll\u001b[0;34m(self, flag)\u001b[0m\n\u001b[1;32m     25\u001b[0m \u001b[38;5;28;01mif\u001b[39;00m \u001b[38;5;28mself\u001b[39m\u001b[38;5;241m.\u001b[39mreturncode \u001b[38;5;129;01mis\u001b[39;00m \u001b[38;5;28;01mNone\u001b[39;00m:\n\u001b[1;32m     26\u001b[0m     \u001b[38;5;28;01mtry\u001b[39;00m:\n\u001b[0;32m---> 27\u001b[0m         pid, sts \u001b[38;5;241m=\u001b[39m \u001b[43mos\u001b[49m\u001b[38;5;241;43m.\u001b[39;49m\u001b[43mwaitpid\u001b[49m\u001b[43m(\u001b[49m\u001b[38;5;28;43mself\u001b[39;49m\u001b[38;5;241;43m.\u001b[39;49m\u001b[43mpid\u001b[49m\u001b[43m,\u001b[49m\u001b[43m \u001b[49m\u001b[43mflag\u001b[49m\u001b[43m)\u001b[49m\n\u001b[1;32m     28\u001b[0m     \u001b[38;5;28;01mexcept\u001b[39;00m \u001b[38;5;167;01mOSError\u001b[39;00m:\n\u001b[1;32m     29\u001b[0m         \u001b[38;5;66;03m# Child process not yet created. See #1731717\u001b[39;00m\n\u001b[1;32m     30\u001b[0m         \u001b[38;5;66;03m# e.errno == errno.ECHILD == 10\u001b[39;00m\n\u001b[1;32m     31\u001b[0m         \u001b[38;5;28;01mreturn\u001b[39;00m \u001b[38;5;28;01mNone\u001b[39;00m\n",
      "\u001b[0;31mKeyboardInterrupt\u001b[0m: "
     ]
    },
    {
     "name": "stderr",
     "output_type": "stream",
     "text": [
      "  File \"/opt/conda/lib/python3.10/multiprocessing/connection.py\", line 384, in _recv\n",
      "    chunk = read(handle, remaining)\n",
      "KeyboardInterrupt\n"
     ]
    }
   ],
   "source": [
    "#Multiprocessing for queue like for queue at bank \n",
    "def produce(q):\n",
    "    for i in [\"Rohan\",\"Tanmay\",\"Vishal\",\"Kullu\",\"Shoaib\"]:\n",
    "        q.put(i) #sends people in queues or add people in queue\n",
    "    \n",
    "def consume(q):\n",
    "    while True:\n",
    "        item=q.get()\n",
    "        if item is None:\n",
    "            break\n",
    "        print(item)\n",
    "        \n",
    "if __name__==\"__main__\":\n",
    "    queue=multiprocessing.Queue()\n",
    "    m1=multiprocessing.Process(target=produce,args=(queue,)) #Keeps adding people in group\n",
    "    m2=multiprocessing.Process(target=consume,args=(queue,)) #Keeps removieng people from group\n",
    "    #Both work on basis of first come first serve whosoever is in queue order will be done first and then removed\n",
    "    m1.start()\n",
    "    m2.start()\n",
    "    #queue.put(\"xyz\")\n",
    "    m1.join() #Join the two process\n",
    "    m2.join()"
   ]
  },
  {
   "cell_type": "code",
   "execution_count": 6,
   "id": "6ea7511a-7f8b-4044-b3d8-9390f83688ce",
   "metadata": {},
   "outputs": [
    {
     "name": "stdout",
     "output_type": "stream",
     "text": [
      "[1, 4, 9, 16, 25, 36, 49, 64, 81]\n"
     ]
    }
   ],
   "source": [
    "#Multiprocessing for array of input\n",
    "def square(index,value):\n",
    "    value[index]=value[index]**2\n",
    "    \n",
    "if __name__==\"__main__\":\n",
    "    arr=multiprocessing.Array(\"i\",[1,2,3,4,5,6,7,8,9]) #System will divide this array input for differnt processors\n",
    "    process = []\n",
    "    for i in range(9):\n",
    "        m=multiprocessing.Process(target=square,args=(i,arr))\n",
    "        process.append(m)\n",
    "        m.start()\n",
    "    for m in process:\n",
    "        m.join()\n",
    "    print(list(arr))"
   ]
  },
  {
   "cell_type": "code",
   "execution_count": 8,
   "id": "8878fc3b-87bf-49ce-84f9-40e9b8f13a30",
   "metadata": {},
   "outputs": [],
   "source": [
    "#Now for example in whatsapp we send msg to someone also we receive thier message this is two way communication\n",
    "#This is done with concept of piping\n",
    "#Pipe opens two way communication\n",
    "#So we message that are sent and received in different systems are connected through pipe"
   ]
  },
  {
   "cell_type": "code",
   "execution_count": null,
   "id": "2f5557c3-010e-4202-9a29-bce2350c7c21",
   "metadata": {},
   "outputs": [
    {
     "name": "stdout",
     "output_type": "stream",
     "text": [
      "My name is sudh\n",
      "this is my msg\n",
      "i am taking class\n",
      "try to practice class\n",
      "this is data science class\n"
     ]
    }
   ],
   "source": [
    "import multiprocessing \n",
    "\n",
    "def sender(conn,msg):\n",
    "    for i in msg:   #Here sender has connection that is internet connection and message he is sending\n",
    "        conn.send(i)\n",
    "    conn.close()    #This sender function will send message using connection \n",
    "    \n",
    "#This whole communication will be established by pipe\n",
    "\n",
    "def receive(conn):\n",
    "    while True:\n",
    "        try:\n",
    "            msg=conn.recv()    #Thus will receive message using connection created\n",
    "            \n",
    "        except Exception as e:\n",
    "            print(e)            #This will handle exception if any error occurs in receiving msg\n",
    "            break\n",
    "        print(msg)\n",
    "            \n",
    "if __name__==\"__main__\":\n",
    "    msg=[\"My name is sudh\",\"this is my msg\",\"i am taking class\",\"try to practice class\",\"this is data science class\"]\n",
    "    parent_conn,child_conn=multiprocessing .Pipe() #Here we have duplex mode where sender can send and also receive msg and\n",
    "    #receiver can send and recieve message\n",
    "    m1=multiprocessing.Process(target=sender,args=(child_conn,msg)) #Sender function is taking two input child that is receiver \n",
    "    #connection and receiver message\n",
    "    m2=multiprocessing.Process(target=receive,args=(parent_conn,))    #Receiver function is taking one input of senders connection\n",
    "    m1.start()\n",
    "    m2.start()\n",
    "    m1.join()\n",
    "    child_conn.close()\n",
    "    m2.join()\n",
    "    parent_conn.close()\n",
    "\n",
    "#One wil keep on sending msg in pipe and other will keep on receiving msg in pipe\n",
    "#This pipe will help us in creating communication object for sending and reciving message"
   ]
  },
  {
   "cell_type": "code",
   "execution_count": null,
   "id": "9e061be4-11af-45b0-9373-3e8fb59bc599",
   "metadata": {},
   "outputs": [],
   "source": []
  }
 ],
 "metadata": {
  "kernelspec": {
   "display_name": "Python 3 (ipykernel)",
   "language": "python",
   "name": "python3"
  },
  "language_info": {
   "codemirror_mode": {
    "name": "ipython",
    "version": 3
   },
   "file_extension": ".py",
   "mimetype": "text/x-python",
   "name": "python",
   "nbconvert_exporter": "python",
   "pygments_lexer": "ipython3",
   "version": "3.10.8"
  }
 },
 "nbformat": 4,
 "nbformat_minor": 5
}
