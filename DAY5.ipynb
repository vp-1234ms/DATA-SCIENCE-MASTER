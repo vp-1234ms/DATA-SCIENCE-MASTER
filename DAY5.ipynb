{
 "cells": [
  {
   "cell_type": "markdown",
   "id": "4648deeb-ccb6-47dc-8e45-b6826cfe9f1d",
   "metadata": {},
   "source": [
    "#TUPPLE"
   ]
  },
  {
   "cell_type": "code",
   "execution_count": 25,
   "id": "f75f6a80-4449-4b5b-a33b-dc737b0182b7",
   "metadata": {},
   "outputs": [
    {
     "name": "stdout",
     "output_type": "stream",
     "text": [
      "<class 'int'>\n",
      "<class 'float'>\n",
      "<class 'str'>\n",
      "<class 'list'>\n",
      "<class 'bool'>\n",
      "<class 'complex'>\n"
     ]
    }
   ],
   "source": [
    "#Till NOW\n",
    "print(type(1))\n",
    "print(type(1.0))\n",
    "print(type('e'))\n",
    "print(type([]))\n",
    "print(type(True))\n",
    "print(type(3+4j))"
   ]
  },
  {
   "cell_type": "code",
   "execution_count": 7,
   "id": "518132a7-7156-4384-b473-53e557819c33",
   "metadata": {},
   "outputs": [
    {
     "data": {
      "text/plain": [
       "tuple"
      ]
     },
     "execution_count": 7,
     "metadata": {},
     "output_type": "execute_result"
    }
   ],
   "source": [
    "type(())"
   ]
  },
  {
   "cell_type": "code",
   "execution_count": 8,
   "id": "0f5d209d-c605-4232-a112-f541e04a54fd",
   "metadata": {},
   "outputs": [
    {
     "name": "stdout",
     "output_type": "stream",
     "text": [
      "<class 'tuple'>\n"
     ]
    }
   ],
   "source": [
    "print(type(()))"
   ]
  },
  {
   "cell_type": "code",
   "execution_count": 9,
   "id": "838250ae-1e34-44ba-85f5-f914412fd16f",
   "metadata": {},
   "outputs": [],
   "source": [
    "t=(1,23,3.4,3.0,\"A\",\"Welcome to Data Science Masters\",True)"
   ]
  },
  {
   "cell_type": "code",
   "execution_count": 10,
   "id": "a1bf1b07-9691-48a3-8985-54c550bb294e",
   "metadata": {},
   "outputs": [
    {
     "data": {
      "text/plain": [
       "tuple"
      ]
     },
     "execution_count": 10,
     "metadata": {},
     "output_type": "execute_result"
    }
   ],
   "source": [
    "type(t)"
   ]
  },
  {
   "cell_type": "code",
   "execution_count": 11,
   "id": "5e728382-3348-4876-b094-627e20f3b6aa",
   "metadata": {},
   "outputs": [
    {
     "data": {
      "text/plain": [
       "(1, 23, 3.4, 3.0, 'A', 'Welcome to Data Science Masters', True)"
      ]
     },
     "execution_count": 11,
     "metadata": {},
     "output_type": "execute_result"
    }
   ],
   "source": [
    "t"
   ]
  },
  {
   "cell_type": "code",
   "execution_count": 12,
   "id": "15b1bfcd-2fe9-4e32-aeec-3935b88814e8",
   "metadata": {},
   "outputs": [],
   "source": [
    "#TUPPLES AND LISTS DIFFERENCES\n",
    "#I)IN LIST WE USE SQUARE BRACKET WHILE IN TUPPLE WE USE ROUND BRACKET"
   ]
  },
  {
   "cell_type": "code",
   "execution_count": 14,
   "id": "d21ba48d-6ed6-4aae-9fea-f9ad1cf7a573",
   "metadata": {},
   "outputs": [
    {
     "data": {
      "text/plain": [
       "1"
      ]
     },
     "execution_count": 14,
     "metadata": {},
     "output_type": "execute_result"
    }
   ],
   "source": [
    "t[0]"
   ]
  },
  {
   "cell_type": "code",
   "execution_count": 15,
   "id": "6b58e57c-1629-41e0-8946-e646ba8dbc36",
   "metadata": {},
   "outputs": [
    {
     "data": {
      "text/plain": [
       "3.0"
      ]
     },
     "execution_count": 15,
     "metadata": {},
     "output_type": "execute_result"
    }
   ],
   "source": [
    "t[3]"
   ]
  },
  {
   "cell_type": "code",
   "execution_count": 16,
   "id": "5936c480-60ca-42c0-8bf5-a7620ff07c8b",
   "metadata": {},
   "outputs": [
    {
     "data": {
      "text/plain": [
       "'A'"
      ]
     },
     "execution_count": 16,
     "metadata": {},
     "output_type": "execute_result"
    }
   ],
   "source": [
    "t[4]"
   ]
  },
  {
   "cell_type": "code",
   "execution_count": 17,
   "id": "40667856-82bc-4475-a023-e53882aa04b8",
   "metadata": {},
   "outputs": [
    {
     "data": {
      "text/plain": [
       "'Welcome to Data Science Masters'"
      ]
     },
     "execution_count": 17,
     "metadata": {},
     "output_type": "execute_result"
    }
   ],
   "source": [
    "t[5]"
   ]
  },
  {
   "cell_type": "code",
   "execution_count": 18,
   "id": "c8d1c1c9-ba28-40ee-80da-46c32e0c3e7f",
   "metadata": {},
   "outputs": [
    {
     "data": {
      "text/plain": [
       "True"
      ]
     },
     "execution_count": 18,
     "metadata": {},
     "output_type": "execute_result"
    }
   ],
   "source": [
    "t[-1]"
   ]
  },
  {
   "cell_type": "code",
   "execution_count": 19,
   "id": "ba420d1b-5e8b-46d2-9dfe-a1318d89aee6",
   "metadata": {},
   "outputs": [
    {
     "data": {
      "text/plain": [
       "3.0"
      ]
     },
     "execution_count": 19,
     "metadata": {},
     "output_type": "execute_result"
    }
   ],
   "source": [
    "t[-4]"
   ]
  },
  {
   "cell_type": "code",
   "execution_count": 20,
   "id": "1619cc4d-907f-42d1-8052-dcb1140fe49d",
   "metadata": {},
   "outputs": [
    {
     "data": {
      "text/plain": [
       "7"
      ]
     },
     "execution_count": 20,
     "metadata": {},
     "output_type": "execute_result"
    }
   ],
   "source": [
    "len(t)"
   ]
  },
  {
   "cell_type": "code",
   "execution_count": 21,
   "id": "7be740ae-00ba-40ef-b189-189036d6c445",
   "metadata": {},
   "outputs": [
    {
     "data": {
      "text/plain": [
       "(True, 'Welcome to Data Science Masters', 'A', 3.0, 3.4, 23, 1)"
      ]
     },
     "execution_count": 21,
     "metadata": {},
     "output_type": "execute_result"
    }
   ],
   "source": [
    "t[::-1]"
   ]
  },
  {
   "cell_type": "code",
   "execution_count": 22,
   "id": "be1bf4c2-be9c-4b01-9026-c0b394fcbd19",
   "metadata": {},
   "outputs": [
    {
     "data": {
      "text/plain": [
       "(1, 23, 3.4, 3.0, 'A', 'Welcome to Data Science Masters', True)"
      ]
     },
     "execution_count": 22,
     "metadata": {},
     "output_type": "execute_result"
    }
   ],
   "source": [
    "t"
   ]
  },
  {
   "cell_type": "code",
   "execution_count": 23,
   "id": "4ab6b613-953c-4981-b712-d90e7c18c7f3",
   "metadata": {},
   "outputs": [],
   "source": [
    "t=[3+4j,True, 'Welcome to Data Science Masters', 'A', 3.0, 3.4, 23, 1]"
   ]
  },
  {
   "cell_type": "code",
   "execution_count": 24,
   "id": "e590436b-f6ab-41b3-b1d2-2c5e3ce4da3b",
   "metadata": {},
   "outputs": [
    {
     "data": {
      "text/plain": [
       "[(3+4j), True, 'Welcome to Data Science Masters', 'A', 3.0, 3.4, 23, 1]"
      ]
     },
     "execution_count": 24,
     "metadata": {},
     "output_type": "execute_result"
    }
   ],
   "source": [
    "t"
   ]
  },
  {
   "cell_type": "code",
   "execution_count": 35,
   "id": "be8afa25-a2bb-4128-bf83-8792c4026ef4",
   "metadata": {},
   "outputs": [
    {
     "data": {
      "text/plain": [
       "[1, 23, 3.4, 3.0, 'A', 'Welcome to Data Science Masters', True, (3+4j)]"
      ]
     },
     "execution_count": 35,
     "metadata": {},
     "output_type": "execute_result"
    }
   ],
   "source": [
    "#Index Slicing for Tuples\n",
    "t[::-1]"
   ]
  },
  {
   "cell_type": "code",
   "execution_count": 31,
   "id": "a1bfd1eb-9f3a-4793-ac82-bcb699855d99",
   "metadata": {},
   "outputs": [],
   "source": [
    "t1=t[::-1]"
   ]
  },
  {
   "cell_type": "code",
   "execution_count": 32,
   "id": "08a50fb3-3df5-4f47-8708-e073e8f4ef83",
   "metadata": {},
   "outputs": [
    {
     "data": {
      "text/plain": [
       "[1, 23, 3.4, 3.0, 'A', 'Welcome to Data Science Masters', True, (3+4j)]"
      ]
     },
     "execution_count": 32,
     "metadata": {},
     "output_type": "execute_result"
    }
   ],
   "source": [
    "t1"
   ]
  },
  {
   "cell_type": "code",
   "execution_count": 36,
   "id": "d8f451b0-93ef-4600-b203-77c39f5438e6",
   "metadata": {},
   "outputs": [
    {
     "data": {
      "text/plain": [
       "[(3+4j), True, 'Welcome to Data Science Masters']"
      ]
     },
     "execution_count": 36,
     "metadata": {},
     "output_type": "execute_result"
    }
   ],
   "source": [
    "t1[-1:-4:-1]"
   ]
  },
  {
   "cell_type": "code",
   "execution_count": 66,
   "id": "14ae592b-d09a-4394-8c9c-1d6694a67d96",
   "metadata": {},
   "outputs": [
    {
     "ename": "AttributeError",
     "evalue": "'tuple' object has no attribute 'reverse'",
     "output_type": "error",
     "traceback": [
      "\u001b[0;31m---------------------------------------------------------------------------\u001b[0m",
      "\u001b[0;31mAttributeError\u001b[0m                            Traceback (most recent call last)",
      "Cell \u001b[0;32mIn[66], line 1\u001b[0m\n\u001b[0;32m----> 1\u001b[0m \u001b[43mt1\u001b[49m\u001b[38;5;241;43m.\u001b[39;49m\u001b[43mreverse\u001b[49m()\n",
      "\u001b[0;31mAttributeError\u001b[0m: 'tuple' object has no attribute 'reverse'"
     ]
    }
   ],
   "source": [
    "t1.reverse()"
   ]
  },
  {
   "cell_type": "code",
   "execution_count": 38,
   "id": "dfc3a7e3-8968-473a-b94c-dd230a5213cb",
   "metadata": {},
   "outputs": [
    {
     "data": {
      "text/plain": [
       "[(3+4j), True, 'Welcome to Data Science Masters', 'A', 3.0, 3.4, 23, 1]"
      ]
     },
     "execution_count": 38,
     "metadata": {},
     "output_type": "execute_result"
    }
   ],
   "source": [
    "t1"
   ]
  },
  {
   "cell_type": "code",
   "execution_count": 39,
   "id": "79d8dfb9-756c-4955-b89a-0dbfbd66fd15",
   "metadata": {},
   "outputs": [
    {
     "ename": "TypeError",
     "evalue": "'<' not supported between instances of 'bool' and 'complex'",
     "output_type": "error",
     "traceback": [
      "\u001b[0;31m---------------------------------------------------------------------------\u001b[0m",
      "\u001b[0;31mTypeError\u001b[0m                                 Traceback (most recent call last)",
      "Cell \u001b[0;32mIn[39], line 1\u001b[0m\n\u001b[0;32m----> 1\u001b[0m \u001b[43mt1\u001b[49m\u001b[38;5;241;43m.\u001b[39;49m\u001b[43msort\u001b[49m\u001b[43m(\u001b[49m\u001b[43m)\u001b[49m\n",
      "\u001b[0;31mTypeError\u001b[0m: '<' not supported between instances of 'bool' and 'complex'"
     ]
    }
   ],
   "source": [
    "t1.sort()"
   ]
  },
  {
   "cell_type": "code",
   "execution_count": 40,
   "id": "cdda399a-8f0d-4dff-9d40-3ac4a06bdba2",
   "metadata": {},
   "outputs": [],
   "source": [
    "t=(\"Mercedes\",\"BMW\",\"City\",\"Audi\",\"Ferrari\")"
   ]
  },
  {
   "cell_type": "code",
   "execution_count": 41,
   "id": "0c76b9a7-5339-4f36-992c-6fd60254b4ea",
   "metadata": {},
   "outputs": [
    {
     "data": {
      "text/plain": [
       "('Mercedes', 'BMW', 'City', 'Audi', 'Ferrari')"
      ]
     },
     "execution_count": 41,
     "metadata": {},
     "output_type": "execute_result"
    }
   ],
   "source": [
    "t"
   ]
  },
  {
   "cell_type": "code",
   "execution_count": 43,
   "id": "fa421298-8991-4843-8b6a-6e0da472148a",
   "metadata": {},
   "outputs": [
    {
     "data": {
      "text/plain": [
       "('Mercedes', 'BMW', 'City', 'Audi', 'Ferrari')"
      ]
     },
     "execution_count": 43,
     "metadata": {},
     "output_type": "execute_result"
    }
   ],
   "source": [
    "t"
   ]
  },
  {
   "cell_type": "code",
   "execution_count": 45,
   "id": "d549ad1f-aab1-4732-aa53-d789a113cc53",
   "metadata": {},
   "outputs": [
    {
     "ename": "AttributeError",
     "evalue": "'tuple' object has no attribute 'sort'",
     "output_type": "error",
     "traceback": [
      "\u001b[0;31m---------------------------------------------------------------------------\u001b[0m",
      "\u001b[0;31mAttributeError\u001b[0m                            Traceback (most recent call last)",
      "Cell \u001b[0;32mIn[45], line 1\u001b[0m\n\u001b[0;32m----> 1\u001b[0m \u001b[43mt\u001b[49m\u001b[38;5;241;43m.\u001b[39;49m\u001b[43msort\u001b[49m()\n",
      "\u001b[0;31mAttributeError\u001b[0m: 'tuple' object has no attribute 'sort'"
     ]
    }
   ],
   "source": [
    "t.sort()"
   ]
  },
  {
   "cell_type": "code",
   "execution_count": 46,
   "id": "282156a2-5910-44e9-b3f3-b23f2925c043",
   "metadata": {},
   "outputs": [],
   "source": [
    "del(t)"
   ]
  },
  {
   "cell_type": "code",
   "execution_count": 47,
   "id": "98ce6d26-d869-485d-bc05-d416c4848e3d",
   "metadata": {},
   "outputs": [],
   "source": [
    "t=(\"Mercedes\",\"BMW\",\"City\",\"Audi\",\"Ferrari\")"
   ]
  },
  {
   "cell_type": "code",
   "execution_count": 48,
   "id": "ce553cf6-3a76-43ed-9cd3-acb755ff1a30",
   "metadata": {},
   "outputs": [
    {
     "data": {
      "text/plain": [
       "('Mercedes', 'BMW', 'City', 'Audi', 'Ferrari')"
      ]
     },
     "execution_count": 48,
     "metadata": {},
     "output_type": "execute_result"
    }
   ],
   "source": [
    "t"
   ]
  },
  {
   "cell_type": "code",
   "execution_count": 49,
   "id": "fdafbb2e-dbf2-470b-bcbc-f5a9df4380b0",
   "metadata": {},
   "outputs": [
    {
     "ename": "AttributeError",
     "evalue": "'tuple' object has no attribute 'sort'",
     "output_type": "error",
     "traceback": [
      "\u001b[0;31m---------------------------------------------------------------------------\u001b[0m",
      "\u001b[0;31mAttributeError\u001b[0m                            Traceback (most recent call last)",
      "Cell \u001b[0;32mIn[49], line 1\u001b[0m\n\u001b[0;32m----> 1\u001b[0m \u001b[43mt\u001b[49m\u001b[38;5;241;43m.\u001b[39;49m\u001b[43msort\u001b[49m()\n",
      "\u001b[0;31mAttributeError\u001b[0m: 'tuple' object has no attribute 'sort'"
     ]
    }
   ],
   "source": [
    "t.sort()"
   ]
  },
  {
   "cell_type": "code",
   "execution_count": 50,
   "id": "382f8faa-acfa-46aa-aa6d-b8995142f8ce",
   "metadata": {},
   "outputs": [
    {
     "data": {
      "text/plain": [
       "[(3+4j), True, 'Welcome to Data Science Masters', 'A', 3.0, 3.4, 23, 1]"
      ]
     },
     "execution_count": 50,
     "metadata": {},
     "output_type": "execute_result"
    }
   ],
   "source": [
    "t1"
   ]
  },
  {
   "cell_type": "code",
   "execution_count": 51,
   "id": "928a6d4b-b2c2-4f38-9ba7-41a5d5dc131d",
   "metadata": {},
   "outputs": [],
   "source": [
    "t1[0]=4"
   ]
  },
  {
   "cell_type": "code",
   "execution_count": 52,
   "id": "6a881e02-8eda-472a-a03d-06265131ce9b",
   "metadata": {},
   "outputs": [],
   "source": [
    "t1[1]=\"PW Skills\""
   ]
  },
  {
   "cell_type": "code",
   "execution_count": 53,
   "id": "c2590308-dba2-40d5-9071-a38e6b26ea88",
   "metadata": {},
   "outputs": [
    {
     "data": {
      "text/plain": [
       "[4, 'PW Skills', 'Welcome to Data Science Masters', 'A', 3.0, 3.4, 23, 1]"
      ]
     },
     "execution_count": 53,
     "metadata": {},
     "output_type": "execute_result"
    }
   ],
   "source": [
    "t1"
   ]
  },
  {
   "cell_type": "code",
   "execution_count": 55,
   "id": "046a1bf3-2773-4b32-bc3f-9d310f91482d",
   "metadata": {},
   "outputs": [],
   "source": [
    "t1=t"
   ]
  },
  {
   "cell_type": "code",
   "execution_count": 56,
   "id": "b0bb84fd-cce1-434e-bb11-79ffa9c5338c",
   "metadata": {},
   "outputs": [
    {
     "data": {
      "text/plain": [
       "('Mercedes', 'BMW', 'City', 'Audi', 'Ferrari')"
      ]
     },
     "execution_count": 56,
     "metadata": {},
     "output_type": "execute_result"
    }
   ],
   "source": [
    "t1"
   ]
  },
  {
   "cell_type": "code",
   "execution_count": 57,
   "id": "25587326-4fef-4f1d-ba90-d3377c644fcf",
   "metadata": {},
   "outputs": [
    {
     "ename": "AttributeError",
     "evalue": "'tuple' object has no attribute 'sort'",
     "output_type": "error",
     "traceback": [
      "\u001b[0;31m---------------------------------------------------------------------------\u001b[0m",
      "\u001b[0;31mAttributeError\u001b[0m                            Traceback (most recent call last)",
      "Cell \u001b[0;32mIn[57], line 1\u001b[0m\n\u001b[0;32m----> 1\u001b[0m \u001b[43mt1\u001b[49m\u001b[38;5;241;43m.\u001b[39;49m\u001b[43msort\u001b[49m()\n",
      "\u001b[0;31mAttributeError\u001b[0m: 'tuple' object has no attribute 'sort'"
     ]
    }
   ],
   "source": [
    "t1.sort()"
   ]
  },
  {
   "cell_type": "code",
   "execution_count": 58,
   "id": "f484fbdd-e184-4a2f-af57-4df6f29a3ce4",
   "metadata": {},
   "outputs": [
    {
     "ename": "AttributeError",
     "evalue": "'tuple' object has no attribute 'reverse'",
     "output_type": "error",
     "traceback": [
      "\u001b[0;31m---------------------------------------------------------------------------\u001b[0m",
      "\u001b[0;31mAttributeError\u001b[0m                            Traceback (most recent call last)",
      "Cell \u001b[0;32mIn[58], line 1\u001b[0m\n\u001b[0;32m----> 1\u001b[0m \u001b[43mt1\u001b[49m\u001b[38;5;241;43m.\u001b[39;49m\u001b[43mreverse\u001b[49m()\n",
      "\u001b[0;31mAttributeError\u001b[0m: 'tuple' object has no attribute 'reverse'"
     ]
    }
   ],
   "source": [
    "t1.reverse()"
   ]
  },
  {
   "cell_type": "code",
   "execution_count": 59,
   "id": "a1ac2171-c70a-4bd7-b1f8-dcf2a9a0f1cc",
   "metadata": {},
   "outputs": [
    {
     "data": {
      "text/plain": [
       "('Mercedes', 'BMW', 'City', 'Audi', 'Ferrari')"
      ]
     },
     "execution_count": 59,
     "metadata": {},
     "output_type": "execute_result"
    }
   ],
   "source": [
    "t1"
   ]
  },
  {
   "cell_type": "code",
   "execution_count": 61,
   "id": "41101942-bb8a-440d-8e2c-f996bbaa8c26",
   "metadata": {},
   "outputs": [
    {
     "data": {
      "text/plain": [
       "<function tuple.count(value, /)>"
      ]
     },
     "execution_count": 61,
     "metadata": {},
     "output_type": "execute_result"
    }
   ],
   "source": [
    "t1.count"
   ]
  },
  {
   "cell_type": "code",
   "execution_count": 62,
   "id": "864443a3-0da7-4ce1-bd1b-2ef2ef2d42dc",
   "metadata": {},
   "outputs": [
    {
     "data": {
      "text/plain": [
       "<function tuple.index(value, start=0, stop=9223372036854775807, /)>"
      ]
     },
     "execution_count": 62,
     "metadata": {},
     "output_type": "execute_result"
    }
   ],
   "source": [
    "t1.index"
   ]
  },
  {
   "cell_type": "code",
   "execution_count": 63,
   "id": "c5c34a1a-c7c5-4123-a061-fd7dd7662ab1",
   "metadata": {},
   "outputs": [
    {
     "data": {
      "text/plain": [
       "1"
      ]
     },
     "execution_count": 63,
     "metadata": {},
     "output_type": "execute_result"
    }
   ],
   "source": [
    "t1.index(\"BMW\")"
   ]
  },
  {
   "cell_type": "code",
   "execution_count": 64,
   "id": "446ae92a-cb77-47ba-b3d8-b59719fd95fc",
   "metadata": {},
   "outputs": [
    {
     "data": {
      "text/plain": [
       "1"
      ]
     },
     "execution_count": 64,
     "metadata": {},
     "output_type": "execute_result"
    }
   ],
   "source": [
    "t1.count(\"Audi\")"
   ]
  },
  {
   "cell_type": "code",
   "execution_count": 65,
   "id": "3d89b56f-e161-42df-a5d5-ce51b490af98",
   "metadata": {},
   "outputs": [
    {
     "ename": "AttributeError",
     "evalue": "'tuple' object has no attribute 'reverse'",
     "output_type": "error",
     "traceback": [
      "\u001b[0;31m---------------------------------------------------------------------------\u001b[0m",
      "\u001b[0;31mAttributeError\u001b[0m                            Traceback (most recent call last)",
      "Cell \u001b[0;32mIn[65], line 1\u001b[0m\n\u001b[0;32m----> 1\u001b[0m \u001b[43mt1\u001b[49m\u001b[38;5;241;43m.\u001b[39;49m\u001b[43mreverse\u001b[49m()\n",
      "\u001b[0;31mAttributeError\u001b[0m: 'tuple' object has no attribute 'reverse'"
     ]
    }
   ],
   "source": [
    "t1.reverse()"
   ]
  },
  {
   "cell_type": "code",
   "execution_count": 72,
   "id": "34d34175-21b7-4d8a-9e57-0d9df59708a6",
   "metadata": {},
   "outputs": [],
   "source": [
    "t=(\"A\",2,3,4,44,4,5,6,34,4,4,True,1,0)"
   ]
  },
  {
   "cell_type": "code",
   "execution_count": 68,
   "id": "25f1f832-9a38-44af-b81d-cfa4ffaf4421",
   "metadata": {},
   "outputs": [
    {
     "data": {
      "text/plain": [
       "4"
      ]
     },
     "execution_count": 68,
     "metadata": {},
     "output_type": "execute_result"
    }
   ],
   "source": [
    "t.count(4)"
   ]
  },
  {
   "cell_type": "code",
   "execution_count": 69,
   "id": "a8722a32-26cf-41b9-94fc-1c8959434a32",
   "metadata": {},
   "outputs": [
    {
     "data": {
      "text/plain": [
       "0"
      ]
     },
     "execution_count": 69,
     "metadata": {},
     "output_type": "execute_result"
    }
   ],
   "source": [
    "t.count(\"B\")"
   ]
  },
  {
   "cell_type": "code",
   "execution_count": 70,
   "id": "81b2cf7e-8be3-4c30-98c8-c8b217a79fef",
   "metadata": {},
   "outputs": [
    {
     "data": {
      "text/plain": [
       "3"
      ]
     },
     "execution_count": 70,
     "metadata": {},
     "output_type": "execute_result"
    }
   ],
   "source": [
    "t.index(4) #Gives First Occurence of Element"
   ]
  },
  {
   "cell_type": "code",
   "execution_count": 73,
   "id": "bd1fc1f2-b8c7-4cd8-a75c-c19cf9f5bc96",
   "metadata": {},
   "outputs": [
    {
     "data": {
      "text/plain": [
       "2"
      ]
     },
     "execution_count": 73,
     "metadata": {},
     "output_type": "execute_result"
    }
   ],
   "source": [
    "t.count(1)"
   ]
  },
  {
   "cell_type": "code",
   "execution_count": 74,
   "id": "5f7538a5-96d6-4c50-81ee-586f464c4e9b",
   "metadata": {},
   "outputs": [
    {
     "data": {
      "text/plain": [
       "2"
      ]
     },
     "execution_count": 74,
     "metadata": {},
     "output_type": "execute_result"
    }
   ],
   "source": [
    "t.count(True)"
   ]
  },
  {
   "cell_type": "code",
   "execution_count": 75,
   "id": "efaff7e3-0b63-4b76-98d2-c9a685c67143",
   "metadata": {},
   "outputs": [
    {
     "data": {
      "text/plain": [
       "1"
      ]
     },
     "execution_count": 75,
     "metadata": {},
     "output_type": "execute_result"
    }
   ],
   "source": [
    "t.count(False)"
   ]
  },
  {
   "cell_type": "code",
   "execution_count": 76,
   "id": "d4388439-1f0c-478c-974f-9fd1086a3a05",
   "metadata": {},
   "outputs": [
    {
     "ename": "TypeError",
     "evalue": "'tuple' object does not support item assignment",
     "output_type": "error",
     "traceback": [
      "\u001b[0;31m---------------------------------------------------------------------------\u001b[0m",
      "\u001b[0;31mTypeError\u001b[0m                                 Traceback (most recent call last)",
      "Cell \u001b[0;32mIn[76], line 1\u001b[0m\n\u001b[0;32m----> 1\u001b[0m \u001b[43mt\u001b[49m\u001b[43m[\u001b[49m\u001b[38;5;241;43m0\u001b[39;49m\u001b[43m]\u001b[49m\u001b[38;5;241m=\u001b[39m\u001b[38;5;124m\"\u001b[39m\u001b[38;5;124mB\u001b[39m\u001b[38;5;124m\"\u001b[39m\n",
      "\u001b[0;31mTypeError\u001b[0m: 'tuple' object does not support item assignment"
     ]
    }
   ],
   "source": [
    "t[0]=\"B\""
   ]
  },
  {
   "cell_type": "code",
   "execution_count": 77,
   "id": "e9be226d-4bd6-4678-a997-80658abd35b3",
   "metadata": {},
   "outputs": [],
   "source": [
    "#Tupples does not support mutablity concept"
   ]
  },
  {
   "cell_type": "code",
   "execution_count": 78,
   "id": "ae595a7e-2fff-491b-a894-80830aebab5a",
   "metadata": {},
   "outputs": [],
   "source": [
    "#Basically Tupples are Immutable in Nature"
   ]
  },
  {
   "cell_type": "code",
   "execution_count": 79,
   "id": "6fbe597f-6acc-43a6-aa85-02ceccb1776d",
   "metadata": {},
   "outputs": [],
   "source": [
    "#LISTS ARE MUTABLE AND TUPLE ARE IMMUTABLE"
   ]
  },
  {
   "cell_type": "code",
   "execution_count": 80,
   "id": "e1bade27-5913-4bd0-979f-916b0c54adf1",
   "metadata": {},
   "outputs": [
    {
     "data": {
      "text/plain": [
       "('Mercedes', 'BMW', 'City', 'Audi', 'Ferrari')"
      ]
     },
     "execution_count": 80,
     "metadata": {},
     "output_type": "execute_result"
    }
   ],
   "source": [
    "t1"
   ]
  },
  {
   "cell_type": "code",
   "execution_count": 82,
   "id": "2ac14a22-be8a-484a-b7a7-35f025059437",
   "metadata": {},
   "outputs": [],
   "source": [
    "#Tupple has count which counts given element occurence and index operation for finding index of first occuring element\n",
    "#for given element"
   ]
  },
  {
   "cell_type": "code",
   "execution_count": 84,
   "id": "3d7b0dba-023e-4ae2-84aa-4fe2e3b9c577",
   "metadata": {},
   "outputs": [
    {
     "name": "stdout",
     "output_type": "stream",
     "text": [
      "Mercedes\n",
      "BMW\n",
      "City\n",
      "Audi\n",
      "Ferrari\n"
     ]
    }
   ],
   "source": [
    "for i in t1:\n",
    "    print(i)"
   ]
  },
  {
   "cell_type": "code",
   "execution_count": 85,
   "id": "476a4071-af70-4c60-8faf-94b8222ad2d8",
   "metadata": {},
   "outputs": [
    {
     "data": {
      "text/plain": [
       "True"
      ]
     },
     "execution_count": 85,
     "metadata": {},
     "output_type": "execute_result"
    }
   ],
   "source": [
    "\"BMW\" in t1"
   ]
  },
  {
   "cell_type": "code",
   "execution_count": 86,
   "id": "fcc0cc18-da33-49a9-a888-7f652a5bf997",
   "metadata": {},
   "outputs": [
    {
     "name": "stdout",
     "output_type": "stream",
     "text": [
      "Element = Mercedes , Datatype = <class 'str'>\n",
      "Element = BMW , Datatype = <class 'str'>\n",
      "Element = City , Datatype = <class 'str'>\n",
      "Element = Audi , Datatype = <class 'str'>\n",
      "Element = Ferrari , Datatype = <class 'str'>\n"
     ]
    }
   ],
   "source": [
    "for i in t1:\n",
    "    print(f\"Element = {i} , Datatype = {type(i)}\")"
   ]
  },
  {
   "cell_type": "code",
   "execution_count": 89,
   "id": "c9899a8b-ebff-45e7-bfe3-43e393712f31",
   "metadata": {},
   "outputs": [
    {
     "data": {
      "text/plain": [
       "('Mercedes',\n",
       " 'BMW',\n",
       " 'City',\n",
       " 'Audi',\n",
       " 'Ferrari',\n",
       " 'Mercedes',\n",
       " 'BMW',\n",
       " 'City',\n",
       " 'Audi',\n",
       " 'Ferrari',\n",
       " 'Mercedes',\n",
       " 'BMW',\n",
       " 'City',\n",
       " 'Audi',\n",
       " 'Ferrari')"
      ]
     },
     "execution_count": 89,
     "metadata": {},
     "output_type": "execute_result"
    }
   ],
   "source": [
    "t1*3 #Triples every element so it's length also increases"
   ]
  },
  {
   "cell_type": "code",
   "execution_count": 90,
   "id": "8bfc3746-88fd-4451-80ba-738958c67d82",
   "metadata": {},
   "outputs": [
    {
     "data": {
      "text/plain": [
       "('Mercedes', 'BMW', 'City', 'Audi', 'Ferrari')"
      ]
     },
     "execution_count": 90,
     "metadata": {},
     "output_type": "execute_result"
    }
   ],
   "source": [
    "t1"
   ]
  },
  {
   "cell_type": "code",
   "execution_count": 92,
   "id": "8236f50f-623e-492b-9ea3-0e12a8921bd8",
   "metadata": {},
   "outputs": [
    {
     "data": {
      "text/plain": [
       "'Mercedes'"
      ]
     },
     "execution_count": 92,
     "metadata": {},
     "output_type": "execute_result"
    }
   ],
   "source": [
    "max(t1)"
   ]
  },
  {
   "cell_type": "code",
   "execution_count": 93,
   "id": "c8d6e169-0dc2-4eb1-9e93-b94b34296564",
   "metadata": {},
   "outputs": [
    {
     "data": {
      "text/plain": [
       "'Audi'"
      ]
     },
     "execution_count": 93,
     "metadata": {},
     "output_type": "execute_result"
    }
   ],
   "source": [
    "min(t1)"
   ]
  },
  {
   "cell_type": "code",
   "execution_count": 95,
   "id": "3d786401-6182-4564-9b47-6516ac2eb1de",
   "metadata": {},
   "outputs": [],
   "source": [
    "t2=(\"Honda\",\"Toyota\")"
   ]
  },
  {
   "cell_type": "code",
   "execution_count": 96,
   "id": "3cc2605d-eab2-40b1-93a9-4e47f0b0945b",
   "metadata": {},
   "outputs": [
    {
     "data": {
      "text/plain": [
       "('Honda', 'Toyota')"
      ]
     },
     "execution_count": 96,
     "metadata": {},
     "output_type": "execute_result"
    }
   ],
   "source": [
    "t2"
   ]
  },
  {
   "cell_type": "code",
   "execution_count": 97,
   "id": "5ca3b315-4589-4c06-9356-8b3b018cb744",
   "metadata": {},
   "outputs": [
    {
     "data": {
      "text/plain": [
       "('Mercedes', 'BMW', 'City', 'Audi', 'Ferrari', 'Honda', 'Toyota')"
      ]
     },
     "execution_count": 97,
     "metadata": {},
     "output_type": "execute_result"
    }
   ],
   "source": [
    "t1 + t2"
   ]
  },
  {
   "cell_type": "markdown",
   "id": "6b970d83-4758-4a37-a46c-fb56756ba821",
   "metadata": {},
   "source": [
    "\"\"\"Tuple are basically follows  Immutability concepts where it is not going to allow to change any element at a perticular index\"\"\""
   ]
  },
  {
   "cell_type": "code",
   "execution_count": 99,
   "id": "3e7ff23b-5744-49f4-97bd-990de5a0a942",
   "metadata": {},
   "outputs": [],
   "source": [
    "t3=(t1,t2)"
   ]
  },
  {
   "cell_type": "code",
   "execution_count": 100,
   "id": "fe9d69e6-e1da-49d3-b987-46f806035e37",
   "metadata": {},
   "outputs": [
    {
     "data": {
      "text/plain": [
       "(('Mercedes', 'BMW', 'City', 'Audi', 'Ferrari'), ('Honda', 'Toyota'))"
      ]
     },
     "execution_count": 100,
     "metadata": {},
     "output_type": "execute_result"
    }
   ],
   "source": [
    "t3"
   ]
  },
  {
   "cell_type": "code",
   "execution_count": 101,
   "id": "420d99e3-b91c-4765-9754-031a60ed1b58",
   "metadata": {},
   "outputs": [],
   "source": [
    "t4=((t1),[1,\"Pw Skills\",4.5,5.0],[\"A\",3,True])"
   ]
  },
  {
   "cell_type": "code",
   "execution_count": 102,
   "id": "49f7e2be-23b5-44c6-bfec-7510e85915a9",
   "metadata": {},
   "outputs": [
    {
     "data": {
      "text/plain": [
       "(('Mercedes', 'BMW', 'City', 'Audi', 'Ferrari'),\n",
       " [1, 'Pw Skills', 4.5, 5.0],\n",
       " ['A', 3, True])"
      ]
     },
     "execution_count": 102,
     "metadata": {},
     "output_type": "execute_result"
    }
   ],
   "source": [
    "t4"
   ]
  },
  {
   "cell_type": "code",
   "execution_count": 103,
   "id": "b22a8223-58d2-4cf8-9679-bf55ff222fca",
   "metadata": {},
   "outputs": [],
   "source": [
    "del(t1)"
   ]
  },
  {
   "cell_type": "code",
   "execution_count": 104,
   "id": "85c6f4e2-1b63-4065-afe2-4e16aa38ff58",
   "metadata": {},
   "outputs": [
    {
     "data": {
      "text/plain": [
       "(('Mercedes', 'BMW', 'City', 'Audi', 'Ferrari'),\n",
       " [1, 'Pw Skills', 4.5, 5.0],\n",
       " ['A', 3, True])"
      ]
     },
     "execution_count": 104,
     "metadata": {},
     "output_type": "execute_result"
    }
   ],
   "source": [
    "t4"
   ]
  },
  {
   "cell_type": "code",
   "execution_count": 105,
   "id": "02bcbfc7-aadb-415d-ab4c-fb514ed11861",
   "metadata": {},
   "outputs": [
    {
     "data": {
      "text/plain": [
       "('A', 2, 3, 4, 44, 4, 5, 6, 34, 4, 4, True, 1, 0)"
      ]
     },
     "execution_count": 105,
     "metadata": {},
     "output_type": "execute_result"
    }
   ],
   "source": [
    "t"
   ]
  },
  {
   "cell_type": "code",
   "execution_count": 106,
   "id": "9b65a137-a8f6-4bc0-9529-135f5399cfb7",
   "metadata": {},
   "outputs": [
    {
     "ename": "NameError",
     "evalue": "name 't1' is not defined",
     "output_type": "error",
     "traceback": [
      "\u001b[0;31m---------------------------------------------------------------------------\u001b[0m",
      "\u001b[0;31mNameError\u001b[0m                                 Traceback (most recent call last)",
      "Cell \u001b[0;32mIn[106], line 1\u001b[0m\n\u001b[0;32m----> 1\u001b[0m \u001b[43mt1\u001b[49m\n",
      "\u001b[0;31mNameError\u001b[0m: name 't1' is not defined"
     ]
    }
   ],
   "source": [
    "t1"
   ]
  },
  {
   "cell_type": "code",
   "execution_count": 107,
   "id": "9d67e759-61ff-426a-9c84-72b680435058",
   "metadata": {},
   "outputs": [
    {
     "data": {
      "text/plain": [
       "3"
      ]
     },
     "execution_count": 107,
     "metadata": {},
     "output_type": "execute_result"
    }
   ],
   "source": [
    "len(t4)"
   ]
  },
  {
   "cell_type": "code",
   "execution_count": 108,
   "id": "40dc501f-c5b4-494d-a4d3-54b25805c35b",
   "metadata": {},
   "outputs": [
    {
     "data": {
      "text/plain": [
       "(('Mercedes', 'BMW', 'City', 'Audi', 'Ferrari'),\n",
       " [1, 'Pw Skills', 4.5, 5.0],\n",
       " ['A', 3, True])"
      ]
     },
     "execution_count": 108,
     "metadata": {},
     "output_type": "execute_result"
    }
   ],
   "source": [
    "t4"
   ]
  },
  {
   "cell_type": "code",
   "execution_count": 109,
   "id": "da2bd8dd-1f7d-497c-b7ea-c7540e545b5a",
   "metadata": {},
   "outputs": [
    {
     "data": {
      "text/plain": [
       "False"
      ]
     },
     "execution_count": 109,
     "metadata": {},
     "output_type": "execute_result"
    }
   ],
   "source": [
    "5.0 in t4"
   ]
  },
  {
   "cell_type": "code",
   "execution_count": 110,
   "id": "226fb7b9-f511-4ea8-84d0-363bf9fbf9d3",
   "metadata": {},
   "outputs": [
    {
     "data": {
      "text/plain": [
       "False"
      ]
     },
     "execution_count": 110,
     "metadata": {},
     "output_type": "execute_result"
    }
   ],
   "source": [
    "'A' in t4"
   ]
  },
  {
   "cell_type": "code",
   "execution_count": 111,
   "id": "d97e74a9-1e84-4b6d-afde-12ebd63beb96",
   "metadata": {},
   "outputs": [
    {
     "data": {
      "text/plain": [
       "True"
      ]
     },
     "execution_count": 111,
     "metadata": {},
     "output_type": "execute_result"
    }
   ],
   "source": [
    "['A', 3,True] in t4"
   ]
  },
  {
   "cell_type": "markdown",
   "id": "c723bf89-2fe7-4522-be65-03dc5eee83d3",
   "metadata": {},
   "source": [
    "###SETS"
   ]
  },
  {
   "cell_type": "code",
   "execution_count": 112,
   "id": "762d598e-2dbd-4e2b-9ea3-b2371f288b32",
   "metadata": {},
   "outputs": [],
   "source": [
    "s={}"
   ]
  },
  {
   "cell_type": "code",
   "execution_count": 113,
   "id": "69184363-b6c7-4339-83d7-40c770d68fa6",
   "metadata": {},
   "outputs": [
    {
     "data": {
      "text/plain": [
       "dict"
      ]
     },
     "execution_count": 113,
     "metadata": {},
     "output_type": "execute_result"
    }
   ],
   "source": [
    "type(s)"
   ]
  },
  {
   "cell_type": "code",
   "execution_count": 114,
   "id": "4657b093-0278-44d1-baad-2d9cad09c490",
   "metadata": {},
   "outputs": [
    {
     "name": "stdout",
     "output_type": "stream",
     "text": [
      "<class 'dict'>\n"
     ]
    }
   ],
   "source": [
    "print(type(s))"
   ]
  },
  {
   "cell_type": "code",
   "execution_count": 115,
   "id": "06c86314-6f64-4cf9-b1ea-6952e0b33e38",
   "metadata": {},
   "outputs": [],
   "source": [
    "s={1,2,3,4}"
   ]
  },
  {
   "cell_type": "code",
   "execution_count": 116,
   "id": "8345b9e0-5d23-4728-8d95-fd22139f05c6",
   "metadata": {},
   "outputs": [
    {
     "data": {
      "text/plain": [
       "set"
      ]
     },
     "execution_count": 116,
     "metadata": {},
     "output_type": "execute_result"
    }
   ],
   "source": [
    "type(s)"
   ]
  },
  {
   "cell_type": "code",
   "execution_count": 117,
   "id": "0ceeede7-0ff5-400a-bd18-55ec80660f3b",
   "metadata": {},
   "outputs": [],
   "source": [
    "s={2,'A','My Name'}"
   ]
  },
  {
   "cell_type": "code",
   "execution_count": 118,
   "id": "a8924708-6f9a-44d4-93db-3c09bac1c8c0",
   "metadata": {},
   "outputs": [
    {
     "data": {
      "text/plain": [
       "{2, 'A', 'My Name'}"
      ]
     },
     "execution_count": 118,
     "metadata": {},
     "output_type": "execute_result"
    }
   ],
   "source": [
    "s"
   ]
  },
  {
   "cell_type": "code",
   "execution_count": 120,
   "id": "939e1bf5-7db5-41e7-a549-a3cea69111dc",
   "metadata": {},
   "outputs": [],
   "source": [
    "#We can use all sets operation that we use in mathematics here"
   ]
  },
  {
   "cell_type": "code",
   "execution_count": 122,
   "id": "b866a0a1-941a-460c-8674-5e103d6dbd06",
   "metadata": {},
   "outputs": [],
   "source": [
    "s1={1,56,5.3,5.0,5,'A',\"Pw Skills\",True,3+4j,0}"
   ]
  },
  {
   "cell_type": "code",
   "execution_count": 123,
   "id": "c871e2cb-676e-4a8b-abc7-75822e6ca69b",
   "metadata": {},
   "outputs": [],
   "source": [
    "s2={False,True,\"2\",5,\"Greetings\"}"
   ]
  },
  {
   "cell_type": "code",
   "execution_count": 124,
   "id": "fb8fa485-5670-49e6-8944-cf3d69ac4482",
   "metadata": {},
   "outputs": [
    {
     "data": {
      "text/plain": [
       "{(3+4j), 1, '2', 5.0, 5.3, 56, 'A', False, 'Greetings', 'Pw Skills'}"
      ]
     },
     "execution_count": 124,
     "metadata": {},
     "output_type": "execute_result"
    }
   ],
   "source": [
    "s1.union(s2)"
   ]
  },
  {
   "cell_type": "code",
   "execution_count": 125,
   "id": "fff52156-5c6e-4d0c-a456-a6a22a8f0370",
   "metadata": {},
   "outputs": [
    {
     "data": {
      "text/plain": [
       "{True, 5}"
      ]
     },
     "execution_count": 125,
     "metadata": {},
     "output_type": "execute_result"
    }
   ],
   "source": [
    "s1.intersection(s2)"
   ]
  },
  {
   "cell_type": "code",
   "execution_count": 126,
   "id": "508f4b68-9565-411b-bcf3-b7b83f01423f",
   "metadata": {},
   "outputs": [],
   "source": [
    "s1.add(\"Car\") #Randomly adds element"
   ]
  },
  {
   "cell_type": "code",
   "execution_count": 127,
   "id": "51450d4a-5914-483b-86e5-27419e0b8afa",
   "metadata": {},
   "outputs": [
    {
     "data": {
      "text/plain": [
       "{(3+4j), 1, 5.0, 5.3, 56, 'A', 'Car', 'Pw Skills'}"
      ]
     },
     "execution_count": 127,
     "metadata": {},
     "output_type": "execute_result"
    }
   ],
   "source": [
    "s1"
   ]
  },
  {
   "cell_type": "code",
   "execution_count": 128,
   "id": "ef692e8b-71ed-4b51-b640-e25db53cd854",
   "metadata": {},
   "outputs": [],
   "source": [
    "s1.clear() #Removes all values"
   ]
  },
  {
   "cell_type": "code",
   "execution_count": 129,
   "id": "9b26bcc8-7507-413b-a426-f38c403feaf0",
   "metadata": {},
   "outputs": [
    {
     "data": {
      "text/plain": [
       "set()"
      ]
     },
     "execution_count": 129,
     "metadata": {},
     "output_type": "execute_result"
    }
   ],
   "source": [
    "s1"
   ]
  },
  {
   "cell_type": "code",
   "execution_count": 130,
   "id": "e1aaa547-9371-4f00-8dab-2b1faf1d8881",
   "metadata": {},
   "outputs": [],
   "source": [
    "s1=s2"
   ]
  },
  {
   "cell_type": "code",
   "execution_count": 131,
   "id": "70d5bd0e-46e5-4af8-92ed-df0dcd2688f1",
   "metadata": {},
   "outputs": [
    {
     "data": {
      "text/plain": [
       "{'2', 5, False, 'Greetings', True}"
      ]
     },
     "execution_count": 131,
     "metadata": {},
     "output_type": "execute_result"
    }
   ],
   "source": [
    "s1\n"
   ]
  },
  {
   "cell_type": "code",
   "execution_count": 134,
   "id": "6e98f0f0-fb7d-42cc-ac65-e65bdb72ae52",
   "metadata": {},
   "outputs": [
    {
     "data": {
      "text/plain": [
       "True"
      ]
     },
     "execution_count": 134,
     "metadata": {},
     "output_type": "execute_result"
    }
   ],
   "source": [
    "s1.pop() #Randomly pops"
   ]
  },
  {
   "cell_type": "code",
   "execution_count": 133,
   "id": "c0db77a9-6713-4e15-b149-292e1c7933d4",
   "metadata": {},
   "outputs": [
    {
     "data": {
      "text/plain": [
       "{'2', 5, 'Greetings', True}"
      ]
     },
     "execution_count": 133,
     "metadata": {},
     "output_type": "execute_result"
    }
   ],
   "source": [
    "s1"
   ]
  },
  {
   "cell_type": "code",
   "execution_count": 135,
   "id": "47ec6bfd-3ff5-4ab2-b486-f2af34344571",
   "metadata": {},
   "outputs": [
    {
     "data": {
      "text/plain": [
       "{'2', 5, 'Greetings'}"
      ]
     },
     "execution_count": 135,
     "metadata": {},
     "output_type": "execute_result"
    }
   ],
   "source": [
    "s1"
   ]
  },
  {
   "cell_type": "code",
   "execution_count": 136,
   "id": "d832cfdd-ffd1-45bc-b13f-59ca72a51922",
   "metadata": {},
   "outputs": [
    {
     "ename": "TypeError",
     "evalue": "'set' object does not support item assignment",
     "output_type": "error",
     "traceback": [
      "\u001b[0;31m---------------------------------------------------------------------------\u001b[0m",
      "\u001b[0;31mTypeError\u001b[0m                                 Traceback (most recent call last)",
      "Cell \u001b[0;32mIn[136], line 1\u001b[0m\n\u001b[0;32m----> 1\u001b[0m \u001b[43ms1\u001b[49m\u001b[43m[\u001b[49m\u001b[38;5;241;43m0\u001b[39;49m\u001b[43m]\u001b[49m\u001b[38;5;241m=\u001b[39m\u001b[38;5;124m\"\u001b[39m\u001b[38;5;124mA\u001b[39m\u001b[38;5;124m\"\u001b[39m\n",
      "\u001b[0;31mTypeError\u001b[0m: 'set' object does not support item assignment"
     ]
    }
   ],
   "source": [
    "s1[0]=\"A\" #Sets are immutable like Strings and Tupples"
   ]
  },
  {
   "cell_type": "code",
   "execution_count": 138,
   "id": "89dd70d3-2b4d-4304-9cb4-224b2d6a1ee3",
   "metadata": {},
   "outputs": [],
   "source": [
    "s1.add(\"Car\")"
   ]
  },
  {
   "cell_type": "code",
   "execution_count": 139,
   "id": "dfe26809-6156-46f0-943e-18af1798d7cb",
   "metadata": {},
   "outputs": [
    {
     "data": {
      "text/plain": [
       "{'2', 5, 'Car', 'Greetings'}"
      ]
     },
     "execution_count": 139,
     "metadata": {},
     "output_type": "execute_result"
    }
   ],
   "source": [
    "s1"
   ]
  },
  {
   "cell_type": "code",
   "execution_count": 140,
   "id": "d72dd527-66dc-41aa-a37c-c26ed71ac7ee",
   "metadata": {},
   "outputs": [],
   "source": [
    "s1.add(23)"
   ]
  },
  {
   "cell_type": "code",
   "execution_count": 141,
   "id": "a4fc77c4-30e0-46cd-93d3-ec868257fa7d",
   "metadata": {},
   "outputs": [
    {
     "data": {
      "text/plain": [
       "{'2', 23, 5, 'Car', 'Greetings'}"
      ]
     },
     "execution_count": 141,
     "metadata": {},
     "output_type": "execute_result"
    }
   ],
   "source": [
    "s1"
   ]
  },
  {
   "cell_type": "code",
   "execution_count": 142,
   "id": "c2a63085-1f5a-4329-bda1-5b8f9d21ee42",
   "metadata": {},
   "outputs": [],
   "source": [
    "s2={1,2,3,45,4,32,42,2,3,1}"
   ]
  },
  {
   "cell_type": "code",
   "execution_count": 143,
   "id": "c98befbd-b30e-4bad-aae6-f6239ec70d50",
   "metadata": {},
   "outputs": [
    {
     "data": {
      "text/plain": [
       "7"
      ]
     },
     "execution_count": 143,
     "metadata": {},
     "output_type": "execute_result"
    }
   ],
   "source": [
    "len(s2)"
   ]
  },
  {
   "cell_type": "code",
   "execution_count": 146,
   "id": "ad8bbb05-d33d-43a4-8802-55d606384b2f",
   "metadata": {},
   "outputs": [
    {
     "data": {
      "text/plain": [
       "{1, 2, 3, 4, 32, 42, 45}"
      ]
     },
     "execution_count": 146,
     "metadata": {},
     "output_type": "execute_result"
    }
   ],
   "source": [
    "s2 #removes all duplicate elemnets in set"
   ]
  },
  {
   "cell_type": "code",
   "execution_count": 145,
   "id": "7c43d920-72f9-481e-a752-f940f0a7851d",
   "metadata": {},
   "outputs": [
    {
     "data": {
      "text/plain": [
       "{1, 2, 3, 4, 32, 42, 45}"
      ]
     },
     "execution_count": 145,
     "metadata": {},
     "output_type": "execute_result"
    }
   ],
   "source": [
    "s2"
   ]
  },
  {
   "cell_type": "code",
   "execution_count": 147,
   "id": "57c3171a-29b3-43df-b3d7-2e901d91891d",
   "metadata": {},
   "outputs": [],
   "source": [
    "#Sets tries to save unique information and removes duplicates in sets\n"
   ]
  },
  {
   "cell_type": "code",
   "execution_count": 148,
   "id": "23320694-3571-46b7-aad4-b24b50994373",
   "metadata": {},
   "outputs": [],
   "source": [
    "#Set to List"
   ]
  },
  {
   "cell_type": "code",
   "execution_count": 149,
   "id": "f415e7e8-608a-4b2b-accf-ea5b7e19025f",
   "metadata": {},
   "outputs": [],
   "source": [
    "list1=list(s2)"
   ]
  },
  {
   "cell_type": "code",
   "execution_count": 150,
   "id": "6d5ca295-32d4-44b0-bdf7-fe470b183f96",
   "metadata": {},
   "outputs": [
    {
     "data": {
      "text/plain": [
       "[32, 1, 2, 3, 4, 42, 45]"
      ]
     },
     "execution_count": 150,
     "metadata": {},
     "output_type": "execute_result"
    }
   ],
   "source": [
    "list1"
   ]
  },
  {
   "cell_type": "code",
   "execution_count": 151,
   "id": "909fdd5b-a40b-4413-9765-803779fe7def",
   "metadata": {},
   "outputs": [
    {
     "data": {
      "text/plain": [
       "{1, 2, 3, 4, 32, 42, 45}"
      ]
     },
     "execution_count": 151,
     "metadata": {},
     "output_type": "execute_result"
    }
   ],
   "source": [
    "s2"
   ]
  },
  {
   "cell_type": "code",
   "execution_count": 152,
   "id": "3f179809-ddb6-4e2c-9374-b0418813fede",
   "metadata": {},
   "outputs": [
    {
     "data": {
      "text/plain": [
       "{1, 2, 3, 4, 32, 42, 45}"
      ]
     },
     "execution_count": 152,
     "metadata": {},
     "output_type": "execute_result"
    }
   ],
   "source": [
    "s2"
   ]
  },
  {
   "cell_type": "code",
   "execution_count": 153,
   "id": "1f0b935c-467f-4107-aca0-09925d93037a",
   "metadata": {},
   "outputs": [],
   "source": [
    "#Set to tupple"
   ]
  },
  {
   "cell_type": "code",
   "execution_count": 154,
   "id": "cceadab9-df75-475e-9c70-c08f83f1c9d3",
   "metadata": {},
   "outputs": [],
   "source": [
    "t1=tuple(s2)"
   ]
  },
  {
   "cell_type": "code",
   "execution_count": 155,
   "id": "52c66b76-bff2-400b-8b5b-0d33c33216e2",
   "metadata": {},
   "outputs": [
    {
     "data": {
      "text/plain": [
       "(32, 1, 2, 3, 4, 42, 45)"
      ]
     },
     "execution_count": 155,
     "metadata": {},
     "output_type": "execute_result"
    }
   ],
   "source": [
    "t1"
   ]
  },
  {
   "cell_type": "code",
   "execution_count": 156,
   "id": "d7052021-a4c3-4ce5-9377-5d3cebb12320",
   "metadata": {},
   "outputs": [],
   "source": [
    "#List to Set"
   ]
  },
  {
   "cell_type": "code",
   "execution_count": 158,
   "id": "a630a537-c038-46bc-a6cd-e0617f9a1ca5",
   "metadata": {},
   "outputs": [],
   "source": [
    "s=set(list1)"
   ]
  },
  {
   "cell_type": "code",
   "execution_count": 159,
   "id": "4127fa26-cf6f-4ed8-9f19-9b770e55bc81",
   "metadata": {},
   "outputs": [
    {
     "data": {
      "text/plain": [
       "{1, 2, 3, 4, 32, 42, 45}"
      ]
     },
     "execution_count": 159,
     "metadata": {},
     "output_type": "execute_result"
    }
   ],
   "source": [
    "s"
   ]
  },
  {
   "cell_type": "code",
   "execution_count": 160,
   "id": "b45fc9a3-85c2-41db-94e2-1c0a5115e735",
   "metadata": {},
   "outputs": [],
   "source": [
    "t=set(t1)"
   ]
  },
  {
   "cell_type": "code",
   "execution_count": 161,
   "id": "e15f6769-db81-4392-894e-08d17809f547",
   "metadata": {},
   "outputs": [
    {
     "data": {
      "text/plain": [
       "{1, 2, 3, 4, 32, 42, 45}"
      ]
     },
     "execution_count": 161,
     "metadata": {},
     "output_type": "execute_result"
    }
   ],
   "source": [
    "t"
   ]
  },
  {
   "cell_type": "code",
   "execution_count": 162,
   "id": "8ede9406-5827-4b22-8a85-2159472a370c",
   "metadata": {},
   "outputs": [],
   "source": [
    "#If we want to remove all duplicate elements from list or tuple then simply convert list or tuple to set and then again back \n",
    "#to list or tuple this will remove all. duplicate element in list or tuple"
   ]
  },
  {
   "cell_type": "code",
   "execution_count": 163,
   "id": "a2c7e262-3741-48d3-87f2-5a200d393812",
   "metadata": {},
   "outputs": [
    {
     "ename": "TypeError",
     "evalue": "unhashable type: 'list'",
     "output_type": "error",
     "traceback": [
      "\u001b[0;31m---------------------------------------------------------------------------\u001b[0m",
      "\u001b[0;31mTypeError\u001b[0m                                 Traceback (most recent call last)",
      "Cell \u001b[0;32mIn[163], line 1\u001b[0m\n\u001b[0;32m----> 1\u001b[0m s1\u001b[38;5;241m=\u001b[39m{\u001b[38;5;241m1\u001b[39m,\u001b[38;5;241m2\u001b[39m,\u001b[38;5;241m3\u001b[39m,[\u001b[38;5;241m2\u001b[39m,\u001b[38;5;241m34\u001b[39m]}\n",
      "\u001b[0;31mTypeError\u001b[0m: unhashable type: 'list'"
     ]
    }
   ],
   "source": [
    "s1={1,2,3,[2,34]}\n"
   ]
  },
  {
   "cell_type": "code",
   "execution_count": 164,
   "id": "1fbe16d9-e8be-4588-9abc-ee9ed2ec4526",
   "metadata": {},
   "outputs": [],
   "source": [
    "s2={2,4,3,1,3,(4,4,3,6)}"
   ]
  },
  {
   "cell_type": "code",
   "execution_count": 165,
   "id": "d849f2c6-b34d-494e-9e86-6aa7b895795f",
   "metadata": {},
   "outputs": [
    {
     "data": {
      "text/plain": [
       "{(4, 4, 3, 6), 1, 2, 3, 4}"
      ]
     },
     "execution_count": 165,
     "metadata": {},
     "output_type": "execute_result"
    }
   ],
   "source": [
    "s2"
   ]
  },
  {
   "cell_type": "code",
   "execution_count": 166,
   "id": "ef84c9e6-7d6f-44a3-ba2e-bfd15fd74adc",
   "metadata": {},
   "outputs": [],
   "source": [
    "#This is becaues Set is not allowing to store list is due to list is muttable and set is immutable\n",
    "#So Set is allowing to store tupple because both are immutable"
   ]
  },
  {
   "cell_type": "code",
   "execution_count": 167,
   "id": "d9621b11-9f59-4806-a670-fb164dd2d8f7",
   "metadata": {},
   "outputs": [],
   "source": [
    "s={\"Name\",\"name\",1,2,4,53,45,21,1,2}"
   ]
  },
  {
   "cell_type": "code",
   "execution_count": 168,
   "id": "d9d66b92-7f3d-446a-a2fb-5bca9c509e3f",
   "metadata": {},
   "outputs": [
    {
     "data": {
      "text/plain": [
       "{1, 2, 21, 4, 45, 53, 'Name', 'name'}"
      ]
     },
     "execution_count": 168,
     "metadata": {},
     "output_type": "execute_result"
    }
   ],
   "source": [
    "s"
   ]
  },
  {
   "cell_type": "code",
   "execution_count": 169,
   "id": "f16ea204-40cc-46f2-b9e1-3c6a1879d38e",
   "metadata": {},
   "outputs": [
    {
     "ename": "TypeError",
     "evalue": "'set' object is not subscriptable",
     "output_type": "error",
     "traceback": [
      "\u001b[0;31m---------------------------------------------------------------------------\u001b[0m",
      "\u001b[0;31mTypeError\u001b[0m                                 Traceback (most recent call last)",
      "Cell \u001b[0;32mIn[169], line 1\u001b[0m\n\u001b[0;32m----> 1\u001b[0m \u001b[43ms\u001b[49m\u001b[43m[\u001b[49m\u001b[38;5;241;43m0\u001b[39;49m\u001b[43m]\u001b[49m\n",
      "\u001b[0;31mTypeError\u001b[0m: 'set' object is not subscriptable"
     ]
    }
   ],
   "source": [
    "s[0]"
   ]
  },
  {
   "cell_type": "code",
   "execution_count": 170,
   "id": "73320c89-9f0c-41d6-a9cf-ab983510d922",
   "metadata": {},
   "outputs": [],
   "source": [
    "t=(9,6,7,4)"
   ]
  },
  {
   "cell_type": "code",
   "execution_count": 171,
   "id": "a929837d-dbb2-47d3-ae12-c902f1c46153",
   "metadata": {},
   "outputs": [
    {
     "data": {
      "text/plain": [
       "9"
      ]
     },
     "execution_count": 171,
     "metadata": {},
     "output_type": "execute_result"
    }
   ],
   "source": [
    "t[0]"
   ]
  },
  {
   "cell_type": "code",
   "execution_count": 172,
   "id": "9bad98e8-e6ab-4a31-99ea-f05048f7150e",
   "metadata": {},
   "outputs": [
    {
     "ename": "TypeError",
     "evalue": "'set' object is not subscriptable",
     "output_type": "error",
     "traceback": [
      "\u001b[0;31m---------------------------------------------------------------------------\u001b[0m",
      "\u001b[0;31mTypeError\u001b[0m                                 Traceback (most recent call last)",
      "Cell \u001b[0;32mIn[172], line 1\u001b[0m\n\u001b[0;32m----> 1\u001b[0m \u001b[43ms\u001b[49m\u001b[43m[\u001b[49m\u001b[38;5;241;43m0\u001b[39;49m\u001b[43m]\u001b[49m\n",
      "\u001b[0;31mTypeError\u001b[0m: 'set' object is not subscriptable"
     ]
    }
   ],
   "source": [
    "s[0]"
   ]
  },
  {
   "cell_type": "code",
   "execution_count": 173,
   "id": "191f2e30-97d5-42d7-97e8-b7654a5e430d",
   "metadata": {},
   "outputs": [
    {
     "data": {
      "text/plain": [
       "(4, 7, 6, 9)"
      ]
     },
     "execution_count": 173,
     "metadata": {},
     "output_type": "execute_result"
    }
   ],
   "source": [
    "t[::-1]"
   ]
  },
  {
   "cell_type": "code",
   "execution_count": 174,
   "id": "d341ed5f-6f0b-4135-8753-67f04927d670",
   "metadata": {},
   "outputs": [
    {
     "ename": "TypeError",
     "evalue": "'set' object is not subscriptable",
     "output_type": "error",
     "traceback": [
      "\u001b[0;31m---------------------------------------------------------------------------\u001b[0m",
      "\u001b[0;31mTypeError\u001b[0m                                 Traceback (most recent call last)",
      "Cell \u001b[0;32mIn[174], line 1\u001b[0m\n\u001b[0;32m----> 1\u001b[0m \u001b[43ms\u001b[49m\u001b[43m[\u001b[49m\u001b[43m:\u001b[49m\u001b[43m:\u001b[49m\u001b[38;5;241;43m-\u001b[39;49m\u001b[38;5;241;43m1\u001b[39;49m\u001b[43m]\u001b[49m\n",
      "\u001b[0;31mTypeError\u001b[0m: 'set' object is not subscriptable"
     ]
    }
   ],
   "source": [
    "s[::-1]"
   ]
  },
  {
   "cell_type": "code",
   "execution_count": 176,
   "id": "4d4c6d7d-528c-44df-9856-044b3f8f6dd1",
   "metadata": {},
   "outputs": [],
   "source": [
    "#We can't directly do this index slicing operation on set but by converting it to tupple or list we can and after job \n",
    "#is done convert back to set"
   ]
  },
  {
   "cell_type": "code",
   "execution_count": 177,
   "id": "f1b64a45-98d2-425d-84ec-325150ac0c2c",
   "metadata": {},
   "outputs": [
    {
     "name": "stdout",
     "output_type": "stream",
     "text": [
      "1\n",
      "2\n",
      "4\n",
      "name\n",
      "45\n",
      "53\n",
      "21\n",
      "Name\n"
     ]
    }
   ],
   "source": [
    "for i in s:\n",
    "    print(i)"
   ]
  },
  {
   "cell_type": "code",
   "execution_count": 178,
   "id": "2bc8c252-568f-47d1-ab1e-a410252e22fb",
   "metadata": {},
   "outputs": [
    {
     "data": {
      "text/plain": [
       "{1, 2, 21, 4, 45, 53, 'Name', 'name'}"
      ]
     },
     "execution_count": 178,
     "metadata": {},
     "output_type": "execute_result"
    }
   ],
   "source": [
    "s"
   ]
  },
  {
   "cell_type": "code",
   "execution_count": 179,
   "id": "1415bebb-2534-4e28-b6dd-b83330365909",
   "metadata": {},
   "outputs": [],
   "source": [
    "#That is using for loop we can iterate in sets"
   ]
  },
  {
   "cell_type": "code",
   "execution_count": 180,
   "id": "1352d53c-5ec1-4221-a4dd-1a04ce639321",
   "metadata": {},
   "outputs": [],
   "source": [
    "s.add(8)"
   ]
  },
  {
   "cell_type": "code",
   "execution_count": 181,
   "id": "3c1ee5b9-fb1f-4a25-acd6-0e3d7e4f4b63",
   "metadata": {},
   "outputs": [
    {
     "data": {
      "text/plain": [
       "{1, 2, 21, 4, 45, 53, 8, 'Name', 'name'}"
      ]
     },
     "execution_count": 181,
     "metadata": {},
     "output_type": "execute_result"
    }
   ],
   "source": [
    "s"
   ]
  },
  {
   "cell_type": "code",
   "execution_count": 182,
   "id": "08071f90-4284-4f77-b651-1b06d3fdc830",
   "metadata": {},
   "outputs": [],
   "source": [
    "s.add(2)"
   ]
  },
  {
   "cell_type": "code",
   "execution_count": 184,
   "id": "530874ba-a0c1-40de-ba1b-fed72112b21a",
   "metadata": {},
   "outputs": [],
   "source": [
    "#It won't add coz we have already element present"
   ]
  },
  {
   "cell_type": "code",
   "execution_count": 185,
   "id": "9cb42588-56ad-405c-8e32-b37094ad9497",
   "metadata": {},
   "outputs": [
    {
     "data": {
      "text/plain": [
       "{1, 2, 21, 4, 45, 53, 8, 'Name', 'name'}"
      ]
     },
     "execution_count": 185,
     "metadata": {},
     "output_type": "execute_result"
    }
   ],
   "source": [
    "s"
   ]
  },
  {
   "cell_type": "code",
   "execution_count": 186,
   "id": "135c085f-f6f5-4505-9b26-7e2c7fedcfb5",
   "metadata": {},
   "outputs": [
    {
     "data": {
      "text/plain": [
       "1"
      ]
     },
     "execution_count": 186,
     "metadata": {},
     "output_type": "execute_result"
    }
   ],
   "source": [
    "s.pop()"
   ]
  },
  {
   "cell_type": "code",
   "execution_count": 187,
   "id": "5ae992d0-29da-4b61-a95b-1758d47d2cb7",
   "metadata": {},
   "outputs": [
    {
     "data": {
      "text/plain": [
       "2"
      ]
     },
     "execution_count": 187,
     "metadata": {},
     "output_type": "execute_result"
    }
   ],
   "source": [
    "s.pop()"
   ]
  },
  {
   "cell_type": "code",
   "execution_count": 188,
   "id": "b9daa20f-8dc9-4b31-bb77-9feb398f9568",
   "metadata": {},
   "outputs": [
    {
     "data": {
      "text/plain": [
       "{21, 4, 45, 53, 8, 'Name', 'name'}"
      ]
     },
     "execution_count": 188,
     "metadata": {},
     "output_type": "execute_result"
    }
   ],
   "source": [
    "s"
   ]
  },
  {
   "cell_type": "code",
   "execution_count": 189,
   "id": "915c1c1b-0ecb-4c04-a2f2-3b3eb78c4424",
   "metadata": {},
   "outputs": [
    {
     "data": {
      "text/plain": [
       "4"
      ]
     },
     "execution_count": 189,
     "metadata": {},
     "output_type": "execute_result"
    }
   ],
   "source": [
    "s.pop()"
   ]
  },
  {
   "cell_type": "code",
   "execution_count": 190,
   "id": "d4ec98a8-eab1-438e-9e22-6350dcd71fee",
   "metadata": {},
   "outputs": [
    {
     "ename": "TypeError",
     "evalue": "set.pop() takes no arguments (1 given)",
     "output_type": "error",
     "traceback": [
      "\u001b[0;31m---------------------------------------------------------------------------\u001b[0m",
      "\u001b[0;31mTypeError\u001b[0m                                 Traceback (most recent call last)",
      "Cell \u001b[0;32mIn[190], line 1\u001b[0m\n\u001b[0;32m----> 1\u001b[0m \u001b[43ms\u001b[49m\u001b[38;5;241;43m.\u001b[39;49m\u001b[43mpop\u001b[49m\u001b[43m(\u001b[49m\u001b[38;5;241;43m45\u001b[39;49m\u001b[43m)\u001b[49m\n",
      "\u001b[0;31mTypeError\u001b[0m: set.pop() takes no arguments (1 given)"
     ]
    }
   ],
   "source": [
    "s.pop(45)"
   ]
  },
  {
   "cell_type": "code",
   "execution_count": 191,
   "id": "403f3cfd-edac-469e-96e2-1889e3544343",
   "metadata": {},
   "outputs": [],
   "source": [
    "s.clear()"
   ]
  },
  {
   "cell_type": "code",
   "execution_count": 192,
   "id": "752984ed-046e-4572-b256-0962f4c63910",
   "metadata": {},
   "outputs": [
    {
     "data": {
      "text/plain": [
       "set()"
      ]
     },
     "execution_count": 192,
     "metadata": {},
     "output_type": "execute_result"
    }
   ],
   "source": [
    "s"
   ]
  },
  {
   "cell_type": "code",
   "execution_count": 193,
   "id": "c64d6bc0-b1dd-4750-9558-8e087383af12",
   "metadata": {},
   "outputs": [],
   "source": [
    "s.add(1)"
   ]
  },
  {
   "cell_type": "code",
   "execution_count": 194,
   "id": "59a5d3ad-ab0a-4904-84a5-63a37fdb95ef",
   "metadata": {},
   "outputs": [
    {
     "data": {
      "text/plain": [
       "{1}"
      ]
     },
     "execution_count": 194,
     "metadata": {},
     "output_type": "execute_result"
    }
   ],
   "source": [
    "s"
   ]
  },
  {
   "cell_type": "code",
   "execution_count": 195,
   "id": "ee9f7e86-c6f8-42d4-8a1d-1453061a4ebd",
   "metadata": {},
   "outputs": [],
   "source": [
    "s1={1,3,5,7,2,4}\n",
    "s2={2,4,6,8,1,3}"
   ]
  },
  {
   "cell_type": "code",
   "execution_count": 201,
   "id": "03b2b9ba-bee6-42e2-8fe5-c48491d05d56",
   "metadata": {},
   "outputs": [
    {
     "data": {
      "text/plain": [
       "{5, 7}"
      ]
     },
     "execution_count": 201,
     "metadata": {},
     "output_type": "execute_result"
    }
   ],
   "source": [
    "s1.difference(s2)"
   ]
  },
  {
   "cell_type": "code",
   "execution_count": 202,
   "id": "17923f35-c5dc-4b3c-a6fb-bbd9b23d38e8",
   "metadata": {},
   "outputs": [
    {
     "data": {
      "text/plain": [
       "{6, 8}"
      ]
     },
     "execution_count": 202,
     "metadata": {},
     "output_type": "execute_result"
    }
   ],
   "source": [
    "s2.difference(s1)"
   ]
  },
  {
   "cell_type": "markdown",
   "id": "fd765ce1-2be9-42e9-97da-fef5480c5783",
   "metadata": {},
   "source": [
    "###DICT"
   ]
  },
  {
   "cell_type": "code",
   "execution_count": 1,
   "id": "f40fa74f-6d17-4c0f-8936-6928368eea4e",
   "metadata": {},
   "outputs": [],
   "source": [
    "d={}\n"
   ]
  },
  {
   "cell_type": "code",
   "execution_count": 2,
   "id": "73e23a42-efc3-4aeb-a2b2-56b5a69c528c",
   "metadata": {},
   "outputs": [
    {
     "data": {
      "text/plain": [
       "dict"
      ]
     },
     "execution_count": 2,
     "metadata": {},
     "output_type": "execute_result"
    }
   ],
   "source": [
    "type(d)"
   ]
  },
  {
   "cell_type": "code",
   "execution_count": 3,
   "id": "6c0ca842-1750-4979-979e-5de0c6a41f61",
   "metadata": {},
   "outputs": [
    {
     "name": "stdout",
     "output_type": "stream",
     "text": [
      "<class 'dict'>\n"
     ]
    }
   ],
   "source": [
    "print(type(d))"
   ]
  },
  {
   "cell_type": "code",
   "execution_count": 4,
   "id": "563af517-6a58-4700-9e13-cca559fdc12c",
   "metadata": {},
   "outputs": [],
   "source": [
    "#Stores {Key : Value} Pair"
   ]
  },
  {
   "cell_type": "code",
   "execution_count": 5,
   "id": "eea2c8ac-61aa-4f1e-a62d-90becf12325d",
   "metadata": {},
   "outputs": [],
   "source": [
    "d={\"WagonR\":\"Maruti Suzuki\",\"Verna\":\"Honda\",\"Fortuner\":\"Toyota\",\"Duster\":\"Renault\",\"Tiago\":\"Tata\"}"
   ]
  },
  {
   "cell_type": "code",
   "execution_count": 6,
   "id": "afdbcb5e-380e-491e-af79-8aa139675869",
   "metadata": {},
   "outputs": [
    {
     "data": {
      "text/plain": [
       "{'WagonR': 'Maruti Suzuki',\n",
       " 'Verna': 'Honda',\n",
       " 'Fortuner': 'Toyota',\n",
       " 'Duster': 'Renault',\n",
       " 'Tiago': 'Tata'}"
      ]
     },
     "execution_count": 6,
     "metadata": {},
     "output_type": "execute_result"
    }
   ],
   "source": [
    "d"
   ]
  },
  {
   "cell_type": "code",
   "execution_count": 7,
   "id": "803b3fe3-21da-4e0a-a8ca-e06239b4060c",
   "metadata": {},
   "outputs": [
    {
     "data": {
      "text/plain": [
       "dict"
      ]
     },
     "execution_count": 7,
     "metadata": {},
     "output_type": "execute_result"
    }
   ],
   "source": [
    "type(d)"
   ]
  },
  {
   "cell_type": "code",
   "execution_count": 8,
   "id": "649b92a2-00cf-439c-93f7-7b0173493730",
   "metadata": {},
   "outputs": [
    {
     "data": {
      "text/plain": [
       "{'WagonR': 'Maruti Suzuki',\n",
       " 'Verna': 'Honda',\n",
       " 'Fortuner': 'Toyota',\n",
       " 'Duster': 'Renault',\n",
       " 'Tiago': 'Tata'}"
      ]
     },
     "execution_count": 8,
     "metadata": {},
     "output_type": "execute_result"
    }
   ],
   "source": [
    "d"
   ]
  },
  {
   "cell_type": "code",
   "execution_count": 9,
   "id": "b368a11f-927f-43a3-8181-656e087f34a5",
   "metadata": {},
   "outputs": [],
   "source": [
    "d1={\"Name\":\"Priyanshu\",\"Name\":\"Ayesha\"}"
   ]
  },
  {
   "cell_type": "code",
   "execution_count": 10,
   "id": "37fd31e4-e9a1-4796-8177-4b8a6ba13714",
   "metadata": {},
   "outputs": [
    {
     "data": {
      "text/plain": [
       "{'Name': 'Ayesha'}"
      ]
     },
     "execution_count": 10,
     "metadata": {},
     "output_type": "execute_result"
    }
   ],
   "source": [
    "d1"
   ]
  },
  {
   "cell_type": "code",
   "execution_count": 11,
   "id": "4cf655ae-67a8-4956-9552-1dfccb3ffdbd",
   "metadata": {},
   "outputs": [],
   "source": [
    "#Note key should be always unique"
   ]
  },
  {
   "cell_type": "code",
   "execution_count": 12,
   "id": "a22343c1-38cd-43c0-99d9-48fe80515ce1",
   "metadata": {},
   "outputs": [],
   "source": [
    "#If the key is repeated second time then it will update previous value to new value"
   ]
  },
  {
   "cell_type": "code",
   "execution_count": 13,
   "id": "09bf1abb-c74c-4c1e-b07d-58fc9700a0f0",
   "metadata": {},
   "outputs": [
    {
     "data": {
      "text/plain": [
       "{'Name': 'Ayesha'}"
      ]
     },
     "execution_count": 13,
     "metadata": {},
     "output_type": "execute_result"
    }
   ],
   "source": [
    "d1"
   ]
  },
  {
   "cell_type": "code",
   "execution_count": 14,
   "id": "34ffc95b-adf9-4235-9eb7-7d225eb21e99",
   "metadata": {},
   "outputs": [],
   "source": [
    "d1={\"Name\":\"Priyanshu\",\"Number\":\"Prianshu\"}"
   ]
  },
  {
   "cell_type": "code",
   "execution_count": 15,
   "id": "c43b5377-5024-4398-9404-e95a16f72068",
   "metadata": {},
   "outputs": [
    {
     "data": {
      "text/plain": [
       "{'Name': 'Priyanshu', 'Number': 'Prianshu'}"
      ]
     },
     "execution_count": 15,
     "metadata": {},
     "output_type": "execute_result"
    }
   ],
   "source": [
    "d1"
   ]
  },
  {
   "cell_type": "code",
   "execution_count": 16,
   "id": "514bcb9a-a459-4d9a-a61c-d8db1f03b265",
   "metadata": {},
   "outputs": [],
   "source": [
    "#That is Value can be same for two different key but key cannot be same for two different value"
   ]
  },
  {
   "cell_type": "code",
   "execution_count": 17,
   "id": "a0ac1c36-25f3-4d6e-9c4a-e764cde939ea",
   "metadata": {},
   "outputs": [],
   "source": [
    "d2={1234:\"Name\",\"Address\":2335,True:23344,1.45:False}"
   ]
  },
  {
   "cell_type": "code",
   "execution_count": 18,
   "id": "edb374c2-add9-4a3c-8ada-f7f567d14510",
   "metadata": {},
   "outputs": [
    {
     "data": {
      "text/plain": [
       "{1234: 'Name', 'Address': 2335, True: 23344, 1.45: False}"
      ]
     },
     "execution_count": 18,
     "metadata": {},
     "output_type": "execute_result"
    }
   ],
   "source": [
    "d2"
   ]
  },
  {
   "cell_type": "code",
   "execution_count": 19,
   "id": "012417a2-b098-4e7f-9a62-88016d3cb7e9",
   "metadata": {},
   "outputs": [],
   "source": [
    "#That is there is no restriction on datatype of key and value\n"
   ]
  },
  {
   "cell_type": "code",
   "execution_count": 20,
   "id": "3ed464d1-d24a-4f30-8e35-b13c36871f2a",
   "metadata": {},
   "outputs": [
    {
     "ename": "SyntaxError",
     "evalue": "incomplete input (2375231720.py, line 1)",
     "output_type": "error",
     "traceback": [
      "\u001b[0;36m  Cell \u001b[0;32mIn[20], line 1\u001b[0;36m\u001b[0m\n\u001b[0;31m    d3={#:1244}\u001b[0m\n\u001b[0m               ^\u001b[0m\n\u001b[0;31mSyntaxError\u001b[0m\u001b[0;31m:\u001b[0m incomplete input\n"
     ]
    }
   ],
   "source": [
    "d3={#:1244}"
   ]
  },
  {
   "cell_type": "code",
   "execution_count": 21,
   "id": "b5c96d2f-65ab-4950-82c6-b4d537072c5c",
   "metadata": {},
   "outputs": [
    {
     "ename": "SyntaxError",
     "evalue": "invalid syntax (2884316766.py, line 1)",
     "output_type": "error",
     "traceback": [
      "\u001b[0;36m  Cell \u001b[0;32mIn[21], line 1\u001b[0;36m\u001b[0m\n\u001b[0;31m    d3={2344:$}\u001b[0m\n\u001b[0m             ^\u001b[0m\n\u001b[0;31mSyntaxError\u001b[0m\u001b[0;31m:\u001b[0m invalid syntax\n"
     ]
    }
   ],
   "source": [
    "d3={2344:$}"
   ]
  },
  {
   "cell_type": "code",
   "execution_count": 22,
   "id": "7fe84774-a8c4-4816-ac21-15d2dfca7b8f",
   "metadata": {},
   "outputs": [],
   "source": [
    "#We are not allowed to take special character either key or value but we can take them as a string for key or value"
   ]
  },
  {
   "cell_type": "code",
   "execution_count": 23,
   "id": "9f8ef548-7021-4d04-8a89-c7337010b957",
   "metadata": {},
   "outputs": [],
   "source": [
    "d4={\"#\":13434,\"Name\":\"$\"}"
   ]
  },
  {
   "cell_type": "code",
   "execution_count": 24,
   "id": "77d72d12-9f4b-4a8b-ab26-4d760bc4cd5a",
   "metadata": {},
   "outputs": [
    {
     "data": {
      "text/plain": [
       "{'#': 13434, 'Name': '$'}"
      ]
     },
     "execution_count": 24,
     "metadata": {},
     "output_type": "execute_result"
    }
   ],
   "source": [
    "d4"
   ]
  },
  {
   "cell_type": "code",
   "execution_count": 25,
   "id": "e797fe54-9f45-46f1-8493-66ab22b7d636",
   "metadata": {},
   "outputs": [
    {
     "ename": "TypeError",
     "evalue": "unhashable type: 'list'",
     "output_type": "error",
     "traceback": [
      "\u001b[0;31m---------------------------------------------------------------------------\u001b[0m",
      "\u001b[0;31mTypeError\u001b[0m                                 Traceback (most recent call last)",
      "Cell \u001b[0;32mIn[25], line 1\u001b[0m\n\u001b[0;32m----> 1\u001b[0m d5\u001b[38;5;241m=\u001b[39m{[\u001b[38;5;241m12\u001b[39m,\u001b[38;5;241m4\u001b[39m,\u001b[38;5;241m24\u001b[39m]:\u001b[38;5;124m\"\u001b[39m\u001b[38;5;124mdfrgt\u001b[39m\u001b[38;5;124m\"\u001b[39m}\n",
      "\u001b[0;31mTypeError\u001b[0m: unhashable type: 'list'"
     ]
    }
   ],
   "source": [
    "d5={[12,4,24]:\"dfrgt\"}"
   ]
  },
  {
   "cell_type": "code",
   "execution_count": 28,
   "id": "08228d2a-90f4-40fe-9885-99558d069d07",
   "metadata": {},
   "outputs": [],
   "source": [
    "d6={2345:[3,\"Name\"]}"
   ]
  },
  {
   "cell_type": "code",
   "execution_count": 29,
   "id": "8f0695a6-6487-4316-847e-f9f24e1beddb",
   "metadata": {},
   "outputs": [
    {
     "data": {
      "text/plain": [
       "{2345: [3, 'Name']}"
      ]
     },
     "execution_count": 29,
     "metadata": {},
     "output_type": "execute_result"
    }
   ],
   "source": [
    "d6"
   ]
  },
  {
   "cell_type": "code",
   "execution_count": 30,
   "id": "a08a3a37-0997-4217-bd62-405eef4bef64",
   "metadata": {},
   "outputs": [],
   "source": [
    "#Cannot take as a key but can take list as a value"
   ]
  },
  {
   "cell_type": "code",
   "execution_count": 33,
   "id": "8069fcb5-72f7-4729-a355-197e8c1c75c0",
   "metadata": {},
   "outputs": [],
   "source": [
    "d7={(1,4,2,5,8,9):\"Address\"}"
   ]
  },
  {
   "cell_type": "code",
   "execution_count": 34,
   "id": "7dd09ebc-4100-444d-9b57-45a5cb73cac7",
   "metadata": {},
   "outputs": [
    {
     "data": {
      "text/plain": [
       "{(1, 4, 2, 5, 8, 9): 'Address'}"
      ]
     },
     "execution_count": 34,
     "metadata": {},
     "output_type": "execute_result"
    }
   ],
   "source": [
    "d7"
   ]
  },
  {
   "cell_type": "code",
   "execution_count": 35,
   "id": "e427d8a7-a305-416b-9aba-c14c8728620a",
   "metadata": {},
   "outputs": [],
   "source": [
    "d8={1234:(12345,\"Name\")}"
   ]
  },
  {
   "cell_type": "code",
   "execution_count": 36,
   "id": "c65fcefb-199d-4ae9-ba95-5255ffb502a6",
   "metadata": {},
   "outputs": [
    {
     "data": {
      "text/plain": [
       "{1234: (12345, 'Name')}"
      ]
     },
     "execution_count": 36,
     "metadata": {},
     "output_type": "execute_result"
    }
   ],
   "source": [
    "d8"
   ]
  },
  {
   "cell_type": "code",
   "execution_count": 37,
   "id": "d5648419-b66b-465a-b3b3-5fa783e37a21",
   "metadata": {},
   "outputs": [],
   "source": [
    "#Therefore we can take tuple as both key and value"
   ]
  },
  {
   "cell_type": "code",
   "execution_count": 38,
   "id": "7ad3a73f-025a-4765-b480-224da8c88ad9",
   "metadata": {},
   "outputs": [
    {
     "ename": "TypeError",
     "evalue": "unhashable type: 'set'",
     "output_type": "error",
     "traceback": [
      "\u001b[0;31m---------------------------------------------------------------------------\u001b[0m",
      "\u001b[0;31mTypeError\u001b[0m                                 Traceback (most recent call last)",
      "Cell \u001b[0;32mIn[38], line 1\u001b[0m\n\u001b[0;32m----> 1\u001b[0m d9\u001b[38;5;241m=\u001b[39m{{\u001b[38;5;241m1\u001b[39m,\u001b[38;5;241m3\u001b[39m,\u001b[38;5;241m5\u001b[39m}:\u001b[38;5;124m\"\u001b[39m\u001b[38;5;124mAddress\u001b[39m\u001b[38;5;124m\"\u001b[39m}\n",
      "\u001b[0;31mTypeError\u001b[0m: unhashable type: 'set'"
     ]
    }
   ],
   "source": [
    "d9={{1,3,5}:\"Address\"}"
   ]
  },
  {
   "cell_type": "code",
   "execution_count": 45,
   "id": "ed13abff-38cd-47e9-8add-3b07a9122b71",
   "metadata": {},
   "outputs": [],
   "source": [
    "d10={1345:{2,56,7,4,99}}"
   ]
  },
  {
   "cell_type": "code",
   "execution_count": 46,
   "id": "7beeb29a-22c4-4eff-a70a-7f38d12f582f",
   "metadata": {},
   "outputs": [
    {
     "data": {
      "text/plain": [
       "{1345: {2, 4, 7, 56, 99}}"
      ]
     },
     "execution_count": 46,
     "metadata": {},
     "output_type": "execute_result"
    }
   ],
   "source": [
    "d10"
   ]
  },
  {
   "cell_type": "code",
   "execution_count": 47,
   "id": "ab75e159-d864-4dd5-8bb6-23ddd191ffbe",
   "metadata": {},
   "outputs": [],
   "source": [
    "#Cannot take Set as a key but can use a key"
   ]
  },
  {
   "cell_type": "code",
   "execution_count": 41,
   "id": "8248319a-cb17-473f-a2a3-9b366f5e4f98",
   "metadata": {},
   "outputs": [
    {
     "ename": "TypeError",
     "evalue": "unhashable type: 'dict'",
     "output_type": "error",
     "traceback": [
      "\u001b[0;31m---------------------------------------------------------------------------\u001b[0m",
      "\u001b[0;31mTypeError\u001b[0m                                 Traceback (most recent call last)",
      "Cell \u001b[0;32mIn[41], line 1\u001b[0m\n\u001b[0;32m----> 1\u001b[0m d11\u001b[38;5;241m=\u001b[39m{{\u001b[38;5;124m\"\u001b[39m\u001b[38;5;124mName\u001b[39m\u001b[38;5;124m\"\u001b[39m:\u001b[38;5;124m\"\u001b[39m\u001b[38;5;124mAddress\u001b[39m\u001b[38;5;124m\"\u001b[39m}:\u001b[38;5;241m2345\u001b[39m}\n",
      "\u001b[0;31mTypeError\u001b[0m: unhashable type: 'dict'"
     ]
    }
   ],
   "source": [
    "d11={{\"Name\":\"Address\"}:2345}"
   ]
  },
  {
   "cell_type": "code",
   "execution_count": 42,
   "id": "9dc56a7f-56a6-46d9-9ec0-dd515ab60a82",
   "metadata": {},
   "outputs": [],
   "source": [
    "d12={2345:{\"Name\":\"Address\"}}"
   ]
  },
  {
   "cell_type": "code",
   "execution_count": 43,
   "id": "47a1e8a9-bfc1-487a-8da0-974af0ed6e7b",
   "metadata": {},
   "outputs": [
    {
     "data": {
      "text/plain": [
       "{2345: {'Name': 'Address'}}"
      ]
     },
     "execution_count": 43,
     "metadata": {},
     "output_type": "execute_result"
    }
   ],
   "source": [
    "d12"
   ]
  },
  {
   "cell_type": "code",
   "execution_count": 44,
   "id": "05678c5c-9b4e-4363-ac92-5a53e987a64a",
   "metadata": {},
   "outputs": [],
   "source": [
    "#Cannot use dict as a key but can use a value"
   ]
  },
  {
   "cell_type": "code",
   "execution_count": 48,
   "id": "4bc6c805-4231-4899-8f08-7759a4e3d782",
   "metadata": {},
   "outputs": [],
   "source": [
    "#We conclude Tupple can only be use as a key and list, tupple, set, dict can all be use as a value"
   ]
  },
  {
   "cell_type": "code",
   "execution_count": 49,
   "id": "86780ab6-bed0-4b02-8837-b4463916cd7a",
   "metadata": {},
   "outputs": [],
   "source": [
    "#key should always be value"
   ]
  },
  {
   "cell_type": "code",
   "execution_count": 50,
   "id": "d5a602b4-178b-491f-a4fa-c5e58b373b57",
   "metadata": {},
   "outputs": [],
   "source": [
    "d1={\"Courses\":[\"Data Science Master\",\"Web Development\"]}"
   ]
  },
  {
   "cell_type": "code",
   "execution_count": 51,
   "id": "c607df4d-f299-48d1-b593-13a993efcffa",
   "metadata": {},
   "outputs": [
    {
     "data": {
      "text/plain": [
       "{'Courses': ['Data Science Master', 'Web Development']}"
      ]
     },
     "execution_count": 51,
     "metadata": {},
     "output_type": "execute_result"
    }
   ],
   "source": [
    "d1"
   ]
  },
  {
   "cell_type": "code",
   "execution_count": 52,
   "id": "79fbc1d1-4829-4ee5-8ffb-611676690048",
   "metadata": {},
   "outputs": [],
   "source": [
    "d2={\"Key\":(1,2,3,4,5)}"
   ]
  },
  {
   "cell_type": "code",
   "execution_count": 54,
   "id": "47e94659-7e81-4297-bac1-daa83b76e92a",
   "metadata": {},
   "outputs": [
    {
     "data": {
      "text/plain": [
       "{'Key': (1, 2, 3, 4, 5)}"
      ]
     },
     "execution_count": 54,
     "metadata": {},
     "output_type": "execute_result"
    }
   ],
   "source": [
    "d2"
   ]
  },
  {
   "cell_type": "code",
   "execution_count": 55,
   "id": "ea764f7a-b9b4-4b2c-8ee6-0e29244a8bfe",
   "metadata": {},
   "outputs": [],
   "source": [
    "d3={\"key\":{1,2,3,4,5}}"
   ]
  },
  {
   "cell_type": "code",
   "execution_count": 56,
   "id": "8213d111-8c2d-4b03-a70d-359b8bf18e48",
   "metadata": {},
   "outputs": [],
   "source": [
    "d4={\"key\":{\"Course\":\"Data Science Master\"}}"
   ]
  },
  {
   "cell_type": "code",
   "execution_count": 57,
   "id": "f58517cd-d2d8-4bd4-9034-4a7a7b742935",
   "metadata": {},
   "outputs": [
    {
     "data": {
      "text/plain": [
       "{'key': {'Course': 'Data Science Master'}}"
      ]
     },
     "execution_count": 57,
     "metadata": {},
     "output_type": "execute_result"
    }
   ],
   "source": [
    "d4"
   ]
  },
  {
   "cell_type": "code",
   "execution_count": 6,
   "id": "7b75a9cd-4525-46dc-8185-c5f4a58fa2f1",
   "metadata": {},
   "outputs": [],
   "source": [
    "d={\"Course Name\":[\"Data Science Masters\",\"Web Development\",\"Java Data Structure\"],\"Start Date\":(28,14,21),\"Mentor Name\":{\"Krish Naik\",\"Sudhanshu\",\"Hitesh\",\"Anurag Tiwari\",\"Naveen\",\"Haider\"}}"
   ]
  },
  {
   "cell_type": "code",
   "execution_count": 7,
   "id": "6390ca4c-680b-4b2f-a61e-bdaebf191433",
   "metadata": {},
   "outputs": [
    {
     "data": {
      "text/plain": [
       "{'Course Name': ['Data Science Masters',\n",
       "  'Web Development',\n",
       "  'Java Data Structure'],\n",
       " 'Start Date': (28, 14, 21),\n",
       " 'Mentor Name': {'Anurag Tiwari',\n",
       "  'Haider',\n",
       "  'Hitesh',\n",
       "  'Krish Naik',\n",
       "  'Naveen',\n",
       "  'Sudhanshu'}}"
      ]
     },
     "execution_count": 7,
     "metadata": {},
     "output_type": "execute_result"
    }
   ],
   "source": [
    "d"
   ]
  },
  {
   "cell_type": "code",
   "execution_count": 65,
   "id": "2af07da2-bca5-4ab1-99fd-e1aa58f0be98",
   "metadata": {},
   "outputs": [],
   "source": [
    "#Here in Dictionary d we have list,tupple,set as a value"
   ]
  },
  {
   "cell_type": "code",
   "execution_count": 71,
   "id": "ef0ab3ff-49e3-422c-a512-317efee5573d",
   "metadata": {},
   "outputs": [],
   "source": [
    "d[\"Platform\"]=\"PW  Skills\",\"Ineuron\" #Adding Key Value pair by default it will take as tupple"
   ]
  },
  {
   "cell_type": "code",
   "execution_count": 72,
   "id": "07e5db80-b1e2-4e8d-a40c-ede6dde78540",
   "metadata": {},
   "outputs": [
    {
     "data": {
      "text/plain": [
       "{'Course Name': ['Data Science Masters',\n",
       "  'Web Development',\n",
       "  'Java Data Structure'],\n",
       " 'Start Date': (28, 14, 21),\n",
       " 'Mentor Name': {'Anurag Tiwari',\n",
       "  'Haider',\n",
       "  'Hitesh',\n",
       "  'Krish Naik',\n",
       "  'Naveen',\n",
       "  'Sudhanshu'},\n",
       " 'Platform': ('PW  Skills', 'Ineuron')}"
      ]
     },
     "execution_count": 72,
     "metadata": {},
     "output_type": "execute_result"
    }
   ],
   "source": [
    "d"
   ]
  },
  {
   "cell_type": "code",
   "execution_count": 75,
   "id": "cf66a587-6cca-4482-b729-343545f1b5df",
   "metadata": {},
   "outputs": [],
   "source": [
    "d[\"Start Date\"]=(12,23,29) #Will update original key's value"
   ]
  },
  {
   "cell_type": "code",
   "execution_count": 76,
   "id": "1a9d6241-44ce-4c90-bbe2-fbe2e2540cc0",
   "metadata": {},
   "outputs": [
    {
     "data": {
      "text/plain": [
       "{'Course Name': ['Data Science Masters',\n",
       "  'Web Development',\n",
       "  'Java Data Structure'],\n",
       " 'Start Date': (12, 23, 29),\n",
       " 'Mentor Name': {'Anurag Tiwari',\n",
       "  'Haider',\n",
       "  'Hitesh',\n",
       "  'Krish Naik',\n",
       "  'Naveen',\n",
       "  'Sudhanshu'},\n",
       " 'Platform': ('PW  Skills', 'Ineuron')}"
      ]
     },
     "execution_count": 76,
     "metadata": {},
     "output_type": "execute_result"
    }
   ],
   "source": [
    "d"
   ]
  },
  {
   "cell_type": "code",
   "execution_count": 78,
   "id": "8d57910f-7f02-4c8a-9cf8-a474f063757f",
   "metadata": {},
   "outputs": [
    {
     "data": {
      "text/plain": [
       "['Data Science Masters', 'Web Development', 'Java Data Structure']"
      ]
     },
     "execution_count": 78,
     "metadata": {},
     "output_type": "execute_result"
    }
   ],
   "source": [
    "d[\"Course Name\"] #Accesing Value from their key in case of list we were accesing value from list index"
   ]
  },
  {
   "cell_type": "code",
   "execution_count": 79,
   "id": "03b1f788-0679-42b5-b2f5-a5cf10cde707",
   "metadata": {},
   "outputs": [],
   "source": [
    "#In dict we access value using key"
   ]
  },
  {
   "cell_type": "code",
   "execution_count": 80,
   "id": "63924166-cb3d-4318-9ccc-2a34827088aa",
   "metadata": {},
   "outputs": [
    {
     "data": {
      "text/plain": [
       "{'Anurag Tiwari', 'Haider', 'Hitesh', 'Krish Naik', 'Naveen', 'Sudhanshu'}"
      ]
     },
     "execution_count": 80,
     "metadata": {},
     "output_type": "execute_result"
    }
   ],
   "source": [
    "d[\"Mentor Name\"]"
   ]
  },
  {
   "cell_type": "code",
   "execution_count": 81,
   "id": "b4978907-fb37-40fb-8346-f0f57a3ecae2",
   "metadata": {},
   "outputs": [
    {
     "data": {
      "text/plain": [
       "set"
      ]
     },
     "execution_count": 81,
     "metadata": {},
     "output_type": "execute_result"
    }
   ],
   "source": [
    "type(d[\"Mentor Name\"])"
   ]
  },
  {
   "cell_type": "code",
   "execution_count": 83,
   "id": "406ef681-ade4-4fed-b04b-d621872b6e2c",
   "metadata": {},
   "outputs": [
    {
     "data": {
      "text/plain": [
       "list"
      ]
     },
     "execution_count": 83,
     "metadata": {},
     "output_type": "execute_result"
    }
   ],
   "source": [
    "type(d[\"Course Name\"])"
   ]
  },
  {
   "cell_type": "code",
   "execution_count": 84,
   "id": "2aa7666c-b700-4919-974d-4227fd577932",
   "metadata": {},
   "outputs": [
    {
     "data": {
      "text/plain": [
       "tuple"
      ]
     },
     "execution_count": 84,
     "metadata": {},
     "output_type": "execute_result"
    }
   ],
   "source": [
    "type(d[\"Start Date\"])"
   ]
  },
  {
   "cell_type": "code",
   "execution_count": 86,
   "id": "452165a1-28e1-47f9-8a93-12907d7bcd77",
   "metadata": {},
   "outputs": [
    {
     "ename": "KeyError",
     "evalue": "'Name'",
     "output_type": "error",
     "traceback": [
      "\u001b[0;31m---------------------------------------------------------------------------\u001b[0m",
      "\u001b[0;31mKeyError\u001b[0m                                  Traceback (most recent call last)",
      "Cell \u001b[0;32mIn[86], line 1\u001b[0m\n\u001b[0;32m----> 1\u001b[0m \u001b[43md\u001b[49m\u001b[43m[\u001b[49m\u001b[38;5;124;43m\"\u001b[39;49m\u001b[38;5;124;43mName\u001b[39;49m\u001b[38;5;124;43m\"\u001b[39;49m\u001b[43m]\u001b[49m \u001b[38;5;66;03m#Will give error if value for given key is ot present in dictionary\u001b[39;00m\n",
      "\u001b[0;31mKeyError\u001b[0m: 'Name'"
     ]
    }
   ],
   "source": [
    "d[\"Name\"] #Will give error if value for given key is ot present in dictionary"
   ]
  },
  {
   "cell_type": "code",
   "execution_count": 87,
   "id": "2893d45b-338d-4da2-bdd0-6c3ff2705c9a",
   "metadata": {},
   "outputs": [
    {
     "data": {
      "text/plain": [
       "{'Anurag Tiwari', 'Haider', 'Hitesh', 'Krish Naik', 'Naveen', 'Sudhanshu'}"
      ]
     },
     "execution_count": 87,
     "metadata": {},
     "output_type": "execute_result"
    }
   ],
   "source": [
    "d[\"Mentor Name\"]"
   ]
  },
  {
   "cell_type": "code",
   "execution_count": 89,
   "id": "0f7fff8b-b0c3-4ede-a086-8e8f3319f595",
   "metadata": {},
   "outputs": [
    {
     "data": {
      "text/plain": [
       "['Data Science Masters', 'Web Development', 'Java Data Structure']"
      ]
     },
     "execution_count": 89,
     "metadata": {},
     "output_type": "execute_result"
    }
   ],
   "source": [
    "d[\"Course Name\"]"
   ]
  },
  {
   "cell_type": "code",
   "execution_count": 91,
   "id": "1b8f68dc-4840-4398-93e5-471b6c97598e",
   "metadata": {},
   "outputs": [
    {
     "data": {
      "text/plain": [
       "'Data Science Masters Web Development Java Data Structure'"
      ]
     },
     "execution_count": 91,
     "metadata": {},
     "output_type": "execute_result"
    }
   ],
   "source": [
    "\" \".join(d[\"Course Name\"]) #We can apply all list property as we know the value here is list"
   ]
  },
  {
   "cell_type": "code",
   "execution_count": 92,
   "id": "9449a208-3bb2-4671-82f1-56ed3f2307d7",
   "metadata": {},
   "outputs": [
    {
     "data": {
      "text/plain": [
       "{'Course Name': ['Data Science Masters',\n",
       "  'Web Development',\n",
       "  'Java Data Structure'],\n",
       " 'Start Date': (12, 23, 29),\n",
       " 'Mentor Name': {'Anurag Tiwari',\n",
       "  'Haider',\n",
       "  'Hitesh',\n",
       "  'Krish Naik',\n",
       "  'Naveen',\n",
       "  'Sudhanshu'},\n",
       " 'Platform': ('PW  Skills', 'Ineuron')}"
      ]
     },
     "execution_count": 92,
     "metadata": {},
     "output_type": "execute_result"
    }
   ],
   "source": [
    "d"
   ]
  },
  {
   "cell_type": "code",
   "execution_count": 93,
   "id": "b62c51f1-6942-459b-b5f1-67a4ae673788",
   "metadata": {},
   "outputs": [],
   "source": [
    "d1={\"Key\":{\"Name\":\"Krish Naik\",\"Address\":\"Bangalore\",\"Mobile Number\":123456789}}"
   ]
  },
  {
   "cell_type": "code",
   "execution_count": 96,
   "id": "935d1a10-8ff9-44f0-a2cb-4c9bdf00eb9a",
   "metadata": {},
   "outputs": [],
   "source": [
    "d2=d1[\"Key\"]"
   ]
  },
  {
   "cell_type": "code",
   "execution_count": 97,
   "id": "56b19234-c034-4440-b8fb-47d37cefbe1d",
   "metadata": {},
   "outputs": [
    {
     "data": {
      "text/plain": [
       "{'Name': 'Krish Naik', 'Address': 'Bangalore', 'Mobile Number': 123456789}"
      ]
     },
     "execution_count": 97,
     "metadata": {},
     "output_type": "execute_result"
    }
   ],
   "source": [
    "d2"
   ]
  },
  {
   "cell_type": "code",
   "execution_count": 100,
   "id": "a3e3d641-1c52-48ca-a3de-b00b2feb55e1",
   "metadata": {},
   "outputs": [],
   "source": [
    "str1=d2[\"Name\"]"
   ]
  },
  {
   "cell_type": "code",
   "execution_count": 101,
   "id": "f368a4ec-068f-484b-8636-8a5466c94147",
   "metadata": {},
   "outputs": [
    {
     "data": {
      "text/plain": [
       "'Krish Naik'"
      ]
     },
     "execution_count": 101,
     "metadata": {},
     "output_type": "execute_result"
    }
   ],
   "source": [
    "str1"
   ]
  },
  {
   "cell_type": "code",
   "execution_count": 102,
   "id": "8f8466d1-8995-4220-a99f-8b55b8129076",
   "metadata": {},
   "outputs": [
    {
     "data": {
      "text/plain": [
       "'Krish Naik'"
      ]
     },
     "execution_count": 102,
     "metadata": {},
     "output_type": "execute_result"
    }
   ],
   "source": [
    "d1[\"Key\"][\"Name\"]"
   ]
  },
  {
   "cell_type": "code",
   "execution_count": 103,
   "id": "17a4cb4c-ef87-42da-955f-e0ded0500ab4",
   "metadata": {},
   "outputs": [],
   "source": [
    "d1[\"Key1\"]=\"abc\""
   ]
  },
  {
   "cell_type": "code",
   "execution_count": 104,
   "id": "830162fd-1855-45c9-83a5-e9afc7d4dba3",
   "metadata": {},
   "outputs": [
    {
     "data": {
      "text/plain": [
       "{'Key': {'Name': 'Krish Naik',\n",
       "  'Address': 'Bangalore',\n",
       "  'Mobile Number': 123456789},\n",
       " 'Key1': 'abc'}"
      ]
     },
     "execution_count": 104,
     "metadata": {},
     "output_type": "execute_result"
    }
   ],
   "source": [
    "d1"
   ]
  },
  {
   "cell_type": "code",
   "execution_count": 107,
   "id": "68e7a5b9-9c28-4ed4-b95b-0ddf98c65c18",
   "metadata": {},
   "outputs": [
    {
     "data": {
      "text/plain": [
       "'abc'"
      ]
     },
     "execution_count": 107,
     "metadata": {},
     "output_type": "execute_result"
    }
   ],
   "source": [
    "d1.pop(\"Key1\")"
   ]
  },
  {
   "cell_type": "code",
   "execution_count": 108,
   "id": "0a23fa04-bd80-4356-ae77-e2c3265339d8",
   "metadata": {},
   "outputs": [
    {
     "data": {
      "text/plain": [
       "{'Key': {'Name': 'Krish Naik',\n",
       "  'Address': 'Bangalore',\n",
       "  'Mobile Number': 123456789}}"
      ]
     },
     "execution_count": 108,
     "metadata": {},
     "output_type": "execute_result"
    }
   ],
   "source": [
    "d1"
   ]
  },
  {
   "cell_type": "code",
   "execution_count": 109,
   "id": "4afec2ad-a281-4b63-8e7e-5a43c49080b4",
   "metadata": {},
   "outputs": [],
   "source": [
    "d1[\"Key1\"]=\"abc\""
   ]
  },
  {
   "cell_type": "code",
   "execution_count": 110,
   "id": "81c6cccc-d292-4738-96e9-d58e4e4f2332",
   "metadata": {},
   "outputs": [
    {
     "data": {
      "text/plain": [
       "{'Key': {'Name': 'Krish Naik',\n",
       "  'Address': 'Bangalore',\n",
       "  'Mobile Number': 123456789},\n",
       " 'Key1': 'abc'}"
      ]
     },
     "execution_count": 110,
     "metadata": {},
     "output_type": "execute_result"
    }
   ],
   "source": [
    "d1"
   ]
  },
  {
   "cell_type": "code",
   "execution_count": 112,
   "id": "04fed21b-2592-4983-804f-c6fbcdb534c4",
   "metadata": {},
   "outputs": [],
   "source": [
    "del d1[\"Key\"]"
   ]
  },
  {
   "cell_type": "code",
   "execution_count": 113,
   "id": "1d778b76-d78b-43ed-b603-2c059c9efbf7",
   "metadata": {},
   "outputs": [
    {
     "data": {
      "text/plain": [
       "{'Key1': 'abc'}"
      ]
     },
     "execution_count": 113,
     "metadata": {},
     "output_type": "execute_result"
    }
   ],
   "source": [
    "d1"
   ]
  },
  {
   "cell_type": "code",
   "execution_count": 116,
   "id": "b9c4857f-3f43-48a0-a9f4-58dbd8bff0fa",
   "metadata": {},
   "outputs": [],
   "source": [
    "d1.clear() #Clears all keys and values in that dictionary without deleting dictionary itself it basically empties dictionary"
   ]
  },
  {
   "cell_type": "code",
   "execution_count": 115,
   "id": "73318697-0ca3-4e46-84c7-6ef0983beadf",
   "metadata": {},
   "outputs": [
    {
     "data": {
      "text/plain": [
       "{}"
      ]
     },
     "execution_count": 115,
     "metadata": {},
     "output_type": "execute_result"
    }
   ],
   "source": [
    "d1"
   ]
  },
  {
   "cell_type": "code",
   "execution_count": 117,
   "id": "ee69616c-aa6a-432e-b802-ead87d227cfc",
   "metadata": {},
   "outputs": [
    {
     "data": {
      "text/plain": [
       "{'Course Name': ['Data Science Masters',\n",
       "  'Web Development',\n",
       "  'Java Data Structure'],\n",
       " 'Start Date': (12, 23, 29),\n",
       " 'Mentor Name': {'Anurag Tiwari',\n",
       "  'Haider',\n",
       "  'Hitesh',\n",
       "  'Krish Naik',\n",
       "  'Naveen',\n",
       "  'Sudhanshu'},\n",
       " 'Platform': ('PW  Skills', 'Ineuron')}"
      ]
     },
     "execution_count": 117,
     "metadata": {},
     "output_type": "execute_result"
    }
   ],
   "source": [
    "d"
   ]
  },
  {
   "cell_type": "code",
   "execution_count": 119,
   "id": "92829702-1367-4057-85ee-782df69dd3b9",
   "metadata": {},
   "outputs": [
    {
     "data": {
      "text/plain": [
       "4"
      ]
     },
     "execution_count": 119,
     "metadata": {},
     "output_type": "execute_result"
    }
   ],
   "source": [
    "len(d) #Returns total key:value pairs in that dictionary"
   ]
  },
  {
   "cell_type": "code",
   "execution_count": 121,
   "id": "56f91c9a-d2f1-4927-aeec-4b033401c0b4",
   "metadata": {},
   "outputs": [
    {
     "data": {
      "text/plain": [
       "dict_keys(['Course Name', 'Start Date', 'Mentor Name', 'Platform'])"
      ]
     },
     "execution_count": 121,
     "metadata": {},
     "output_type": "execute_result"
    }
   ],
   "source": [
    "d.keys() #Extracts all keys in given dictionary"
   ]
  },
  {
   "cell_type": "code",
   "execution_count": 128,
   "id": "3e899704-fcad-45b3-80b6-42972dbc34f7",
   "metadata": {},
   "outputs": [],
   "source": [
    "list1=list(d.keys())"
   ]
  },
  {
   "cell_type": "code",
   "execution_count": 129,
   "id": "f0665d9e-577c-485c-a39b-c8dda18f81b4",
   "metadata": {},
   "outputs": [
    {
     "data": {
      "text/plain": [
       "['Course Name', 'Start Date', 'Mentor Name', 'Platform']"
      ]
     },
     "execution_count": 129,
     "metadata": {},
     "output_type": "execute_result"
    }
   ],
   "source": [
    "list1"
   ]
  },
  {
   "cell_type": "code",
   "execution_count": 130,
   "id": "6bf3f0a1-2593-478c-9ca5-063e7ae4e7a4",
   "metadata": {},
   "outputs": [
    {
     "data": {
      "text/plain": [
       "'Start Date'"
      ]
     },
     "execution_count": 130,
     "metadata": {},
     "output_type": "execute_result"
    }
   ],
   "source": [
    "list1[1]"
   ]
  },
  {
   "cell_type": "code",
   "execution_count": 127,
   "id": "90e6220a-e873-4708-a58d-827505449ec8",
   "metadata": {},
   "outputs": [
    {
     "data": {
      "text/plain": [
       "dict_values([['Data Science Masters', 'Web Development', 'Java Data Structure'], (12, 23, 29), {'Naveen', 'Anurag Tiwari', 'Sudhanshu', 'Krish Naik', 'Hitesh', 'Haider'}, ('PW  Skills', 'Ineuron')])"
      ]
     },
     "execution_count": 127,
     "metadata": {},
     "output_type": "execute_result"
    }
   ],
   "source": [
    "d.values() #Gives all values in dictionary"
   ]
  },
  {
   "cell_type": "code",
   "execution_count": 131,
   "id": "1cb03146-7e6a-4f82-943d-f50cb604233e",
   "metadata": {},
   "outputs": [],
   "source": [
    "list2=list(d.values())"
   ]
  },
  {
   "cell_type": "code",
   "execution_count": 132,
   "id": "cf9f0d3a-6cd4-4a34-b18c-1169038ca6a7",
   "metadata": {},
   "outputs": [
    {
     "data": {
      "text/plain": [
       "[['Data Science Masters', 'Web Development', 'Java Data Structure'],\n",
       " (12, 23, 29),\n",
       " {'Anurag Tiwari', 'Haider', 'Hitesh', 'Krish Naik', 'Naveen', 'Sudhanshu'},\n",
       " ('PW  Skills', 'Ineuron')]"
      ]
     },
     "execution_count": 132,
     "metadata": {},
     "output_type": "execute_result"
    }
   ],
   "source": [
    "list2"
   ]
  },
  {
   "cell_type": "code",
   "execution_count": 133,
   "id": "e30fc604-d660-4655-aaf2-992cdcea50ea",
   "metadata": {},
   "outputs": [
    {
     "data": {
      "text/plain": [
       "(12, 23, 29)"
      ]
     },
     "execution_count": 133,
     "metadata": {},
     "output_type": "execute_result"
    }
   ],
   "source": [
    "list2[1]"
   ]
  },
  {
   "cell_type": "code",
   "execution_count": 135,
   "id": "ac4b2d72-13cc-479b-8793-0c12df2abdde",
   "metadata": {},
   "outputs": [],
   "source": [
    "list3=[list1,list2]"
   ]
  },
  {
   "cell_type": "code",
   "execution_count": 138,
   "id": "589b7daa-c0fb-49bc-b54b-a25a1e72423f",
   "metadata": {},
   "outputs": [
    {
     "data": {
      "text/plain": [
       "[['Course Name', 'Start Date', 'Mentor Name', 'Platform'],\n",
       " [['Data Science Masters', 'Web Development', 'Java Data Structure'],\n",
       "  (12, 23, 29),\n",
       "  {'Anurag Tiwari', 'Haider', 'Hitesh', 'Krish Naik', 'Naveen', 'Sudhanshu'},\n",
       "  ('PW  Skills', 'Ineuron')]]"
      ]
     },
     "execution_count": 138,
     "metadata": {},
     "output_type": "execute_result"
    }
   ],
   "source": [
    "list3 #Here we have two list in main list one list represents key and other value of dictionary"
   ]
  },
  {
   "cell_type": "code",
   "execution_count": 139,
   "id": "c2bf7e67-ac15-4fd6-9991-1da927508ec5",
   "metadata": {},
   "outputs": [
    {
     "data": {
      "text/plain": [
       "4"
      ]
     },
     "execution_count": 139,
     "metadata": {},
     "output_type": "execute_result"
    }
   ],
   "source": [
    "len(list3[0])"
   ]
  },
  {
   "cell_type": "code",
   "execution_count": 145,
   "id": "7ecce722-a261-4dae-a8cd-ca86523536c5",
   "metadata": {},
   "outputs": [],
   "source": [
    "d3={}\n",
    "for i in range(len(list3[0])):\n",
    "    d3[list3[0][i]]=list3[1][i]"
   ]
  },
  {
   "cell_type": "code",
   "execution_count": 146,
   "id": "0f9e4ef6-7e76-4106-8a87-87ca221ec3d7",
   "metadata": {},
   "outputs": [
    {
     "data": {
      "text/plain": [
       "{'Course Name': ['Data Science Masters',\n",
       "  'Web Development',\n",
       "  'Java Data Structure'],\n",
       " 'Start Date': (12, 23, 29),\n",
       " 'Mentor Name': {'Anurag Tiwari',\n",
       "  'Haider',\n",
       "  'Hitesh',\n",
       "  'Krish Naik',\n",
       "  'Naveen',\n",
       "  'Sudhanshu'},\n",
       " 'Platform': ('PW  Skills', 'Ineuron')}"
      ]
     },
     "execution_count": 146,
     "metadata": {},
     "output_type": "execute_result"
    }
   ],
   "source": [
    "d3"
   ]
  },
  {
   "cell_type": "code",
   "execution_count": 151,
   "id": "36e40f01-7cbf-4d28-b3e0-1aeff01aa7cd",
   "metadata": {},
   "outputs": [
    {
     "data": {
      "text/plain": [
       "False"
      ]
     },
     "execution_count": 151,
     "metadata": {},
     "output_type": "execute_result"
    }
   ],
   "source": [
    "d is d3"
   ]
  },
  {
   "cell_type": "code",
   "execution_count": 153,
   "id": "4f9ff028-cc63-49bc-950b-cde75af5b9bf",
   "metadata": {},
   "outputs": [
    {
     "data": {
      "text/plain": [
       "True"
      ]
     },
     "execution_count": 153,
     "metadata": {},
     "output_type": "execute_result"
    }
   ],
   "source": [
    "d==d3"
   ]
  },
  {
   "cell_type": "code",
   "execution_count": 148,
   "id": "6fe1aa06-3de8-4a54-83e3-bf57a5c50634",
   "metadata": {},
   "outputs": [
    {
     "data": {
      "text/plain": [
       "{'Course Name': ['Data Science Masters',\n",
       "  'Web Development',\n",
       "  'Java Data Structure'],\n",
       " 'Start Date': (12, 23, 29),\n",
       " 'Mentor Name': {'Anurag Tiwari',\n",
       "  'Haider',\n",
       "  'Hitesh',\n",
       "  'Krish Naik',\n",
       "  'Naveen',\n",
       "  'Sudhanshu'},\n",
       " 'Platform': ('PW  Skills', 'Ineuron')}"
      ]
     },
     "execution_count": 148,
     "metadata": {},
     "output_type": "execute_result"
    }
   ],
   "source": [
    "d"
   ]
  },
  {
   "cell_type": "code",
   "execution_count": 150,
   "id": "f31c92ef-1bea-4cc1-8d41-fcf629e1119e",
   "metadata": {},
   "outputs": [
    {
     "data": {
      "text/plain": [
       "{'Course Name': ['Data Science Masters',\n",
       "  'Web Development',\n",
       "  'Java Data Structure'],\n",
       " 'Start Date': (12, 23, 29),\n",
       " 'Mentor Name': {'Anurag Tiwari',\n",
       "  'Haider',\n",
       "  'Hitesh',\n",
       "  'Krish Naik',\n",
       "  'Naveen',\n",
       "  'Sudhanshu'},\n",
       " 'Platform': ('PW  Skills', 'Ineuron')}"
      ]
     },
     "execution_count": 150,
     "metadata": {},
     "output_type": "execute_result"
    }
   ],
   "source": [
    "d3"
   ]
  },
  {
   "cell_type": "code",
   "execution_count": 154,
   "id": "c695b954-1ea1-488f-b04a-6a691fbf4532",
   "metadata": {},
   "outputs": [],
   "source": [
    "#Therefore we converted dict to list and then list back to dict"
   ]
  },
  {
   "cell_type": "code",
   "execution_count": 155,
   "id": "69f4196e-dc8e-4b87-98aa-93eb95f87697",
   "metadata": {},
   "outputs": [],
   "source": [
    "list1=list(d.items())"
   ]
  },
  {
   "cell_type": "code",
   "execution_count": 156,
   "id": "878f985c-8cda-48d8-a0d4-13d99efd980d",
   "metadata": {},
   "outputs": [
    {
     "data": {
      "text/plain": [
       "[('Course Name',\n",
       "  ['Data Science Masters', 'Web Development', 'Java Data Structure']),\n",
       " ('Start Date', (12, 23, 29)),\n",
       " ('Mentor Name',\n",
       "  {'Anurag Tiwari', 'Haider', 'Hitesh', 'Krish Naik', 'Naveen', 'Sudhanshu'}),\n",
       " ('Platform', ('PW  Skills', 'Ineuron'))]"
      ]
     },
     "execution_count": 156,
     "metadata": {},
     "output_type": "execute_result"
    }
   ],
   "source": [
    "list1"
   ]
  },
  {
   "cell_type": "code",
   "execution_count": 157,
   "id": "c6f71338-37e5-4ae9-b896-7df450b85630",
   "metadata": {},
   "outputs": [
    {
     "data": {
      "text/plain": [
       "[['Course Name', 'Start Date', 'Mentor Name', 'Platform'],\n",
       " [['Data Science Masters', 'Web Development', 'Java Data Structure'],\n",
       "  (12, 23, 29),\n",
       "  {'Anurag Tiwari', 'Haider', 'Hitesh', 'Krish Naik', 'Naveen', 'Sudhanshu'},\n",
       "  ('PW  Skills', 'Ineuron')]]"
      ]
     },
     "execution_count": 157,
     "metadata": {},
     "output_type": "execute_result"
    }
   ],
   "source": [
    "list3"
   ]
  },
  {
   "cell_type": "code",
   "execution_count": 158,
   "id": "09423361-5e17-4127-a6c1-5745bfe27ba1",
   "metadata": {},
   "outputs": [
    {
     "data": {
      "text/plain": [
       "{'Course Name': ['Data Science Masters',\n",
       "  'Web Development',\n",
       "  'Java Data Structure'],\n",
       " 'Start Date': (12, 23, 29),\n",
       " 'Mentor Name': {'Anurag Tiwari',\n",
       "  'Haider',\n",
       "  'Hitesh',\n",
       "  'Krish Naik',\n",
       "  'Naveen',\n",
       "  'Sudhanshu'},\n",
       " 'Platform': ('PW  Skills', 'Ineuron')}"
      ]
     },
     "execution_count": 158,
     "metadata": {},
     "output_type": "execute_result"
    }
   ],
   "source": [
    "d"
   ]
  },
  {
   "cell_type": "code",
   "execution_count": 161,
   "id": "af2fb10d-c5ea-4560-a2c5-5af38954f9ae",
   "metadata": {},
   "outputs": [],
   "source": [
    "d1=d #Shallow copy -- Same Memory location"
   ]
  },
  {
   "cell_type": "code",
   "execution_count": 163,
   "id": "bf1f5147-0d1a-4346-8854-aca5583c7820",
   "metadata": {},
   "outputs": [
    {
     "data": {
      "text/plain": [
       "True"
      ]
     },
     "execution_count": 163,
     "metadata": {},
     "output_type": "execute_result"
    }
   ],
   "source": [
    "d1==d"
   ]
  },
  {
   "cell_type": "code",
   "execution_count": 164,
   "id": "0f610e8d-b04b-40c4-9331-6a4b60bea0d3",
   "metadata": {},
   "outputs": [
    {
     "data": {
      "text/plain": [
       "True"
      ]
     },
     "execution_count": 164,
     "metadata": {},
     "output_type": "execute_result"
    }
   ],
   "source": [
    "d1 is d"
   ]
  },
  {
   "cell_type": "code",
   "execution_count": null,
   "id": "431f8b25-de60-48c1-8dae-81b8a0d221fc",
   "metadata": {},
   "outputs": [],
   "source": [
    "#That is shallow copy will have same data as well as same memory address that is deleting key in d will also delete key i d1"
   ]
  },
  {
   "cell_type": "code",
   "execution_count": 170,
   "id": "cdac322a-2f1b-4d61-ae7c-3a2369272bb2",
   "metadata": {},
   "outputs": [],
   "source": [
    "d1=d.copy() #This is deep copy -- Different Memory Location"
   ]
  },
  {
   "cell_type": "code",
   "execution_count": 166,
   "id": "2fe1326d-b4ef-412d-bfb8-64c035a94a4c",
   "metadata": {},
   "outputs": [
    {
     "data": {
      "text/plain": [
       "True"
      ]
     },
     "execution_count": 166,
     "metadata": {},
     "output_type": "execute_result"
    }
   ],
   "source": [
    "d1==d"
   ]
  },
  {
   "cell_type": "code",
   "execution_count": 167,
   "id": "a1fdc66b-bd58-4014-a59d-6bc25486f3d3",
   "metadata": {},
   "outputs": [
    {
     "data": {
      "text/plain": [
       "False"
      ]
     },
     "execution_count": 167,
     "metadata": {},
     "output_type": "execute_result"
    }
   ],
   "source": [
    "d1 is d"
   ]
  },
  {
   "cell_type": "code",
   "execution_count": 171,
   "id": "22d35507-45de-416a-ae98-27909eaa3a2d",
   "metadata": {},
   "outputs": [],
   "source": [
    "#That is deep copy will have be sme copied dictionary but not same memory adress of copied dictionary, they both will have thier own addressess\n",
    "#So if we delete key in d it will not affect any key or data in d1"
   ]
  },
  {
   "cell_type": "code",
   "execution_count": 8,
   "id": "1c526634-4ea2-4eba-b39e-2d080902b81b",
   "metadata": {},
   "outputs": [
    {
     "data": {
      "text/plain": [
       "{'Course Name': ['Data Science Masters',\n",
       "  'Web Development',\n",
       "  'Java Data Structure'],\n",
       " 'Start Date': (28, 14, 21),\n",
       " 'Mentor Name': {'Anurag Tiwari',\n",
       "  'Haider',\n",
       "  'Hitesh',\n",
       "  'Krish Naik',\n",
       "  'Naveen',\n",
       "  'Sudhanshu'}}"
      ]
     },
     "execution_count": 8,
     "metadata": {},
     "output_type": "execute_result"
    }
   ],
   "source": [
    "d"
   ]
  },
  {
   "cell_type": "code",
   "execution_count": 9,
   "id": "de019a4c-afa0-402c-9842-a6b899c812bc",
   "metadata": {},
   "outputs": [
    {
     "ename": "TypeError",
     "evalue": "pop expected at least 1 argument, got 0",
     "output_type": "error",
     "traceback": [
      "\u001b[0;31m---------------------------------------------------------------------------\u001b[0m",
      "\u001b[0;31mTypeError\u001b[0m                                 Traceback (most recent call last)",
      "Cell \u001b[0;32mIn[9], line 1\u001b[0m\n\u001b[0;32m----> 1\u001b[0m \u001b[43md\u001b[49m\u001b[38;5;241;43m.\u001b[39;49m\u001b[43mpop\u001b[49m\u001b[43m(\u001b[49m\u001b[43m)\u001b[49m\n",
      "\u001b[0;31mTypeError\u001b[0m: pop expected at least 1 argument, got 0"
     ]
    }
   ],
   "source": [
    "d.pop()"
   ]
  },
  {
   "cell_type": "code",
   "execution_count": 11,
   "id": "98cdbb3d-b9bf-41df-9ddc-f1e6595f1892",
   "metadata": {},
   "outputs": [
    {
     "data": {
      "text/plain": [
       "(28, 14, 21)"
      ]
     },
     "execution_count": 11,
     "metadata": {},
     "output_type": "execute_result"
    }
   ],
   "source": [
    "d.pop(\"Start Date\")"
   ]
  },
  {
   "cell_type": "code",
   "execution_count": 12,
   "id": "45c7bccf-ced8-476f-a43c-88d31adae606",
   "metadata": {},
   "outputs": [
    {
     "data": {
      "text/plain": [
       "{'Course Name': ['Data Science Masters',\n",
       "  'Web Development',\n",
       "  'Java Data Structure'],\n",
       " 'Mentor Name': {'Anurag Tiwari',\n",
       "  'Haider',\n",
       "  'Hitesh',\n",
       "  'Krish Naik',\n",
       "  'Naveen',\n",
       "  'Sudhanshu'}}"
      ]
     },
     "execution_count": 12,
     "metadata": {},
     "output_type": "execute_result"
    }
   ],
   "source": [
    "d"
   ]
  },
  {
   "cell_type": "code",
   "execution_count": 14,
   "id": "0f479ab8-2872-4ca1-834a-63bbc264b1af",
   "metadata": {},
   "outputs": [
    {
     "data": {
      "text/plain": [
       "['Data Science Masters', 'Web Development', 'Java Data Structure']"
      ]
     },
     "execution_count": 14,
     "metadata": {},
     "output_type": "execute_result"
    }
   ],
   "source": [
    "d.get(\"Course Name\")"
   ]
  },
  {
   "cell_type": "code",
   "execution_count": 15,
   "id": "088a1547-b0c7-4100-a954-d3bcbe18d752",
   "metadata": {},
   "outputs": [
    {
     "data": {
      "text/plain": [
       "['Data Science Masters', 'Web Development', 'Java Data Structure']"
      ]
     },
     "execution_count": 15,
     "metadata": {},
     "output_type": "execute_result"
    }
   ],
   "source": [
    "d[\"Course Name\"]"
   ]
  },
  {
   "cell_type": "code",
   "execution_count": 17,
   "id": "bdde5095-0114-4bca-9dd1-1e640f57a472",
   "metadata": {},
   "outputs": [
    {
     "data": {
      "text/plain": [
       "{1: ('a', 'b', 'c'), 2: ('a', 'b', 'c'), 3: ('a', 'b', 'c')}"
      ]
     },
     "execution_count": 17,
     "metadata": {},
     "output_type": "execute_result"
    }
   ],
   "source": [
    "d.fromkeys((1,2,3),('a','b','c'))"
   ]
  },
  {
   "cell_type": "code",
   "execution_count": 18,
   "id": "d3676c95-21a7-4afa-bf71-758f58272f58",
   "metadata": {},
   "outputs": [],
   "source": [
    "d19 = {\"key1\" : \"value\" , \"key2\" : \"value2\"}\n",
    "d20 = {\"key3\" : \"value3\" , \"key4\" :\"value4\"}"
   ]
  },
  {
   "cell_type": "code",
   "execution_count": 19,
   "id": "dee1ff5d-14c5-4b59-8aea-c8e16c20e0ed",
   "metadata": {},
   "outputs": [
    {
     "data": {
      "text/plain": [
       "({'key1': 'value', 'key2': 'value2'}, {'key3': 'value3', 'key4': 'value4'})"
      ]
     },
     "execution_count": 19,
     "metadata": {},
     "output_type": "execute_result"
    }
   ],
   "source": [
    "(d19,d20)"
   ]
  },
  {
   "cell_type": "code",
   "execution_count": 27,
   "id": "3bbe6360-7697-4026-9fff-fdd321151ff7",
   "metadata": {},
   "outputs": [],
   "source": [
    "d19.update(d20)"
   ]
  },
  {
   "cell_type": "code",
   "execution_count": 28,
   "id": "04a51610-6778-4978-8ada-4d02cb1b4e74",
   "metadata": {},
   "outputs": [
    {
     "data": {
      "text/plain": [
       "{'key1': 'value', 'key2': 'value2', 'key3': 'value3', 'key4': 'value4'}"
      ]
     },
     "execution_count": 28,
     "metadata": {},
     "output_type": "execute_result"
    }
   ],
   "source": [
    "d19"
   ]
  },
  {
   "cell_type": "code",
   "execution_count": 29,
   "id": "183fd5e1-c36f-4ab4-93be-0f8b010ee29e",
   "metadata": {},
   "outputs": [
    {
     "data": {
      "text/plain": [
       "{'key3': 'value3', 'key4': 'value4'}"
      ]
     },
     "execution_count": 29,
     "metadata": {},
     "output_type": "execute_result"
    }
   ],
   "source": [
    "d20"
   ]
  },
  {
   "cell_type": "code",
   "execution_count": 40,
   "id": "e0dda493-92a5-4f50-8bc4-6b90452c9b29",
   "metadata": {},
   "outputs": [],
   "source": [
    "d20.update(d19)"
   ]
  },
  {
   "cell_type": "code",
   "execution_count": 41,
   "id": "e4764cd1-1959-4180-8c6e-0427480f8ad6",
   "metadata": {},
   "outputs": [
    {
     "data": {
      "text/plain": [
       "{'key3': 'value3', 'key4': 'value4', 'key1': 'value', 'key2': 'value2'}"
      ]
     },
     "execution_count": 41,
     "metadata": {},
     "output_type": "execute_result"
    }
   ],
   "source": [
    "d20"
   ]
  },
  {
   "cell_type": "code",
   "execution_count": 42,
   "id": "9b1fcaab-d3bd-4759-949e-5699d45e36eb",
   "metadata": {},
   "outputs": [
    {
     "data": {
      "text/plain": [
       "True"
      ]
     },
     "execution_count": 42,
     "metadata": {},
     "output_type": "execute_result"
    }
   ],
   "source": [
    "d19==d20"
   ]
  },
  {
   "cell_type": "code",
   "execution_count": 43,
   "id": "ac85efce-4e5f-4c26-bfef-5a0e31d33a46",
   "metadata": {},
   "outputs": [
    {
     "data": {
      "text/plain": [
       "{'key3': 'value3', 'key4': 'value4', 'key1': 'value', 'key2': 'value2'}"
      ]
     },
     "execution_count": 43,
     "metadata": {},
     "output_type": "execute_result"
    }
   ],
   "source": [
    "d20"
   ]
  },
  {
   "cell_type": "code",
   "execution_count": 45,
   "id": "4c2b08d8-ea8e-4c3c-be5a-98d8010e8373",
   "metadata": {},
   "outputs": [
    {
     "data": {
      "text/plain": [
       "'value3'"
      ]
     },
     "execution_count": 45,
     "metadata": {},
     "output_type": "execute_result"
    }
   ],
   "source": [
    "d20.get(\"key3\")"
   ]
  },
  {
   "cell_type": "code",
   "execution_count": 46,
   "id": "237edd59-6255-4562-a88b-341090e9c743",
   "metadata": {},
   "outputs": [],
   "source": [
    "d20.get(\"key10\")"
   ]
  },
  {
   "cell_type": "code",
   "execution_count": 48,
   "id": "cf0af74d-dd1a-4646-a19c-ce26e58af8fc",
   "metadata": {},
   "outputs": [
    {
     "data": {
      "text/plain": [
       "'value3'"
      ]
     },
     "execution_count": 48,
     "metadata": {},
     "output_type": "execute_result"
    }
   ],
   "source": [
    "d20[\"key3\"]"
   ]
  },
  {
   "cell_type": "code",
   "execution_count": 49,
   "id": "6ef7f91b-b76d-41fb-bdd0-7faed29ba311",
   "metadata": {},
   "outputs": [
    {
     "ename": "KeyError",
     "evalue": "'key10'",
     "output_type": "error",
     "traceback": [
      "\u001b[0;31m---------------------------------------------------------------------------\u001b[0m",
      "\u001b[0;31mKeyError\u001b[0m                                  Traceback (most recent call last)",
      "Cell \u001b[0;32mIn[49], line 1\u001b[0m\n\u001b[0;32m----> 1\u001b[0m \u001b[43md20\u001b[49m\u001b[43m[\u001b[49m\u001b[38;5;124;43m\"\u001b[39;49m\u001b[38;5;124;43mkey10\u001b[39;49m\u001b[38;5;124;43m\"\u001b[39;49m\u001b[43m]\u001b[49m\n",
      "\u001b[0;31mKeyError\u001b[0m: 'key10'"
     ]
    }
   ],
   "source": [
    "d20[\"key10\"]"
   ]
  },
  {
   "cell_type": "code",
   "execution_count": 51,
   "id": "a3a814ee-59d5-4da2-b9ff-916e8e4b9ed9",
   "metadata": {},
   "outputs": [],
   "source": [
    "#That is dict gives error if key is not present and we want it's value but get function does not give error even if \n",
    "#dict does not have that key just it will not return that value of key"
   ]
  },
  {
   "cell_type": "markdown",
   "id": "250cf6c9-ea07-48ef-bd39-a00968862860",
   "metadata": {},
   "source": [
    "##DICTIONARY COMPREHENCION"
   ]
  },
  {
   "cell_type": "code",
   "execution_count": 52,
   "id": "9cb8639d-b8be-401c-b4a9-1c4a676ba433",
   "metadata": {},
   "outputs": [
    {
     "name": "stdout",
     "output_type": "stream",
     "text": [
      "{1: 1, 2: 4, 3: 9, 4: 16, 5: 25, 6: 36, 7: 49, 8: 64, 9: 81, 10: 100}\n"
     ]
    }
   ],
   "source": [
    "#CODE\n",
    "d={}\n",
    "for i in range(1,11):\n",
    "    d[i]=i*i\n",
    "print(d)"
   ]
  },
  {
   "cell_type": "code",
   "execution_count": 53,
   "id": "01639c83-9b02-4dd3-a126-ec9c33ecc5ad",
   "metadata": {},
   "outputs": [],
   "source": [
    "#Using dict comprehension"
   ]
  },
  {
   "cell_type": "code",
   "execution_count": 56,
   "id": "367d88a9-641d-4668-ba74-b93c55e4ad17",
   "metadata": {},
   "outputs": [],
   "source": [
    "d={i:i*i for i in range(1,11)}"
   ]
  },
  {
   "cell_type": "code",
   "execution_count": 57,
   "id": "73533bad-8f4a-44aa-b9f6-a55acd7732f7",
   "metadata": {},
   "outputs": [
    {
     "data": {
      "text/plain": [
       "{1: 1, 2: 4, 3: 9, 4: 16, 5: 25, 6: 36, 7: 49, 8: 64, 9: 81, 10: 100}"
      ]
     },
     "execution_count": 57,
     "metadata": {},
     "output_type": "execute_result"
    }
   ],
   "source": [
    "d"
   ]
  },
  {
   "cell_type": "code",
   "execution_count": 58,
   "id": "d1d597b7-18fd-48c5-a48b-75af01341dbc",
   "metadata": {},
   "outputs": [],
   "source": [
    "#Prepare dict where value should be +5 of key"
   ]
  },
  {
   "cell_type": "code",
   "execution_count": 59,
   "id": "ffe80f72-8e29-459e-9925-d843ce6f27c9",
   "metadata": {},
   "outputs": [],
   "source": [
    "d={i:i+3 for i in range(1,11)}"
   ]
  },
  {
   "cell_type": "code",
   "execution_count": 60,
   "id": "7ff24703-1b4a-4b66-88aa-a661fe86f37d",
   "metadata": {},
   "outputs": [
    {
     "data": {
      "text/plain": [
       "{1: 4, 2: 5, 3: 6, 4: 7, 5: 8, 6: 9, 7: 10, 8: 11, 9: 12, 10: 13}"
      ]
     },
     "execution_count": 60,
     "metadata": {},
     "output_type": "execute_result"
    }
   ],
   "source": [
    "d"
   ]
  },
  {
   "cell_type": "code",
   "execution_count": 62,
   "id": "fac30001-38e9-4193-93ed-0ddc7e6afd63",
   "metadata": {},
   "outputs": [],
   "source": [
    "import math\n",
    "d={i:math.log(i) for i in range(1,11)}"
   ]
  },
  {
   "cell_type": "code",
   "execution_count": 63,
   "id": "8c13128d-13d7-459f-82cf-6cfe760bb322",
   "metadata": {},
   "outputs": [
    {
     "data": {
      "text/plain": [
       "{1: 0.0,\n",
       " 2: 0.6931471805599453,\n",
       " 3: 1.0986122886681098,\n",
       " 4: 1.3862943611198906,\n",
       " 5: 1.6094379124341003,\n",
       " 6: 1.791759469228055,\n",
       " 7: 1.9459101490553132,\n",
       " 8: 2.0794415416798357,\n",
       " 9: 2.1972245773362196,\n",
       " 10: 2.302585092994046}"
      ]
     },
     "execution_count": 63,
     "metadata": {},
     "output_type": "execute_result"
    }
   ],
   "source": [
    "d"
   ]
  },
  {
   "cell_type": "code",
   "execution_count": 64,
   "id": "e7d54649-26a6-44f2-8599-31ee7ba661c4",
   "metadata": {},
   "outputs": [],
   "source": [
    "import math\n",
    "d={i:math.log10(i) for i in range(1,11)}"
   ]
  },
  {
   "cell_type": "code",
   "execution_count": 65,
   "id": "dd7a036b-5925-44b5-ab84-1fa059fe5d1b",
   "metadata": {},
   "outputs": [
    {
     "data": {
      "text/plain": [
       "{1: 0.0,\n",
       " 2: 0.3010299956639812,\n",
       " 3: 0.47712125471966244,\n",
       " 4: 0.6020599913279624,\n",
       " 5: 0.6989700043360189,\n",
       " 6: 0.7781512503836436,\n",
       " 7: 0.8450980400142568,\n",
       " 8: 0.9030899869919435,\n",
       " 9: 0.9542425094393249,\n",
       " 10: 1.0}"
      ]
     },
     "execution_count": 65,
     "metadata": {},
     "output_type": "execute_result"
    }
   ],
   "source": [
    "d"
   ]
  },
  {
   "cell_type": "code",
   "execution_count": 66,
   "id": "1ee884bf-6c57-4e54-9921-6c1a00e53ae7",
   "metadata": {},
   "outputs": [],
   "source": [
    "d={1:\"abc\",2:\"pqr\"}"
   ]
  },
  {
   "cell_type": "code",
   "execution_count": 67,
   "id": "c1d4d7cd-10d7-4a20-9696-8d47e379efbb",
   "metadata": {},
   "outputs": [
    {
     "data": {
      "text/plain": [
       "True"
      ]
     },
     "execution_count": 67,
     "metadata": {},
     "output_type": "execute_result"
    }
   ],
   "source": [
    "1 in d"
   ]
  },
  {
   "cell_type": "code",
   "execution_count": 68,
   "id": "a4db0c80-6a3c-4a89-bd0e-603b3974f60e",
   "metadata": {},
   "outputs": [],
   "source": [
    "import math\n",
    "d={i:math.log10(i) for i in range(1,11)}"
   ]
  },
  {
   "cell_type": "code",
   "execution_count": 73,
   "id": "ba395547-5ceb-4b4a-991e-a60fdb872b86",
   "metadata": {},
   "outputs": [],
   "source": [
    "#Make tupple of keys where key is even number\n",
    "t=()\n",
    "t=tuple((i for i in d if(i%2==0)))"
   ]
  },
  {
   "cell_type": "code",
   "execution_count": 74,
   "id": "7c8aa345-aa2f-4103-adbf-07231907230a",
   "metadata": {},
   "outputs": [
    {
     "data": {
      "text/plain": [
       "(2, 4, 6, 8, 10)"
      ]
     },
     "execution_count": 74,
     "metadata": {},
     "output_type": "execute_result"
    }
   ],
   "source": [
    "t"
   ]
  },
  {
   "cell_type": "code",
   "execution_count": 77,
   "id": "2a02b3c1-e847-469b-89db-882c10aa1d85",
   "metadata": {},
   "outputs": [],
   "source": [
    "#Make tupple of values where key is even number\n",
    "t=()\n",
    "t=tuple((d.get(i) for i in d if(i%2==0)))"
   ]
  },
  {
   "cell_type": "code",
   "execution_count": 78,
   "id": "69c5d34c-9fe8-4ce3-b98d-3eac5f5a0957",
   "metadata": {},
   "outputs": [
    {
     "data": {
      "text/plain": [
       "(0.3010299956639812,\n",
       " 0.6020599913279624,\n",
       " 0.7781512503836436,\n",
       " 0.9030899869919435,\n",
       " 1.0)"
      ]
     },
     "execution_count": 78,
     "metadata": {},
     "output_type": "execute_result"
    }
   ],
   "source": [
    "t"
   ]
  },
  {
   "cell_type": "code",
   "execution_count": 79,
   "id": "a714f940-56f0-4799-a6ab-69bc5956f661",
   "metadata": {},
   "outputs": [],
   "source": [
    "#Make tupple of values where key is even number\n",
    "t=()\n",
    "t=tuple((d[i] for i in d if(i%2==0)))"
   ]
  },
  {
   "cell_type": "code",
   "execution_count": 81,
   "id": "1987eea7-08ed-40dc-8dca-1e82526b661f",
   "metadata": {},
   "outputs": [
    {
     "data": {
      "text/plain": [
       "(0.3010299956639812,\n",
       " 0.6020599913279624,\n",
       " 0.7781512503836436,\n",
       " 0.9030899869919435,\n",
       " 1.0)"
      ]
     },
     "execution_count": 81,
     "metadata": {},
     "output_type": "execute_result"
    }
   ],
   "source": [
    "t"
   ]
  },
  {
   "cell_type": "code",
   "execution_count": null,
   "id": "8e93b64e-f342-4e3c-973e-17648c7f4443",
   "metadata": {},
   "outputs": [],
   "source": []
  }
 ],
 "metadata": {
  "kernelspec": {
   "display_name": "Python 3 (ipykernel)",
   "language": "python",
   "name": "python3"
  },
  "language_info": {
   "codemirror_mode": {
    "name": "ipython",
    "version": 3
   },
   "file_extension": ".py",
   "mimetype": "text/x-python",
   "name": "python",
   "nbconvert_exporter": "python",
   "pygments_lexer": "ipython3",
   "version": "3.10.8"
  }
 },
 "nbformat": 4,
 "nbformat_minor": 5
}
