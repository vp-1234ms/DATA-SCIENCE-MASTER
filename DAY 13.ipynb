{
 "cells": [
  {
   "cell_type": "code",
   "execution_count": 9,
   "id": "55233b75-c4f7-4759-994b-c181491b61de",
   "metadata": {},
   "outputs": [],
   "source": [
    "###LIST OF GENERAL USE EXCEPTION"
   ]
  },
  {
   "cell_type": "code",
   "execution_count": 8,
   "id": "7013a85c-5127-4511-9261-911bb2c6c5bd",
   "metadata": {},
   "outputs": [
    {
     "name": "stdout",
     "output_type": "stream",
     "text": [
      "Exception raised  division by zero\n"
     ]
    }
   ],
   "source": [
    "try:\n",
    "    a=10\n",
    "    a/0\n",
    "except ZeroDivisionError as e:\n",
    "    print(\"Exception raised \",e)"
   ]
  },
  {
   "cell_type": "code",
   "execution_count": 10,
   "id": "506b2270-bcbc-423a-8cf9-9e99d6fd50a6",
   "metadata": {},
   "outputs": [
    {
     "name": "stdout",
     "output_type": "stream",
     "text": [
      "Exception raised  invalid literal for int() with base 10: 'Sudh'\n"
     ]
    }
   ],
   "source": [
    "try:\n",
    "    int(\"Sudh\")\n",
    "except (ValueError,TypeError) as e:\n",
    "    print(\"Exception raised \",e)"
   ]
  },
  {
   "cell_type": "code",
   "execution_count": 14,
   "id": "4be3d645-c53d-449d-b077-7b9d3c78378f",
   "metadata": {},
   "outputs": [
    {
     "name": "stdout",
     "output_type": "stream",
     "text": [
      "Exception raised  invalid literal for int() with base 10: 'Sudh'\n"
     ]
    }
   ],
   "source": [
    "try:\n",
    "    int(\"Sudh\")\n",
    "    10/0\n",
    "except (ValueError,ZeroDivisionError) as e:\n",
    "    print(\"Exception raised \",e)"
   ]
  },
  {
   "cell_type": "code",
   "execution_count": 15,
   "id": "f3b4d5d0-bb7c-46d2-9b70-035170405691",
   "metadata": {},
   "outputs": [
    {
     "name": "stdout",
     "output_type": "stream",
     "text": [
      "Exception raised  division by zero\n"
     ]
    }
   ],
   "source": [
    "try:\n",
    "    10/0\n",
    "    int(\"Sudh\")\n",
    "except (ValueError,ZeroDivisionError) as e:\n",
    "    print(\"Exception raised \",e)"
   ]
  },
  {
   "cell_type": "code",
   "execution_count": 19,
   "id": "2b465ace-ca1d-4aad-a5ce-d3c11af634f1",
   "metadata": {},
   "outputs": [
    {
     "name": "stdout",
     "output_type": "stream",
     "text": [
      "Exception raised\n"
     ]
    }
   ],
   "source": [
    "###If i am not aware about type of error i am getting\n",
    "try:\n",
    "    10/0\n",
    "    int(\"Sudh\")\n",
    "except:\n",
    "    print(\"Exception raised\")"
   ]
  },
  {
   "cell_type": "code",
   "execution_count": 20,
   "id": "9ee0a704-935f-4730-8601-bc1a82efdc2f",
   "metadata": {},
   "outputs": [
    {
     "name": "stdout",
     "output_type": "stream",
     "text": [
      "Exception raised  division by zero\n"
     ]
    }
   ],
   "source": [
    "try:\n",
    "    10/0\n",
    "    int(\"Sudh\")\n",
    "except Exception as e:\n",
    "    print(\"Exception raised \",e)"
   ]
  },
  {
   "cell_type": "code",
   "execution_count": 23,
   "id": "6255dd98-0d5a-4adc-9860-ed6c32e72f43",
   "metadata": {},
   "outputs": [
    {
     "name": "stdout",
     "output_type": "stream",
     "text": [
      "Exception raised  No module named 'vaib'\n",
      "My final Output\n"
     ]
    }
   ],
   "source": [
    "try:\n",
    "    import vaib\n",
    "except Exception as e:\n",
    "    print(\"Exception raised \",e)\n",
    "\n",
    "print(\"My final Output\")"
   ]
  },
  {
   "cell_type": "code",
   "execution_count": 29,
   "id": "1755e35e-9535-47a1-aa5c-a7fefa7a1ba8",
   "metadata": {},
   "outputs": [
    {
     "name": "stdout",
     "output_type": "stream",
     "text": [
      "Exception raised  'Name'\n",
      "My final Output\n"
     ]
    }
   ],
   "source": [
    "try:\n",
    "    d={1:{1,2,3,4,5,6,7,8,9,0},\"Key\":\"Value\"}\n",
    "    d[\"Name\"]\n",
    "except Exception as e:\n",
    "    print(\"Exception raised \",e)\n",
    "\n",
    "print(\"My final Output\")"
   ]
  },
  {
   "cell_type": "code",
   "execution_count": 28,
   "id": "fe7b559e-40d7-4a92-a603-ab045fe1a370",
   "metadata": {},
   "outputs": [
    {
     "name": "stdout",
     "output_type": "stream",
     "text": [
      "Exception raised  'Name'\n",
      "My final Output\n"
     ]
    }
   ],
   "source": [
    "try:\n",
    "    d={1:{1,2,3,4,5,6,7,8,9,0},\"Key\":\"Value\"}\n",
    "    d[\"Name\"]\n",
    "except KeyError as e:\n",
    "    print(\"Exception raised \",e)\n",
    "\n",
    "print(\"My final Output\")"
   ]
  },
  {
   "cell_type": "code",
   "execution_count": 32,
   "id": "3ae5aba7-5cad-4600-bda7-6fa9801864d1",
   "metadata": {},
   "outputs": [
    {
     "name": "stdout",
     "output_type": "stream",
     "text": [
      "Exception raised  'str' object has no attribute 'text'\n",
      "My final Output\n"
     ]
    }
   ],
   "source": [
    "try:\n",
    "    \"Vaib\".text()\n",
    "except Exception as e:\n",
    "    print(\"Exception raised \",e)\n",
    "\n",
    "print(\"My final Output\")"
   ]
  },
  {
   "cell_type": "code",
   "execution_count": 34,
   "id": "4c6ade35-f66d-4ba1-a363-dfbfd32a3eef",
   "metadata": {},
   "outputs": [
    {
     "name": "stdout",
     "output_type": "stream",
     "text": [
      "Exception raised  list index out of range\n",
      "My final Output\n"
     ]
    }
   ],
   "source": [
    "try:\n",
    "    l=[1,2,3,4,5]\n",
    "    l[10]\n",
    "except Exception as e:\n",
    "    print(\"Exception raised \",e)\n",
    "\n",
    "print(\"My final Output\")"
   ]
  },
  {
   "cell_type": "code",
   "execution_count": 36,
   "id": "2cf5aa13-5ce9-48fa-a4eb-b3893d42f17c",
   "metadata": {},
   "outputs": [
    {
     "name": "stdout",
     "output_type": "stream",
     "text": [
      "123Vaib\n",
      "My final Output\n"
     ]
    }
   ],
   "source": [
    "try:\n",
    "    print(\"123\" + \"Vaib\")\n",
    "except Exception as e:\n",
    "    print(\"Exception raised \",e)\n",
    "\n",
    "print(\"My final Output\")  "
   ]
  },
  {
   "cell_type": "code",
   "execution_count": 37,
   "id": "f075f5a4-f324-4640-bc74-92467e0216fd",
   "metadata": {},
   "outputs": [
    {
     "name": "stdout",
     "output_type": "stream",
     "text": [
      "Exception raised  unsupported operand type(s) for +: 'int' and 'str'\n",
      "My final Output\n"
     ]
    }
   ],
   "source": [
    "try:\n",
    "    print(123 + \"Vaib\")\n",
    "except Exception as e:\n",
    "    print(\"Exception raised \",e)\n",
    "\n",
    "print(\"My final Output\")  "
   ]
  },
  {
   "cell_type": "code",
   "execution_count": 46,
   "id": "cdf1beef-cafe-42f5-8d14-33394259ddef",
   "metadata": {},
   "outputs": [
    {
     "name": "stdout",
     "output_type": "stream",
     "text": [
      "First Error  [Errno 2] No such file or directory: 'NewFileOpen'\n",
      "My final Output\n"
     ]
    }
   ],
   "source": [
    "try:\n",
    "    with open(\"NewFileOpen\",\"r\") as f:\n",
    "        f.read()\n",
    "except Exception as e:\n",
    "    print(\"First Error \",e)\n",
    "except FileNotFoundError as e:\n",
    "    print(\"Second Error \",e)\n",
    "\n",
    "print(\"My final Output\")  "
   ]
  },
  {
   "cell_type": "code",
   "execution_count": 47,
   "id": "77f7e8b9-414a-439f-bb4d-d5c81eccb37d",
   "metadata": {},
   "outputs": [
    {
     "name": "stdout",
     "output_type": "stream",
     "text": [
      "First Error  [Errno 2] No such file or directory: 'NewFileOpen'\n",
      "My final Output\n"
     ]
    }
   ],
   "source": [
    "try:\n",
    "    with open(\"NewFileOpen\",\"r\") as f:\n",
    "        f.read()\n",
    "except FileNotFoundError as e:\n",
    "    print(\"First Error \",e)\n",
    "except Exception as e:\n",
    "    print(\"Second Error \",e)\n",
    "\n",
    "print(\"My final Output\")  \n",
    "###This is good in two. of them because Exception is big class it includes all exception so it should be written at end of all other\n",
    "###Exceptions"
   ]
  },
  {
   "cell_type": "code",
   "execution_count": 48,
   "id": "db27d5df-78ba-4de2-bb02-74d5f8a57251",
   "metadata": {},
   "outputs": [],
   "source": [
    "###Therefore whichever is written first it will be executed that exception only"
   ]
  },
  {
   "cell_type": "markdown",
   "id": "16130b80-8c72-4688-a82f-d89cb67c4a16",
   "metadata": {},
   "source": [
    "###BEST PRACTICE IN EXCEPTION HANDELIMG"
   ]
  },
  {
   "cell_type": "code",
   "execution_count": 51,
   "id": "d008d647-7f2a-48f8-b307-16af31f3e140",
   "metadata": {},
   "outputs": [
    {
     "name": "stdout",
     "output_type": "stream",
     "text": [
      "division by zero\n"
     ]
    }
   ],
   "source": [
    "#Don't try to use always generalize exception\n",
    "try:\n",
    "    10/0\n",
    "except  Exception as e:\n",
    "    print(e)"
   ]
  },
  {
   "cell_type": "code",
   "execution_count": 55,
   "id": "e7e37867-4a9d-42ea-96b8-e81726620332",
   "metadata": {},
   "outputs": [
    {
     "name": "stdout",
     "output_type": "stream",
     "text": [
      "division by zero\n"
     ]
    }
   ],
   "source": [
    "#Use always a specific exeption and then generalize even if our specific dosen't get executed but our general will always get executed\n",
    "try:\n",
    "    10/0\n",
    "except ZeroDivisionError as e:\n",
    "    print(e)\n",
    "except  Exception as e:\n",
    "    print(e)"
   ]
  },
  {
   "cell_type": "code",
   "execution_count": 58,
   "id": "0f47d433-8558-40bc-8caa-73729bd2a42a",
   "metadata": {},
   "outputs": [
    {
     "name": "stdout",
     "output_type": "stream",
     "text": [
      "This is my Zero Divison Error I am Handeling -  division by zero\n"
     ]
    }
   ],
   "source": [
    "#Print always a valid message\n",
    "try:\n",
    "    10/0\n",
    "except ZeroDivisionError as e:\n",
    "    print(\"This is my Zero Divison Error I am Handeling - \",e)\n",
    "except  Exception as e:\n",
    "    print(e)"
   ]
  },
  {
   "cell_type": "code",
   "execution_count": 63,
   "id": "f3301547-eca1-47e5-af21-8e2c2b0ecc92",
   "metadata": {},
   "outputs": [],
   "source": [
    "#Always log your error that is save your errors\n",
    "import logging\n",
    "logging.basicConfig(filename=\"error.log\",level=logging.ERROR)\n",
    "try:\n",
    "    10/0\n",
    "\n",
    "except ZeroDivisionError as e:\n",
    "    logging.error(\"This is my Zero Divison Error I am Handeling {} \".format(e))\n",
    "except  Exception as e:\n",
    "    logging.error(\"This is my Unknown Error I am Handeling {} \".format(e))"
   ]
  },
  {
   "cell_type": "code",
   "execution_count": 68,
   "id": "712c131d-6d26-45ca-b517-13adc5222aee",
   "metadata": {},
   "outputs": [],
   "source": [
    "#Always avoid to write a multiple exception handeling\n",
    "logging.basicConfig(filename=\"error.log\",level=logging.ERROR)\n",
    "try:\n",
    "    10/0\n",
    "except IndexError as e:\n",
    "    logging.error(\"This is my Index Error I am Handeling {} \".format(e))\n",
    "except ValueError as e:\n",
    "    logging.error(\"This is my Index Error I am Handeling {} \".format(e))\n",
    "except ZeroDivisionError as e:\n",
    "    logging.error(\"This is my Zero Divison Error I am Handeling {} \".format(e))\n",
    "except  Exception as e:\n",
    "    logging.error(\"This is my Unknown Error I am Handeling {} \".format(e))\n",
    "    \n",
    "###So here we are getting only zero error no need to write index error and value error try to write error which are most likely to happen instead of writting all\n",
    "###errors"
   ]
  },
  {
   "cell_type": "code",
   "execution_count": 70,
   "id": "c31098f4-9139-497a-ba24-75bfb45666ae",
   "metadata": {},
   "outputs": [],
   "source": [
    "#Prepare a proper documentation"
   ]
  },
  {
   "cell_type": "code",
   "execution_count": 74,
   "id": "e5c5bafb-0c82-4b0a-ac3c-84a2785f34fc",
   "metadata": {},
   "outputs": [],
   "source": [
    "#Clean up all resources\n",
    "try:\n",
    "    with open(\"test.txt\",\"w\") as f:\n",
    "        f.write(\"This is my message to file\")\n",
    "except FileNotFoundError as e:\n",
    "    logging.error(\"This is my file not found error {} \".format(e))\n",
    "finally:\n",
    "    f.close()\n",
    "    \n",
    "#So we know finally will get executed all time so try to close all resources i this finally block"
   ]
  },
  {
   "cell_type": "code",
   "execution_count": null,
   "id": "8cdd25e6-f67d-437b-93f2-b42e81cc719f",
   "metadata": {},
   "outputs": [],
   "source": []
  }
 ],
 "metadata": {
  "kernelspec": {
   "display_name": "Python 3 (ipykernel)",
   "language": "python",
   "name": "python3"
  },
  "language_info": {
   "codemirror_mode": {
    "name": "ipython",
    "version": 3
   },
   "file_extension": ".py",
   "mimetype": "text/x-python",
   "name": "python",
   "nbconvert_exporter": "python",
   "pygments_lexer": "ipython3",
   "version": "3.10.8"
  }
 },
 "nbformat": 4,
 "nbformat_minor": 5
}
